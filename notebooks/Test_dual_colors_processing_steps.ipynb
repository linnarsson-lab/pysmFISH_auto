{
 "cells": [
  {
   "cell_type": "code",
   "execution_count": 1,
   "id": "f1bedee6-cb76-459d-98d8-7907756ab763",
   "metadata": {},
   "outputs": [],
   "source": [
    "%config Completer.use_jedi = False"
   ]
  },
  {
   "cell_type": "code",
   "execution_count": 2,
   "id": "6b20826c-3ba5-467c-a649-24b30b5ae2ff",
   "metadata": {},
   "outputs": [],
   "source": [
    "%load_ext autoreload\n",
    "%autoreload 2"
   ]
  },
  {
   "cell_type": "code",
   "execution_count": 3,
   "id": "ec161e7e-ed96-4b5f-92a5-67bccd17c6a3",
   "metadata": {},
   "outputs": [],
   "source": [
    "from pathlib import Path\n",
    "import time\n",
    "from pysmFISH.pipeline import Pipeline"
   ]
  },
  {
   "cell_type": "markdown",
   "id": "53f928cb-3c30-43bc-934f-9b35bb8b7487",
   "metadata": {},
   "source": [
    "# Test processing JJEXP20210622_SL001B_Section2"
   ]
  },
  {
   "cell_type": "code",
   "execution_count": 4,
   "id": "4c4bb0d8-2c6e-4377-9700-5943cb2b16f5",
   "metadata": {},
   "outputs": [],
   "source": [
    "experiment_fpath = Path('/fish/work_std/JJEXP20210622_SL001B_Section2')\n",
    "date_tag = time.strftime(\"%y%m%d_%H_%M_%S\")\n",
    "pipeline_run_name = date_tag + '_' + experiment_fpath.stem\n",
    "run_type = 're-run'\n",
    "parsing_type = 'no_parsing'\n",
    "processing_engine = 'htcondor'"
   ]
  },
  {
   "cell_type": "code",
   "execution_count": 5,
   "id": "d1ae731b-396c-4cc6-a72b-abfab429e957",
   "metadata": {},
   "outputs": [
    {
     "name": "stdout",
     "output_type": "stream",
     "text": [
      "CPU times: user 275 µs, sys: 0 ns, total: 275 µs\n",
      "Wall time: 292 µs\n"
     ]
    }
   ],
   "source": [
    "%%time\n",
    "running_pipeline = Pipeline(\n",
    "                        pipeline_run_name= pipeline_run_name,\n",
    "                        experiment_fpath= experiment_fpath,\n",
    "                        run_type= run_type,\n",
    "                        parsing_type= parsing_type,\n",
    "                        processing_engine= processing_engine,\n",
    "                        chunk_size=40,\n",
    "                        dataset_path='/fish/work_std/JJEXP20210622_SL001B_Section2/210720_21_54_12_JJEXP20210622_SL001B_Section2_img_data_dataset.parquet'\n",
    "                )"
   ]
  },
  {
   "cell_type": "code",
   "execution_count": 6,
   "id": "d17b3cf1-58c1-4a73-b664-186791c67eff",
   "metadata": {},
   "outputs": [
    {
     "name": "stderr",
     "output_type": "stream",
     "text": [
      "distributed.worker - INFO - extra_processing_data already exist\n",
      "distributed.worker - INFO - pipeline_config already exist\n",
      "distributed.worker - INFO - output_figures already exist\n",
      "distributed.worker - INFO - probes already exist\n",
      "distributed.worker - INFO - logs already exist\n",
      "distributed.worker - INFO - results already exist\n",
      "distributed.worker - INFO - microscope_tiles_coords already exist\n",
      "distributed.worker - INFO - Codebook_Atto425 has None as codebook\n",
      "distributed.worker - INFO - Codebook_Cy7 has None as codebook\n",
      "distributed.worker - INFO - Codebook_DAPI has None as codebook\n",
      "distributed.worker - INFO - Codebook_FITC has None as codebook\n",
      "distributed.worker - INFO - Codebook_TxRed has None as codebook\n",
      "distributed.worker - INFO - Codebook_Europium has None as codebook\n"
     ]
    },
    {
     "name": "stdout",
     "output_type": "stream",
     "text": [
      "CPU times: user 843 ms, sys: 1.1 s, total: 1.95 s\n",
      "Wall time: 8.21 s\n"
     ]
    }
   ],
   "source": [
    "%%time\n",
    "running_pipeline.run_parsing_only()"
   ]
  },
  {
   "cell_type": "code",
   "execution_count": 7,
   "id": "f2ce0943-abc9-46bc-a7c3-39f58c4fc993",
   "metadata": {},
   "outputs": [
    {
     "name": "stdout",
     "output_type": "stream",
     "text": [
      "CPU times: user 8.75 s, sys: 28 s, total: 36.7 s\n",
      "Wall time: 1min 9s\n"
     ]
    }
   ],
   "source": [
    "%%time\n",
    "running_pipeline.run_required_steps()"
   ]
  },
  {
   "cell_type": "markdown",
   "id": "b2ca6f72-df81-48e0-87f7-190b67fa80ff",
   "metadata": {},
   "source": [
    "Reduce the size of the dataset for testing the code"
   ]
  },
  {
   "cell_type": "code",
   "execution_count": 10,
   "id": "6b18a428-6bc2-4895-813e-f5bd1a7092a1",
   "metadata": {},
   "outputs": [],
   "source": [
    "testing_dataset = running_pipeline.data.dataset.loc[running_pipeline.data.dataset.fov_num.isin([100]),:]\n",
    "running_pipeline.grpd_fovs = testing_dataset.groupby('fov_num')"
   ]
  },
  {
   "cell_type": "code",
   "execution_count": 12,
   "id": "0fc6cc4c-367f-494d-b270-a0976e6f3b8d",
   "metadata": {},
   "outputs": [],
   "source": [
    "running_pipeline.grpd_fovs = running_pipeline.data.dataset.groupby('fov_num')"
   ]
  },
  {
   "cell_type": "code",
   "execution_count": null,
   "id": "27b90da0-71a7-4109-9e0f-8f5cbf3b7b47",
   "metadata": {
    "tags": []
   },
   "outputs": [],
   "source": [
    "%%time\n",
    "running_pipeline.processing_barcoded_eel_step()"
   ]
  },
  {
   "cell_type": "code",
   "execution_count": null,
   "id": "4002f4aa-444d-4c60-9029-8c8da6902b63",
   "metadata": {},
   "outputs": [],
   "source": [
    "running_pipeline.metadata['list_all_channels']"
   ]
  },
  {
   "cell_type": "code",
   "execution_count": null,
   "id": "d1a278d9-d9ef-4ba6-96cc-9d875561c71f",
   "metadata": {
    "tags": []
   },
   "outputs": [],
   "source": [
    "running_pipelineme\n",
    "running_pipeline.run_full()"
   ]
  },
  {
   "cell_type": "code",
   "execution_count": null,
   "id": "7f1fb5d8-215b-4db1-aa8c-10c0ee3b372e",
   "metadata": {},
   "outputs": [],
   "source": [
    "list_all_channels = running_pipeline.metadata['list_all_channels']\n",
    "stitching_channel = running_pipeline.metadata['stitching_channel']\n",
    "fish_channels = set(list_all_channels)^set([stitching_channel])"
   ]
  },
  {
   "cell_type": "code",
   "execution_count": null,
   "id": "77fa14f3-0d2f-4698-af3c-5d8cf5e1d8ba",
   "metadata": {},
   "outputs": [],
   "source": [
    "list_all_channels"
   ]
  },
  {
   "cell_type": "code",
   "execution_count": null,
   "id": "0ea166fd-5d8a-4a69-b998-9bb7d8c173f9",
   "metadata": {},
   "outputs": [],
   "source": [
    "c.difference(stitching_channel)"
   ]
  },
  {
   "cell_type": "code",
   "execution_count": null,
   "id": "2d67f88d-5457-4ddb-aa8e-618b43f69228",
   "metadata": {},
   "outputs": [],
   "source": [
    "running_pipeline.metadata"
   ]
  },
  {
   "cell_type": "code",
   "execution_count": null,
   "id": "a45151b9-5bf7-4a5f-803e-bc4c2d865bd9",
   "metadata": {},
   "outputs": [],
   "source": []
  },
  {
   "cell_type": "code",
   "execution_count": null,
   "id": "39c01a05-091b-44bb-9de9-ba6047a4e75f",
   "metadata": {},
   "outputs": [],
   "source": []
  },
  {
   "cell_type": "code",
   "execution_count": null,
   "id": "e2ba491d-054b-4f58-9515-5ea7e2866b2f",
   "metadata": {},
   "outputs": [],
   "source": [
    "running_pipeline.cluster.close()\n",
    "running_pipeline.client.close()"
   ]
  },
  {
   "cell_type": "code",
   "execution_count": null,
   "id": "dcbd9a31-cca0-4917-b050-ac562d5164ef",
   "metadata": {},
   "outputs": [],
   "source": [
    "from pysmFISH.configuration_files import load_pipeline_config_file"
   ]
  },
  {
   "cell_type": "code",
   "execution_count": null,
   "id": "aba2a56b-ea18-462f-b275-ce051e591507",
   "metadata": {},
   "outputs": [],
   "source": [
    "info = load_pipeline_config_file(experiment_fpath/ 'JJEXP20210622_SL001B_Section2_config.yaml')"
   ]
  },
  {
   "cell_type": "code",
   "execution_count": null,
   "id": "469ae5e2-1ab9-434e-b92d-f3daaaed505e",
   "metadata": {},
   "outputs": [],
   "source": [
    "info['Probe_FASTA']"
   ]
  },
  {
   "cell_type": "code",
   "execution_count": null,
   "id": "711fa6ef-1e6c-48cf-93ad-d16e355fc670",
   "metadata": {},
   "outputs": [],
   "source": [
    "probes = info['Probe_FASTA']['Probes_Cy3']"
   ]
  },
  {
   "cell_type": "code",
   "execution_count": null,
   "id": "e40c5875-1754-4d30-a393-62f71074c690",
   "metadata": {},
   "outputs": [],
   "source": [
    "probes_fpath = experiment_fpath.parent / 'probes_sets' / probes"
   ]
  },
  {
   "cell_type": "code",
   "execution_count": null,
   "id": "99f068db-4be4-4d62-88a2-88f9918d013e",
   "metadata": {},
   "outputs": [],
   "source": [
    "probes_fpath"
   ]
  },
  {
   "cell_type": "code",
   "execution_count": null,
   "id": "752e6c63-0d99-40b5-9171-d45b58732619",
   "metadata": {},
   "outputs": [],
   "source": [
    "import shutil"
   ]
  },
  {
   "cell_type": "code",
   "execution_count": null,
   "id": "911576ea-5ba5-4c08-a027-99484cb8127b",
   "metadata": {},
   "outputs": [],
   "source": [
    "shutil.copy(probes_fpath, (running_pipeline.experiment_fpath / 'probes'))"
   ]
  },
  {
   "cell_type": "code",
   "execution_count": null,
   "id": "f721aad7-7753-453e-bf66-5b291f08c1cd",
   "metadata": {},
   "outputs": [],
   "source": [
    "from platform import python_version\n",
    "\n",
    "print(python_version())"
   ]
  },
  {
   "cell_type": "code",
   "execution_count": null,
   "id": "1f8e69b8-43e2-43f9-b5f1-c4148760bf8b",
   "metadata": {},
   "outputs": [],
   "source": []
  }
 ],
 "metadata": {
  "kernelspec": {
   "display_name": "test_d",
   "language": "python",
   "name": "test_d"
  },
  "language_info": {
   "codemirror_mode": {
    "name": "ipython",
    "version": 3
   },
   "file_extension": ".py",
   "mimetype": "text/x-python",
   "name": "python",
   "nbconvert_exporter": "python",
   "pygments_lexer": "ipython3",
   "version": "3.8.5"
  }
 },
 "nbformat": 4,
 "nbformat_minor": 5
}
