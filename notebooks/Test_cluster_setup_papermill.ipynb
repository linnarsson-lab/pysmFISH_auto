{
  "cells": [
    {
      "cell_type": "code",
      "source": [
        "from pathlib import Path\n",
        "import time\n",
        "\n",
        "from dask.distributed import Client\n",
        "from pysmFISH import processing_cluster_setup"
      ],
      "outputs": [],
      "execution_count": null,
      "metadata": {
        "collapsed": true,
        "jupyter": {
          "source_hidden": false,
          "outputs_hidden": false
        },
        "nteract": {
          "transient": {
            "deleting": false
          }
        }
      }
    },
    {
      "cell_type": "code",
      "source": [
        "# This are the input parameter\n",
        "cores = 10"
      ],
      "outputs": [],
      "execution_count": null,
      "metadata": {
        "collapsed": true,
        "jupyter": {
          "source_hidden": false,
          "outputs_hidden": false
        },
        "nteract": {
          "transient": {
            "deleting": false
          }
        },
        "tags": [
          "parameters"
        ]
      }
    },
    {
      "cell_type": "code",
      "source": [
        "processing_env_config = {}\n",
        "processing_env_config['processing_engine'] = 'htcondor'\n",
        "processing_env_config['cores'] = cores\n",
        "processing_env_config['memory'] ='20GB'\n",
        "processing_env_config['disk'] = '0.1GB'\n",
        "processing_env_config['local_directory'] = '/tmp'\n",
        "processing_env_config['logs_directory'] = '/tmp'"
      ],
      "outputs": [],
      "execution_count": null,
      "metadata": {
        "collapsed": true,
        "jupyter": {
          "source_hidden": false,
          "outputs_hidden": false
        },
        "nteract": {
          "transient": {
            "deleting": false
          }
        }
      }
    },
    {
      "cell_type": "code",
      "source": [
        "cluster = processing_cluster_setup.start_processing_env(processing_env_config)\n",
        "client = Client(cluster,asynchronous=True)"
      ],
      "outputs": [],
      "execution_count": null,
      "metadata": {
        "collapsed": true,
        "jupyter": {
          "source_hidden": false,
          "outputs_hidden": false
        },
        "nteract": {
          "transient": {
            "deleting": false
          }
        }
      }
    },
    {
      "cell_type": "code",
      "source": [
        "print(f'Dask dashboard info {client.scheduler_info()}')"
      ],
      "outputs": [],
      "execution_count": null,
      "metadata": {
        "collapsed": true,
        "jupyter": {
          "source_hidden": false,
          "outputs_hidden": false
        },
        "nteract": {
          "transient": {
            "deleting": false
          }
        }
      }
    }
  ],
  "metadata": {
    "kernel_info": {
      "name": "test_d"
    },
    "language_info": {
      "name": "test_d"
    },
    "kernelspec": {
      "argv": [
        "/Users/simone.codeluppi/opt/miniconda3/envs/test_d/bin/python",
        "-m",
        "ipykernel_launcher",
        "-f",
        "{connection_file}"
      ],
      "display_name": "test_d",
      "language": "python",
      "name": "test_d"
    },
    "nteract": {
      "version": "0.28.0"
    }
  },
  "nbformat": 4,
  "nbformat_minor": 0
}