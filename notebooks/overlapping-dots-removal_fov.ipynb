{
 "cells": [
  {
   "cell_type": "code",
   "execution_count": 1,
   "metadata": {},
   "outputs": [],
   "source": [
    "%gui qt5"
   ]
  },
  {
   "cell_type": "code",
   "execution_count": 2,
   "metadata": {},
   "outputs": [],
   "source": [
    "%config Completer.use_jedi = False"
   ]
  },
  {
   "cell_type": "code",
   "execution_count": 16,
   "metadata": {},
   "outputs": [],
   "source": [
    "%load_ext autoreload\n",
    "%autoreload 2"
   ]
  },
  {
   "cell_type": "code",
   "execution_count": 3,
   "metadata": {},
   "outputs": [],
   "source": [
    "import napari"
   ]
  },
  {
   "cell_type": "code",
   "execution_count": 4,
   "metadata": {},
   "outputs": [],
   "source": [
    "from dask.distributed import Client"
   ]
  },
  {
   "cell_type": "code",
   "execution_count": 5,
   "metadata": {},
   "outputs": [],
   "source": [
    "from dask import dataframe as dd"
   ]
  },
  {
   "cell_type": "code",
   "execution_count": 6,
   "metadata": {},
   "outputs": [],
   "source": [
    "import pandas as pd\n",
    "from pathlib import Path"
   ]
  },
  {
   "cell_type": "code",
   "execution_count": 40,
   "metadata": {},
   "outputs": [],
   "source": [
    "from itertools import groupby"
   ]
  },
  {
   "cell_type": "code",
   "execution_count": 7,
   "metadata": {},
   "outputs": [],
   "source": [
    "import numpy as np"
   ]
  },
  {
   "cell_type": "code",
   "execution_count": 8,
   "metadata": {},
   "outputs": [],
   "source": [
    "from sklearn.neighbors import NearestNeighbors"
   ]
  },
  {
   "cell_type": "code",
   "execution_count": 9,
   "metadata": {},
   "outputs": [],
   "source": [
    "from pynndescent import NNDescent"
   ]
  },
  {
   "cell_type": "code",
   "execution_count": 10,
   "metadata": {},
   "outputs": [],
   "source": [
    "from pysmFISH.stitching import organize_square_tiles\n",
    "from pysmFISH.logger_utils import selected_logger\n",
    "from pysmFISH.io import open_consolidated_metadata\n",
    "from pysmFISH.configuration_files import load_experiment_config_file"
   ]
  },
  {
   "cell_type": "code",
   "execution_count": 21,
   "metadata": {},
   "outputs": [],
   "source": [
    "from pysmFISH.configuration_files import load_analysis_config_file"
   ]
  },
  {
   "cell_type": "code",
   "execution_count": 17,
   "metadata": {},
   "outputs": [],
   "source": [
    "from pysmFISH.stitching import stitch_using_microscope_fov_coords\n",
    "from pysmFISH.stitching import remove_overlapping_dots_fov\n",
    "from pysmFISH.stitching import clean_from_duplicated_dots"
   ]
  },
  {
   "cell_type": "code",
   "execution_count": 123,
   "metadata": {},
   "outputs": [],
   "source": [
    "from pysmFISH.io import simple_output_plotting"
   ]
  },
  {
   "cell_type": "code",
   "execution_count": 12,
   "metadata": {},
   "outputs": [
    {
     "name": "stderr",
     "output_type": "stream",
     "text": [
      "/Users/simone.codeluppi/opt/miniconda3/envs/test_d/lib/python3.8/site-packages/distributed/node.py:151: UserWarning: Port 8787 is already in use.\n",
      "Perhaps you already have a cluster running?\n",
      "Hosting the HTTP server on port 58893 instead\n",
      "  warnings.warn(\n"
     ]
    },
    {
     "data": {
      "text/html": [
       "<table style=\"border: 2px solid white;\">\n",
       "<tr>\n",
       "<td style=\"vertical-align: top; border: 0px solid white\">\n",
       "<h3 style=\"text-align: left;\">Client</h3>\n",
       "<ul style=\"text-align: left; list-style: none; margin: 0; padding: 0;\">\n",
       "  <li><b>Scheduler: </b>tcp://127.0.0.1:58894</li>\n",
       "  <li><b>Dashboard: </b><a href='http://127.0.0.1:58893/status' target='_blank'>http://127.0.0.1:58893/status</a></li>\n",
       "</ul>\n",
       "</td>\n",
       "<td style=\"vertical-align: top; border: 0px solid white\">\n",
       "<h3 style=\"text-align: left;\">Cluster</h3>\n",
       "<ul style=\"text-align: left; list-style:none; margin: 0; padding: 0;\">\n",
       "  <li><b>Workers: </b>4</li>\n",
       "  <li><b>Cores: </b>16</li>\n",
       "  <li><b>Memory: </b>68.72 GB</li>\n",
       "</ul>\n",
       "</td>\n",
       "</tr>\n",
       "</table>"
      ],
      "text/plain": [
       "<Client: 'tcp://127.0.0.1:58894' processes=4 threads=16, memory=68.72 GB>"
      ]
     },
     "execution_count": 12,
     "metadata": {},
     "output_type": "execute_result"
    }
   ],
   "source": [
    "client = Client()\n",
    "client"
   ]
  },
  {
   "cell_type": "code",
   "execution_count": 82,
   "metadata": {},
   "outputs": [],
   "source": [
    "experiment_fpath = Path('/Users/simone.codeluppi/Documents/data_analysis_jlabs_sc/eel_human_embryo_project/LBEXP20210304_EEL_HE_1500um/data/LBEXP20210304_EEL_HE_1500um//')\n",
    "parsed_raw_data_fpath = experiment_fpath / 'LBEXP20210304_EEL_HE_1500um_img_data.zarr'\n",
    "consolidated_grp = open_consolidated_metadata(parsed_raw_data_fpath)\n",
    "experiment_info = load_experiment_config_file(experiment_fpath)\n",
    "analysis_parameters = load_analysis_config_file(experiment_fpath)"
   ]
  },
  {
   "cell_type": "code",
   "execution_count": 85,
   "metadata": {},
   "outputs": [],
   "source": [
    "round_num =1\n",
    "tiles_org = organize_square_tiles(experiment_fpath,experiment_info,consolidated_grp,round_num)\n",
    "tiles_org.run_tiles_organization()"
   ]
  },
  {
   "cell_type": "code",
   "execution_count": 86,
   "metadata": {},
   "outputs": [
    {
     "data": {
      "text/plain": [
       "dict_keys([0, 1, 2, 3, 4, 5, 6, 7, 8, 9, 10, 11, 12, 13, 14, 15, 16, 17, 18, 19, 20, 21, 22, 23, 24, 25, 26, 27, 28, 29, 30, 31, 32, 33, 34, 35, 36, 37, 38, 39, 40, 41, 42, 43, 44, 45, 46, 47, 48, 49, 50, 51, 52, 53, 54, 55, 56, 57, 58, 59, 60, 61, 62, 63, 64, 65, 66, 67, 68, 69, 70, 71, 72, 73, 74, 75, 76, 77, 78, 79, 80, 81, 82, 83, 84, 85, 86, 87, 88, 89, 90, 91, 92, 93, 94, 95, 96, 97, 98, 99, 100, 101, 102, 103, 104, 105, 106, 107, 108, 109, 110, 111, 112, 113, 114, 115, 116, 117, 118, 119, 120, 121, 122, 123, 124, 125, 126, 127, 128, 129, 130, 131, 132, 133, 134, 135, 136, 137, 138, 139, 140, 141, 142, 143, 144, 145, 146, 147, 148, 149, 150, 151, 152, 153, 154, 155, 156, 157, 158, 159, 160, 161, 162, 163, 164, 165, 166, 167, 168, 169, 170, 171, 172, 173, 174, 175, 176, 177, 178, 179, 180, 181, 182, 183, 184, 185, 186, 187, 188, 189, 190, 191, 192, 193, 194, 195, 196, 197, 198, 199, 200, 201, 202, 203, 204, 205, 206, 207, 208, 209, 210, 211, 212, 213, 214, 215, 216, 217, 218, 219, 220, 221, 222, 223, 224, 225, 226, 227, 228, 229, 230, 231, 232, 233, 234, 235, 236, 237, 238, 239, 240, 241, 242, 243, 244, 245, 246, 247, 248, 249, 250, 251, 252, 253, 254, 255, 256, 257, 258, 259, 260, 261, 262, 263, 264, 265, 266, 267, 268, 269, 270, 271, 272, 273, 274, 275, 276, 277, 278, 279, 280, 281, 282, 283, 284, 285, 286, 287, 288, 289, 290, 291, 292, 293, 294, 295, 296, 297, 298, 299, 300, 301, 302, 303, 304, 305, 306, 307, 308, 309, 310, 311, 312, 313, 314, 315, 316, 317, 318, 319, 320, 321, 322, 323, 324, 325, 326, 327, 328, 329, 330, 331, 332, 333, 334, 335, 336, 337, 338, 339, 340, 341, 342, 343, 344, 345, 346, 347, 348, 349, 350, 351, 352, 353, 354, 355, 356, 357, 358, 359, 360, 361, 362, 363, 364, 365, 366, 367, 368, 369, 370, 371, 372, 373, 374, 375, 376, 377, 378, 379, 380, 381, 382, 383, 384, 385, 386, 387, 388, 389, 390, 391, 392, 393, 394, 395, 396, 397, 398, 399, 400, 401, 402, 403, 404, 405, 406, 407, 408, 409, 410, 411, 412, 413, 414, 415, 416, 417, 418, 419, 420, 421, 422, 423, 424, 425, 426, 427, 428, 429, 430, 431, 432, 433, 434, 435, 436, 437, 438, 439, 440, 441, 442, 443, 444, 445, 446, 447, 448, 449, 450, 451, 452, 453, 454, 455, 456, 457, 458, 459, 460, 461, 462, 463, 464, 465, 466, 467, 468, 469, 470, 471, 472, 473, 474, 475, 476, 477, 478, 479, 480, 481, 482, 483, 484, 485, 486, 487, 488, 489, 490, 491, 492, 493, 494, 495, 496, 497, 498, 499, 500, 501, 502, 503, 504, 505, 506, 507, 508, 509, 510, 511, 512, 513, 514, 515, 516, 517, 518, 519, 520, 521, 522, 523, 524, 525, 526, 527, 528, 529, 530, 531, 532, 533, 534, 535, 536, 537, 538, 539, 540, 541, 542, 543, 544, 545, 546, 547, 548, 549, 550])"
      ]
     },
     "execution_count": 86,
     "metadata": {},
     "output_type": "execute_result"
    }
   ],
   "source": [
    "tiles_org.overlapping_regions.keys()"
   ]
  },
  {
   "cell_type": "markdown",
   "metadata": {},
   "source": [
    "# Eliminate overlapping dots by cpls"
   ]
  },
  {
   "cell_type": "code",
   "execution_count": 87,
   "metadata": {},
   "outputs": [],
   "source": [
    "# PROCESSING PARAMETERS\n",
    "registration_channel = experiment_info['StitchingChannel']\n",
    "key = Path(experiment_fpath).stem + '_Hybridization01_' + registration_channel + '_fov_0'\n",
    "fovs = consolidated_grp[key].attrs['fields_of_view']\n",
    "img_width = consolidated_grp[key].attrs['img_width']\n",
    "img_height = consolidated_grp[key].attrs['img_height']\n",
    "registration_reference_hybridization = analysis_parameters['RegistrationReferenceHybridization']\n",
    "selected_genes = 'below3Hdistance_genes'\n",
    "correct_hamming_distance = 'zeroHdistance_genes' "
   ]
  },
  {
   "cell_type": "code",
   "execution_count": 160,
   "metadata": {},
   "outputs": [],
   "source": [
    "# Prepare the dataframe\n",
    "select_genes = 'below3Hdistance_genes'\n",
    "stitching_selected = 'microscope_stitched'\n",
    "same_dot_radius = 100\n",
    "r_tag = 'r_px_' + stitching_selected\n",
    "c_tag = 'c_px_' + stitching_selected"
   ]
  },
  {
   "cell_type": "code",
   "execution_count": 161,
   "metadata": {},
   "outputs": [],
   "source": [
    "unfolded_overlapping_regions_dict = {key:value for (k,v) in tiles_org.overlapping_regions.items() for (key,value) in v.items()}\n",
    "corrected_overlapping_regions_dict = {}\n",
    "for key, value in unfolded_overlapping_regions_dict.items():\n",
    "    corrected_overlapping_regions_dict[key] = np.array(value)-img_width"
   ]
  },
  {
   "cell_type": "code",
   "execution_count": 162,
   "metadata": {},
   "outputs": [
    {
     "name": "stdout",
     "output_type": "stream",
     "text": [
      "CPU times: user 28.5 s, sys: 4.09 s, total: 32.6 s\n",
      "Wall time: 5min 24s\n"
     ]
    }
   ],
   "source": [
    "%%time\n",
    "all_futures = []\n",
    "\n",
    "for cpl,chunk_coords in corrected_overlapping_regions_dict.items():\n",
    "    future = client.submit(remove_overlapping_dots_fov,\n",
    "                            cpl = cpl,\n",
    "                            chunk_coords=chunk_coords,\n",
    "                            experiment_fpath=experiment_fpath,\n",
    "                            stitching_selected=stitching_selected,\n",
    "                            select_genes=select_genes,\n",
    "                            same_dot_radius = same_dot_radius)\n",
    "\n",
    "    all_futures.append(future)\n",
    "\n",
    "to_remove = client.gather(all_futures) "
   ]
  },
  {
   "cell_type": "code",
   "execution_count": 163,
   "metadata": {},
   "outputs": [],
   "source": [
    "to_remove_list = [el for tg in to_remove for el in tg]"
   ]
  },
  {
   "cell_type": "code",
   "execution_count": 164,
   "metadata": {},
   "outputs": [
    {
     "data": {
      "text/plain": [
       "793539"
      ]
     },
     "execution_count": 164,
     "metadata": {},
     "output_type": "execute_result"
    }
   ],
   "source": [
    "len(to_remove_list)"
   ]
  },
  {
   "cell_type": "code",
   "execution_count": 165,
   "metadata": {},
   "outputs": [],
   "source": [
    "removed_dot_dict = {k: list(v) for k, v in groupby(sorted(to_remove_list), key=lambda x: int(x.split('_')[0]))}"
   ]
  },
  {
   "cell_type": "code",
   "execution_count": 146,
   "metadata": {},
   "outputs": [],
   "source": [
    "for fov in fovs:\n",
    "    if fov not in removed_dot_dict.keys():\n",
    "        removed_dot_dict.update({fov:[]})\n",
    "\n",
    "\n",
    "for fov,dots_id_to_remove in removed_dot_dict.items():\n",
    "    future = client.submit(clean_from_duplicated_dots,\n",
    "                            fov = fov,\n",
    "                            dots_id_to_remove=dots_id_to_remove,\n",
    "                            experiment_fpath=experiment_fpath)\n",
    "\n",
    "    all_futures.append(future)\n",
    "\n",
    "_ = client.gather(all_futures)"
   ]
  },
  {
   "cell_type": "code",
   "execution_count": 147,
   "metadata": {},
   "outputs": [],
   "source": [
    "simple_output_plotting(experiment_fpath, stitching_selected, select_genes, client)"
   ]
  },
  {
   "cell_type": "markdown",
   "metadata": {},
   "source": [
    "# Check removed in fov"
   ]
  },
  {
   "cell_type": "code",
   "execution_count": 166,
   "metadata": {},
   "outputs": [],
   "source": [
    "cpl= (0,11)\n",
    "counts1_fpath = list((experiment_fpath / 'tmp' / 'registered_counts').glob('*decoded*_fov_' + str(cpl[0]) + '.parquet'))[0]\n",
    "counts2_fpath = list((experiment_fpath / 'tmp' / 'registered_counts').glob('*decoded*_fov_' + str(cpl[1]) + '.parquet'))[0]"
   ]
  },
  {
   "cell_type": "code",
   "execution_count": 167,
   "metadata": {},
   "outputs": [],
   "source": [
    "counts1_df = pd.read_parquet(counts1_fpath)\n",
    "counts2_df = pd.read_parquet(counts2_fpath)"
   ]
  },
  {
   "cell_type": "code",
   "execution_count": 168,
   "metadata": {},
   "outputs": [],
   "source": [
    "removed_dots_df = counts2_df.loc[counts2_df.barcode_reference_dot_id.isin(removed_dot_dict[cpl[1]]),:]"
   ]
  },
  {
   "cell_type": "code",
   "execution_count": 169,
   "metadata": {},
   "outputs": [],
   "source": [
    "c2_cleaned_df = counts2_df.loc[~counts2_df.barcode_reference_dot_id.isin(removed_dot_dict[cpl[1]]),:]"
   ]
  },
  {
   "cell_type": "code",
   "execution_count": 170,
   "metadata": {},
   "outputs": [],
   "source": [
    "c1 = counts1_df.loc[:,['r_px_microscope_stitched','c_px_microscope_stitched']].to_numpy()\n",
    "c2 = counts2_df.loc[:,['r_px_microscope_stitched','c_px_microscope_stitched']].to_numpy()\n",
    "r2 = removed_dots_df.loc[:,['r_px_microscope_stitched','c_px_microscope_stitched']].to_numpy()\n",
    "c2_cleaned = c2_cleaned_df.loc[:,['r_px_microscope_stitched','c_px_microscope_stitched']].to_numpy()"
   ]
  },
  {
   "cell_type": "code",
   "execution_count": 171,
   "metadata": {},
   "outputs": [],
   "source": [
    "vw = napari.Viewer()\n",
    "_ = vw.add_points(c1, name='c1', size=5,symbol='o',face_color='cyan')\n",
    "_ = vw.add_points(c2, name='c2', size=5,symbol='+',face_color='magenta')\n",
    "_ = vw.add_points(r2, name='c2', size=5,symbol='+',face_color='yellow')\n",
    "_ = vw.add_points(c2_cleaned, name='c2_cleaned', size=5,symbol='+',face_color='green')"
   ]
  },
  {
   "cell_type": "markdown",
   "metadata": {},
   "source": [
    "# Run only one cpl"
   ]
  },
  {
   "cell_type": "code",
   "execution_count": 174,
   "metadata": {},
   "outputs": [],
   "source": [
    "cpl= (0,11)\n",
    "chunk_coords = corrected_overlapping_regions_dict[cpl]\n",
    "same_dot_radius = 5\n",
    "removed_dots = remove_overlapping_dots_fov(\n",
    "                            cpl = cpl,\n",
    "                            chunk_coords=chunk_coords,\n",
    "                            experiment_fpath=experiment_fpath,\n",
    "                            stitching_selected=stitching_selected,\n",
    "                            select_genes=select_genes,\n",
    "                            same_dot_radius = same_dot_radius)"
   ]
  },
  {
   "cell_type": "code",
   "execution_count": 176,
   "metadata": {},
   "outputs": [],
   "source": [
    "counts1_fpath = list((experiment_fpath / 'tmp' / 'registered_counts').glob('*decoded*_fov_' + str(cpl[0]) + '.parquet'))[0]\n",
    "counts2_fpath = list((experiment_fpath / 'tmp' / 'registered_counts').glob('*decoded*_fov_' + str(cpl[1]) + '.parquet'))[0]\n",
    "counts1_df = pd.read_parquet(counts1_fpath)\n",
    "counts2_df = pd.read_parquet(counts2_fpath)"
   ]
  },
  {
   "cell_type": "code",
   "execution_count": 177,
   "metadata": {},
   "outputs": [],
   "source": [
    "removed_dots_df = counts2_df.loc[counts2_df.barcode_reference_dot_id.isin(removed_dot_dict),:]"
   ]
  },
  {
   "cell_type": "code",
   "execution_count": 178,
   "metadata": {},
   "outputs": [],
   "source": [
    "c2_cleaned_df = counts2_df.loc[~counts2_df.barcode_reference_dot_id.isin(removed_dot_dict[cpl[1]]),:]"
   ]
  },
  {
   "cell_type": "code",
   "execution_count": 179,
   "metadata": {},
   "outputs": [],
   "source": [
    "c1 = counts1_df.loc[:,['r_px_microscope_stitched','c_px_microscope_stitched']].to_numpy()\n",
    "c2 = counts2_df.loc[:,['r_px_microscope_stitched','c_px_microscope_stitched']].to_numpy()\n",
    "r2 = removed_dots_df.loc[:,['r_px_microscope_stitched','c_px_microscope_stitched']].to_numpy()\n",
    "c2_cleaned = c2_cleaned_df.loc[:,['r_px_microscope_stitched','c_px_microscope_stitched']].to_numpy()"
   ]
  },
  {
   "cell_type": "code",
   "execution_count": 180,
   "metadata": {},
   "outputs": [],
   "source": [
    "vw = napari.Viewer()\n",
    "_ = vw.add_points(c1, name='c1', size=5,symbol='o',face_color='cyan')\n",
    "_ = vw.add_points(c2, name='c2', size=5,symbol='+',face_color='magenta')\n",
    "_ = vw.add_points(r2, name='c2', size=5,symbol='+',face_color='yellow')\n",
    "_ = vw.add_points(c2_cleaned, name='c2_cleaned', size=5,symbol='+',face_color='green')"
   ]
  },
  {
   "cell_type": "code",
   "execution_count": null,
   "metadata": {},
   "outputs": [],
   "source": []
  }
 ],
 "metadata": {
  "kernelspec": {
   "display_name": "test_d",
   "language": "python",
   "name": "test_d"
  },
  "language_info": {
   "codemirror_mode": {
    "name": "ipython",
    "version": 3
   },
   "file_extension": ".py",
   "mimetype": "text/x-python",
   "name": "python",
   "nbconvert_exporter": "python",
   "pygments_lexer": "ipython3",
   "version": "3.8.2"
  }
 },
 "nbformat": 4,
 "nbformat_minor": 4
}
