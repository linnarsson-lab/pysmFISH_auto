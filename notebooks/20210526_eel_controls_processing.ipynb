{
 "cells": [
  {
   "cell_type": "code",
   "execution_count": null,
   "id": "f8915474-c8bb-429d-9cef-140108d26fca",
   "metadata": {},
   "outputs": [],
   "source": [
    "%load_ext autoreload\n",
    "%autoreload 2"
   ]
  },
  {
   "cell_type": "code",
   "execution_count": null,
   "id": "f7b80b4e-0e6d-4d20-af13-13082acc816f",
   "metadata": {},
   "outputs": [],
   "source": [
    "%config Completer.use_jedi = False"
   ]
  },
  {
   "cell_type": "code",
   "execution_count": null,
   "id": "21afa93e-cbc2-4f0f-87f7-afd0312e4b06",
   "metadata": {},
   "outputs": [],
   "source": [
    "import yaml"
   ]
  },
  {
   "cell_type": "code",
   "execution_count": null,
   "id": "408c55c2-34c8-4dbd-b379-04d3984022b4",
   "metadata": {},
   "outputs": [],
   "source": [
    "from pysmFISH.pipeline import Pipeline"
   ]
  },
  {
   "cell_type": "code",
   "execution_count": null,
   "id": "727dcf78-7732-494d-bf2c-c7b4061a9fd5",
   "metadata": {},
   "outputs": [],
   "source": [
    "from pysmFISH.configuration_files import load_experiment_config_file"
   ]
  },
  {
   "cell_type": "code",
   "execution_count": null,
   "id": "cb63673e-26ed-49cf-b2a9-db29d6dbac83",
   "metadata": {},
   "outputs": [],
   "source": [
    "from pathlib import Path\n",
    "import time"
   ]
  },
  {
   "cell_type": "markdown",
   "id": "4815489d-5293-41e4-a2a9-653f4e0a5976",
   "metadata": {},
   "source": [
    "# LBEXP20210513_EEL_Control_PDL_Elect"
   ]
  },
  {
   "cell_type": "code",
   "execution_count": null,
   "id": "09cc070e-fa52-4bb9-be62-61c16a4d419a",
   "metadata": {},
   "outputs": [],
   "source": [
    "experiment_fpath = Path('/fish/work_std/LBEXP20210513_EEL_Controls_3/LBEXP20210513_EEL_Control_PDL_Elect')\n",
    "date_tag = time.strftime(\"%y%m%d_%H_%M_%S\")\n",
    "pipeline_run_name = date_tag + '_' + experiment_fpath.stem\n",
    "run_type = 're-run'\n",
    "parsing_type = 'no_parsing'\n",
    "processing_engine = 'htcondor'"
   ]
  },
  {
   "cell_type": "code",
   "execution_count": null,
   "id": "6fb2ec9c-1b09-4e2d-8deb-6e4246e9ef49",
   "metadata": {},
   "outputs": [],
   "source": [
    "%%time\n",
    "running_pipeline = Pipeline(\n",
    "                        pipeline_run_name= pipeline_run_name,\n",
    "                        experiment_fpath= experiment_fpath,\n",
    "                        run_type= run_type,\n",
    "                        parsing_type= parsing_type,\n",
    "                        processing_engine= processing_engine\n",
    "                )"
   ]
  },
  {
   "cell_type": "code",
   "execution_count": null,
   "id": "70bd0130-a6b8-4525-9e24-2258f41140f7",
   "metadata": {},
   "outputs": [],
   "source": [
    "# Need to do some adjustment to the pickle file"
   ]
  },
  {
   "cell_type": "code",
   "execution_count": null,
   "id": "0866c0d1-1f7c-4da8-9133-07c22c4e7c1e",
   "metadata": {},
   "outputs": [],
   "source": [
    "import pickle\n",
    "fname = '/fish/work_std/LBEXP20210513_EEL_Controls_3/LBEXP20210513_EEL_Control_PDL_Elect/Count00001_LBEXP20210513_EEL_Control_PDL_Elect_C1H01.pkl'\n",
    "data = pickle.load(open(fname,'rb'))"
   ]
  },
  {
   "cell_type": "code",
   "execution_count": null,
   "id": "b81630aa-6f6e-4f61-97b3-2b91719477e2",
   "metadata": {},
   "outputs": [],
   "source": [
    "data['experiment_name'] = 'Count00001_LBEXP20210513_EEL_Control_PDL_Elect'"
   ]
  },
  {
   "cell_type": "code",
   "execution_count": null,
   "id": "0f394f5c-0659-4fcb-b71f-c76d9085cea9",
   "metadata": {},
   "outputs": [],
   "source": [
    "data['channels']['TexasRed'] = data['channels']['TxRed']\n",
    "del data['channels']['TxRed']\n",
    "pickle.dump(data,open(fname,'wb'))"
   ]
  },
  {
   "cell_type": "code",
   "execution_count": null,
   "id": "552a992d-edef-4837-a084-b28daf8790b3",
   "metadata": {},
   "outputs": [],
   "source": [
    "# Run"
   ]
  },
  {
   "cell_type": "code",
   "execution_count": null,
   "id": "33f71503-a178-46fe-b3fc-feba239dfbce",
   "metadata": {
    "tags": []
   },
   "outputs": [],
   "source": [
    "%%time\n",
    "running_pipeline.run_full()"
   ]
  },
  {
   "cell_type": "markdown",
   "id": "0fd1cea5-d3a2-4a79-aa9f-902b8335ac17",
   "metadata": {},
   "source": [
    "# LBEXP20210513_EEL_Control_PDL_NO-elec"
   ]
  },
  {
   "cell_type": "code",
   "execution_count": null,
   "id": "c1ad4be3-fc6b-4168-9a93-f340d91135f3",
   "metadata": {},
   "outputs": [],
   "source": [
    "experiment_fpath = Path('/fish/work_std/LBEXP20210513_EEL_Controls_3/LBEXP20210513_EEL_Control_PDL_NO-elec')\n",
    "date_tag = time.strftime(\"%y%m%d_%H_%M_%S\")\n",
    "pipeline_run_name = date_tag + '_' + experiment_fpath.stem\n",
    "run_type = 'new'\n",
    "parsing_type = 'original'\n",
    "processing_engine = 'htcondor'"
   ]
  },
  {
   "cell_type": "code",
   "execution_count": null,
   "id": "8238fc1b-e433-49af-a63b-d72e771bb642",
   "metadata": {},
   "outputs": [],
   "source": [
    "%%time\n",
    "running_pipeline = Pipeline(\n",
    "                        pipeline_run_name= pipeline_run_name,\n",
    "                        experiment_fpath= experiment_fpath,\n",
    "                        run_type= run_type,\n",
    "                        parsing_type= parsing_type,\n",
    "                        processing_engine= processing_engine\n",
    "                )"
   ]
  },
  {
   "cell_type": "code",
   "execution_count": null,
   "id": "006ebd93-ddc1-4102-8750-4c48017722e0",
   "metadata": {},
   "outputs": [],
   "source": [
    "# Need to do some adjustment to the pickle file"
   ]
  },
  {
   "cell_type": "code",
   "execution_count": null,
   "id": "b7994946-ab84-4c03-8f3f-7fe7808fb39c",
   "metadata": {},
   "outputs": [],
   "source": [
    "import pickle\n",
    "fname = '/fish/work_std/LBEXP20210513_EEL_Controls_3/LBEXP20210513_EEL_Control_PDL_NO-elec/Count00001_LBEXP20210513_EEL_Control_PDL_NO-elec_C1H01.pkl'\n",
    "data = pickle.load(open(fname,'rb'))"
   ]
  },
  {
   "cell_type": "code",
   "execution_count": null,
   "id": "82c36c55-a01a-44e4-9e5a-3561f13b145e",
   "metadata": {},
   "outputs": [],
   "source": [
    "data['channels']['TexasRed'] = data['channels']['TxRed']\n",
    "del data['channels']['TxRed']\n",
    "pickle.dump(data,open(fname,'wb'))"
   ]
  },
  {
   "cell_type": "code",
   "execution_count": null,
   "id": "0bf40ff8-a92c-4e6f-91f5-8817f2f9b534",
   "metadata": {},
   "outputs": [],
   "source": [
    "# Run"
   ]
  },
  {
   "cell_type": "code",
   "execution_count": null,
   "id": "934e34a8-4fad-4402-8f33-01fe7e588955",
   "metadata": {
    "tags": []
   },
   "outputs": [],
   "source": [
    "%%time\n",
    "running_pipeline.run_full()"
   ]
  },
  {
   "cell_type": "markdown",
   "id": "ac261992-dcb0-4cd2-8c36-fad4d7805d3b",
   "metadata": {},
   "source": [
    "# LBEXP20210513_EEL_Control_Tris_Elect"
   ]
  },
  {
   "cell_type": "code",
   "execution_count": null,
   "id": "1e89aac9-fac9-4865-97b9-548b33057d19",
   "metadata": {},
   "outputs": [],
   "source": [
    "experiment_fpath = Path('/fish/work_std/LBEXP20210513_EEL_Controls_3/LBEXP20210513_EEL_Control_Tris_Elect')\n",
    "date_tag = time.strftime(\"%y%m%d_%H_%M_%S\")\n",
    "pipeline_run_name = date_tag + '_' + experiment_fpath.stem\n",
    "run_type = 'new'\n",
    "parsing_type = 'original'\n",
    "processing_engine = 'htcondor'"
   ]
  },
  {
   "cell_type": "code",
   "execution_count": null,
   "id": "6aaaadec-60b0-4452-a201-f3e6a8d2b5e4",
   "metadata": {},
   "outputs": [],
   "source": [
    "%%time\n",
    "running_pipeline = Pipeline(\n",
    "                        pipeline_run_name= pipeline_run_name,\n",
    "                        experiment_fpath= experiment_fpath,\n",
    "                        run_type= run_type,\n",
    "                        parsing_type= parsing_type,\n",
    "                        processing_engine= processing_engine\n",
    "                )"
   ]
  },
  {
   "cell_type": "code",
   "execution_count": null,
   "id": "8829a48a-5528-4b18-bc4a-a2f097b80fba",
   "metadata": {},
   "outputs": [],
   "source": [
    "import pickle\n",
    "fname = '/fish/work_std/LBEXP20210513_EEL_Controls_3/LBEXP20210513_EEL_Control_Tris_Elect/Count00001_LBEXP20210513_EEL_Control_Tris_Elect_C1H01.pkl'\n",
    "data = pickle.load(open(fname,'rb'))"
   ]
  },
  {
   "cell_type": "code",
   "execution_count": null,
   "id": "fee03b82-0332-4abf-8e92-a3cceb4297d4",
   "metadata": {},
   "outputs": [],
   "source": [
    "data['channels']['TexasRed'] = data['channels']['TxRed']\n",
    "del data['channels']['TxRed']\n",
    "pickle.dump(data,open(fname,'wb'))"
   ]
  },
  {
   "cell_type": "code",
   "execution_count": null,
   "id": "61fd8c8b-3927-478f-ad01-106911c640a4",
   "metadata": {},
   "outputs": [],
   "source": [
    "# Run"
   ]
  },
  {
   "cell_type": "code",
   "execution_count": null,
   "id": "d5acc222-b29f-4203-b93e-9ce6eeccc41c",
   "metadata": {
    "tags": []
   },
   "outputs": [],
   "source": [
    "%%time\n",
    "running_pipeline.run_full()"
   ]
  },
  {
   "cell_type": "markdown",
   "id": "08da3dbf-13dc-4fb4-a7b5-6d6c12eca9e2",
   "metadata": {},
   "source": [
    "# LBEXP20210513_EEL_Control_Tris_NO-elec"
   ]
  },
  {
   "cell_type": "code",
   "execution_count": null,
   "id": "01e406c8-3450-4f75-96c7-587e1476e456",
   "metadata": {},
   "outputs": [],
   "source": [
    "import pickle\n",
    "fname = '/fish/work_std/LBEXP20210513_EEL_Controls_3/LBEXP20210513_EEL_Control_Tris_NO-elec/Count00001_LBEXP20210513_EEL_Control_Tris_NO-elec_C1H01.pkl'\n",
    "data = pickle.load(open(fname,'rb'))"
   ]
  },
  {
   "cell_type": "code",
   "execution_count": null,
   "id": "38540770-a4a7-4a79-893c-cedc9032e1ff",
   "metadata": {},
   "outputs": [],
   "source": [
    "data['channels']['TexasRed'] = data['channels']['TxRed']\n",
    "del data['channels']['TxRed']\n",
    "pickle.dump(data,open(fname,'wb'))"
   ]
  },
  {
   "cell_type": "code",
   "execution_count": null,
   "id": "00cb43fb-17c6-4c0a-a31d-688a569ed255",
   "metadata": {},
   "outputs": [],
   "source": [
    "experiment_fpath = Path('/fish/work_std/LBEXP20210513_EEL_Controls_3/LBEXP20210513_EEL_Control_Tris_NO-elec')\n",
    "date_tag = time.strftime(\"%y%m%d_%H_%M_%S\")\n",
    "pipeline_run_name = date_tag + '_' + experiment_fpath.stem\n",
    "run_type = 'new'\n",
    "parsing_type = 'original'\n",
    "processing_engine = 'htcondor'"
   ]
  },
  {
   "cell_type": "code",
   "execution_count": null,
   "id": "c1dbff6e-20b0-434b-a281-5edf5b6bafe9",
   "metadata": {},
   "outputs": [],
   "source": [
    "%%time\n",
    "running_pipeline = Pipeline(\n",
    "                        pipeline_run_name= pipeline_run_name,\n",
    "                        experiment_fpath= experiment_fpath,\n",
    "                        run_type= run_type,\n",
    "                        parsing_type= parsing_type,\n",
    "                        processing_engine= processing_engine\n",
    "                )"
   ]
  },
  {
   "cell_type": "code",
   "execution_count": null,
   "id": "deb8c74e-5362-4dd8-849a-af5c77f309f8",
   "metadata": {
    "tags": []
   },
   "outputs": [],
   "source": [
    "%%time\n",
    "running_pipeline.run_full()"
   ]
  },
  {
   "cell_type": "markdown",
   "id": "eaf24ce0-26bb-43f3-9385-182e4af7a561",
   "metadata": {},
   "source": [
    "# LBEXP20210514_EEL_Control_osmFISH"
   ]
  },
  {
   "cell_type": "code",
   "execution_count": null,
   "id": "085c8fda-3249-4cfd-98f4-cef1e507eafe",
   "metadata": {
    "tags": []
   },
   "outputs": [],
   "source": [
    "import pickle\n",
    "fname = '/fish/work_std/LBEXP20210513_EEL_Controls_3/LBEXP20210514_EEL_Control_osmFISH/Count00001_LBEXP20210514_EEL_Control_osmFISH_C1H01.pkl'\n",
    "data = pickle.load(open(fname,'rb'))"
   ]
  },
  {
   "cell_type": "code",
   "execution_count": null,
   "id": "f9cca37a-510c-44ea-b961-4b51b32d21bf",
   "metadata": {},
   "outputs": [],
   "source": [
    "data['channels']['TexasRed'] = data['channels']['TxRed']\n",
    "del data['channels']['TxRed']\n",
    "pickle.dump(data,open(fname,'wb'))"
   ]
  },
  {
   "cell_type": "code",
   "execution_count": null,
   "id": "4f149264-e522-4bf8-9fbc-d3462d4234df",
   "metadata": {},
   "outputs": [],
   "source": [
    "experiment_fpath = Path('/fish/work_std/LBEXP20210513_EEL_Controls_3/LBEXP20210514_EEL_Control_osmFISH')\n",
    "date_tag = time.strftime(\"%y%m%d_%H_%M_%S\")\n",
    "pipeline_run_name = date_tag + '_' + experiment_fpath.stem\n",
    "run_type = 're-run'\n",
    "parsing_type = 'no_parsing'\n",
    "processing_engine = 'htcondor'"
   ]
  },
  {
   "cell_type": "code",
   "execution_count": null,
   "id": "6978f60a-0f0d-416d-8935-82f41a3d264a",
   "metadata": {},
   "outputs": [],
   "source": [
    "%%time\n",
    "running_pipeline = Pipeline(\n",
    "                        pipeline_run_name= pipeline_run_name,\n",
    "                        experiment_fpath= experiment_fpath,\n",
    "                        run_type= run_type,\n",
    "                        parsing_type= parsing_type,\n",
    "                        processing_engine= processing_engine,\n",
    "                        chunk_size=40,\n",
    "                        dataset_path= experiment_fpath / 'modified_dset.parquet'\n",
    "                        \n",
    "                )"
   ]
  },
  {
   "cell_type": "code",
   "execution_count": null,
   "id": "169b2b79-eec9-4445-8293-f5cfb7439328",
   "metadata": {},
   "outputs": [],
   "source": [
    "running_pipeline.run_parsing_only()"
   ]
  },
  {
   "cell_type": "code",
   "execution_count": null,
   "id": "6f8346bd-8380-4123-a4c8-8d83f222fa30",
   "metadata": {},
   "outputs": [],
   "source": [
    "running_pipeline.data.load_dataset(experiment_fpath / '210609_17_12_51_LBEXP20210514_EEL_Control_osmFISH_img_data_dataset.parquet')"
   ]
  },
  {
   "cell_type": "code",
   "execution_count": null,
   "id": "8ba4caa7-fe20-47cf-8f87-658a4195dd1f",
   "metadata": {},
   "outputs": [],
   "source": [
    "running_pipeline.data.dataset.loc[running_pipeline.data.dataset.channel == 'DAPI', 'processing_type'] = 'nuclei'"
   ]
  },
  {
   "cell_type": "code",
   "execution_count": null,
   "id": "707eb615-7df1-4aaa-abd9-83112ad3262d",
   "metadata": {},
   "outputs": [],
   "source": [
    "running_pipeline.data.save_dataset(running_pipeline.data.dataset, running_pipeline.experiment_fpath / 'modified_dset.parquet')"
   ]
  },
  {
   "cell_type": "code",
   "execution_count": null,
   "id": "24cb7c14-c057-4dd0-bf91-0edc653a1b11",
   "metadata": {
    "tags": []
   },
   "outputs": [],
   "source": [
    "%%time\n",
    "running_pipeline.run_full(resume=True)"
   ]
  },
  {
   "cell_type": "code",
   "execution_count": null,
   "id": "76737737-2511-4930-aae7-00b330e18605",
   "metadata": {},
   "outputs": [],
   "source": [
    "selected_Hdistance = 3 / metadata['barcode_length']\n",
    "stitching_selected = 'microscope_stitched'\n",
    "io.simple_output_plotting(experiment_fpath, stitching_selected, selected_Hdistance, client,file_tag='decoded')"
   ]
  },
  {
   "cell_type": "code",
   "execution_count": null,
   "id": "c6f6475a-28a3-445e-b792-a18e91634534",
   "metadata": {},
   "outputs": [],
   "source": [
    "running_pipeline.processing_serial_fish_step()"
   ]
  },
  {
   "cell_type": "code",
   "execution_count": null,
   "id": "05a95110-14b7-486a-a517-5a4e48539bf1",
   "metadata": {},
   "outputs": [],
   "source": [
    "running_pipeline.remove_duplicated_dots_graph_step()"
   ]
  },
  {
   "cell_type": "code",
   "execution_count": null,
   "id": "1deb03db-33f2-4769-b3ce-6fa37ad6630e",
   "metadata": {},
   "outputs": [],
   "source": [
    "running_pipeline.cluster.close()\n",
    "running_pipeline.client.close()"
   ]
  },
  {
   "cell_type": "markdown",
   "id": "73dc9ec6-2181-4161-8775-db2becc19c5f",
   "metadata": {},
   "source": [
    "# LBEXP20210514_EEL_Control_osmFISH_lower-intensity"
   ]
  },
  {
   "cell_type": "code",
   "execution_count": null,
   "id": "4fa84ad9-6d9f-4950-8bc7-6976345cb08d",
   "metadata": {},
   "outputs": [],
   "source": [
    "import pickle\n",
    "fname = '/fish/work_std/LBEXP20210513_EEL_Controls_3/LBEXP20210514_EEL_Control_osmFISH_lower-intensity/Count00001_LBEXP20210514_EEL_Control_osmFISH_C1H01.pkl'\n",
    "data = pickle.load(open(fname,'rb'))"
   ]
  },
  {
   "cell_type": "code",
   "execution_count": null,
   "id": "322261c1-95a7-4a8a-a132-63288eebe6b4",
   "metadata": {},
   "outputs": [],
   "source": [
    "data['channels']['TexasRed'] = data['channels']['TxRed']\n",
    "del data['channels']['TxRed']\n",
    "pickle.dump(data,open(fname,'wb'))"
   ]
  },
  {
   "cell_type": "code",
   "execution_count": null,
   "id": "a62f8d96-f966-46b8-83a8-4e20486926e9",
   "metadata": {},
   "outputs": [],
   "source": [
    "experiment_fpath = Path('/fish/work_std/LBEXP20210513_EEL_Controls_3/LBEXP20210514_EEL_Control_osmFISH_lower-intensity')\n",
    "date_tag = time.strftime(\"%y%m%d_%H_%M_%S\")\n",
    "pipeline_run_name = date_tag + '_' + experiment_fpath.stem\n",
    "run_type = 're-run'\n",
    "parsing_type = 'no_parsing'\n",
    "processing_engine = 'htcondor'"
   ]
  },
  {
   "cell_type": "code",
   "execution_count": null,
   "id": "d33e6c96-c353-4540-9091-6d25e912acc5",
   "metadata": {},
   "outputs": [],
   "source": [
    "%%time\n",
    "running_pipeline = Pipeline(\n",
    "                        pipeline_run_name= pipeline_run_name,\n",
    "                        experiment_fpath= experiment_fpath,\n",
    "                        run_type= run_type,\n",
    "                        parsing_type= parsing_type,\n",
    "                        processing_engine= processing_engine,\n",
    "                        chunk_size=40,\n",
    "                        dataset_path= experiment_fpath / 'modified_dset.parquet')\n",
    "                        "
   ]
  },
  {
   "cell_type": "code",
   "execution_count": null,
   "id": "8ef6e8d4-c3ef-4911-931d-cb900d60a074",
   "metadata": {},
   "outputs": [],
   "source": [
    "running_pipeline.run_parsing_only()"
   ]
  },
  {
   "cell_type": "code",
   "execution_count": null,
   "id": "6c1419ae-1186-459c-ae2b-21d8573d6597",
   "metadata": {},
   "outputs": [],
   "source": [
    "running_pipeline.data.dataset.loc[running_pipeline.data.dataset.channel == 'DAPI', 'processing_type'] = 'nuclei'"
   ]
  },
  {
   "cell_type": "code",
   "execution_count": null,
   "id": "48b747a3-a61c-48f8-a880-a0785639206a",
   "metadata": {},
   "outputs": [],
   "source": [
    "running_pipeline.data.save_dataset(running_pipeline.data.dataset, running_pipeline.experiment_fpath / 'modified_dset.parquet')"
   ]
  },
  {
   "cell_type": "code",
   "execution_count": null,
   "id": "c14ed252-5d4f-4823-a534-3adf5d88f160",
   "metadata": {
    "tags": []
   },
   "outputs": [],
   "source": [
    "%%time\n",
    "running_pipeline.run_full()"
   ]
  },
  {
   "cell_type": "code",
   "execution_count": null,
   "id": "b9715607-aefa-4156-a49e-947e658054f6",
   "metadata": {},
   "outputs": [],
   "source": [
    "running_pipeline.cluster.close()\n",
    "running_pipeline.client.close()"
   ]
  },
  {
   "cell_type": "code",
   "execution_count": null,
   "id": "a0174caa-043c-4912-aeec-9d01a5e3c561",
   "metadata": {},
   "outputs": [],
   "source": []
  }
 ],
 "metadata": {
  "kernelspec": {
   "display_name": "test_d",
   "language": "python",
   "name": "test_d"
  },
  "language_info": {
   "codemirror_mode": {
    "name": "ipython",
    "version": 3
   },
   "file_extension": ".py",
   "mimetype": "text/x-python",
   "name": "python",
   "nbconvert_exporter": "python",
   "pygments_lexer": "ipython3",
   "version": "3.8.5"
  }
 },
 "nbformat": 4,
 "nbformat_minor": 5
}
