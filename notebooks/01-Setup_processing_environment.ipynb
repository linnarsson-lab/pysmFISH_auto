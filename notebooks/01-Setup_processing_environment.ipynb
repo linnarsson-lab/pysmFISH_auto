{
 "cells": [
  {
   "cell_type": "markdown",
   "id": "c539217b-20c0-4f7a-b916-8daeff8eec24",
   "metadata": {},
   "source": [
    "# Setup processing environment"
   ]
  },
  {
   "cell_type": "markdown",
   "id": "0a0021bd-5171-4ed7-a748-8e49d0162bd9",
   "metadata": {},
   "source": [
    "The aim of this notebook is to create the required folders and the general analysis configuration file required for running the analysis"
   ]
  },
  {
   "cell_type": "markdown",
   "id": "a1f531bc-1112-4bea-a5c3-8a654574353d",
   "metadata": {},
   "source": [
    "## Imports"
   ]
  },
  {
   "cell_type": "code",
   "execution_count": 1,
   "id": "553e2d7b-69f7-4540-9495-ca72886c11a9",
   "metadata": {},
   "outputs": [],
   "source": [
    "%load_ext autoreload\n",
    "%autoreload 2"
   ]
  },
  {
   "cell_type": "code",
   "execution_count": 2,
   "id": "d1df709a-d359-4def-8ebc-7c025cfd6acc",
   "metadata": {},
   "outputs": [],
   "source": [
    "from pysmFISH.utils import create_processing_env "
   ]
  },
  {
   "cell_type": "markdown",
   "id": "b62078ac-a9c4-4d8b-a230-f650dacfe87b",
   "metadata": {},
   "source": [
    "## Create the processing environment"
   ]
  },
  {
   "cell_type": "code",
   "execution_count": 3,
   "id": "8519ec02-1178-4ad7-80d4-585de6f011be",
   "metadata": {},
   "outputs": [],
   "source": [
    "# Enter the path to the folder that will contains all the experiment to process\n",
    "processing_folder_path = 'processing_folder'"
   ]
  },
  {
   "cell_type": "code",
   "execution_count": 4,
   "id": "65926d73-96da-4f0b-90f6-e5ed5c1e966b",
   "metadata": {},
   "outputs": [],
   "source": [
    "create_processing_env(processing_folder_path)"
   ]
  },
  {
   "cell_type": "code",
   "execution_count": null,
   "id": "1e5a171e-d761-432d-8895-aeb53d62780a",
   "metadata": {},
   "outputs": [],
   "source": []
  }
 ],
 "metadata": {
  "kernelspec": {
   "display_name": "test_d",
   "language": "python",
   "name": "test_d"
  },
  "language_info": {
   "codemirror_mode": {
    "name": "ipython",
    "version": 3
   },
   "file_extension": ".py",
   "mimetype": "text/x-python",
   "name": "python",
   "nbconvert_exporter": "python",
   "pygments_lexer": "ipython3",
   "version": "3.8.2"
  }
 },
 "nbformat": 4,
 "nbformat_minor": 5
}
