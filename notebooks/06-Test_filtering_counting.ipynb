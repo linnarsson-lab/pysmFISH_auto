{
 "cells": [
  {
   "cell_type": "code",
   "execution_count": 1,
   "id": "7640c044-c13d-4240-9a1e-985845e8a3b4",
   "metadata": {},
   "outputs": [],
   "source": [
    "%load_ext autoreload\n",
    "%autoreload 2"
   ]
  },
  {
   "cell_type": "code",
   "execution_count": 2,
   "id": "9cefd5a1-c278-4ebb-8e21-3f6787f22a32",
   "metadata": {},
   "outputs": [],
   "source": [
    "%config Completer.use_jedi = False"
   ]
  },
  {
   "cell_type": "code",
   "execution_count": 3,
   "id": "3ee06bb2-309b-4adb-a8d3-6cd92af14089",
   "metadata": {},
   "outputs": [],
   "source": [
    "%gui qt5"
   ]
  },
  {
   "cell_type": "code",
   "execution_count": 4,
   "id": "8594feee-1980-4008-b7ac-260bb8d7fb8e",
   "metadata": {},
   "outputs": [],
   "source": [
    "import napari"
   ]
  },
  {
   "cell_type": "code",
   "execution_count": 5,
   "id": "7ea9eef1-c481-4ddd-91f8-08fd78a782af",
   "metadata": {},
   "outputs": [],
   "source": [
    "from pathlib import Path\n",
    "import time\n",
    "\n",
    "from pysmFISH.pipeline import Pipeline\n",
    "from pysmFISH.utils import end_processing_file"
   ]
  },
  {
   "cell_type": "code",
   "execution_count": 24,
   "id": "bdc20a1f-11c1-4ae5-bea7-edab2420961d",
   "metadata": {},
   "outputs": [],
   "source": [
    "from pysmFISH.io import load_general_zarr, load_raw_images\n",
    "from pysmFISH.preprocessing import load_dark_image"
   ]
  },
  {
   "cell_type": "code",
   "execution_count": 18,
   "id": "04d26d57-f854-45c3-8480-1a82255ed16b",
   "metadata": {},
   "outputs": [],
   "source": [
    "experiment_fpath = Path('/Users/simone.codeluppi/Documents/data_analysis_jlabs_sc/test_stitching/data/LBEXP20210718_EEL_Mouse_448_2')\n",
    "processing_engine = 'local'\n",
    "dataset_path = experiment_fpath / '210830_09_49_20_LBEXP20210718_EEL_Mouse_448_2_img_data_dataset.parquet'\n",
    "run_type = 're_run'\n",
    "parsing_type = 'no_parsing'\n",
    "parsed_zarr = experiment_fpath / 'LBEXP20210718_EEL_Mouse_448_2_img_data.zarr'"
   ]
  },
  {
   "cell_type": "code",
   "execution_count": null,
   "id": "0ddc32da-9bb0-4076-a930-6262ebdac39b",
   "metadata": {},
   "outputs": [],
   "source": [
    "# Because you are running the pipeline locally you should define the number of cores and memory/core\n",
    "running_pipeline = Pipeline(\n",
    "        pipeline_run_name= pipeline_run_name,\n",
    "        experiment_fpath= experiment_fpath,\n",
    "        run_type= run_type,\n",
    "        parsing_type= parsing_type,\n",
    "        processing_engine= processing_engine,\n",
    "        cores=2,\n",
    "        memory='5GB')"
   ]
  },
  {
   "cell_type": "code",
   "execution_count": 10,
   "id": "6f374259-6faf-4b91-ae9e-0c2233c681a7",
   "metadata": {},
   "outputs": [
    {
     "name": "stderr",
     "output_type": "stream",
     "text": [
      "distributed.worker - INFO - extra_processing_data already exist\n",
      "distributed.worker - INFO - pipeline_config already exist\n",
      "distributed.worker - INFO - output_figures already exist\n",
      "distributed.worker - INFO - probes already exist\n",
      "distributed.worker - INFO - logs already exist\n",
      "distributed.worker - INFO - results already exist\n",
      "distributed.worker - INFO - microscope_tiles_coords already exist\n",
      "distributed.worker - INFO - notebooks already exist\n",
      "distributed.worker - INFO - Codebook_Atto425 has None as codebook\n",
      "distributed.worker - INFO - Codebook_Cy3 has None as codebook\n",
      "distributed.worker - INFO - Codebook_Cy7 has None as codebook\n",
      "distributed.worker - INFO - Codebook_DAPI has None as codebook\n",
      "distributed.worker - INFO - Codebook_FITC has None as codebook\n",
      "distributed.worker - INFO - Codebook_TxRed has None as codebook\n",
      "distributed.worker - INFO - Codebook_Europium has None as codebook\n"
     ]
    }
   ],
   "source": [
    "running_pipeline.run_setup()\n",
    "running_pipeline.run_cluster_activation()\n",
    "running_pipeline.run_parsing()\n",
    "running_pipeline.run_required_steps()  "
   ]
  },
  {
   "cell_type": "code",
   "execution_count": 12,
   "id": "50218cb5-49ec-43aa-8834-b33665d03173",
   "metadata": {},
   "outputs": [
    {
     "data": {
      "text/plain": [
       "'http://127.0.0.1:50493/status'"
      ]
     },
     "execution_count": 12,
     "metadata": {},
     "output_type": "execute_result"
    }
   ],
   "source": [
    "running_pipeline.client.dashboard_link"
   ]
  },
  {
   "cell_type": "code",
   "execution_count": 16,
   "id": "1d4aaf0e-de9e-41da-82b1-d90b66a5b83d",
   "metadata": {},
   "outputs": [],
   "source": [
    "# Selected the fov to test processing with\n",
    "fov = 262\n",
    "round_num = 1\n",
    "channel = running_pipeline.metadata['stitching_channel']"
   ]
  },
  {
   "cell_type": "code",
   "execution_count": 17,
   "id": "db0e45de-a2c1-45f8-995e-f091254f9893",
   "metadata": {},
   "outputs": [],
   "source": [
    "fov_subdataset = running_pipeline.data.select_specific_fov(running_pipeline.data.dataset,\n",
    "                                          channel=channel,\n",
    "                                          round_num=round_num,\n",
    "                                          fov_num=fov)"
   ]
  },
  {
   "cell_type": "code",
   "execution_count": 19,
   "id": "da1081bb-3e39-4cde-88fd-4081fe360a7c",
   "metadata": {},
   "outputs": [],
   "source": [
    "# Load raw image\n",
    "raw_img, metadata = load_raw_images(fov_subdataset.grp_name,\n",
    "                                   parsed_zarr)"
   ]
  },
  {
   "cell_type": "code",
   "execution_count": 26,
   "id": "8f67b6a4-6e39-4ba7-9b34-5e3d2bf8001c",
   "metadata": {},
   "outputs": [],
   "source": [
    "# Load dark image\n",
    "dark_img = load_dark_image(running_pipeline.experiment_fpath)"
   ]
  },
  {
   "cell_type": "code",
   "execution_count": 20,
   "id": "22cfd419-1175-43ef-a9b4-1c2bf71d2f9a",
   "metadata": {},
   "outputs": [],
   "source": [
    "# Visualise raw image\n",
    "vw = napari.Viewer(title='raw image')\n",
    "_ = vw.add_image(raw_img,name=str(fov),colormap='inferno')\n"
   ]
  },
  {
   "cell_type": "code",
   "execution_count": 21,
   "id": "5e723fe6-da92-498e-86cf-4ee3f01d0c5b",
   "metadata": {},
   "outputs": [
    {
     "data": {
      "text/plain": [
       "{'fish': {'PreprocessingFishFlatFieldKernel': [1, 100, 100],\n",
       "  'PreprocessingFishFilteringSmallKernel': [1, 8, 8],\n",
       "  'PreprocessingFishFilteringLaplacianKernel': [0.02, 0.01, 0.01],\n",
       "  'CountingFishMinObjDistance': 1,\n",
       "  'CountingFishMaxObjSize': 200,\n",
       "  'CountingFishMinObjSize': 1,\n",
       "  'CountingFishNumPeaksPerLabel': 20,\n",
       "  'LargeObjRemovalPercentile': 95,\n",
       "  'LargeObjRemovalMinObjSize': 100,\n",
       "  'LargeObjRemovalSelem': 3},\n",
       " 'both-beads': {'PreprocessingFishFilteringSmallKernel': [1, 8, 8],\n",
       "  'PreprocessingFishFilteringLaplacianKernel': [0.02, 0.01, 0.01],\n",
       "  'PreprocessingFishFlatFieldKernel': [1, 100, 100],\n",
       "  'CountingFishMinObjDistance': 5,\n",
       "  'CountingFishMaxObjSize': 600,\n",
       "  'CountingFishMinObjSize': 10,\n",
       "  'CountingFishNumPeaksPerLabel': 1,\n",
       "  'LargeObjRemovalPercentile': 95,\n",
       "  'LargeObjRemovalMinObjSize': 100,\n",
       "  'LargeObjRemovalSelem': 3},\n",
       " 'staining': {'PreprocessingStainingFlatFieldKernel': [2, 100, 100]},\n",
       " 'fresh-tissue': {'nuclei': {'PreprocessingFreshNucleiLargeKernelSize': [5,\n",
       "    50,\n",
       "    50]},\n",
       "  'beads': {'PreprocessingFishFlatFieldKernel': [100, 100],\n",
       "   'CountingFishMinObjDistance': 2,\n",
       "   'CountingFishMaxObjSize': 200,\n",
       "   'CountingFishMinObjSize': 2,\n",
       "   'CountingFishNumPeaksPerLabel': 1}},\n",
       " 'BarcodesExtractionResolution': 2,\n",
       " 'RegistrationReferenceHybridization': 1,\n",
       " 'RegistrationTollerancePxl': 3,\n",
       " 'RegistrationMinMatchingBeads': 5}"
      ]
     },
     "execution_count": 21,
     "metadata": {},
     "output_type": "execute_result"
    }
   ],
   "source": [
    "# Processing parameters\n",
    "running_pipeline.analysis_parameters"
   ]
  },
  {
   "cell_type": "code",
   "execution_count": 22,
   "id": "d6b3585d-3e0c-495b-9a34-d4483a7d8fc8",
   "metadata": {},
   "outputs": [
    {
     "data": {
      "text/plain": [
       "{'fish_channels_preprocessing': 'standard_not_norm_preprocessing',\n",
       " 'fish_channels_dots_calling': 'osmFISH_peak_based_detection_fast',\n",
       " 'fresh_sample_reference_preprocessing': 'large_beads_preprocessing',\n",
       " 'fresh_sample_reference_dots_calling': 'osmFISH_peak_based_detection_fast',\n",
       " 'fresh_sample_nuclei_preprocessing': 'fresh_nuclei_filtering',\n",
       " 'reference_channels_preprocessing': 'both_beads_preprocessing',\n",
       " 'reference_channels_dots_calling': 'both_beads_peak_based_detection'}"
      ]
     },
     "execution_count": 22,
     "metadata": {},
     "output_type": "execute_result"
    }
   ],
   "source": [
    "# Running functions\n",
    "running_pipeline.running_functions"
   ]
  },
  {
   "cell_type": "code",
   "execution_count": 23,
   "id": "31378f8c-3c2d-41a4-aa96-83b33aa403f3",
   "metadata": {},
   "outputs": [],
   "source": [
    "# Selected the function to use\n",
    "from pysmFISH.preprocessing import both_beads_preprocessing"
   ]
  },
  {
   "cell_type": "code",
   "execution_count": 28,
   "id": "d6fcad86-4298-4330-9499-f32632e47581",
   "metadata": {},
   "outputs": [],
   "source": [
    "filtering_out = both_beads_preprocessing(fov_subdataset.grp_name,\n",
    "                                        parsed_zarr,\n",
    "                                        running_pipeline.analysis_parameters['both-beads'],\n",
    "                                        dark_img)"
   ]
  },
  {
   "cell_type": "code",
   "execution_count": 32,
   "id": "9d463d6f-5e89-487d-800d-3df642f42b0a",
   "metadata": {},
   "outputs": [],
   "source": [
    "# Visualise filtered image\n",
    "vw = napari.Viewer(title='filtered image')\n",
    "_ = vw.add_image(filtering_out[0][-1],name='filtered fov '+str(fov),colormap='inferno')\n",
    "\n"
   ]
  },
  {
   "cell_type": "code",
   "execution_count": 33,
   "id": "1b5b8910-bc40-47f8-b371-3fda73a94971",
   "metadata": {},
   "outputs": [],
   "source": [
    "from pysmFISH.dots_calling import both_beads_peak_based_detection"
   ]
  },
  {
   "cell_type": "code",
   "execution_count": 34,
   "id": "cdb2367b-2e65-41c6-9705-fb568b5399bb",
   "metadata": {},
   "outputs": [],
   "source": [
    "counts_df = both_beads_peak_based_detection(filtering_out[0][-1], \n",
    "                                            fov_subdataset,\n",
    "                                           running_pipeline.analysis_parameters['both-beads'])"
   ]
  },
  {
   "cell_type": "code",
   "execution_count": 35,
   "id": "7bc3702b-7e96-4602-980b-8bb3c2fec8dc",
   "metadata": {},
   "outputs": [],
   "source": [
    "coords = counts_df.loc[:,['r_px_original','c_px_original']].to_numpy()"
   ]
  },
  {
   "cell_type": "code",
   "execution_count": 36,
   "id": "85edba33-02f5-4a22-87c8-bde28778992f",
   "metadata": {},
   "outputs": [],
   "source": [
    "# Visualise filtered image\n",
    "vw = napari.Viewer(title='filtered image and counts')\n",
    "_ = vw.add_image(filtering_out[0][-1],name='filtered fov '+str(fov),colormap='inferno')\n",
    "_ = vw.add_points(coords,name='counts'+ str(fov), symbol='+', face_color='green', size=5, opacity=0.8)\n"
   ]
  },
  {
   "cell_type": "code",
   "execution_count": null,
   "id": "cc6f7ec8-c63d-482a-84c0-d5fe0dfc1ff4",
   "metadata": {},
   "outputs": [],
   "source": []
  }
 ],
 "metadata": {
  "kernelspec": {
   "display_name": "test_d",
   "language": "python",
   "name": "test_d"
  },
  "language_info": {
   "codemirror_mode": {
    "name": "ipython",
    "version": 3
   },
   "file_extension": ".py",
   "mimetype": "text/x-python",
   "name": "python",
   "nbconvert_exporter": "python",
   "pygments_lexer": "ipython3",
   "version": "3.8.2"
  }
 },
 "nbformat": 4,
 "nbformat_minor": 5
}
