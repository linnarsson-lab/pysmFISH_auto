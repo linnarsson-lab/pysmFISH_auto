{
 "cells": [
  {
   "cell_type": "markdown",
   "id": "3e279c62-d58a-4b9b-9b68-ad0c6b21521a",
   "metadata": {},
   "source": [
    "# Create plotting data for visualization with fishscale"
   ]
  },
  {
   "cell_type": "code",
   "execution_count": 1,
   "id": "45491e27-303d-42e9-a6d1-e01f327321e3",
   "metadata": {},
   "outputs": [],
   "source": [
    "%load_ext autoreload\n",
    "%autoreload 2"
   ]
  },
  {
   "cell_type": "code",
   "execution_count": 2,
   "id": "8f3d40c8-89fa-4dac-808a-8fa375da2a0d",
   "metadata": {},
   "outputs": [],
   "source": [
    "from pathlib import Path\n",
    "import time"
   ]
  },
  {
   "cell_type": "code",
   "execution_count": 3,
   "id": "c1f74fa1-43b6-4f4e-abea-f259c4933d93",
   "metadata": {},
   "outputs": [],
   "source": [
    "from dask.distributed import LocalCluster\n",
    "from dask.distributed import Client"
   ]
  },
  {
   "cell_type": "code",
   "execution_count": 4,
   "id": "246a9da8-fd37-49e0-82cc-73d51e786363",
   "metadata": {},
   "outputs": [],
   "source": [
    "from pysmFISH.io import simple_output_plotting"
   ]
  },
  {
   "cell_type": "code",
   "execution_count": 5,
   "id": "bc63362a-03ce-489a-a917-79f2075df474",
   "metadata": {},
   "outputs": [
    {
     "name": "stderr",
     "output_type": "stream",
     "text": [
      "/Users/simone.codeluppi/opt/miniconda3/envs/test_d/lib/python3.8/site-packages/distributed/node.py:160: UserWarning: Port 8787 is already in use.\n",
      "Perhaps you already have a cluster running?\n",
      "Hosting the HTTP server on port 62985 instead\n",
      "  warnings.warn(\n"
     ]
    }
   ],
   "source": [
    "cluster = LocalCluster(n_workers=4, memory_limit='6GB', processes=True,threads_per_worker=1)\n",
    "client = Client(cluster)"
   ]
  },
  {
   "cell_type": "code",
   "execution_count": 10,
   "id": "5454a17f-dfb7-418f-bc0e-7fe80623e262",
   "metadata": {},
   "outputs": [],
   "source": [
    "experiment_fpath = Path('/Users/simone.codeluppi/Documents/data_analysis_jlabs_sc/EEL_method_paper_figures_Simone/data/')\n",
    "stitching_selected = 'microscope_stitched'\n",
    "selected_Hdistance = 3 / 16\n",
    "file_tag = '_decoded_fov_'"
   ]
  },
  {
   "cell_type": "code",
   "execution_count": 11,
   "id": "3c5cc705-017e-4a04-bb14-628099ee4569",
   "metadata": {},
   "outputs": [],
   "source": [
    "simple_output_plotting(experiment_fpath, stitching_selected, \n",
    "                            selected_Hdistance, client, file_tag)"
   ]
  },
  {
   "cell_type": "code",
   "execution_count": 12,
   "id": "2dbac6c2-84fa-462a-8262-7f8e604d2d47",
   "metadata": {},
   "outputs": [],
   "source": [
    "client.close()\n",
    "cluster.close()"
   ]
  },
  {
   "cell_type": "code",
   "execution_count": null,
   "id": "49596923-7446-4ab4-afde-51e42cd7a724",
   "metadata": {},
   "outputs": [],
   "source": []
  }
 ],
 "metadata": {
  "kernelspec": {
   "display_name": "test_d",
   "language": "python",
   "name": "test_d"
  },
  "language_info": {
   "codemirror_mode": {
    "name": "ipython",
    "version": 3
   },
   "file_extension": ".py",
   "mimetype": "text/x-python",
   "name": "python",
   "nbconvert_exporter": "python",
   "pygments_lexer": "ipython3",
   "version": "3.8.2"
  }
 },
 "nbformat": 4,
 "nbformat_minor": 5
}
