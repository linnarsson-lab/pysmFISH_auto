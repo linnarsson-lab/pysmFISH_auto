{
 "cells": [
  {
   "cell_type": "code",
   "execution_count": 1,
   "id": "d2541a61-3db8-40a8-9208-e1f9d3f91213",
   "metadata": {},
   "outputs": [],
   "source": [
    "%config Completer.use_jedi = False"
   ]
  },
  {
   "cell_type": "code",
   "execution_count": 2,
   "id": "3c8c8319-ea2e-4878-a437-d68eba66903a",
   "metadata": {},
   "outputs": [],
   "source": [
    "%load_ext autoreload\n",
    "%autoreload 2"
   ]
  },
  {
   "cell_type": "code",
   "execution_count": 3,
   "id": "31d46113-5613-4c58-be40-fd41b063de45",
   "metadata": {},
   "outputs": [],
   "source": [
    "from pathlib import Path\n",
    "import time\n",
    "from pysmFISH.pipeline import Pipeline\n",
    "from pysmFISH import stitching\n",
    "from pysmFISH import io"
   ]
  },
  {
   "cell_type": "code",
   "execution_count": null,
   "id": "48eb6bdc-4b09-4ebc-817b-61624a4d09db",
   "metadata": {},
   "outputs": [],
   "source": []
  },
  {
   "cell_type": "markdown",
   "id": "87519dc3-85f4-4cd0-9800-3270ccd2a58a",
   "metadata": {},
   "source": [
    "# List of all sections  \n",
    "\n",
    "- LBEXP20200925_EEL_Mouse_-140um\n",
    "- LBEXP20201104_EEL_Mouse_600um_2 \n",
    "- LBEXP20201002_EEL_Mouse_1200um\n",
    "- LBEXP20201107_EEL_Mouse_1810um \n",
    "- LBEXP20201014_EEL_Mouse_2420um \n",
    "- LBEXP20201010_EEL_Mouse_3000um\n",
    "- LBEXP20201012_EEL_Mouse_3600um\n",
    "\n",
    "__NB__: Analysis need to be run with the 'before room organization' microscope setup for the tiles_org"
   ]
  },
  {
   "cell_type": "markdown",
   "id": "fdd1d337-35e9-4a3b-9610-221c1dffc20f",
   "metadata": {},
   "source": [
    "____________________"
   ]
  },
  {
   "cell_type": "markdown",
   "id": "be7fe012-78db-4c5e-9497-79bf780df91e",
   "metadata": {},
   "source": [
    "# LBEXP20200925_EEL_Mouse_-140um\n",
    "2021-06-26"
   ]
  },
  {
   "cell_type": "code",
   "execution_count": null,
   "id": "73389205-0136-41e7-8480-cc230a2de874",
   "metadata": {},
   "outputs": [],
   "source": [
    "experiment_fpath = Path('/fish/rawdata/LBEXP20200925_EEL_Mouse_-140um')\n",
    "date_tag = time.strftime(\"%y%m%d_%H_%M_%S\")\n",
    "pipeline_run_name = date_tag + '_' + experiment_fpath.stem\n",
    "run_type = 're-run'\n",
    "parsing_type = 'no_parsing'\n",
    "processing_engine = 'htcondor'"
   ]
  },
  {
   "cell_type": "code",
   "execution_count": null,
   "id": "37faa379-10c6-478f-819e-e07eb805c7f3",
   "metadata": {},
   "outputs": [],
   "source": [
    "%%time\n",
    "running_pipeline = Pipeline(\n",
    "        pipeline_run_name= pipeline_run_name,\n",
    "        experiment_fpath= experiment_fpath,\n",
    "        run_type= run_type,\n",
    "        parsing_type= parsing_type,\n",
    "        processing_engine= processing_engine,\n",
    "        chunk_size=50,\n",
    "        same_dot_radius_duplicate_dots = 100,\n",
    "        save_bits_int=False,\n",
    "        dataset_path='/fish/rawdata/LBEXP20200925_EEL_Mouse_-140um/210618_06_38_21_LBEXP20200925_EEL_Mouse_-140um_img_data_dataset.parquet'\n",
    "        )"
   ]
  },
  {
   "cell_type": "code",
   "execution_count": null,
   "id": "531a469b-2b81-498a-a6a0-daf511151797",
   "metadata": {
    "tags": []
   },
   "outputs": [],
   "source": [
    "%%time\n",
    "running_pipeline.run_full()"
   ]
  },
  {
   "cell_type": "markdown",
   "id": "450e17ad-5032-4893-939e-b1504dbd5905",
   "metadata": {},
   "source": [
    "__IMPORTANT__\n",
    "\n",
    "The stitching didn't work nicely so I will remove the dots from the microscope stitched dots"
   ]
  },
  {
   "cell_type": "code",
   "execution_count": null,
   "id": "9c0f92a8-ae64-42b8-a418-7f41c87e68ea",
   "metadata": {},
   "outputs": [],
   "source": [
    "running_pipeline.determine_tiles_organization()"
   ]
  },
  {
   "cell_type": "code",
   "execution_count": null,
   "id": "2ad50c28-43db-43dc-a99c-72bef650b2aa",
   "metadata": {},
   "outputs": [],
   "source": [
    "%%time\n",
    "running_pipeline.stitching_selected = 'microscope_stitched'\n",
    "\n",
    "stitching.remove_duplicated_dots_graph(running_pipeline.experiment_fpath,running_pipeline.data.dataset,running_pipeline.tiles_org,\n",
    "                        running_pipeline.hamming_distance,running_pipeline.same_dot_radius_duplicate_dots, \n",
    "                            running_pipeline.stitching_selected, running_pipeline.client)"
   ]
  },
  {
   "cell_type": "code",
   "execution_count": null,
   "id": "e4b6c706-259b-4dec-b513-136fc8ae3eb9",
   "metadata": {},
   "outputs": [],
   "source": [
    "%%time\n",
    "selected_Hdistance = 3 / running_pipeline.metadata['barcode_length']\n",
    "stitching_selected = 'microscope_stitched'\n",
    "io.simple_output_plotting(running_pipeline.experiment_fpath, stitching_selected, \n",
    "                        selected_Hdistance, running_pipeline.client,file_tag='cleaned')"
   ]
  },
  {
   "cell_type": "code",
   "execution_count": null,
   "id": "290b5c3d-437f-4b0b-a7e2-92f20f8021a7",
   "metadata": {},
   "outputs": [],
   "source": [
    "running_pipeline.cluster.close()\n",
    "running_pipeline.client.close()"
   ]
  },
  {
   "cell_type": "markdown",
   "id": "3978accd-d028-44c2-8447-d56cc8603803",
   "metadata": {},
   "source": [
    "# LBEXP20201104_EEL_Mouse_600um_2\n",
    "\n",
    "Using both-beads I got lower count and more tiles not nicely registered.\n",
    "I will check if the number of small beads fluctuates more than with large, or maybe\n",
    "the reconstruction of the image use a too large sigma and the dots overlay and\n",
    "become messy"
   ]
  },
  {
   "cell_type": "code",
   "execution_count": 4,
   "id": "5d0bb039-9221-487b-a4e5-976969ef7163",
   "metadata": {},
   "outputs": [],
   "source": [
    "experiment_fpath = Path('/fish/rawdata/LBEXP20201104_EEL_Mouse_600um_2')\n",
    "date_tag = time.strftime(\"%y%m%d_%H_%M_%S\")\n",
    "pipeline_run_name = date_tag + '_' + experiment_fpath.stem\n",
    "run_type = 're-run'\n",
    "parsing_type = 'no_parsing'\n",
    "processing_engine = 'htcondor'"
   ]
  },
  {
   "cell_type": "code",
   "execution_count": 11,
   "id": "107da6e5-7d6c-4117-8883-412519cfcc2f",
   "metadata": {},
   "outputs": [
    {
     "name": "stderr",
     "output_type": "stream",
     "text": [
      "distributed.deploy.adaptive_core - ERROR - Adaptive stopping due to error Timed out trying to connect to tcp://193.10.16.58:9610 after 10 s\n"
     ]
    },
    {
     "name": "stdout",
     "output_type": "stream",
     "text": [
      "CPU times: user 6.89 ms, sys: 6.54 ms, total: 13.4 ms\n",
      "Wall time: 13.2 ms\n"
     ]
    }
   ],
   "source": [
    "%%time\n",
    "running_pipeline = Pipeline(\n",
    "                        pipeline_run_name= pipeline_run_name,\n",
    "                        experiment_fpath= experiment_fpath,\n",
    "                        run_type= run_type,\n",
    "                        parsing_type= parsing_type,\n",
    "                        processing_engine= processing_engine,\n",
    "                        chunk_size=50,\n",
    "                        same_dot_radius_duplicate_dots = 100,\n",
    "                        save_bits_int=False,\n",
    "                        dataset_path='/fish/rawdata/LBEXP20201104_EEL_Mouse_600um_2/210627_20_37_35_LBEXP20201104_EEL_Mouse_600um_2_mod_img_data_dataset.parquet'\n",
    "                )"
   ]
  },
  {
   "cell_type": "code",
   "execution_count": 6,
   "id": "5f735eb0-c4a1-4444-9aea-a4a4f18e0a4c",
   "metadata": {},
   "outputs": [
    {
     "name": "stderr",
     "output_type": "stream",
     "text": [
      "distributed.worker - INFO - extra_processing_data already exist\n",
      "distributed.worker - INFO - pipeline_config already exist\n",
      "distributed.worker - INFO - output_figures already exist\n",
      "distributed.worker - INFO - probes already exist\n",
      "distributed.worker - INFO - logs already exist\n",
      "distributed.worker - INFO - results already exist\n",
      "distributed.worker - INFO - microscope_tiles_coords already exist\n"
     ]
    },
    {
     "name": "stdout",
     "output_type": "stream",
     "text": [
      "CPU times: user 752 ms, sys: 924 ms, total: 1.68 s\n",
      "Wall time: 6 s\n"
     ]
    }
   ],
   "source": [
    "%%time\n",
    "running_pipeline.run_parsing_only()"
   ]
  },
  {
   "cell_type": "code",
   "execution_count": 7,
   "id": "ecd705f3-b710-40d2-b811-b54afb7341de",
   "metadata": {},
   "outputs": [
    {
     "name": "stdout",
     "output_type": "stream",
     "text": [
      "CPU times: user 12.4 s, sys: 45.6 s, total: 58 s\n",
      "Wall time: 2min 17s\n"
     ]
    }
   ],
   "source": [
    "%%time \n",
    "running_pipeline.run_required_steps()"
   ]
  },
  {
   "cell_type": "code",
   "execution_count": 9,
   "id": "59676181-4368-489e-8444-7712df0dd35d",
   "metadata": {},
   "outputs": [],
   "source": [
    "running_pipeline.data.dataset.loc[running_pipeline.data.dataset.channel == 'Europium', 'processing_type'] = 'both-beads'\n",
    "running_pipeline.data.dataset.to_parquet('/fish/rawdata/LBEXP20201104_EEL_Mouse_600um_2/210627_20_37_35_LBEXP20201104_EEL_Mouse_600um_2_mod_img_data_dataset.parquet')"
   ]
  },
  {
   "cell_type": "code",
   "execution_count": 14,
   "id": "d357f657-9c30-48f0-affb-49f27529feb2",
   "metadata": {},
   "outputs": [
    {
     "name": "stderr",
     "output_type": "stream",
     "text": [
      "tornado.application - ERROR - Exception in callback functools.partial(<function TCPServer._handle_connection.<locals>.<lambda> at 0x7f833dc7ef70>, <Task finished name='Task-7050209' coro=<BaseTCPListener._handle_stream() done, defined at /home/simone/mini/envs/test_d/lib/python3.8/site-packages/distributed/comm/tcp.py:459> exception=ValueError('invalid operation on non-started TCPListener')>)\n",
      "Traceback (most recent call last):\n",
      "  File \"/home/simone/mini/envs/test_d/lib/python3.8/site-packages/tornado/ioloop.py\", line 741, in _run_callback\n",
      "    ret = callback()\n",
      "  File \"/home/simone/mini/envs/test_d/lib/python3.8/site-packages/tornado/tcpserver.py\", line 331, in <lambda>\n",
      "    gen.convert_yielded(future), lambda f: f.result()\n",
      "  File \"/home/simone/mini/envs/test_d/lib/python3.8/site-packages/distributed/comm/tcp.py\", line 465, in _handle_stream\n",
      "    logger.debug(\"Incoming connection from %r to %r\", address, self.contact_address)\n",
      "  File \"/home/simone/mini/envs/test_d/lib/python3.8/site-packages/distributed/comm/tcp.py\", line 501, in contact_address\n",
      "    host, port = self.get_host_port()\n",
      "  File \"/home/simone/mini/envs/test_d/lib/python3.8/site-packages/distributed/comm/tcp.py\", line 482, in get_host_port\n",
      "    self._check_started()\n",
      "  File \"/home/simone/mini/envs/test_d/lib/python3.8/site-packages/distributed/comm/tcp.py\", line 457, in _check_started\n",
      "    raise ValueError(\"invalid operation on non-started TCPListener\")\n",
      "ValueError: invalid operation on non-started TCPListener\n",
      "distributed.deploy.adaptive_core - ERROR - Adaptive stopping due to error Timed out during handshake while connecting to tcp://193.10.16.58:32265 after 10 s\n"
     ]
    }
   ],
   "source": [
    "running_pipeline.cluster.close()\n",
    "running_pipeline.client.close()"
   ]
  },
  {
   "cell_type": "code",
   "execution_count": null,
   "id": "947ac215-8a2b-4772-8405-a52ce50353c4",
   "metadata": {},
   "outputs": [],
   "source": []
  },
  {
   "cell_type": "code",
   "execution_count": null,
   "id": "537745bc-e6bc-4a25-b9b1-064f52eb4552",
   "metadata": {},
   "outputs": [],
   "source": []
  },
  {
   "cell_type": "code",
   "execution_count": null,
   "id": "46cfccb8-d9d7-4afd-a008-1ec5ce66f1ea",
   "metadata": {},
   "outputs": [],
   "source": [
    "running_pipeline.run_full(resume=True)"
   ]
  },
  {
   "cell_type": "code",
   "execution_count": 13,
   "id": "49d7fc08-e5ce-4fdb-91cd-807944d16c63",
   "metadata": {
    "collapsed": true,
    "jupyter": {
     "outputs_hidden": true
    },
    "tags": []
   },
   "outputs": [
    {
     "ename": "UncompressError",
     "evalue": "Error while decompressing: invalid input",
     "output_type": "error",
     "traceback": [
      "\u001b[0;31m---------------------------------------------------------------------------\u001b[0m",
      "\u001b[0;31mUncompressError\u001b[0m                           Traceback (most recent call last)",
      "\u001b[0;32m<ipython-input-13-2ceb81c9b3d3>\u001b[0m in \u001b[0;36m<module>\u001b[0;34m\u001b[0m\n\u001b[0;32m----> 1\u001b[0;31m \u001b[0mrunning_pipeline\u001b[0m\u001b[0;34m.\u001b[0m\u001b[0mQC_registration_error_step\u001b[0m\u001b[0;34m(\u001b[0m\u001b[0;34m)\u001b[0m\u001b[0;34m\u001b[0m\u001b[0;34m\u001b[0m\u001b[0m\n\u001b[0m",
      "\u001b[0;32m~/tmp_code/pysmFISH_auto/pysmFISH/pipeline.py\u001b[0m in \u001b[0;36mQC_registration_error_step\u001b[0;34m(self)\u001b[0m\n\u001b[1;32m    483\u001b[0m                     self.analysis_parameters, self.tile_corners_coords_pxl)\n\u001b[1;32m    484\u001b[0m \u001b[0;34m\u001b[0m\u001b[0m\n\u001b[0;32m--> 485\u001b[0;31m         \u001b[0mqc_reg\u001b[0m\u001b[0;34m.\u001b[0m\u001b[0mrun_qc\u001b[0m\u001b[0;34m(\u001b[0m\u001b[0;34m)\u001b[0m\u001b[0;34m\u001b[0m\u001b[0;34m\u001b[0m\u001b[0m\n\u001b[0m\u001b[1;32m    486\u001b[0m \u001b[0;34m\u001b[0m\u001b[0m\n\u001b[1;32m    487\u001b[0m \u001b[0;34m\u001b[0m\u001b[0m\n",
      "\u001b[0;32m~/tmp_code/pysmFISH_auto/pysmFISH/qc_utils.py\u001b[0m in \u001b[0;36mrun_qc\u001b[0;34m(self)\u001b[0m\n\u001b[1;32m    140\u001b[0m \u001b[0;34m\u001b[0m\u001b[0m\n\u001b[1;32m    141\u001b[0m     \u001b[0;32mdef\u001b[0m \u001b[0mrun_qc\u001b[0m\u001b[0;34m(\u001b[0m\u001b[0mself\u001b[0m\u001b[0;34m)\u001b[0m\u001b[0;34m:\u001b[0m\u001b[0;34m\u001b[0m\u001b[0;34m\u001b[0m\u001b[0m\n\u001b[0;32m--> 142\u001b[0;31m         \u001b[0mself\u001b[0m\u001b[0;34m.\u001b[0m\u001b[0mcreate_error_df\u001b[0m\u001b[0;34m(\u001b[0m\u001b[0;34m)\u001b[0m\u001b[0;34m\u001b[0m\u001b[0;34m\u001b[0m\u001b[0m\n\u001b[0m\u001b[1;32m    143\u001b[0m         \u001b[0mself\u001b[0m\u001b[0;34m.\u001b[0m\u001b[0mplot_error\u001b[0m\u001b[0;34m(\u001b[0m\u001b[0;34m)\u001b[0m\u001b[0;34m\u001b[0m\u001b[0;34m\u001b[0m\u001b[0m\n\u001b[1;32m    144\u001b[0m \u001b[0;34m\u001b[0m\u001b[0m\n",
      "\u001b[0;32m~/tmp_code/pysmFISH_auto/pysmFISH/qc_utils.py\u001b[0m in \u001b[0;36mcreate_error_df\u001b[0;34m(self)\u001b[0m\n\u001b[1;32m     39\u001b[0m         \u001b[0mself\u001b[0m\u001b[0;34m.\u001b[0m\u001b[0merror_output_df\u001b[0m\u001b[0;34m=\u001b[0m \u001b[0mpd\u001b[0m\u001b[0;34m.\u001b[0m\u001b[0mDataFrame\u001b[0m\u001b[0;34m(\u001b[0m\u001b[0;34m)\u001b[0m\u001b[0;34m\u001b[0m\u001b[0;34m\u001b[0m\u001b[0m\n\u001b[1;32m     40\u001b[0m         \u001b[0mall_counts_dd\u001b[0m \u001b[0;34m=\u001b[0m \u001b[0mdd\u001b[0m\u001b[0;34m.\u001b[0m\u001b[0mread_parquet\u001b[0m\u001b[0;34m(\u001b[0m\u001b[0mall_counts_folder\u001b[0m \u001b[0;34m/\u001b[0m \u001b[0msearch_key\u001b[0m\u001b[0;34m)\u001b[0m\u001b[0;34m\u001b[0m\u001b[0;34m\u001b[0m\u001b[0m\n\u001b[0;32m---> 41\u001b[0;31m         \u001b[0mregistration_error_df\u001b[0m \u001b[0;34m=\u001b[0m \u001b[0mall_counts_dd\u001b[0m\u001b[0;34m.\u001b[0m\u001b[0mgroupby\u001b[0m\u001b[0;34m(\u001b[0m\u001b[0;34m'fov_num'\u001b[0m\u001b[0;34m)\u001b[0m\u001b[0;34m.\u001b[0m\u001b[0magg\u001b[0m\u001b[0;34m(\u001b[0m\u001b[0;34m{\u001b[0m\u001b[0;34m'min_number_matching_dots_registration'\u001b[0m\u001b[0;34m:\u001b[0m \u001b[0;34m[\u001b[0m\u001b[0;34m'min'\u001b[0m\u001b[0;34m]\u001b[0m\u001b[0;34m}\u001b[0m\u001b[0;34m)\u001b[0m\u001b[0;34m.\u001b[0m\u001b[0mcompute\u001b[0m\u001b[0;34m(\u001b[0m\u001b[0;34m)\u001b[0m\u001b[0;34m\u001b[0m\u001b[0;34m\u001b[0m\u001b[0m\n\u001b[0m\u001b[1;32m     42\u001b[0m         \u001b[0;32mfor\u001b[0m \u001b[0midx\u001b[0m\u001b[0;34m,\u001b[0m \u001b[0mrow\u001b[0m \u001b[0;32min\u001b[0m \u001b[0mregistration_error_df\u001b[0m\u001b[0;34m.\u001b[0m\u001b[0mitertuples\u001b[0m\u001b[0;34m(\u001b[0m\u001b[0;34m)\u001b[0m\u001b[0;34m:\u001b[0m\u001b[0;34m\u001b[0m\u001b[0;34m\u001b[0m\u001b[0m\n\u001b[1;32m     43\u001b[0m             \u001b[0msearch_key\u001b[0m \u001b[0;34m=\u001b[0m \u001b[0;34m'*decoded_fov_'\u001b[0m \u001b[0;34m+\u001b[0m \u001b[0mstr\u001b[0m\u001b[0;34m(\u001b[0m\u001b[0midx\u001b[0m\u001b[0;34m)\u001b[0m \u001b[0;34m+\u001b[0m\u001b[0;34m'.parquet'\u001b[0m\u001b[0;34m\u001b[0m\u001b[0;34m\u001b[0m\u001b[0m\n",
      "\u001b[0;32m~/mini/envs/test_d/lib/python3.8/site-packages/dask/base.py\u001b[0m in \u001b[0;36mcompute\u001b[0;34m(self, **kwargs)\u001b[0m\n\u001b[1;32m    277\u001b[0m         \u001b[0mdask\u001b[0m\u001b[0;34m.\u001b[0m\u001b[0mbase\u001b[0m\u001b[0;34m.\u001b[0m\u001b[0mcompute\u001b[0m\u001b[0;34m\u001b[0m\u001b[0;34m\u001b[0m\u001b[0m\n\u001b[1;32m    278\u001b[0m         \"\"\"\n\u001b[0;32m--> 279\u001b[0;31m         \u001b[0;34m(\u001b[0m\u001b[0mresult\u001b[0m\u001b[0;34m,\u001b[0m\u001b[0;34m)\u001b[0m \u001b[0;34m=\u001b[0m \u001b[0mcompute\u001b[0m\u001b[0;34m(\u001b[0m\u001b[0mself\u001b[0m\u001b[0;34m,\u001b[0m \u001b[0mtraverse\u001b[0m\u001b[0;34m=\u001b[0m\u001b[0;32mFalse\u001b[0m\u001b[0;34m,\u001b[0m \u001b[0;34m**\u001b[0m\u001b[0mkwargs\u001b[0m\u001b[0;34m)\u001b[0m\u001b[0;34m\u001b[0m\u001b[0;34m\u001b[0m\u001b[0m\n\u001b[0m\u001b[1;32m    280\u001b[0m         \u001b[0;32mreturn\u001b[0m \u001b[0mresult\u001b[0m\u001b[0;34m\u001b[0m\u001b[0;34m\u001b[0m\u001b[0m\n\u001b[1;32m    281\u001b[0m \u001b[0;34m\u001b[0m\u001b[0m\n",
      "\u001b[0;32m~/mini/envs/test_d/lib/python3.8/site-packages/dask/base.py\u001b[0m in \u001b[0;36mcompute\u001b[0;34m(*args, **kwargs)\u001b[0m\n\u001b[1;32m    559\u001b[0m         \u001b[0mpostcomputes\u001b[0m\u001b[0;34m.\u001b[0m\u001b[0mappend\u001b[0m\u001b[0;34m(\u001b[0m\u001b[0mx\u001b[0m\u001b[0;34m.\u001b[0m\u001b[0m__dask_postcompute__\u001b[0m\u001b[0;34m(\u001b[0m\u001b[0;34m)\u001b[0m\u001b[0;34m)\u001b[0m\u001b[0;34m\u001b[0m\u001b[0;34m\u001b[0m\u001b[0m\n\u001b[1;32m    560\u001b[0m \u001b[0;34m\u001b[0m\u001b[0m\n\u001b[0;32m--> 561\u001b[0;31m     \u001b[0mresults\u001b[0m \u001b[0;34m=\u001b[0m \u001b[0mschedule\u001b[0m\u001b[0;34m(\u001b[0m\u001b[0mdsk\u001b[0m\u001b[0;34m,\u001b[0m \u001b[0mkeys\u001b[0m\u001b[0;34m,\u001b[0m \u001b[0;34m**\u001b[0m\u001b[0mkwargs\u001b[0m\u001b[0;34m)\u001b[0m\u001b[0;34m\u001b[0m\u001b[0;34m\u001b[0m\u001b[0m\n\u001b[0m\u001b[1;32m    562\u001b[0m     \u001b[0;32mreturn\u001b[0m \u001b[0mrepack\u001b[0m\u001b[0;34m(\u001b[0m\u001b[0;34m[\u001b[0m\u001b[0mf\u001b[0m\u001b[0;34m(\u001b[0m\u001b[0mr\u001b[0m\u001b[0;34m,\u001b[0m \u001b[0;34m*\u001b[0m\u001b[0ma\u001b[0m\u001b[0;34m)\u001b[0m \u001b[0;32mfor\u001b[0m \u001b[0mr\u001b[0m\u001b[0;34m,\u001b[0m \u001b[0;34m(\u001b[0m\u001b[0mf\u001b[0m\u001b[0;34m,\u001b[0m \u001b[0ma\u001b[0m\u001b[0;34m)\u001b[0m \u001b[0;32min\u001b[0m \u001b[0mzip\u001b[0m\u001b[0;34m(\u001b[0m\u001b[0mresults\u001b[0m\u001b[0;34m,\u001b[0m \u001b[0mpostcomputes\u001b[0m\u001b[0;34m)\u001b[0m\u001b[0;34m]\u001b[0m\u001b[0;34m)\u001b[0m\u001b[0;34m\u001b[0m\u001b[0;34m\u001b[0m\u001b[0m\n\u001b[1;32m    563\u001b[0m \u001b[0;34m\u001b[0m\u001b[0m\n",
      "\u001b[0;32m~/mini/envs/test_d/lib/python3.8/site-packages/distributed/client.py\u001b[0m in \u001b[0;36mget\u001b[0;34m(self, dsk, keys, restrictions, loose_restrictions, resources, sync, asynchronous, direct, retries, priority, fifo_timeout, actors, **kwargs)\u001b[0m\n\u001b[1;32m   2682\u001b[0m                     \u001b[0mshould_rejoin\u001b[0m \u001b[0;34m=\u001b[0m \u001b[0;32mFalse\u001b[0m\u001b[0;34m\u001b[0m\u001b[0;34m\u001b[0m\u001b[0m\n\u001b[1;32m   2683\u001b[0m             \u001b[0;32mtry\u001b[0m\u001b[0;34m:\u001b[0m\u001b[0;34m\u001b[0m\u001b[0;34m\u001b[0m\u001b[0m\n\u001b[0;32m-> 2684\u001b[0;31m                 \u001b[0mresults\u001b[0m \u001b[0;34m=\u001b[0m \u001b[0mself\u001b[0m\u001b[0;34m.\u001b[0m\u001b[0mgather\u001b[0m\u001b[0;34m(\u001b[0m\u001b[0mpacked\u001b[0m\u001b[0;34m,\u001b[0m \u001b[0masynchronous\u001b[0m\u001b[0;34m=\u001b[0m\u001b[0masynchronous\u001b[0m\u001b[0;34m,\u001b[0m \u001b[0mdirect\u001b[0m\u001b[0;34m=\u001b[0m\u001b[0mdirect\u001b[0m\u001b[0;34m)\u001b[0m\u001b[0;34m\u001b[0m\u001b[0;34m\u001b[0m\u001b[0m\n\u001b[0m\u001b[1;32m   2685\u001b[0m             \u001b[0;32mfinally\u001b[0m\u001b[0;34m:\u001b[0m\u001b[0;34m\u001b[0m\u001b[0;34m\u001b[0m\u001b[0m\n\u001b[1;32m   2686\u001b[0m                 \u001b[0;32mfor\u001b[0m \u001b[0mf\u001b[0m \u001b[0;32min\u001b[0m \u001b[0mfutures\u001b[0m\u001b[0;34m.\u001b[0m\u001b[0mvalues\u001b[0m\u001b[0;34m(\u001b[0m\u001b[0;34m)\u001b[0m\u001b[0;34m:\u001b[0m\u001b[0;34m\u001b[0m\u001b[0;34m\u001b[0m\u001b[0m\n",
      "\u001b[0;32m~/mini/envs/test_d/lib/python3.8/site-packages/distributed/client.py\u001b[0m in \u001b[0;36mgather\u001b[0;34m(self, futures, errors, direct, asynchronous)\u001b[0m\n\u001b[1;32m   1991\u001b[0m             \u001b[0;32melse\u001b[0m\u001b[0;34m:\u001b[0m\u001b[0;34m\u001b[0m\u001b[0;34m\u001b[0m\u001b[0m\n\u001b[1;32m   1992\u001b[0m                 \u001b[0mlocal_worker\u001b[0m \u001b[0;34m=\u001b[0m \u001b[0;32mNone\u001b[0m\u001b[0;34m\u001b[0m\u001b[0;34m\u001b[0m\u001b[0m\n\u001b[0;32m-> 1993\u001b[0;31m             return self.sync(\n\u001b[0m\u001b[1;32m   1994\u001b[0m                 \u001b[0mself\u001b[0m\u001b[0;34m.\u001b[0m\u001b[0m_gather\u001b[0m\u001b[0;34m,\u001b[0m\u001b[0;34m\u001b[0m\u001b[0;34m\u001b[0m\u001b[0m\n\u001b[1;32m   1995\u001b[0m                 \u001b[0mfutures\u001b[0m\u001b[0;34m,\u001b[0m\u001b[0;34m\u001b[0m\u001b[0;34m\u001b[0m\u001b[0m\n",
      "\u001b[0;32m~/mini/envs/test_d/lib/python3.8/site-packages/distributed/client.py\u001b[0m in \u001b[0;36msync\u001b[0;34m(self, func, asynchronous, callback_timeout, *args, **kwargs)\u001b[0m\n\u001b[1;32m    837\u001b[0m             \u001b[0;32mreturn\u001b[0m \u001b[0mfuture\u001b[0m\u001b[0;34m\u001b[0m\u001b[0;34m\u001b[0m\u001b[0m\n\u001b[1;32m    838\u001b[0m         \u001b[0;32melse\u001b[0m\u001b[0;34m:\u001b[0m\u001b[0;34m\u001b[0m\u001b[0;34m\u001b[0m\u001b[0m\n\u001b[0;32m--> 839\u001b[0;31m             return sync(\n\u001b[0m\u001b[1;32m    840\u001b[0m                 \u001b[0mself\u001b[0m\u001b[0;34m.\u001b[0m\u001b[0mloop\u001b[0m\u001b[0;34m,\u001b[0m \u001b[0mfunc\u001b[0m\u001b[0;34m,\u001b[0m \u001b[0;34m*\u001b[0m\u001b[0margs\u001b[0m\u001b[0;34m,\u001b[0m \u001b[0mcallback_timeout\u001b[0m\u001b[0;34m=\u001b[0m\u001b[0mcallback_timeout\u001b[0m\u001b[0;34m,\u001b[0m \u001b[0;34m**\u001b[0m\u001b[0mkwargs\u001b[0m\u001b[0;34m\u001b[0m\u001b[0;34m\u001b[0m\u001b[0m\n\u001b[1;32m    841\u001b[0m             )\n",
      "\u001b[0;32m~/mini/envs/test_d/lib/python3.8/site-packages/distributed/utils.py\u001b[0m in \u001b[0;36msync\u001b[0;34m(loop, func, callback_timeout, *args, **kwargs)\u001b[0m\n\u001b[1;32m    338\u001b[0m     \u001b[0;32mif\u001b[0m \u001b[0merror\u001b[0m\u001b[0;34m[\u001b[0m\u001b[0;36m0\u001b[0m\u001b[0;34m]\u001b[0m\u001b[0;34m:\u001b[0m\u001b[0;34m\u001b[0m\u001b[0;34m\u001b[0m\u001b[0m\n\u001b[1;32m    339\u001b[0m         \u001b[0mtyp\u001b[0m\u001b[0;34m,\u001b[0m \u001b[0mexc\u001b[0m\u001b[0;34m,\u001b[0m \u001b[0mtb\u001b[0m \u001b[0;34m=\u001b[0m \u001b[0merror\u001b[0m\u001b[0;34m[\u001b[0m\u001b[0;36m0\u001b[0m\u001b[0;34m]\u001b[0m\u001b[0;34m\u001b[0m\u001b[0;34m\u001b[0m\u001b[0m\n\u001b[0;32m--> 340\u001b[0;31m         \u001b[0;32mraise\u001b[0m \u001b[0mexc\u001b[0m\u001b[0;34m.\u001b[0m\u001b[0mwith_traceback\u001b[0m\u001b[0;34m(\u001b[0m\u001b[0mtb\u001b[0m\u001b[0;34m)\u001b[0m\u001b[0;34m\u001b[0m\u001b[0;34m\u001b[0m\u001b[0m\n\u001b[0m\u001b[1;32m    341\u001b[0m     \u001b[0;32melse\u001b[0m\u001b[0;34m:\u001b[0m\u001b[0;34m\u001b[0m\u001b[0;34m\u001b[0m\u001b[0m\n\u001b[1;32m    342\u001b[0m         \u001b[0;32mreturn\u001b[0m \u001b[0mresult\u001b[0m\u001b[0;34m[\u001b[0m\u001b[0;36m0\u001b[0m\u001b[0;34m]\u001b[0m\u001b[0;34m\u001b[0m\u001b[0;34m\u001b[0m\u001b[0m\n",
      "\u001b[0;32m~/mini/envs/test_d/lib/python3.8/site-packages/distributed/utils.py\u001b[0m in \u001b[0;36mf\u001b[0;34m()\u001b[0m\n\u001b[1;32m    322\u001b[0m             \u001b[0;32mif\u001b[0m \u001b[0mcallback_timeout\u001b[0m \u001b[0;32mis\u001b[0m \u001b[0;32mnot\u001b[0m \u001b[0;32mNone\u001b[0m\u001b[0;34m:\u001b[0m\u001b[0;34m\u001b[0m\u001b[0;34m\u001b[0m\u001b[0m\n\u001b[1;32m    323\u001b[0m                 \u001b[0mfuture\u001b[0m \u001b[0;34m=\u001b[0m \u001b[0masyncio\u001b[0m\u001b[0;34m.\u001b[0m\u001b[0mwait_for\u001b[0m\u001b[0;34m(\u001b[0m\u001b[0mfuture\u001b[0m\u001b[0;34m,\u001b[0m \u001b[0mcallback_timeout\u001b[0m\u001b[0;34m)\u001b[0m\u001b[0;34m\u001b[0m\u001b[0;34m\u001b[0m\u001b[0m\n\u001b[0;32m--> 324\u001b[0;31m             \u001b[0mresult\u001b[0m\u001b[0;34m[\u001b[0m\u001b[0;36m0\u001b[0m\u001b[0;34m]\u001b[0m \u001b[0;34m=\u001b[0m \u001b[0;32myield\u001b[0m \u001b[0mfuture\u001b[0m\u001b[0;34m\u001b[0m\u001b[0;34m\u001b[0m\u001b[0m\n\u001b[0m\u001b[1;32m    325\u001b[0m         \u001b[0;32mexcept\u001b[0m \u001b[0mException\u001b[0m \u001b[0;32mas\u001b[0m \u001b[0mexc\u001b[0m\u001b[0;34m:\u001b[0m\u001b[0;34m\u001b[0m\u001b[0;34m\u001b[0m\u001b[0m\n\u001b[1;32m    326\u001b[0m             \u001b[0merror\u001b[0m\u001b[0;34m[\u001b[0m\u001b[0;36m0\u001b[0m\u001b[0;34m]\u001b[0m \u001b[0;34m=\u001b[0m \u001b[0msys\u001b[0m\u001b[0;34m.\u001b[0m\u001b[0mexc_info\u001b[0m\u001b[0;34m(\u001b[0m\u001b[0;34m)\u001b[0m\u001b[0;34m\u001b[0m\u001b[0;34m\u001b[0m\u001b[0m\n",
      "\u001b[0;32m~/mini/envs/test_d/lib/python3.8/site-packages/tornado/gen.py\u001b[0m in \u001b[0;36mrun\u001b[0;34m(self)\u001b[0m\n\u001b[1;32m    760\u001b[0m \u001b[0;34m\u001b[0m\u001b[0m\n\u001b[1;32m    761\u001b[0m                     \u001b[0;32mtry\u001b[0m\u001b[0;34m:\u001b[0m\u001b[0;34m\u001b[0m\u001b[0;34m\u001b[0m\u001b[0m\n\u001b[0;32m--> 762\u001b[0;31m                         \u001b[0mvalue\u001b[0m \u001b[0;34m=\u001b[0m \u001b[0mfuture\u001b[0m\u001b[0;34m.\u001b[0m\u001b[0mresult\u001b[0m\u001b[0;34m(\u001b[0m\u001b[0;34m)\u001b[0m\u001b[0;34m\u001b[0m\u001b[0;34m\u001b[0m\u001b[0m\n\u001b[0m\u001b[1;32m    763\u001b[0m                     \u001b[0;32mexcept\u001b[0m \u001b[0mException\u001b[0m\u001b[0;34m:\u001b[0m\u001b[0;34m\u001b[0m\u001b[0;34m\u001b[0m\u001b[0m\n\u001b[1;32m    764\u001b[0m                         \u001b[0mexc_info\u001b[0m \u001b[0;34m=\u001b[0m \u001b[0msys\u001b[0m\u001b[0;34m.\u001b[0m\u001b[0mexc_info\u001b[0m\u001b[0;34m(\u001b[0m\u001b[0;34m)\u001b[0m\u001b[0;34m\u001b[0m\u001b[0;34m\u001b[0m\u001b[0m\n",
      "\u001b[0;32m~/mini/envs/test_d/lib/python3.8/site-packages/distributed/client.py\u001b[0m in \u001b[0;36m_gather\u001b[0;34m(self, futures, errors, direct, local_worker)\u001b[0m\n\u001b[1;32m   1856\u001b[0m                             \u001b[0mexc\u001b[0m \u001b[0;34m=\u001b[0m \u001b[0mCancelledError\u001b[0m\u001b[0;34m(\u001b[0m\u001b[0mkey\u001b[0m\u001b[0;34m)\u001b[0m\u001b[0;34m\u001b[0m\u001b[0;34m\u001b[0m\u001b[0m\n\u001b[1;32m   1857\u001b[0m                         \u001b[0;32melse\u001b[0m\u001b[0;34m:\u001b[0m\u001b[0;34m\u001b[0m\u001b[0;34m\u001b[0m\u001b[0m\n\u001b[0;32m-> 1858\u001b[0;31m                             \u001b[0;32mraise\u001b[0m \u001b[0mexception\u001b[0m\u001b[0;34m.\u001b[0m\u001b[0mwith_traceback\u001b[0m\u001b[0;34m(\u001b[0m\u001b[0mtraceback\u001b[0m\u001b[0;34m)\u001b[0m\u001b[0;34m\u001b[0m\u001b[0;34m\u001b[0m\u001b[0m\n\u001b[0m\u001b[1;32m   1859\u001b[0m                         \u001b[0;32mraise\u001b[0m \u001b[0mexc\u001b[0m\u001b[0;34m\u001b[0m\u001b[0;34m\u001b[0m\u001b[0m\n\u001b[1;32m   1860\u001b[0m                     \u001b[0;32mif\u001b[0m \u001b[0merrors\u001b[0m \u001b[0;34m==\u001b[0m \u001b[0;34m\"skip\"\u001b[0m\u001b[0;34m:\u001b[0m\u001b[0;34m\u001b[0m\u001b[0;34m\u001b[0m\u001b[0m\n",
      "\u001b[0;32m~/mini/envs/test_d/lib/python3.8/site-packages/dask/dataframe/io/parquet/core.py\u001b[0m in \u001b[0;36mread_parquet_part\u001b[0;34m()\u001b[0m\n\u001b[1;32m    342\u001b[0m \u001b[0;34m\u001b[0m\u001b[0m\n\u001b[1;32m    343\u001b[0m     \u001b[0;32mif\u001b[0m \u001b[0misinstance\u001b[0m\u001b[0;34m(\u001b[0m\u001b[0mpart\u001b[0m\u001b[0;34m,\u001b[0m \u001b[0mlist\u001b[0m\u001b[0;34m)\u001b[0m\u001b[0;34m:\u001b[0m\u001b[0;34m\u001b[0m\u001b[0;34m\u001b[0m\u001b[0m\n\u001b[0;32m--> 344\u001b[0;31m         \u001b[0mdfs\u001b[0m \u001b[0;34m=\u001b[0m \u001b[0;34m[\u001b[0m\u001b[0mfunc\u001b[0m\u001b[0;34m(\u001b[0m\u001b[0mfs\u001b[0m\u001b[0;34m,\u001b[0m \u001b[0mrg\u001b[0m\u001b[0;34m,\u001b[0m \u001b[0mcolumns\u001b[0m\u001b[0;34m.\u001b[0m\u001b[0mcopy\u001b[0m\u001b[0;34m(\u001b[0m\u001b[0;34m)\u001b[0m\u001b[0;34m,\u001b[0m \u001b[0mindex\u001b[0m\u001b[0;34m,\u001b[0m \u001b[0;34m**\u001b[0m\u001b[0mkwargs\u001b[0m\u001b[0;34m)\u001b[0m \u001b[0;32mfor\u001b[0m \u001b[0mrg\u001b[0m \u001b[0;32min\u001b[0m \u001b[0mpart\u001b[0m\u001b[0;34m]\u001b[0m\u001b[0;34m\u001b[0m\u001b[0;34m\u001b[0m\u001b[0m\n\u001b[0m\u001b[1;32m    345\u001b[0m         \u001b[0mdf\u001b[0m \u001b[0;34m=\u001b[0m \u001b[0mconcat\u001b[0m\u001b[0;34m(\u001b[0m\u001b[0mdfs\u001b[0m\u001b[0;34m,\u001b[0m \u001b[0maxis\u001b[0m\u001b[0;34m=\u001b[0m\u001b[0;36m0\u001b[0m\u001b[0;34m)\u001b[0m\u001b[0;34m\u001b[0m\u001b[0;34m\u001b[0m\u001b[0m\n\u001b[1;32m    346\u001b[0m     \u001b[0;32melse\u001b[0m\u001b[0;34m:\u001b[0m\u001b[0;34m\u001b[0m\u001b[0;34m\u001b[0m\u001b[0m\n",
      "\u001b[0;32m~/mini/envs/test_d/lib/python3.8/site-packages/dask/dataframe/io/parquet/core.py\u001b[0m in \u001b[0;36m<listcomp>\u001b[0;34m()\u001b[0m\n\u001b[1;32m    342\u001b[0m \u001b[0;34m\u001b[0m\u001b[0m\n\u001b[1;32m    343\u001b[0m     \u001b[0;32mif\u001b[0m \u001b[0misinstance\u001b[0m\u001b[0;34m(\u001b[0m\u001b[0mpart\u001b[0m\u001b[0;34m,\u001b[0m \u001b[0mlist\u001b[0m\u001b[0;34m)\u001b[0m\u001b[0;34m:\u001b[0m\u001b[0;34m\u001b[0m\u001b[0;34m\u001b[0m\u001b[0m\n\u001b[0;32m--> 344\u001b[0;31m         \u001b[0mdfs\u001b[0m \u001b[0;34m=\u001b[0m \u001b[0;34m[\u001b[0m\u001b[0mfunc\u001b[0m\u001b[0;34m(\u001b[0m\u001b[0mfs\u001b[0m\u001b[0;34m,\u001b[0m \u001b[0mrg\u001b[0m\u001b[0;34m,\u001b[0m \u001b[0mcolumns\u001b[0m\u001b[0;34m.\u001b[0m\u001b[0mcopy\u001b[0m\u001b[0;34m(\u001b[0m\u001b[0;34m)\u001b[0m\u001b[0;34m,\u001b[0m \u001b[0mindex\u001b[0m\u001b[0;34m,\u001b[0m \u001b[0;34m**\u001b[0m\u001b[0mkwargs\u001b[0m\u001b[0;34m)\u001b[0m \u001b[0;32mfor\u001b[0m \u001b[0mrg\u001b[0m \u001b[0;32min\u001b[0m \u001b[0mpart\u001b[0m\u001b[0;34m]\u001b[0m\u001b[0;34m\u001b[0m\u001b[0;34m\u001b[0m\u001b[0m\n\u001b[0m\u001b[1;32m    345\u001b[0m         \u001b[0mdf\u001b[0m \u001b[0;34m=\u001b[0m \u001b[0mconcat\u001b[0m\u001b[0;34m(\u001b[0m\u001b[0mdfs\u001b[0m\u001b[0;34m,\u001b[0m \u001b[0maxis\u001b[0m\u001b[0;34m=\u001b[0m\u001b[0;36m0\u001b[0m\u001b[0;34m)\u001b[0m\u001b[0;34m\u001b[0m\u001b[0;34m\u001b[0m\u001b[0m\n\u001b[1;32m    346\u001b[0m     \u001b[0;32melse\u001b[0m\u001b[0;34m:\u001b[0m\u001b[0;34m\u001b[0m\u001b[0;34m\u001b[0m\u001b[0m\n",
      "\u001b[0;32m~/mini/envs/test_d/lib/python3.8/site-packages/dask/dataframe/io/parquet/fastparquet.py\u001b[0m in \u001b[0;36mread_partition\u001b[0;34m()\u001b[0m\n\u001b[1;32m    498\u001b[0m             \u001b[0;32melse\u001b[0m\u001b[0;34m:\u001b[0m\u001b[0;34m\u001b[0m\u001b[0;34m\u001b[0m\u001b[0m\n\u001b[1;32m    499\u001b[0m                 \u001b[0mpf\u001b[0m\u001b[0;34m.\u001b[0m\u001b[0mfmd\u001b[0m\u001b[0;34m.\u001b[0m\u001b[0mkey_value_metadata\u001b[0m \u001b[0;34m=\u001b[0m \u001b[0;32mNone\u001b[0m\u001b[0;34m\u001b[0m\u001b[0;34m\u001b[0m\u001b[0m\n\u001b[0;32m--> 500\u001b[0;31m             return pf.read_row_group_file(\n\u001b[0m\u001b[1;32m    501\u001b[0m                 \u001b[0mrg_piece\u001b[0m\u001b[0;34m,\u001b[0m \u001b[0mcolumns\u001b[0m\u001b[0;34m,\u001b[0m \u001b[0mcategories\u001b[0m\u001b[0;34m,\u001b[0m \u001b[0mindex\u001b[0m\u001b[0;34m=\u001b[0m\u001b[0mindex\u001b[0m\u001b[0;34m,\u001b[0m \u001b[0;34m**\u001b[0m\u001b[0mkwargs\u001b[0m\u001b[0;34m.\u001b[0m\u001b[0mget\u001b[0m\u001b[0;34m(\u001b[0m\u001b[0;34m\"read\"\u001b[0m\u001b[0;34m,\u001b[0m \u001b[0;34m{\u001b[0m\u001b[0;34m}\u001b[0m\u001b[0;34m)\u001b[0m\u001b[0;34m\u001b[0m\u001b[0;34m\u001b[0m\u001b[0m\n\u001b[1;32m    502\u001b[0m             )\n",
      "\u001b[0;32m~/mini/envs/test_d/lib/python3.8/site-packages/fastparquet/api.py\u001b[0m in \u001b[0;36mread_row_group_file\u001b[0;34m()\u001b[0m\n\u001b[1;32m    208\u001b[0m                     rg.num_rows, columns, categories, index)\n\u001b[1;32m    209\u001b[0m             \u001b[0mret\u001b[0m \u001b[0;34m=\u001b[0m \u001b[0;32mTrue\u001b[0m\u001b[0;34m\u001b[0m\u001b[0;34m\u001b[0m\u001b[0m\n\u001b[0;32m--> 210\u001b[0;31m         core.read_row_group_file(\n\u001b[0m\u001b[1;32m    211\u001b[0m                 \u001b[0mfn\u001b[0m\u001b[0;34m,\u001b[0m \u001b[0mrg\u001b[0m\u001b[0;34m,\u001b[0m \u001b[0mcolumns\u001b[0m\u001b[0;34m,\u001b[0m \u001b[0mcategories\u001b[0m\u001b[0;34m,\u001b[0m \u001b[0mself\u001b[0m\u001b[0;34m.\u001b[0m\u001b[0mschema\u001b[0m\u001b[0;34m,\u001b[0m \u001b[0mself\u001b[0m\u001b[0;34m.\u001b[0m\u001b[0mcats\u001b[0m\u001b[0;34m,\u001b[0m\u001b[0;34m\u001b[0m\u001b[0;34m\u001b[0m\u001b[0m\n\u001b[1;32m    212\u001b[0m                 \u001b[0mopen\u001b[0m\u001b[0;34m=\u001b[0m\u001b[0mself\u001b[0m\u001b[0;34m.\u001b[0m\u001b[0mopen\u001b[0m\u001b[0;34m,\u001b[0m \u001b[0mselfmade\u001b[0m\u001b[0;34m=\u001b[0m\u001b[0mself\u001b[0m\u001b[0;34m.\u001b[0m\u001b[0mselfmade\u001b[0m\u001b[0;34m,\u001b[0m \u001b[0mindex\u001b[0m\u001b[0;34m=\u001b[0m\u001b[0mindex\u001b[0m\u001b[0;34m,\u001b[0m\u001b[0;34m\u001b[0m\u001b[0;34m\u001b[0m\u001b[0m\n",
      "\u001b[0;32m~/mini/envs/test_d/lib/python3.8/site-packages/fastparquet/core.py\u001b[0m in \u001b[0;36mread_row_group_file\u001b[0;34m()\u001b[0m\n\u001b[1;32m    301\u001b[0m                         scheme='hive', partition_meta=None):\n\u001b[1;32m    302\u001b[0m     \u001b[0;32mwith\u001b[0m \u001b[0mopen\u001b[0m\u001b[0;34m(\u001b[0m\u001b[0mfn\u001b[0m\u001b[0;34m,\u001b[0m \u001b[0mmode\u001b[0m\u001b[0;34m=\u001b[0m\u001b[0;34m'rb'\u001b[0m\u001b[0;34m)\u001b[0m \u001b[0;32mas\u001b[0m \u001b[0mf\u001b[0m\u001b[0;34m:\u001b[0m\u001b[0;34m\u001b[0m\u001b[0;34m\u001b[0m\u001b[0m\n\u001b[0;32m--> 303\u001b[0;31m         return read_row_group(f, rg, columns, categories, schema_helper, cats,\n\u001b[0m\u001b[1;32m    304\u001b[0m                               \u001b[0mselfmade\u001b[0m\u001b[0;34m=\u001b[0m\u001b[0mselfmade\u001b[0m\u001b[0;34m,\u001b[0m \u001b[0mindex\u001b[0m\u001b[0;34m=\u001b[0m\u001b[0mindex\u001b[0m\u001b[0;34m,\u001b[0m \u001b[0massign\u001b[0m\u001b[0;34m=\u001b[0m\u001b[0massign\u001b[0m\u001b[0;34m,\u001b[0m\u001b[0;34m\u001b[0m\u001b[0;34m\u001b[0m\u001b[0m\n\u001b[1;32m    305\u001b[0m                               scheme=scheme, partition_meta=partition_meta)\n",
      "\u001b[0;32m~/mini/envs/test_d/lib/python3.8/site-packages/fastparquet/core.py\u001b[0m in \u001b[0;36mread_row_group\u001b[0;34m()\u001b[0m\n\u001b[1;32m    352\u001b[0m     \u001b[0;32mif\u001b[0m \u001b[0massign\u001b[0m \u001b[0;32mis\u001b[0m \u001b[0;32mNone\u001b[0m\u001b[0;34m:\u001b[0m\u001b[0;34m\u001b[0m\u001b[0;34m\u001b[0m\u001b[0m\n\u001b[1;32m    353\u001b[0m         \u001b[0;32mraise\u001b[0m \u001b[0mRuntimeError\u001b[0m\u001b[0;34m(\u001b[0m\u001b[0;34m'Going with pre-allocation!'\u001b[0m\u001b[0;34m)\u001b[0m\u001b[0;34m\u001b[0m\u001b[0;34m\u001b[0m\u001b[0m\n\u001b[0;32m--> 354\u001b[0;31m     read_row_group_arrays(file, rg, columns, categories, schema_helper,\n\u001b[0m\u001b[1;32m    355\u001b[0m                           cats, selfmade, assign=assign)\n\u001b[1;32m    356\u001b[0m \u001b[0;34m\u001b[0m\u001b[0m\n",
      "\u001b[0;32m~/mini/envs/test_d/lib/python3.8/site-packages/fastparquet/core.py\u001b[0m in \u001b[0;36mread_row_group_arrays\u001b[0;34m()\u001b[0m\n\u001b[1;32m    327\u001b[0m             \u001b[0;32mcontinue\u001b[0m\u001b[0;34m\u001b[0m\u001b[0;34m\u001b[0m\u001b[0m\n\u001b[1;32m    328\u001b[0m \u001b[0;34m\u001b[0m\u001b[0m\n\u001b[0;32m--> 329\u001b[0;31m         read_col(column, schema_helper, file, use_cat=name+'-catdef' in out,\n\u001b[0m\u001b[1;32m    330\u001b[0m                  \u001b[0mselfmade\u001b[0m\u001b[0;34m=\u001b[0m\u001b[0mselfmade\u001b[0m\u001b[0;34m,\u001b[0m \u001b[0massign\u001b[0m\u001b[0;34m=\u001b[0m\u001b[0mout\u001b[0m\u001b[0;34m[\u001b[0m\u001b[0mname\u001b[0m\u001b[0;34m]\u001b[0m\u001b[0;34m,\u001b[0m\u001b[0;34m\u001b[0m\u001b[0;34m\u001b[0m\u001b[0m\n\u001b[1;32m    331\u001b[0m                  catdef=out.get(name+'-catdef', None))\n",
      "\u001b[0;32m~/mini/envs/test_d/lib/python3.8/site-packages/fastparquet/core.py\u001b[0m in \u001b[0;36mread_col\u001b[0;34m()\u001b[0m\n\u001b[1;32m    243\u001b[0m         \u001b[0;32melse\u001b[0m\u001b[0;34m:\u001b[0m\u001b[0;34m\u001b[0m\u001b[0;34m\u001b[0m\u001b[0m\n\u001b[1;32m    244\u001b[0m             \u001b[0mskip_nulls\u001b[0m \u001b[0;34m=\u001b[0m \u001b[0;32mFalse\u001b[0m\u001b[0;34m\u001b[0m\u001b[0;34m\u001b[0m\u001b[0m\n\u001b[0;32m--> 245\u001b[0;31m         defi, rep, val = read_data_page(infile, schema_helper, ph, cmd,\n\u001b[0m\u001b[1;32m    246\u001b[0m                                         skip_nulls, selfmade=selfmade)\n\u001b[1;32m    247\u001b[0m         \u001b[0;32mif\u001b[0m \u001b[0mrep\u001b[0m \u001b[0;32mis\u001b[0m \u001b[0;32mnot\u001b[0m \u001b[0;32mNone\u001b[0m \u001b[0;32mand\u001b[0m \u001b[0massign\u001b[0m\u001b[0;34m.\u001b[0m\u001b[0mdtype\u001b[0m\u001b[0;34m.\u001b[0m\u001b[0mkind\u001b[0m \u001b[0;34m!=\u001b[0m \u001b[0;34m'O'\u001b[0m\u001b[0;34m:\u001b[0m  \u001b[0;31m# pragma: no cover\u001b[0m\u001b[0;34m\u001b[0m\u001b[0;34m\u001b[0m\u001b[0m\n",
      "\u001b[0;32m~/mini/envs/test_d/lib/python3.8/site-packages/fastparquet/core.py\u001b[0m in \u001b[0;36mread_data_page\u001b[0;34m()\u001b[0m\n\u001b[1;32m     97\u001b[0m     \"\"\"\n\u001b[1;32m     98\u001b[0m     \u001b[0mdaph\u001b[0m \u001b[0;34m=\u001b[0m \u001b[0mheader\u001b[0m\u001b[0;34m.\u001b[0m\u001b[0mdata_page_header\u001b[0m\u001b[0;34m\u001b[0m\u001b[0;34m\u001b[0m\u001b[0m\n\u001b[0;32m---> 99\u001b[0;31m     \u001b[0mraw_bytes\u001b[0m \u001b[0;34m=\u001b[0m \u001b[0m_read_page\u001b[0m\u001b[0;34m(\u001b[0m\u001b[0mf\u001b[0m\u001b[0;34m,\u001b[0m \u001b[0mheader\u001b[0m\u001b[0;34m,\u001b[0m \u001b[0mmetadata\u001b[0m\u001b[0;34m)\u001b[0m\u001b[0;34m\u001b[0m\u001b[0;34m\u001b[0m\u001b[0m\n\u001b[0m\u001b[1;32m    100\u001b[0m     io_obj = encoding.Numpy8(np.frombuffer(memoryview(raw_bytes),\n\u001b[1;32m    101\u001b[0m                                            dtype=np.uint8))\n",
      "\u001b[0;32m~/mini/envs/test_d/lib/python3.8/site-packages/fastparquet/core.py\u001b[0m in \u001b[0;36m_read_page\u001b[0;34m()\u001b[0m\n\u001b[1;32m     20\u001b[0m     uncompressed bytes (if necessary).\"\"\"\n\u001b[1;32m     21\u001b[0m     \u001b[0mraw_bytes\u001b[0m \u001b[0;34m=\u001b[0m \u001b[0mfile_obj\u001b[0m\u001b[0;34m.\u001b[0m\u001b[0mread\u001b[0m\u001b[0;34m(\u001b[0m\u001b[0mpage_header\u001b[0m\u001b[0;34m.\u001b[0m\u001b[0mcompressed_page_size\u001b[0m\u001b[0;34m)\u001b[0m\u001b[0;34m\u001b[0m\u001b[0;34m\u001b[0m\u001b[0m\n\u001b[0;32m---> 22\u001b[0;31m     raw_bytes = decompress_data(\n\u001b[0m\u001b[1;32m     23\u001b[0m         \u001b[0mraw_bytes\u001b[0m\u001b[0;34m,\u001b[0m\u001b[0;34m\u001b[0m\u001b[0;34m\u001b[0m\u001b[0m\n\u001b[1;32m     24\u001b[0m         \u001b[0mpage_header\u001b[0m\u001b[0;34m.\u001b[0m\u001b[0muncompressed_page_size\u001b[0m\u001b[0;34m,\u001b[0m\u001b[0;34m\u001b[0m\u001b[0;34m\u001b[0m\u001b[0m\n",
      "\u001b[0;32m~/mini/envs/test_d/lib/python3.8/site-packages/fastparquet/compression.py\u001b[0m in \u001b[0;36mdecompress_data\u001b[0;34m()\u001b[0m\n\u001b[1;32m    126\u001b[0m         raise RuntimeError(\"Decompression '%s' not available.  Options: %s\" %\n\u001b[1;32m    127\u001b[0m                 (algorithm.upper(), sorted(decompressions)))\n\u001b[0;32m--> 128\u001b[0;31m     \u001b[0;32mreturn\u001b[0m \u001b[0mdecompressions\u001b[0m\u001b[0;34m[\u001b[0m\u001b[0malgorithm\u001b[0m\u001b[0;34m.\u001b[0m\u001b[0mupper\u001b[0m\u001b[0;34m(\u001b[0m\u001b[0;34m)\u001b[0m\u001b[0;34m]\u001b[0m\u001b[0;34m(\u001b[0m\u001b[0mdata\u001b[0m\u001b[0;34m,\u001b[0m \u001b[0muncompressed_size\u001b[0m\u001b[0;34m)\u001b[0m\u001b[0;34m\u001b[0m\u001b[0;34m\u001b[0m\u001b[0m\n\u001b[0m",
      "\u001b[0;32m~/mini/envs/test_d/lib/python3.8/site-packages/fastparquet/compression.py\u001b[0m in \u001b[0;36msnappy_decompress\u001b[0;34m()\u001b[0m\n\u001b[1;32m     30\u001b[0m     \u001b[0;32mimport\u001b[0m \u001b[0msnappy\u001b[0m\u001b[0;34m\u001b[0m\u001b[0;34m\u001b[0m\u001b[0m\n\u001b[1;32m     31\u001b[0m     \u001b[0;32mdef\u001b[0m \u001b[0msnappy_decompress\u001b[0m\u001b[0;34m(\u001b[0m\u001b[0mdata\u001b[0m\u001b[0;34m,\u001b[0m \u001b[0muncompressed_size\u001b[0m\u001b[0;34m)\u001b[0m\u001b[0;34m:\u001b[0m\u001b[0;34m\u001b[0m\u001b[0;34m\u001b[0m\u001b[0m\n\u001b[0;32m---> 32\u001b[0;31m         \u001b[0;32mreturn\u001b[0m \u001b[0msnappy\u001b[0m\u001b[0;34m.\u001b[0m\u001b[0mdecompress\u001b[0m\u001b[0;34m(\u001b[0m\u001b[0mdata\u001b[0m\u001b[0;34m)\u001b[0m\u001b[0;34m\u001b[0m\u001b[0;34m\u001b[0m\u001b[0m\n\u001b[0m\u001b[1;32m     33\u001b[0m     \u001b[0mcompressions\u001b[0m\u001b[0;34m[\u001b[0m\u001b[0;34m'SNAPPY'\u001b[0m\u001b[0;34m]\u001b[0m \u001b[0;34m=\u001b[0m \u001b[0msnappy\u001b[0m\u001b[0;34m.\u001b[0m\u001b[0mcompress\u001b[0m\u001b[0;34m\u001b[0m\u001b[0;34m\u001b[0m\u001b[0m\n\u001b[1;32m     34\u001b[0m     \u001b[0mdecompressions\u001b[0m\u001b[0;34m[\u001b[0m\u001b[0;34m'SNAPPY'\u001b[0m\u001b[0;34m]\u001b[0m \u001b[0;34m=\u001b[0m \u001b[0msnappy_decompress\u001b[0m\u001b[0;34m\u001b[0m\u001b[0;34m\u001b[0m\u001b[0m\n",
      "\u001b[0;32m~/mini/envs/test_d/lib/python3.8/site-packages/snappy/snappy.py\u001b[0m in \u001b[0;36muncompress\u001b[0;34m()\u001b[0m\n\u001b[1;32m     90\u001b[0m     \u001b[0;32mif\u001b[0m \u001b[0mdecoding\u001b[0m\u001b[0;34m:\u001b[0m\u001b[0;34m\u001b[0m\u001b[0;34m\u001b[0m\u001b[0m\n\u001b[1;32m     91\u001b[0m         \u001b[0;32mreturn\u001b[0m \u001b[0m_uncompress\u001b[0m\u001b[0;34m(\u001b[0m\u001b[0mdata\u001b[0m\u001b[0;34m)\u001b[0m\u001b[0;34m.\u001b[0m\u001b[0mdecode\u001b[0m\u001b[0;34m(\u001b[0m\u001b[0mdecoding\u001b[0m\u001b[0;34m)\u001b[0m\u001b[0;34m\u001b[0m\u001b[0;34m\u001b[0m\u001b[0m\n\u001b[0;32m---> 92\u001b[0;31m     \u001b[0;32mreturn\u001b[0m \u001b[0m_uncompress\u001b[0m\u001b[0;34m(\u001b[0m\u001b[0mdata\u001b[0m\u001b[0;34m)\u001b[0m\u001b[0;34m\u001b[0m\u001b[0;34m\u001b[0m\u001b[0m\n\u001b[0m\u001b[1;32m     93\u001b[0m \u001b[0;34m\u001b[0m\u001b[0m\n\u001b[1;32m     94\u001b[0m \u001b[0mdecompress\u001b[0m \u001b[0;34m=\u001b[0m \u001b[0muncompress\u001b[0m\u001b[0;34m\u001b[0m\u001b[0;34m\u001b[0m\u001b[0m\n",
      "\u001b[0;31mUncompressError\u001b[0m: Error while decompressing: invalid input"
     ]
    }
   ],
   "source": [
    "running_pipeline.QC_registration_error_step()"
   ]
  },
  {
   "cell_type": "markdown",
   "id": "9afd534d-712e-42dd-9fc8-373f868ce185",
   "metadata": {},
   "source": [
    "Modify registration type to large-beads"
   ]
  },
  {
   "cell_type": "code",
   "execution_count": null,
   "id": "e81b6a30-d200-4a49-aafd-d5003fca94a2",
   "metadata": {},
   "outputs": [],
   "source": [
    "%%time\n",
    "running_pipeline.processing_barcoded_eel_step()"
   ]
  },
  {
   "cell_type": "code",
   "execution_count": null,
   "id": "96e53711-8d2a-40af-bafe-6a44ff5a1de3",
   "metadata": {},
   "outputs": [],
   "source": []
  },
  {
   "cell_type": "code",
   "execution_count": null,
   "id": "d8895e29-9543-4744-b757-aacbf48d19ff",
   "metadata": {},
   "outputs": [],
   "source": [
    "running_pipeline.QC_registration_error_step()"
   ]
  },
  {
   "cell_type": "code",
   "execution_count": null,
   "id": "86bc1235-866b-4d25-8cd3-13219aa3fed9",
   "metadata": {},
   "outputs": [],
   "source": []
  },
  {
   "cell_type": "code",
   "execution_count": null,
   "id": "ec6231a9-f47b-419e-894a-dbbeaa0b0e08",
   "metadata": {},
   "outputs": [],
   "source": [
    "running_pipeline.running_functions"
   ]
  },
  {
   "cell_type": "markdown",
   "id": "e2293c07-68a1-4168-a91e-3b5267111eaa",
   "metadata": {},
   "source": [
    "# LBEXP20210628_EEL_Mouse_448_1210um"
   ]
  },
  {
   "cell_type": "code",
   "execution_count": 4,
   "id": "03379f83-7756-4360-8485-43b2d9b3fabb",
   "metadata": {},
   "outputs": [],
   "source": [
    "experiment_fpath = Path('/fish/work_std/LBEXP20210628_EEL_Mouse_448_1210um')\n",
    "date_tag = time.strftime(\"%y%m%d_%H_%M_%S\")\n",
    "pipeline_run_name = date_tag + '_' + experiment_fpath.stem\n",
    "run_type = 'new'\n",
    "parsing_type = 'original'\n",
    "processing_engine = 'htcondor'"
   ]
  },
  {
   "cell_type": "code",
   "execution_count": 5,
   "id": "3274f628-8a23-4ae8-be40-3787d5c720a2",
   "metadata": {},
   "outputs": [
    {
     "name": "stdout",
     "output_type": "stream",
     "text": [
      "CPU times: user 99 µs, sys: 64 µs, total: 163 µs\n",
      "Wall time: 168 µs\n"
     ]
    }
   ],
   "source": [
    "%%time\n",
    "running_pipeline = Pipeline(\n",
    "                        pipeline_run_name= pipeline_run_name,\n",
    "                        experiment_fpath= experiment_fpath,\n",
    "                        run_type= run_type,\n",
    "                        parsing_type= parsing_type,\n",
    "                        processing_engine= processing_engine,\n",
    "                        chunk_size=50,\n",
    "                        same_dot_radius_duplicate_dots = 100,\n",
    "                        save_bits_int=False,\n",
    "                        dataset_path = '/fish/work_std/LBEXP20210628_EEL_Mouse_448_1210um/210715_01_27_32_LBEXP20210628_EEL_Mouse_448_1210um_img_data_dataset.parquet',\n",
    "                )"
   ]
  },
  {
   "cell_type": "code",
   "execution_count": null,
   "id": "a7907702-045f-49bc-8ada-7de47ed60777",
   "metadata": {},
   "outputs": [],
   "source": []
  },
  {
   "cell_type": "code",
   "execution_count": null,
   "id": "62675508-6609-4558-adad-01dd114d31ef",
   "metadata": {},
   "outputs": [],
   "source": [
    "%%time\n",
    "running_pipeline.run_full()"
   ]
  },
  {
   "cell_type": "code",
   "execution_count": 13,
   "id": "162e89ab-c42e-4e92-8dae-73460c656c89",
   "metadata": {
    "tags": []
   },
   "outputs": [
    {
     "name": "stderr",
     "output_type": "stream",
     "text": [
      "distributed.deploy.adaptive_core - ERROR - Adaptive stopping due to error in <closed TCP>: Stream is closed: while trying to call remote method 'adaptive_target'\n"
     ]
    }
   ],
   "source": [
    "running_pipeline.cluster.close()\n",
    "running_pipeline.client.close()"
   ]
  },
  {
   "cell_type": "code",
   "execution_count": 6,
   "id": "8b4692a6-d938-434b-bef7-f5fe15883b9a",
   "metadata": {},
   "outputs": [],
   "source": [
    "running_pipeline.prepare_processing_dataset_step()"
   ]
  },
  {
   "cell_type": "code",
   "execution_count": 10,
   "id": "86eb945a-a591-43b6-83fb-be1a404a4566",
   "metadata": {},
   "outputs": [
    {
     "data": {
      "text/plain": [
       "0        fish\n",
       "1        fish\n",
       "2        fish\n",
       "3        fish\n",
       "4        fish\n",
       "         ... \n",
       "24733    fish\n",
       "24734    fish\n",
       "24735    fish\n",
       "24736    fish\n",
       "24737    fish\n",
       "Name: processing_type, Length: 12768, dtype: object"
      ]
     },
     "execution_count": 10,
     "metadata": {},
     "output_type": "execute_result"
    }
   ],
   "source": [
    "running_pipeline.data.dataset.loc[running_pipeline.data.dataset.channel == 'Cy5','processing_type']"
   ]
  },
  {
   "cell_type": "code",
   "execution_count": null,
   "id": "dd9202b6-b355-475f-9cb0-fe5a9d646ade",
   "metadata": {},
   "outputs": [],
   "source": []
  },
  {
   "cell_type": "code",
   "execution_count": null,
   "id": "44a5e85f-949f-469b-872c-19d96ae23804",
   "metadata": {},
   "outputs": [],
   "source": [
    "%%time\n",
    "running_pipeline.run_parsing_only()"
   ]
  },
  {
   "cell_type": "markdown",
   "id": "ade06691-b88c-4f7f-8186-d6f03b977384",
   "metadata": {},
   "source": [
    "__IMPORTANT__\n",
    "\n",
    "After parsing the dataset need to be fixed because there is an error in the pkl and yaml file\n",
    "indicating\n",
    "\n",
    "StitchingChannel as Europium_Cy5\n",
    "\n",
    "I corrected the yaml to:\n",
    "    \n",
    "StitchingChannel as Europium_Cy5  \n",
    "Pipeline: eel-mouse-brain  \n",
    "robe_FASTA_name: mBrain.fasta"
   ]
  },
  {
   "cell_type": "code",
   "execution_count": null,
   "id": "c3ca414f-14d2-41ed-87e1-e8bdc21626f8",
   "metadata": {},
   "outputs": [],
   "source": [
    "running_pipeline.data.dataset.loc[running_pipeline.data.dataset.channel == 'Europium','processing_type']"
   ]
  },
  {
   "cell_type": "code",
   "execution_count": null,
   "id": "d85fe56d-e5ba-4fa9-a194-7a941d3f0dac",
   "metadata": {},
   "outputs": [],
   "source": [
    "%%time \n",
    "running_pipeline.run_required_steps()"
   ]
  },
  {
   "cell_type": "code",
   "execution_count": null,
   "id": "1f0fffe6-9e2e-4c36-82cc-d5b8c17c33c1",
   "metadata": {},
   "outputs": [],
   "source": [
    "%%time\n",
    "running_pipeline.processing_barcoded_eel_step()"
   ]
  },
  {
   "cell_type": "code",
   "execution_count": null,
   "id": "bd81d70e-15b7-4cc4-a528-94f07899a521",
   "metadata": {},
   "outputs": [],
   "source": [
    "%%time\n",
    "running_pipeline.stitch_and_remove_dots_eel_graph_step()"
   ]
  },
  {
   "cell_type": "code",
   "execution_count": null,
   "id": "df2c47fa-38d4-41a7-96fa-864d07177e31",
   "metadata": {},
   "outputs": [],
   "source": [
    "__IMPORTANT__\n",
    "\n",
    "The stitching didn't work nicely so I will remove the dots from the microscope stitched dots"
   ]
  },
  {
   "cell_type": "code",
   "execution_count": null,
   "id": "5c3cdfc5-b0df-43de-aa45-57d9637e6ad3",
   "metadata": {},
   "outputs": [],
   "source": [
    "%%time\n",
    "running_pipeline.determine_tiles_organization()"
   ]
  },
  {
   "cell_type": "code",
   "execution_count": null,
   "id": "1285f351-ecda-489e-a03d-81764bc79752",
   "metadata": {},
   "outputs": [],
   "source": [
    "%%time\n",
    "running_pipeline.stitching_selected = 'microscope_stitched'\n",
    "\n",
    "stitching.remove_duplicated_dots_graph(running_pipeline.experiment_fpath,running_pipeline.data.dataset,running_pipeline.tiles_org,\n",
    "                        running_pipeline.hamming_distance,running_pipeline.same_dot_radius_duplicate_dots, \n",
    "                            running_pipeline.stitching_selected, running_pipeline.client)"
   ]
  },
  {
   "cell_type": "code",
   "execution_count": null,
   "id": "fd8c5f27-d26f-476f-ad10-14b54a13dcd1",
   "metadata": {},
   "outputs": [],
   "source": [
    "%%time\n",
    "selected_Hdistance = 3 / running_pipeline.metadata['barcode_length']\n",
    "stitching_selected = 'microscope_stitched'\n",
    "io.simple_output_plotting(running_pipeline.experiment_fpath, stitching_selected, \n",
    "                        selected_Hdistance, running_pipeline.client,file_tag='cleaned')"
   ]
  },
  {
   "cell_type": "code",
   "execution_count": null,
   "id": "8256b660-6e1d-4fd3-a639-063b713853e7",
   "metadata": {},
   "outputs": [],
   "source": [
    "%%time\n",
    "running_pipeline.QC_registration_error_step()"
   ]
  },
  {
   "cell_type": "code",
   "execution_count": null,
   "id": "9ca1eebf-48a8-4353-aa54-7662ac4c4089",
   "metadata": {},
   "outputs": [],
   "source": [
    "running_pipeline.running_functions"
   ]
  },
  {
   "cell_type": "code",
   "execution_count": null,
   "id": "7a72046d-cb75-4f1d-bd77-7c8e9712ef01",
   "metadata": {},
   "outputs": [],
   "source": []
  },
  {
   "cell_type": "code",
   "execution_count": null,
   "id": "ef3a752a-7387-4fcc-8b45-636c4688a55d",
   "metadata": {},
   "outputs": [],
   "source": []
  },
  {
   "cell_type": "code",
   "execution_count": null,
   "id": "f7c240dc-37c3-46fa-81b6-0f428e3018af",
   "metadata": {},
   "outputs": [],
   "source": []
  },
  {
   "cell_type": "code",
   "execution_count": null,
   "id": "a1f2b728-da91-4e42-9ccf-7b1e06af0305",
   "metadata": {},
   "outputs": [],
   "source": [
    "# ----------------------------------------------------------------\n",
    "# GENERATE OUTPUT FOR PLOTTING\n",
    "selected_Hdistance = 3 / self.metadata['barcode_length']\n",
    "stitching_selected = 'microscope_stitched'\n",
    "io.simple_output_plotting(self.experiment_fpath, stitching_selected, \n",
    "                        selected_Hdistance, self.client,file_tag='decoded')\n",
    "# ----------------------------------------------------------------  "
   ]
  },
  {
   "cell_type": "code",
   "execution_count": null,
   "id": "29793b18-768b-4a4d-b207-f1d5dcf796c9",
   "metadata": {},
   "outputs": [],
   "source": [
    "# LBEXP20201002_EEL_Mouse_1200um"
   ]
  },
  {
   "cell_type": "code",
   "execution_count": null,
   "id": "9f0439d9-2bc5-41a8-8675-c954c62997a3",
   "metadata": {},
   "outputs": [],
   "source": []
  },
  {
   "cell_type": "code",
   "execution_count": null,
   "id": "aba13cb0-603e-4ae6-a423-7be1bc8b0275",
   "metadata": {},
   "outputs": [],
   "source": []
  },
  {
   "cell_type": "code",
   "execution_count": null,
   "id": "be408969-11c2-45b6-ab99-804ea73e61a7",
   "metadata": {},
   "outputs": [],
   "source": []
  },
  {
   "cell_type": "code",
   "execution_count": null,
   "id": "01363548-da02-49e6-a966-3ba617a79f61",
   "metadata": {},
   "outputs": [],
   "source": [
    "running_pipeline.same_dot_radius_duplicate_dots = 20"
   ]
  },
  {
   "cell_type": "code",
   "execution_count": null,
   "id": "fe9cbab5-74d5-4561-8db2-d7a47c6d56b6",
   "metadata": {
    "tags": []
   },
   "outputs": [],
   "source": [
    "%%time \n",
    "running_pipeline.stitch_and_remove_dots_eel_graph_step()"
   ]
  },
  {
   "cell_type": "code",
   "execution_count": null,
   "id": "ccecd4c7-4061-40df-af0a-a36dade75ffe",
   "metadata": {},
   "outputs": [],
   "source": [
    "# ----------------------------------------------------------------\n",
    "# GENERATE OUTPUT FOR PLOTTING\n",
    "selected_Hdistance = 3 / 16\n",
    "stitching_selected = 'microscope_stitched'\n",
    "io.simple_output_plotting(experiment_fpath, stitching_selected, \n",
    "                        selected_Hdistance, running_pipeline.client,file_tag='decoded')\n",
    "# ----------------------------------------------------------------  "
   ]
  },
  {
   "cell_type": "code",
   "execution_count": null,
   "id": "2802db48-a1dd-42e5-86ff-da3517d550e6",
   "metadata": {},
   "outputs": [],
   "source": [
    "from pysmFISH import stitching"
   ]
  },
  {
   "cell_type": "code",
   "execution_count": null,
   "id": "23d27852-213a-47fb-8492-19204b2489cf",
   "metadata": {},
   "outputs": [],
   "source": [
    "import pandas as pd"
   ]
  },
  {
   "cell_type": "code",
   "execution_count": null,
   "id": "fd6ba95c-1492-45d8-b887-a3199115d8ae",
   "metadata": {},
   "outputs": [],
   "source": [
    "from dask import dataframe as dd"
   ]
  },
  {
   "cell_type": "code",
   "execution_count": null,
   "id": "b0a08e42-38ea-4f45-b09c-44d528f1019e",
   "metadata": {},
   "outputs": [],
   "source": [
    "running_pipeline.determine_tiles_organization()"
   ]
  },
  {
   "cell_type": "code",
   "execution_count": null,
   "id": "dbce4414-d2e7-4196-bf06-4013f2b9bb11",
   "metadata": {},
   "outputs": [],
   "source": [
    "\n",
    "\n"
   ]
  },
  {
   "cell_type": "code",
   "execution_count": null,
   "id": "38f20b52-acfc-4792-9573-baf80e4d14ec",
   "metadata": {},
   "outputs": [],
   "source": [
    "def stmps(fname,tile_corners_coords_pxl):\n",
    "    decoded_df = pd.read_parquet(fname)\n",
    "    stitching.stitch_using_coords_general(decoded_df,tile_corners_coords_pxl,tag='microscope_stitched')"
   ]
  },
  {
   "cell_type": "code",
   "execution_count": null,
   "id": "c4a5c47c-6e8b-4307-902c-c78ff9cf4b54",
   "metadata": {},
   "outputs": [],
   "source": [
    "fnames = list((running_pipeline.experiment_fpath / 'results').glob('*_decoded_fov_*'))\n",
    "futures = []\n",
    "for fname in fnames:\n",
    "    print(fname)\n",
    "    stitching.stitch_using_coords_general(decoded_df,running_pipeline.tile_corners_coords_pxl,tag='microscope_stitched')"
   ]
  },
  {
   "cell_type": "code",
   "execution_count": null,
   "id": "45a74162-fdf6-4583-a11f-dc53a771d4c0",
   "metadata": {},
   "outputs": [],
   "source": [
    "data = pd.read_parquet('/fish/rawdata/LBEXP20200622_EEL_Mouse_0um/results/LBEXP20200622_EEL_Mouse_0um_decoded_fov_10.parquet')"
   ]
  },
  {
   "cell_type": "code",
   "execution_count": null,
   "id": "8a6caddb-541b-45af-950d-b915e9b016bd",
   "metadata": {},
   "outputs": [],
   "source": [
    "data.columns"
   ]
  },
  {
   "cell_type": "code",
   "execution_count": null,
   "id": "0b970232-8b5d-49ed-807c-ea06de0db36b",
   "metadata": {
    "tags": []
   },
   "outputs": [],
   "source": [
    "running_pipeline.client.gather(futures)"
   ]
  },
  {
   "cell_type": "code",
   "execution_count": null,
   "id": "1c37b909-6c96-4a3e-8d52-d75dcba0582d",
   "metadata": {},
   "outputs": [],
   "source": [
    "del futures"
   ]
  },
  {
   "cell_type": "code",
   "execution_count": null,
   "id": "8de5a924-4c75-4dc7-a2a1-c440da1707e7",
   "metadata": {},
   "outputs": [],
   "source": [
    "decoded_df = pd.read_parquet(fname)"
   ]
  },
  {
   "cell_type": "code",
   "execution_count": null,
   "id": "3da78ef0-f730-4929-b16a-6ebaf1866e3e",
   "metadata": {},
   "outputs": [],
   "source": [
    "decoded_df"
   ]
  },
  {
   "cell_type": "code",
   "execution_count": null,
   "id": "d6fdaabc-693a-4211-bfff-625bdf59caf2",
   "metadata": {},
   "outputs": [],
   "source": [
    "# ----------------------------------------------------------------\n",
    "# GENERATE OUTPUT FOR PLOTTING\n",
    "selected_Hdistance = 3 / 16\n",
    "stitching_selected = 'microscope_stitched'\n",
    "io.simple_output_plotting(experiment_fpath, stitching_selected, \n",
    "                        selected_Hdistance, running_pipeline.client,file_tag='decoded')\n",
    "# ----------------------------------------------------------------  "
   ]
  },
  {
   "cell_type": "code",
   "execution_count": null,
   "id": "32105adf-4850-409d-8fd4-7555cc7dd878",
   "metadata": {},
   "outputs": [],
   "source": [
    "[k for k in running_pipeline.analysis_parameters.keys() if 'beads' in k]"
   ]
  },
  {
   "cell_type": "code",
   "execution_count": null,
   "id": "e916e1c3-c84b-4df8-97ef-d8c60fe83f38",
   "metadata": {},
   "outputs": [],
   "source": []
  }
 ],
 "metadata": {
  "kernelspec": {
   "display_name": "test_d",
   "language": "python",
   "name": "test_d"
  },
  "language_info": {
   "codemirror_mode": {
    "name": "ipython",
    "version": 3
   },
   "file_extension": ".py",
   "mimetype": "text/x-python",
   "name": "python",
   "nbconvert_exporter": "python",
   "pygments_lexer": "ipython3",
   "version": "3.8.5"
  }
 },
 "nbformat": 4,
 "nbformat_minor": 5
}
