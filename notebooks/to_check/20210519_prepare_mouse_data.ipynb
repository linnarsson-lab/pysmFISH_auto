{
 "cells": [
  {
   "cell_type": "code",
   "execution_count": 1,
   "id": "f8915474-c8bb-429d-9cef-140108d26fca",
   "metadata": {},
   "outputs": [],
   "source": [
    "%load_ext autoreload\n",
    "%autoreload 2"
   ]
  },
  {
   "cell_type": "code",
   "execution_count": 2,
   "id": "f7b80b4e-0e6d-4d20-af13-13082acc816f",
   "metadata": {},
   "outputs": [],
   "source": [
    "%config Completer.use_jedi = False"
   ]
  },
  {
   "cell_type": "code",
   "execution_count": 3,
   "id": "21afa93e-cbc2-4f0f-87f7-afd0312e4b06",
   "metadata": {},
   "outputs": [],
   "source": [
    "import yaml"
   ]
  },
  {
   "cell_type": "code",
   "execution_count": 4,
   "id": "408c55c2-34c8-4dbd-b379-04d3984022b4",
   "metadata": {},
   "outputs": [],
   "source": [
    "from pysmFISH.pipeline import Pipeline"
   ]
  },
  {
   "cell_type": "code",
   "execution_count": 5,
   "id": "727dcf78-7732-494d-bf2c-c7b4061a9fd5",
   "metadata": {},
   "outputs": [],
   "source": [
    "from pysmFISH.configuration_files import load_experiment_config_file"
   ]
  },
  {
   "cell_type": "code",
   "execution_count": 6,
   "id": "cb63673e-26ed-49cf-b2a9-db29d6dbac83",
   "metadata": {},
   "outputs": [],
   "source": [
    "from pathlib import Path\n",
    "import time"
   ]
  },
  {
   "cell_type": "code",
   "execution_count": 7,
   "id": "09cc070e-fa52-4bb9-be62-61c16a4d419a",
   "metadata": {},
   "outputs": [],
   "source": [
    "experiment_fpath = Path('/fish/work_std/LBEXP20201002_EEL_Mouse_1200um')\n",
    "date_tag = time.strftime(\"%y%m%d_%H_%M_%S\")\n",
    "pipeline_run_name = date_tag + '_' + experiment_fpath.stem\n",
    "run_type = 're-run'\n",
    "parsing_type = 'reparsing_from_storage'\n",
    "processing_engine = 'htcondor'"
   ]
  },
  {
   "cell_type": "code",
   "execution_count": 8,
   "id": "6fb2ec9c-1b09-4e2d-8deb-6e4246e9ef49",
   "metadata": {},
   "outputs": [],
   "source": [
    "running_pipeline = Pipeline(\n",
    "                        pipeline_run_name= pipeline_run_name,\n",
    "                        experiment_fpath= experiment_fpath,\n",
    "                        run_type= run_type,\n",
    "                        parsing_type= parsing_type,\n",
    "                        processing_engine= processing_engine\n",
    "                )"
   ]
  },
  {
   "cell_type": "code",
   "execution_count": 9,
   "id": "33f71503-a178-46fe-b3fc-feba239dfbce",
   "metadata": {},
   "outputs": [],
   "source": [
    "running_pipeline.create_folders_step()"
   ]
  },
  {
   "cell_type": "code",
   "execution_count": 15,
   "id": "01dc8a31-b210-420f-9406-5dfbc0362ad2",
   "metadata": {},
   "outputs": [],
   "source": [
    "# Add some of the fields that were missing\n",
    "config_yaml = load_experiment_config_file(experiment_fpath)\n",
    "config_yaml['Pipeline'] = 'eel-mouse-brain'\n",
    "config_yaml['Codebook'] = 'gene_hammming_16_11_6_positive_bits.parquet'\n",
    "config_yaml['StitchingChannel'] = 'Europium'\n",
    "config_yaml['Probe_FASTA_name'] = 'mBrain.fasta'\n",
    "config_yaml_fpath = experiment_fpath / (experiment_fpath.stem + '_config.yaml')\n",
    "with open(config_yaml_fpath, 'w') as new_config:\n",
    "    yaml.safe_dump(config_yaml, new_config,default_flow_style=False,sort_keys=False)"
   ]
  },
  {
   "cell_type": "code",
   "execution_count": 18,
   "id": "b143b0e0-5e4c-4af2-b0ca-8269d0bced64",
   "metadata": {
    "tags": []
   },
   "outputs": [],
   "source": [
    "running_pipeline.QC_check_experiment_yaml_file_step()"
   ]
  },
  {
   "cell_type": "code",
   "execution_count": 19,
   "id": "63f698c3-c60c-4777-8c81-4a2e8442901b",
   "metadata": {},
   "outputs": [],
   "source": [
    "running_pipeline.processing_cluster_init_step()"
   ]
  },
  {
   "cell_type": "code",
   "execution_count": 20,
   "id": "4885e1f6-2cc0-494c-8b86-577cac8802ec",
   "metadata": {},
   "outputs": [
    {
     "data": {
      "text/html": [
       "<table style=\"border: 2px solid white;\">\n",
       "<tr>\n",
       "<td style=\"vertical-align: top; border: 0px solid white\">\n",
       "<h3 style=\"text-align: left;\">Client</h3>\n",
       "<ul style=\"text-align: left; list-style: none; margin: 0; padding: 0;\">\n",
       "  <li><b>Scheduler: </b>tcp://193.10.16.58:33263</li>\n",
       "  <li><b>Dashboard: </b><a href='http://193.10.16.58:5260/status' target='_blank'>http://193.10.16.58:5260/status</a></li>\n",
       "</ul>\n",
       "</td>\n",
       "<td style=\"vertical-align: top; border: 0px solid white\">\n",
       "<h3 style=\"text-align: left;\">Cluster</h3>\n",
       "<ul style=\"text-align: left; list-style:none; margin: 0; padding: 0;\">\n",
       "  <li><b>Workers: </b>0</li>\n",
       "  <li><b>Cores: </b>0</li>\n",
       "  <li><b>Memory: </b>0 B</li>\n",
       "</ul>\n",
       "</td>\n",
       "</tr>\n",
       "</table>"
      ],
      "text/plain": [
       "<Client: 'tcp://193.10.16.58:33263' processes=0 threads=0, memory=0 B>"
      ]
     },
     "execution_count": 20,
     "metadata": {},
     "output_type": "execute_result"
    }
   ],
   "source": [
    "running_pipeline.client"
   ]
  },
  {
   "cell_type": "code",
   "execution_count": 21,
   "id": "7d6e8ea0-bc5b-44ac-940b-7a0f5d830bc0",
   "metadata": {},
   "outputs": [
    {
     "name": "stdout",
     "output_type": "stream",
     "text": [
      "CPU times: user 11min 47s, sys: 2min 1s, total: 13min 49s\n",
      "Wall time: 3h 15min 3s\n"
     ]
    }
   ],
   "source": [
    "%%time\n",
    "if running_pipeline.parsing_type != 'no_parsing':\n",
    "        running_pipeline.nikon_nd2_parsing_graph_step()"
   ]
  },
  {
   "cell_type": "code",
   "execution_count": 22,
   "id": "134abed0-869a-4fe8-8a66-66bc8ee9d98d",
   "metadata": {},
   "outputs": [
    {
     "name": "stdout",
     "output_type": "stream",
     "text": [
      "CPU times: user 10min 56s, sys: 59.6 s, total: 11min 56s\n",
      "Wall time: 12min 34s\n"
     ]
    }
   ],
   "source": [
    "%%time\n",
    "running_pipeline.prepare_processing_dataset_step()\n",
    "running_pipeline.create_analysis_config_file_from_dataset_step()\n",
    "running_pipeline.determine_tiles_organization()"
   ]
  },
  {
   "cell_type": "code",
   "execution_count": 23,
   "id": "12cf7a26-3186-4fa3-bf93-41b83527ec59",
   "metadata": {
    "collapsed": true,
    "jupyter": {
     "outputs_hidden": true
    },
    "tags": []
   },
   "outputs": [
    {
     "data": {
      "text/html": [
       "<div>\n",
       "<style scoped>\n",
       "    .dataframe tbody tr th:only-of-type {\n",
       "        vertical-align: middle;\n",
       "    }\n",
       "\n",
       "    .dataframe tbody tr th {\n",
       "        vertical-align: top;\n",
       "    }\n",
       "\n",
       "    .dataframe thead th {\n",
       "        text-align: right;\n",
       "    }\n",
       "</style>\n",
       "<table border=\"1\" class=\"dataframe\">\n",
       "  <thead>\n",
       "    <tr style=\"text-align: right;\">\n",
       "      <th></th>\n",
       "      <th>barcode</th>\n",
       "      <th>barcode_length</th>\n",
       "      <th>channel</th>\n",
       "      <th>codebook</th>\n",
       "      <th>experiment_name</th>\n",
       "      <th>experiment_type</th>\n",
       "      <th>fov_acquisition_coords_x</th>\n",
       "      <th>fov_acquisition_coords_y</th>\n",
       "      <th>fov_acquisition_coords_z</th>\n",
       "      <th>fov_name</th>\n",
       "      <th>...</th>\n",
       "      <th>species</th>\n",
       "      <th>start_date</th>\n",
       "      <th>stitching_channel</th>\n",
       "      <th>stitching_type</th>\n",
       "      <th>strain</th>\n",
       "      <th>target_name</th>\n",
       "      <th>tissue</th>\n",
       "      <th>total_fovs</th>\n",
       "      <th>zstack</th>\n",
       "      <th>raw_data_location</th>\n",
       "    </tr>\n",
       "  </thead>\n",
       "  <tbody>\n",
       "    <tr>\n",
       "      <th>0</th>\n",
       "      <td>True</td>\n",
       "      <td>16</td>\n",
       "      <td>Cy5</td>\n",
       "      <td>gene_hammming_16_11_6_positive_bits.parquet</td>\n",
       "      <td>LBEXP20201002_EEL_Mouse_1200um</td>\n",
       "      <td>eel-barcoded</td>\n",
       "      <td>1160.7</td>\n",
       "      <td>2673.8</td>\n",
       "      <td>4046.70</td>\n",
       "      <td>raw_data_fov_0</td>\n",
       "      <td>...</td>\n",
       "      <td>Mus musculus</td>\n",
       "      <td>20201002</td>\n",
       "      <td>Europium</td>\n",
       "      <td>both-beads</td>\n",
       "      <td>CD1</td>\n",
       "      <td>EEL647-16</td>\n",
       "      <td>Brain</td>\n",
       "      <td>724</td>\n",
       "      <td>17</td>\n",
       "      <td>/fish/work_std/LBEXP20201002_EEL_Mouse_1200um/...</td>\n",
       "    </tr>\n",
       "    <tr>\n",
       "      <th>1</th>\n",
       "      <td>True</td>\n",
       "      <td>16</td>\n",
       "      <td>Cy5</td>\n",
       "      <td>gene_hammming_16_11_6_positive_bits.parquet</td>\n",
       "      <td>LBEXP20201002_EEL_Mouse_1200um</td>\n",
       "      <td>eel-barcoded</td>\n",
       "      <td>1502.2</td>\n",
       "      <td>2673.1</td>\n",
       "      <td>4057.60</td>\n",
       "      <td>raw_data_fov_1</td>\n",
       "      <td>...</td>\n",
       "      <td>Mus musculus</td>\n",
       "      <td>20201002</td>\n",
       "      <td>Europium</td>\n",
       "      <td>both-beads</td>\n",
       "      <td>CD1</td>\n",
       "      <td>EEL647-16</td>\n",
       "      <td>Brain</td>\n",
       "      <td>724</td>\n",
       "      <td>17</td>\n",
       "      <td>/fish/work_std/LBEXP20201002_EEL_Mouse_1200um/...</td>\n",
       "    </tr>\n",
       "    <tr>\n",
       "      <th>2</th>\n",
       "      <td>True</td>\n",
       "      <td>16</td>\n",
       "      <td>Cy5</td>\n",
       "      <td>gene_hammming_16_11_6_positive_bits.parquet</td>\n",
       "      <td>LBEXP20201002_EEL_Mouse_1200um</td>\n",
       "      <td>eel-barcoded</td>\n",
       "      <td>3208.4</td>\n",
       "      <td>2327.7</td>\n",
       "      <td>4063.22</td>\n",
       "      <td>raw_data_fov_10</td>\n",
       "      <td>...</td>\n",
       "      <td>Mus musculus</td>\n",
       "      <td>20201002</td>\n",
       "      <td>Europium</td>\n",
       "      <td>both-beads</td>\n",
       "      <td>CD1</td>\n",
       "      <td>EEL647-16</td>\n",
       "      <td>Brain</td>\n",
       "      <td>724</td>\n",
       "      <td>17</td>\n",
       "      <td>/fish/work_std/LBEXP20201002_EEL_Mouse_1200um/...</td>\n",
       "    </tr>\n",
       "    <tr>\n",
       "      <th>3</th>\n",
       "      <td>True</td>\n",
       "      <td>16</td>\n",
       "      <td>Cy5</td>\n",
       "      <td>gene_hammming_16_11_6_positive_bits.parquet</td>\n",
       "      <td>LBEXP20201002_EEL_Mouse_1200um</td>\n",
       "      <td>eel-barcoded</td>\n",
       "      <td>-4987.3</td>\n",
       "      <td>1322.2</td>\n",
       "      <td>4029.94</td>\n",
       "      <td>raw_data_fov_100</td>\n",
       "      <td>...</td>\n",
       "      <td>Mus musculus</td>\n",
       "      <td>20201002</td>\n",
       "      <td>Europium</td>\n",
       "      <td>both-beads</td>\n",
       "      <td>CD1</td>\n",
       "      <td>EEL647-16</td>\n",
       "      <td>Brain</td>\n",
       "      <td>724</td>\n",
       "      <td>17</td>\n",
       "      <td>/fish/work_std/LBEXP20201002_EEL_Mouse_1200um/...</td>\n",
       "    </tr>\n",
       "    <tr>\n",
       "      <th>4</th>\n",
       "      <td>True</td>\n",
       "      <td>16</td>\n",
       "      <td>Cy5</td>\n",
       "      <td>gene_hammming_16_11_6_positive_bits.parquet</td>\n",
       "      <td>LBEXP20201002_EEL_Mouse_1200um</td>\n",
       "      <td>eel-barcoded</td>\n",
       "      <td>-4645.8</td>\n",
       "      <td>1321.4</td>\n",
       "      <td>4030.64</td>\n",
       "      <td>raw_data_fov_101</td>\n",
       "      <td>...</td>\n",
       "      <td>Mus musculus</td>\n",
       "      <td>20201002</td>\n",
       "      <td>Europium</td>\n",
       "      <td>both-beads</td>\n",
       "      <td>CD1</td>\n",
       "      <td>EEL647-16</td>\n",
       "      <td>Brain</td>\n",
       "      <td>724</td>\n",
       "      <td>17</td>\n",
       "      <td>/fish/work_std/LBEXP20201002_EEL_Mouse_1200um/...</td>\n",
       "    </tr>\n",
       "    <tr>\n",
       "      <th>...</th>\n",
       "      <td>...</td>\n",
       "      <td>...</td>\n",
       "      <td>...</td>\n",
       "      <td>...</td>\n",
       "      <td>...</td>\n",
       "      <td>...</td>\n",
       "      <td>...</td>\n",
       "      <td>...</td>\n",
       "      <td>...</td>\n",
       "      <td>...</td>\n",
       "      <td>...</td>\n",
       "      <td>...</td>\n",
       "      <td>...</td>\n",
       "      <td>...</td>\n",
       "      <td>...</td>\n",
       "      <td>...</td>\n",
       "      <td>...</td>\n",
       "      <td>...</td>\n",
       "      <td>...</td>\n",
       "      <td>...</td>\n",
       "      <td>...</td>\n",
       "    </tr>\n",
       "    <tr>\n",
       "      <th>23163</th>\n",
       "      <td>True</td>\n",
       "      <td>16</td>\n",
       "      <td>Europium</td>\n",
       "      <td>gene_hammming_16_11_6_positive_bits.parquet</td>\n",
       "      <td>LBEXP20201002_EEL_Mouse_1200um</td>\n",
       "      <td>eel-barcoded</td>\n",
       "      <td>-6694.2</td>\n",
       "      <td>1326.0</td>\n",
       "      <td>4027.34</td>\n",
       "      <td>raw_data_fov_95</td>\n",
       "      <td>...</td>\n",
       "      <td>Mus musculus</td>\n",
       "      <td>20201002</td>\n",
       "      <td>Europium</td>\n",
       "      <td>both-beads</td>\n",
       "      <td>CD1</td>\n",
       "      <td>Europium</td>\n",
       "      <td>Brain</td>\n",
       "      <td>724</td>\n",
       "      <td>17</td>\n",
       "      <td>/fish/work_std/LBEXP20201002_EEL_Mouse_1200um/...</td>\n",
       "    </tr>\n",
       "    <tr>\n",
       "      <th>23164</th>\n",
       "      <td>True</td>\n",
       "      <td>16</td>\n",
       "      <td>Europium</td>\n",
       "      <td>gene_hammming_16_11_6_positive_bits.parquet</td>\n",
       "      <td>LBEXP20201002_EEL_Mouse_1200um</td>\n",
       "      <td>eel-barcoded</td>\n",
       "      <td>-6353.0</td>\n",
       "      <td>1325.3</td>\n",
       "      <td>4028.16</td>\n",
       "      <td>raw_data_fov_96</td>\n",
       "      <td>...</td>\n",
       "      <td>Mus musculus</td>\n",
       "      <td>20201002</td>\n",
       "      <td>Europium</td>\n",
       "      <td>both-beads</td>\n",
       "      <td>CD1</td>\n",
       "      <td>Europium</td>\n",
       "      <td>Brain</td>\n",
       "      <td>724</td>\n",
       "      <td>17</td>\n",
       "      <td>/fish/work_std/LBEXP20201002_EEL_Mouse_1200um/...</td>\n",
       "    </tr>\n",
       "    <tr>\n",
       "      <th>23165</th>\n",
       "      <td>True</td>\n",
       "      <td>16</td>\n",
       "      <td>Europium</td>\n",
       "      <td>gene_hammming_16_11_6_positive_bits.parquet</td>\n",
       "      <td>LBEXP20201002_EEL_Mouse_1200um</td>\n",
       "      <td>eel-barcoded</td>\n",
       "      <td>-6011.3</td>\n",
       "      <td>1324.6</td>\n",
       "      <td>4028.92</td>\n",
       "      <td>raw_data_fov_97</td>\n",
       "      <td>...</td>\n",
       "      <td>Mus musculus</td>\n",
       "      <td>20201002</td>\n",
       "      <td>Europium</td>\n",
       "      <td>both-beads</td>\n",
       "      <td>CD1</td>\n",
       "      <td>Europium</td>\n",
       "      <td>Brain</td>\n",
       "      <td>724</td>\n",
       "      <td>17</td>\n",
       "      <td>/fish/work_std/LBEXP20201002_EEL_Mouse_1200um/...</td>\n",
       "    </tr>\n",
       "    <tr>\n",
       "      <th>23166</th>\n",
       "      <td>True</td>\n",
       "      <td>16</td>\n",
       "      <td>Europium</td>\n",
       "      <td>gene_hammming_16_11_6_positive_bits.parquet</td>\n",
       "      <td>LBEXP20201002_EEL_Mouse_1200um</td>\n",
       "      <td>eel-barcoded</td>\n",
       "      <td>-5670.1</td>\n",
       "      <td>1323.9</td>\n",
       "      <td>4029.48</td>\n",
       "      <td>raw_data_fov_98</td>\n",
       "      <td>...</td>\n",
       "      <td>Mus musculus</td>\n",
       "      <td>20201002</td>\n",
       "      <td>Europium</td>\n",
       "      <td>both-beads</td>\n",
       "      <td>CD1</td>\n",
       "      <td>Europium</td>\n",
       "      <td>Brain</td>\n",
       "      <td>724</td>\n",
       "      <td>17</td>\n",
       "      <td>/fish/work_std/LBEXP20201002_EEL_Mouse_1200um/...</td>\n",
       "    </tr>\n",
       "    <tr>\n",
       "      <th>23167</th>\n",
       "      <td>True</td>\n",
       "      <td>16</td>\n",
       "      <td>Europium</td>\n",
       "      <td>gene_hammming_16_11_6_positive_bits.parquet</td>\n",
       "      <td>LBEXP20201002_EEL_Mouse_1200um</td>\n",
       "      <td>eel-barcoded</td>\n",
       "      <td>-5328.8</td>\n",
       "      <td>1323.0</td>\n",
       "      <td>4030.00</td>\n",
       "      <td>raw_data_fov_99</td>\n",
       "      <td>...</td>\n",
       "      <td>Mus musculus</td>\n",
       "      <td>20201002</td>\n",
       "      <td>Europium</td>\n",
       "      <td>both-beads</td>\n",
       "      <td>CD1</td>\n",
       "      <td>Europium</td>\n",
       "      <td>Brain</td>\n",
       "      <td>724</td>\n",
       "      <td>17</td>\n",
       "      <td>/fish/work_std/LBEXP20201002_EEL_Mouse_1200um/...</td>\n",
       "    </tr>\n",
       "  </tbody>\n",
       "</table>\n",
       "<p>23168 rows × 32 columns</p>\n",
       "</div>"
      ],
      "text/plain": [
       "      barcode  barcode_length   channel  \\\n",
       "0        True              16       Cy5   \n",
       "1        True              16       Cy5   \n",
       "2        True              16       Cy5   \n",
       "3        True              16       Cy5   \n",
       "4        True              16       Cy5   \n",
       "...       ...             ...       ...   \n",
       "23163    True              16  Europium   \n",
       "23164    True              16  Europium   \n",
       "23165    True              16  Europium   \n",
       "23166    True              16  Europium   \n",
       "23167    True              16  Europium   \n",
       "\n",
       "                                          codebook  \\\n",
       "0      gene_hammming_16_11_6_positive_bits.parquet   \n",
       "1      gene_hammming_16_11_6_positive_bits.parquet   \n",
       "2      gene_hammming_16_11_6_positive_bits.parquet   \n",
       "3      gene_hammming_16_11_6_positive_bits.parquet   \n",
       "4      gene_hammming_16_11_6_positive_bits.parquet   \n",
       "...                                            ...   \n",
       "23163  gene_hammming_16_11_6_positive_bits.parquet   \n",
       "23164  gene_hammming_16_11_6_positive_bits.parquet   \n",
       "23165  gene_hammming_16_11_6_positive_bits.parquet   \n",
       "23166  gene_hammming_16_11_6_positive_bits.parquet   \n",
       "23167  gene_hammming_16_11_6_positive_bits.parquet   \n",
       "\n",
       "                      experiment_name experiment_type  \\\n",
       "0      LBEXP20201002_EEL_Mouse_1200um    eel-barcoded   \n",
       "1      LBEXP20201002_EEL_Mouse_1200um    eel-barcoded   \n",
       "2      LBEXP20201002_EEL_Mouse_1200um    eel-barcoded   \n",
       "3      LBEXP20201002_EEL_Mouse_1200um    eel-barcoded   \n",
       "4      LBEXP20201002_EEL_Mouse_1200um    eel-barcoded   \n",
       "...                               ...             ...   \n",
       "23163  LBEXP20201002_EEL_Mouse_1200um    eel-barcoded   \n",
       "23164  LBEXP20201002_EEL_Mouse_1200um    eel-barcoded   \n",
       "23165  LBEXP20201002_EEL_Mouse_1200um    eel-barcoded   \n",
       "23166  LBEXP20201002_EEL_Mouse_1200um    eel-barcoded   \n",
       "23167  LBEXP20201002_EEL_Mouse_1200um    eel-barcoded   \n",
       "\n",
       "       fov_acquisition_coords_x  fov_acquisition_coords_y  \\\n",
       "0                        1160.7                    2673.8   \n",
       "1                        1502.2                    2673.1   \n",
       "2                        3208.4                    2327.7   \n",
       "3                       -4987.3                    1322.2   \n",
       "4                       -4645.8                    1321.4   \n",
       "...                         ...                       ...   \n",
       "23163                   -6694.2                    1326.0   \n",
       "23164                   -6353.0                    1325.3   \n",
       "23165                   -6011.3                    1324.6   \n",
       "23166                   -5670.1                    1323.9   \n",
       "23167                   -5328.8                    1323.0   \n",
       "\n",
       "       fov_acquisition_coords_z          fov_name  ...       species  \\\n",
       "0                       4046.70    raw_data_fov_0  ...  Mus musculus   \n",
       "1                       4057.60    raw_data_fov_1  ...  Mus musculus   \n",
       "2                       4063.22   raw_data_fov_10  ...  Mus musculus   \n",
       "3                       4029.94  raw_data_fov_100  ...  Mus musculus   \n",
       "4                       4030.64  raw_data_fov_101  ...  Mus musculus   \n",
       "...                         ...               ...  ...           ...   \n",
       "23163                   4027.34   raw_data_fov_95  ...  Mus musculus   \n",
       "23164                   4028.16   raw_data_fov_96  ...  Mus musculus   \n",
       "23165                   4028.92   raw_data_fov_97  ...  Mus musculus   \n",
       "23166                   4029.48   raw_data_fov_98  ...  Mus musculus   \n",
       "23167                   4030.00   raw_data_fov_99  ...  Mus musculus   \n",
       "\n",
       "      start_date  stitching_channel  stitching_type strain target_name tissue  \\\n",
       "0       20201002           Europium      both-beads    CD1   EEL647-16  Brain   \n",
       "1       20201002           Europium      both-beads    CD1   EEL647-16  Brain   \n",
       "2       20201002           Europium      both-beads    CD1   EEL647-16  Brain   \n",
       "3       20201002           Europium      both-beads    CD1   EEL647-16  Brain   \n",
       "4       20201002           Europium      both-beads    CD1   EEL647-16  Brain   \n",
       "...          ...                ...             ...    ...         ...    ...   \n",
       "23163   20201002           Europium      both-beads    CD1    Europium  Brain   \n",
       "23164   20201002           Europium      both-beads    CD1    Europium  Brain   \n",
       "23165   20201002           Europium      both-beads    CD1    Europium  Brain   \n",
       "23166   20201002           Europium      both-beads    CD1    Europium  Brain   \n",
       "23167   20201002           Europium      both-beads    CD1    Europium  Brain   \n",
       "\n",
       "      total_fovs  zstack                                  raw_data_location  \n",
       "0            724      17  /fish/work_std/LBEXP20201002_EEL_Mouse_1200um/...  \n",
       "1            724      17  /fish/work_std/LBEXP20201002_EEL_Mouse_1200um/...  \n",
       "2            724      17  /fish/work_std/LBEXP20201002_EEL_Mouse_1200um/...  \n",
       "3            724      17  /fish/work_std/LBEXP20201002_EEL_Mouse_1200um/...  \n",
       "4            724      17  /fish/work_std/LBEXP20201002_EEL_Mouse_1200um/...  \n",
       "...          ...     ...                                                ...  \n",
       "23163        724      17  /fish/work_std/LBEXP20201002_EEL_Mouse_1200um/...  \n",
       "23164        724      17  /fish/work_std/LBEXP20201002_EEL_Mouse_1200um/...  \n",
       "23165        724      17  /fish/work_std/LBEXP20201002_EEL_Mouse_1200um/...  \n",
       "23166        724      17  /fish/work_std/LBEXP20201002_EEL_Mouse_1200um/...  \n",
       "23167        724      17  /fish/work_std/LBEXP20201002_EEL_Mouse_1200um/...  \n",
       "\n",
       "[23168 rows x 32 columns]"
      ]
     },
     "execution_count": 23,
     "metadata": {},
     "output_type": "execute_result"
    }
   ],
   "source": [
    "running_pipeline.data.dataset"
   ]
  },
  {
   "cell_type": "code",
   "execution_count": 24,
   "id": "95e60769-d3a0-4377-ac9c-ba69361da6d8",
   "metadata": {},
   "outputs": [],
   "source": [
    "running_pipeline.create_running_functions_step()"
   ]
  },
  {
   "cell_type": "code",
   "execution_count": 25,
   "id": "115287d7-e667-42d0-935b-358e1962d45f",
   "metadata": {},
   "outputs": [
    {
     "data": {
      "text/plain": [
       "{'fish_channels_preprocessing': 'standard_not_norm_preprocessing',\n",
       " 'fish_channels_dots_calling': 'osmFISH_peak_based_detection_fast',\n",
       " 'reference_channels_dots_calling': 'osmFISH_peak_based_detection_fast',\n",
       " 'fresh_sample_reference_preprocessing': 'large_beads_preprocessing',\n",
       " 'fresh_sample_reference_dots_calling': 'osmFISH_peak_based_detection_fast',\n",
       " 'fresh_sample_nuclei_preprocessing': 'fresh_nuclei_filtering',\n",
       " 'reference_channels_preprocessing': 'both_beads_preprocessing'}"
      ]
     },
     "execution_count": 25,
     "metadata": {},
     "output_type": "execute_result"
    }
   ],
   "source": [
    "running_pipeline.running_functions"
   ]
  },
  {
   "cell_type": "code",
   "execution_count": 26,
   "id": "52721353-5ac2-4b01-8120-a5f6abe11c04",
   "metadata": {},
   "outputs": [],
   "source": [
    "# Test registration using only large beads\n",
    "running_pipeline.running_functions['reference_channels_preprocessing'] = 'standard_not_norm_preprocessing'"
   ]
  },
  {
   "cell_type": "code",
   "execution_count": null,
   "id": "bb5cd771-fc12-423c-aca1-7fe405963ff9",
   "metadata": {},
   "outputs": [],
   "source": [
    "# Check the pipeline analysis config file"
   ]
  },
  {
   "cell_type": "code",
   "execution_count": null,
   "id": "be5efeb6-0da6-4ff3-a575-ebd6fce7abf8",
   "metadata": {
    "tags": []
   },
   "outputs": [],
   "source": [
    "%%time\n",
    "running_pipeline.processing_barcoded_eel_step()"
   ]
  },
  {
   "cell_type": "code",
   "execution_count": 30,
   "id": "a9b31d5e-8e8a-4a45-b865-698005529e99",
   "metadata": {},
   "outputs": [
    {
     "name": "stdout",
     "output_type": "stream",
     "text": [
      "CPU times: user 1h 9min 47s, sys: 4min 6s, total: 1h 13min 53s\n",
      "Wall time: 1h 8min 45s\n"
     ]
    }
   ],
   "source": [
    "%%time\n",
    "running_pipeline.QC_registration_error_step()"
   ]
  },
  {
   "cell_type": "code",
   "execution_count": 31,
   "id": "f18c7d9a-e5e0-473e-800b-8892627fb63e",
   "metadata": {},
   "outputs": [
    {
     "name": "stdout",
     "output_type": "stream",
     "text": [
      "CPU times: user 13min 26s, sys: 17.7 s, total: 13min 43s\n",
      "Wall time: 13min 48s\n"
     ]
    }
   ],
   "source": [
    "%%time\n",
    "running_pipeline.remove_duplicated_dots_graph_step()"
   ]
  },
  {
   "cell_type": "code",
   "execution_count": 32,
   "id": "5794916b-58e2-46c1-b2ed-8f21d71c89c6",
   "metadata": {},
   "outputs": [
    {
     "name": "stderr",
     "output_type": "stream",
     "text": [
      "distributed.deploy.adaptive_core - ERROR - Adaptive stopping due to error in <closed TCP>: Stream is closed: while trying to call remote method 'adaptive_target'\n"
     ]
    }
   ],
   "source": [
    "running_pipeline.client.close()\n",
    "running_pipeline.cluster.close()"
   ]
  },
  {
   "cell_type": "code",
   "execution_count": null,
   "id": "1deb03db-33f2-4769-b3ce-6fa37ad6630e",
   "metadata": {},
   "outputs": [],
   "source": []
  }
 ],
 "metadata": {
  "kernelspec": {
   "display_name": "test_d",
   "language": "python",
   "name": "test_d"
  },
  "language_info": {
   "codemirror_mode": {
    "name": "ipython",
    "version": 3
   },
   "file_extension": ".py",
   "mimetype": "text/x-python",
   "name": "python",
   "nbconvert_exporter": "python",
   "pygments_lexer": "ipython3",
   "version": "3.8.5"
  }
 },
 "nbformat": 4,
 "nbformat_minor": 5
}
