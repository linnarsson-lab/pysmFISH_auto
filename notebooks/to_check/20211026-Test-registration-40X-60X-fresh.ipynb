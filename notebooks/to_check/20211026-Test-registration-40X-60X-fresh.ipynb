{
 "cells": [
  {
   "cell_type": "code",
   "execution_count": 1,
   "id": "bed329ea-7e91-47cf-9afa-6a386751c77e",
   "metadata": {},
   "outputs": [],
   "source": [
    "%gui qt5"
   ]
  },
  {
   "cell_type": "code",
   "execution_count": 2,
   "id": "c8dda737-682a-43c0-913d-f50ac3deaa79",
   "metadata": {},
   "outputs": [],
   "source": [
    "import napari"
   ]
  },
  {
   "cell_type": "code",
   "execution_count": 3,
   "id": "52dc1fd5-3565-4ba6-bd7b-5fca1acb6971",
   "metadata": {},
   "outputs": [],
   "source": [
    "import copy\n",
    "import numpy as np\n",
    "import open3d as o3\n",
    "from probreg import cpd,bcpd\n",
    "from pathlib import Path\n",
    "import time\n",
    "import pickle"
   ]
  },
  {
   "cell_type": "code",
   "execution_count": 4,
   "id": "f632d0d5-0e8d-4906-b087-6d9c375c3ccf",
   "metadata": {},
   "outputs": [],
   "source": [
    "registration_type= ['rigid','affine','nonrigid']\n",
    "registration_type= ['rigid']"
   ]
  },
  {
   "cell_type": "code",
   "execution_count": 5,
   "id": "345f6ee7-ff2e-440a-b0f0-fc7d4ba4877b",
   "metadata": {},
   "outputs": [],
   "source": [
    "experiment_fpath = Path('/Users/simone.codeluppi/Documents/data_analysis_jlabs_sc/notebooks_pysmFISH/processing_folder/LBEXP20210718_EEL_Mouse_448_2/')"
   ]
  },
  {
   "cell_type": "code",
   "execution_count": 6,
   "id": "051f7cb9-341c-435f-b8e3-63c8ba1cf65b",
   "metadata": {
    "collapsed": true,
    "jupyter": {
     "outputs_hidden": true
    },
    "tags": []
   },
   "outputs": [
    {
     "name": "stdout",
     "output_type": "stream",
     "text": [
      "Processing rigid transformation\n",
      "Processing round 1\n"
     ]
    },
    {
     "ename": "TypeError",
     "evalue": "write_point_cloud(): incompatible function arguments. The following argument types are supported:\n    1. (filename: str, pointcloud: open3d.cpu.pybind.geometry.PointCloud, write_ascii: bool = False, compressed: bool = False, print_progress: bool = False) -> bool\n\nInvoked with: '/Users/simone.codeluppi/Documents/data_analysis_jlabs_sc/notebooks_pysmFISH/processing_folder/LBEXP20210718_EEL_Mouse_448_2/rigid_maxiter_100_transformed_counts_round1.pcd', array([[2.75275589e+04, 2.64045781e+04, 1.00000000e+00],\n       [2.72095297e+04, 2.61940134e+04, 1.00000000e+00],\n       [2.76447954e+04, 2.60765744e+04, 1.00000000e+00],\n       ...,\n       [2.93838114e+04, 1.91586309e+03, 1.00000000e+00],\n       [2.90158201e+04, 1.83263434e+03, 1.00000000e+00],\n       [2.56781720e+04, 7.53546826e+02, 1.00000000e+00]])",
     "output_type": "error",
     "traceback": [
      "\u001b[0;31m---------------------------------------------------------------------------\u001b[0m",
      "\u001b[0;31mTypeError\u001b[0m                                 Traceback (most recent call last)",
      "\u001b[0;32m/var/folders/3j/qdw444h57j5b6vr3jmttjvs80000gp/T/ipykernel_49373/2018134907.py\u001b[0m in \u001b[0;36m<module>\u001b[0;34m\u001b[0m\n\u001b[1;32m     27\u001b[0m     \u001b[0mcounts\u001b[0m \u001b[0;34m=\u001b[0m \u001b[0mpickle\u001b[0m\u001b[0;34m.\u001b[0m\u001b[0mload\u001b[0m\u001b[0;34m(\u001b[0m\u001b[0mopen\u001b[0m\u001b[0;34m(\u001b[0m\u001b[0;34m'60x_points_with _z.pkl'\u001b[0m\u001b[0;34m,\u001b[0m\u001b[0;34m'rb'\u001b[0m\u001b[0;34m)\u001b[0m\u001b[0;34m)\u001b[0m\u001b[0;34m\u001b[0m\u001b[0;34m\u001b[0m\u001b[0m\n\u001b[1;32m     28\u001b[0m     \u001b[0mtransformed_points\u001b[0m \u001b[0;34m=\u001b[0m \u001b[0mtf_param\u001b[0m\u001b[0;34m.\u001b[0m\u001b[0mtransform\u001b[0m\u001b[0;34m(\u001b[0m\u001b[0mcounts\u001b[0m\u001b[0;34m)\u001b[0m\u001b[0;34m\u001b[0m\u001b[0;34m\u001b[0m\u001b[0m\n\u001b[0;32m---> 29\u001b[0;31m     \u001b[0mo3\u001b[0m\u001b[0;34m.\u001b[0m\u001b[0mio\u001b[0m\u001b[0;34m.\u001b[0m\u001b[0mwrite_point_cloud\u001b[0m\u001b[0;34m(\u001b[0m\u001b[0mexperiment_fpath\u001b[0m\u001b[0;34m.\u001b[0m\u001b[0mas_posix\u001b[0m\u001b[0;34m(\u001b[0m\u001b[0;34m)\u001b[0m \u001b[0;34m+\u001b[0m \u001b[0;34m'/'\u001b[0m \u001b[0;34m+\u001b[0m \u001b[0mregistration\u001b[0m \u001b[0;34m+\u001b[0m\u001b[0;34m'_maxiter_'\u001b[0m\u001b[0;34m+\u001b[0m \u001b[0mstr\u001b[0m\u001b[0;34m(\u001b[0m\u001b[0mmaxiter\u001b[0m\u001b[0;34m)\u001b[0m\u001b[0;34m+\u001b[0m\u001b[0;34m'_transformed_counts_round1.pcd'\u001b[0m\u001b[0;34m,\u001b[0m \u001b[0mtransformed_points\u001b[0m\u001b[0;34m)\u001b[0m\u001b[0;34m\u001b[0m\u001b[0;34m\u001b[0m\u001b[0m\n\u001b[0m\u001b[1;32m     30\u001b[0m \u001b[0;34m\u001b[0m\u001b[0m\n\u001b[1;32m     31\u001b[0m     \u001b[0mprint\u001b[0m\u001b[0;34m(\u001b[0m\u001b[0;34mf\" {registration} round 1 transformation processed in {(time.time()-start)/60}\"\u001b[0m\u001b[0;34m)\u001b[0m\u001b[0;34m\u001b[0m\u001b[0;34m\u001b[0m\u001b[0m\n",
      "\u001b[0;31mTypeError\u001b[0m: write_point_cloud(): incompatible function arguments. The following argument types are supported:\n    1. (filename: str, pointcloud: open3d.cpu.pybind.geometry.PointCloud, write_ascii: bool = False, compressed: bool = False, print_progress: bool = False) -> bool\n\nInvoked with: '/Users/simone.codeluppi/Documents/data_analysis_jlabs_sc/notebooks_pysmFISH/processing_folder/LBEXP20210718_EEL_Mouse_448_2/rigid_maxiter_100_transformed_counts_round1.pcd', array([[2.75275589e+04, 2.64045781e+04, 1.00000000e+00],\n       [2.72095297e+04, 2.61940134e+04, 1.00000000e+00],\n       [2.76447954e+04, 2.60765744e+04, 1.00000000e+00],\n       ...,\n       [2.93838114e+04, 1.91586309e+03, 1.00000000e+00],\n       [2.90158201e+04, 1.83263434e+03, 1.00000000e+00],\n       [2.56781720e+04, 7.53546826e+02, 1.00000000e+00]])"
     ]
    }
   ],
   "source": [
    "# Run two runs of registration\n",
    "results = {}\n",
    "maxiter = 100\n",
    "registration_type = ['rigid']\n",
    "for registration in registration_type:\n",
    "    start = time.time()\n",
    "    print(f\"Processing {registration} transformation\")\n",
    "    print(f\"Processing round 1\")\n",
    "    # Round1\n",
    "    # load source and target point cloud\n",
    "    source = o3.io.read_point_cloud('/Users/simone.codeluppi/Downloads/60X_converted.ply')\n",
    "    target = o3.io.read_point_cloud('/Users/simone.codeluppi/Downloads/40X_converted.ply')\n",
    "\n",
    "    # compute cpd registration\n",
    "    tf_param, A, B = cpd.registration_cpd(source, target,tf_type_name = registration,maxiter=maxiter)\n",
    "    \n",
    "    # Transform the reference beads\n",
    "    result_beads_transform_1 = copy.deepcopy(source)\n",
    "    result_beads_transform_1.points = tf_param.transform(result_beads_transform_1.points)\n",
    "    \n",
    "    o3.io.write_point_cloud(experiment_fpath.as_posix() + '/' + registration +'_maxiter_'+ str(maxiter)+'_result_beads_round1.pcd', result_beads_transform_1)\n",
    "    \n",
    "    pickle.dump(tf_param.t,open('/Users/simone.codeluppi/Downloads/transform_translation_round1.pkl','wb'))\n",
    "    pickle.dump(tf_param.rot,open('/Users/simone.codeluppi/Downloads/transform_rotation_round1.pkl','wb'))\n",
    "    pickle.dump(tf_param.scale,open('/Users/simone.codeluppi/Downloads/transform_scale_round1.pkl','wb'))\n",
    "    \n",
    "    # Transform dots\n",
    "    counts = pickle.load(open('60x_points_with _z.pkl','rb'))\n",
    "    transformed_points = tf_param.transform(counts)\n",
    "    np.save(experiment_fpath.as_posix() + '/' + registration +'_maxiter_'+ str(maxiter)+'_transformed_counts_round1.pcd', transformed_points)\n",
    "    \n",
    "    print(f\" {registration} round 1 transformation processed in {(time.time()-start)/60}\")\n",
    "    \n",
    "    start = time.time()\n",
    "    # Round2\n",
    "    print(f\"Processing round 2\")\n",
    "    # compute cpd registration\n",
    "    tf_param_2, A_2, B_2 = cpd.registration_cpd(result_beads_transform_1, target,tf_type_name = registration,maxiter=maxiter)\n",
    "    # Transform the reference beads\n",
    "    result_beads_transform_2 = copy.deepcopy(result_beads_transform_1)\n",
    "    result_beads_transform_2.points = tf_param_2.transform(result_beads_transform_2.points)\n",
    "    o3.io.write_point_cloud(experiment_fpath.as_posix() + '/' + registration +'_maxiter_'+ str(maxiter)+'_result_beads_round2.pcd', result_beads_transform_2)\n",
    "    \n",
    "    pickle.dump(tf_param_2.t,open('/Users/simone.codeluppi/Downloads/transform_translation_round2.pkl','wb'))\n",
    "    pickle.dump(tf_param_2.rot,open('/Users/simone.codeluppi/Downloads/transform_rotation_round2.pkl','wb'))\n",
    "    pickle.dump(tf_param_2.scale,open('/Users/simone.codeluppi/Downloads/transform_scale_round2.pkl','wb'))\n",
    "    \n",
    "    # Transform dots\n",
    "    transformed_points_round_2 = tf_param_2.transform(transformed_points)\n",
    "    np.save(experiment_fpath.as_posix() + '/' + registration +'_maxiter_'+ str(maxiter)+'_transformed_counts_round2.pcd', transformed_points_round_2)\n",
    "    \n",
    "    print(f\" {registration} round 2 transformation processed in {(time.time()-start)/60}\")\n",
    "\n",
    "    \n",
    "    \n",
    "    \n",
    "    \n",
    "    \n",
    "    "
   ]
  },
  {
   "cell_type": "code",
   "execution_count": 26,
   "id": "80107cfb-1c28-4d7b-8dfd-8027b8b76e1a",
   "metadata": {},
   "outputs": [],
   "source": [
    "transformed_points_round_2 = tf_param_2.transform(transformed_points)\n",
    "np.save(experiment_fpath.as_posix() + '/' + registration +'_maxiter_'+ str(maxiter)+'_transformed_counts_round2.pcd', transformed_points_round_2)\n",
    "   "
   ]
  },
  {
   "cell_type": "code",
   "execution_count": 27,
   "id": "22de072e-2765-4320-99a1-cd60018c1e70",
   "metadata": {},
   "outputs": [
    {
     "data": {
      "text/plain": [
       "array([ 2.25920885e-05, -8.10805934e-04, -1.71779357e-08])"
      ]
     },
     "execution_count": 27,
     "metadata": {},
     "output_type": "execute_result"
    }
   ],
   "source": [
    "tf_param_2.t"
   ]
  },
  {
   "cell_type": "code",
   "execution_count": 13,
   "id": "16e4070d-5c5b-4aa9-bfa7-47825dbcb814",
   "metadata": {},
   "outputs": [
    {
     "name": "stdout",
     "output_type": "stream",
     "text": [
      "Processing round 2\n",
      " rigid round 2 transformation processed in 296.72917770147325\n"
     ]
    }
   ],
   "source": [
    "# Round2\n",
    "print(f\"Processing round 2\")\n",
    "# compute cpd registration\n",
    "tf_param_2, A_2, B_2 = cpd.registration_cpd(result_beads_transform_1, target,tf_type_name = registration,maxiter=maxiter)\n",
    "# Transform the reference beads\n",
    "result_beads_transform_2 = copy.deepcopy(result_beads_transform_1)\n",
    "result_beads_transform_2.points = tf_param.transform(result_beads_transform_2.points)\n",
    "o3.io.write_point_cloud(experiment_fpath.as_posix() + '/' + registration +'_maxiter_'+ str(maxiter)+'_result_beads_round2.pcd', result_beads_transform_2)\n",
    "\n",
    "pickle.dump(tf_param_2.t,open('/Users/simone.codeluppi/Downloads/transform_translation_round2.pkl','wb'))\n",
    "pickle.dump(tf_param_2.rot,open('/Users/simone.codeluppi/Downloads/transform_rotation_round2.pkl','wb'))\n",
    "pickle.dump(tf_param_2.scale,open('/Users/simone.codeluppi/Downloads/transform_scale_round2.pkl','wb'))\n",
    "\n",
    "# Transform dots\n",
    "counts = pickle.load(open('60x_points_with _z.pkl','rb'))\n",
    "transformed_points_round_2 = tf_param.transform(transformed_points)\n",
    "np.save(experiment_fpath.as_posix() + '/' + registration +'_maxiter_'+ str(maxiter)+'_transformed_counts_round2.pcd', transformed_points_round_2)\n",
    "\n",
    "print(f\" {registration} round 2 transformation processed in {(time.time()-start)/60}\")\n",
    "\n"
   ]
  },
  {
   "cell_type": "code",
   "execution_count": 28,
   "id": "9165e5dd-cae5-42aa-8505-09c42c1e68c3",
   "metadata": {},
   "outputs": [],
   "source": [
    "# Check registration beads\n",
    "beads_round_1_array = np.asarray(result_beads_transform_1.points)\n",
    "beads_round_2_array = np.asarray(result_beads_transform_2.points)\n",
    "source_array = np.asarray(source.points)\n",
    "target_array = np.asarray(target.points)"
   ]
  },
  {
   "cell_type": "code",
   "execution_count": 29,
   "id": "1551a509-7834-4a86-9a3b-bb0f0f9aa864",
   "metadata": {},
   "outputs": [],
   "source": [
    "vw = napari.Viewer()\n",
    "_ = vw.add_points(source_array[:,:-1],name='source', face_color='cyan', symbol='o', size = 200)\n",
    "_ = vw.add_points(target_array[:,:-1],name='target', face_color='magenta', symbol='o', size = 200)\n",
    "_ = vw.add_points(beads_round_1_array[:,:-1],name='beads round 1', face_color='green', symbol='o', size = 200)\n",
    "_ = vw.add_points(beads_round_2_array[:,:-1],name='beads round 2', face_color='yellow', symbol='o', size = 200)"
   ]
  },
  {
   "cell_type": "code",
   "execution_count": null,
   "id": "548b36ca-00f5-4369-a0a7-2e620bb9ceed",
   "metadata": {},
   "outputs": [],
   "source": [
    "# Load data points to transform\n",
    "centroids = pickle.load(open('Mouse_448_cell_properties','rb'))\n",
    "counts = pickle.load(open('60x_points_with _z.pkl','rb'))\n",
    "\n",
    "\n",
    "# convert counts\n",
    "transformed_points = tf_param.transform(counts)\n"
   ]
  },
  {
   "cell_type": "code",
   "execution_count": null,
   "id": "d92f86a7-50d5-47e5-9cda-7a40ff131d02",
   "metadata": {},
   "outputs": [],
   "source": [
    "converted_array = np.asarray(transformed_points)\n",
    "converted_array = converted_array[:,:-1]"
   ]
  },
  {
   "cell_type": "code",
   "execution_count": null,
   "id": "4f744541-954c-4eae-929f-c8d146e7a602",
   "metadata": {},
   "outputs": [],
   "source": [
    "centroid = centroids['centroid']"
   ]
  },
  {
   "cell_type": "code",
   "execution_count": null,
   "id": "dff15739-e868-4080-b0c6-85f01192c27e",
   "metadata": {
    "tags": []
   },
   "outputs": [],
   "source": [
    "vw = napari.Viewer()\n",
    "_ = vw.add_points((centroids['centroid'][:,1],centroids['centroid'][:,0]),name='centroids', face_color='cyan', symbol='o', size = 4)\n",
    "_ = vw.add_points(converted_array[:,:-1],name='converted', face_color='magenta', symbol='o', size = 4)\n"
   ]
  },
  {
   "cell_type": "code",
   "execution_count": null,
   "id": "390d3ea5-7857-409f-b50d-d9aea9d05983",
   "metadata": {},
   "outputs": [],
   "source": [
    "from matplotlib import pyplot as plt"
   ]
  },
  {
   "cell_type": "code",
   "execution_count": null,
   "id": "3614d52d-b913-441f-9f33-511b69a80d4e",
   "metadata": {},
   "outputs": [],
   "source": [
    "plt.figure(figsize=(30,20))\n",
    "\n",
    "#c = df2.loc['Kl', 1:].to_numpy()\n",
    "#c = c / np.percentile(c, 99)\n",
    "\n",
    "x_offset = -790\n",
    "y_offset = 760\n",
    "\n",
    "cent_filt = np.logical_and(np.logical_and(centroid[:,1]> 22000, centroid[:,1]< 33000), np.logical_and(centroid[:,0]>12000, centroid[:,0]<20000))\n",
    "\n",
    "plt.scatter(centroid[cent_filt,1], centroid[cent_filt,0], s=30, c='gray')\n",
    "\n",
    "tp = transformed_points[:,:2] #+ np.array([[x_offset, y_offset]])\n",
    "point_filt = np.logical_and(np.logical_and(tp[:,0]>22000, tp[:,0]<33000), np.logical_and(tp[:,1]>12000, tp[:,1]<20000))\n",
    "tp = tp[point_filt,:]\n",
    "\n",
    "plt.scatter(tp[:,0], tp[:,1], s=0.1, c='red')\n",
    "plt.gca().set_aspect('equal')\n",
    "plt.axis('off')\n"
   ]
  },
  {
   "cell_type": "code",
   "execution_count": null,
   "id": "83324172-5f03-4e92-a1df-62f84c7531bf",
   "metadata": {},
   "outputs": [],
   "source": [
    "results = {}\n",
    "maxiter = 100\n",
    "for registration in registration_type:\n",
    "    start = time.time()\n",
    "    print(f\"Processing {registration} transformation\")\n",
    "    # load source and target point cloud\n",
    "    source = o3.io.read_point_cloud(experiment_fpath.as_posix() + '/' + registration +'_maxiter_'+ str(maxiter)+'_result_round1.pcd')\n",
    "    target = o3.io.read_point_cloud('/Users/simone.codeluppi/Downloads/40X_converted.ply')\n",
    "\n",
    "    # compute cpd registration\n",
    "    tf_param, A, B = cpd.registration_cpd(source, target,tf_type_name = registration,maxiter=maxiter)\n",
    "    result = copy.deepcopy(source)\n",
    "    result.points = tf_param.transform(result.points)\n",
    "\n",
    "    #o3.io.write_point_cloud(experiment_fpath.as_posix() + '/' + registration +'_source.pcd', source)\n",
    "    #o3.io.write_point_cloud(experiment_fpath.as_posix() + '/' + registration +'_target.pcd', target)\n",
    "    o3.io.write_point_cloud(experiment_fpath.as_posix() + '/' + registration +'_maxiter_'+ str(maxiter)+'_result_round2.pcd', result)\n",
    "    \n",
    "    results[registration] = (tf_param, A, B)\n",
    "    print(f\" {registration} transformation processed in {(time.time()-start)/60}\")\n",
    "\n",
    "# draw result\n",
    "#source.paint_uniform_color([1, 0, 0])\n",
    "#target.paint_uniform_color([0, 1, 0])\n",
    "#result.paint_uniform_color([0, 0, 1])\n",
    "#o3.visualization.draw_geometries([source, target, result])"
   ]
  },
  {
   "cell_type": "code",
   "execution_count": null,
   "id": "9db21bbe-8f22-4134-90cd-aa6ec473b8fa",
   "metadata": {},
   "outputs": [],
   "source": [
    "pickle.dump(tf_param.t,open('/Users/simone.codeluppi/Downloads/transform_translation_round2.pkl','wb'))\n",
    "pickle.dump(tf_param.rot,open('/Users/simone.codeluppi/Downloads/transform_rotation_round2.pkl','wb'))\n",
    "pickle.dump(tf_param.scale,open('/Users/simone.codeluppi/Downloads/transform_scale_round2.pkl','wb'))"
   ]
  },
  {
   "cell_type": "code",
   "execution_count": null,
   "id": "7d662c28-b9ce-4033-9699-8aa53bc7367f",
   "metadata": {},
   "outputs": [],
   "source": [
    "result_array = np.asarray(result.points)\n",
    "source_array = np.asarray(source.points)\n",
    "target_array = np.asarray(target.points)"
   ]
  },
  {
   "cell_type": "code",
   "execution_count": null,
   "id": "245b38e3-a99d-4ed9-a1f9-22e190dd0403",
   "metadata": {},
   "outputs": [],
   "source": [
    "vw = napari.Viewer()\n",
    "_ = vw.add_points(source_array[:,:-1],name='source', face_color='cyan', symbol='o', size = 200)\n",
    "_ = vw.add_points(target_array[:,:-1],name='target', face_color='magenta', symbol='o', size = 200)\n",
    "_ = vw.add_points(result_array[:,:-1],name='result', face_color='green', symbol='o', size = 200)\n"
   ]
  },
  {
   "cell_type": "code",
   "execution_count": null,
   "id": "b15ca51b-6625-4f3e-8cdf-64edbeced615",
   "metadata": {},
   "outputs": [],
   "source": []
  },
  {
   "cell_type": "code",
   "execution_count": null,
   "id": "bd203833-4817-4b88-90b5-5dc16d126b84",
   "metadata": {},
   "outputs": [],
   "source": [
    "transform = pickle.load(open('/Users/simone.codeluppi/Downloads/transform.pkl','rb'))"
   ]
  },
  {
   "cell_type": "code",
   "execution_count": null,
   "id": "e9524bbe-5af9-4f4f-ba66-2104994867f3",
   "metadata": {},
   "outputs": [],
   "source": [
    "# Reload the parameters for running additional registration\n",
    "\n",
    "source = o3.io.read_point_cloud('/Users/simone.codeluppi/Documents/data_analysis_jlabs_sc/notebooks_pysmFISH/processing_folder/LBEXP20210718_EEL_Mouse_448_2/40X_converted.ply')\n",
    "target = o3.io.read_point_cloud('/Users/simone.codeluppi/Documents/data_analysis_jlabs_sc/notebooks_pysmFISH/processing_folder/LBEXP20210718_EEL_Mouse_448_2/60X_converted.ply')\n",
    "result = o3.io.read_point_cloud('/Users/simone.codeluppi/Documents/data_analysis_jlabs_sc/notebooks_pysmFISH/processing_folder/LBEXP20210718_EEL_Mouse_448_2/rigid_maxiter_100_result.pcd')\n",
    "transform = pickle.load(open('/Users/simone.codeluppi/Downloads/transform.pkl','rb'))"
   ]
  },
  {
   "cell_type": "code",
   "execution_count": null,
   "id": "91ad5cbf-b865-4d4e-a84e-1762ebfa133b",
   "metadata": {},
   "outputs": [],
   "source": [
    "results = {}\n",
    "maxiters = [50]\n",
    "registration = 'bcpd'\n",
    "\n",
    "for maxiter in maxiters:\n",
    "    start = time.time()\n",
    "    print(f\"Processing {registration} transformation\")\n",
    "    # load source and target point cloud\n",
    "    new_source = copy.deepcopy(result)\n",
    "    \n",
    "    # compute cpd registration\n",
    "    f_param, A, B = bcpd.registration_bcpd(new_source, target,maxiter=maxiter)\n",
    "    result = copy.deepcopy(source)\n",
    "    result.points = tf_param.transform(result.points)\n",
    "\n",
    "    o3.io.write_point_cloud(experiment_fpath.as_posix() + '/' + registration +'_maxiter_'+ str(maxiter)+'_result.pcd', result)\n",
    "\n",
    "    results[registration] = (tf_param, A, B)\n",
    "    print(f\" {registration} transformation processed in {(time.time()-start)/60}\")"
   ]
  },
  {
   "cell_type": "code",
   "execution_count": null,
   "id": "960fa80f-c1c2-4bb4-bb34-94afafa26b63",
   "metadata": {},
   "outputs": [],
   "source": [
    "pickle.dump(results,open(experiment_fpath / 'registration_output.pkl','wb')) "
   ]
  },
  {
   "cell_type": "code",
   "execution_count": null,
   "id": "3dc6571e-ff9c-4b19-99c2-8b3501e69f36",
   "metadata": {},
   "outputs": [],
   "source": [
    "results"
   ]
  },
  {
   "cell_type": "code",
   "execution_count": null,
   "id": "043e8982-cc8d-4ef9-b4e3-1ec6f3daaf8c",
   "metadata": {},
   "outputs": [],
   "source": [
    "o3.io.write_point_cloud(experiment_fpath.as_posix() + '/source.pcd', source)\n",
    "o3.io.write_point_cloud(experiment_fpath.as_posix() + '/target.pcd', target)\n",
    "o3.io.write_point_cloud(experiment_fpath.as_posix() + '/result.pcd', result)"
   ]
  },
  {
   "cell_type": "code",
   "execution_count": null,
   "id": "5a3eddcc-f3a1-4a9c-9da7-8ad76fb11143",
   "metadata": {},
   "outputs": [],
   "source": []
  },
  {
   "cell_type": "code",
   "execution_count": null,
   "id": "42103a98-747a-41b4-b198-b78cf707263d",
   "metadata": {},
   "outputs": [],
   "source": [
    "experiment_fpath = '/Users/simone.codeluppi/Documents/data_analysis_jlabs_sc/notebooks_pysmFISH/processing_folder/LBEXP20210718_EEL_Mouse_448_2/'"
   ]
  },
  {
   "cell_type": "code",
   "execution_count": null,
   "id": "b8c764bf-6d29-473d-a1ca-fbacf2820e84",
   "metadata": {},
   "outputs": [],
   "source": [
    "source = o3.io.read_point_cloud(experiment_fpath + 'source.pcd')\n",
    "target = o3.io.read_point_cloud(experiment_fpath + 'target.pcd')\n",
    "result_rigid = o3.io.read_point_cloud(experiment_fpath + 'rigid_result.pcd')\n",
    "#result_affine= o3.io.read_point_cloud(experiment_fpath + 'affine_result.pcd')\n",
    "result_non_rigid= o3.io.read_point_cloud(experiment_fpath + 'nonrigid_result.pcd')"
   ]
  },
  {
   "cell_type": "code",
   "execution_count": null,
   "id": "340ba659-d006-4115-a681-7cee6dee7d25",
   "metadata": {},
   "outputs": [],
   "source": [
    "source_array = np.asarray(source.points)\n",
    "target_array = np.asarray(target.points)\n",
    "result_rigid_array = np.asarray(result_rigid.points)\n",
    "#result_affine_array = np.asarray(result_affine.points)\n",
    "result_non_rigid_array = np.asarray(result_non_rigid.points)"
   ]
  },
  {
   "cell_type": "code",
   "execution_count": null,
   "id": "1496da69-b364-4fe7-ad54-9045ef6c4ea3",
   "metadata": {},
   "outputs": [],
   "source": [
    "source = o3.io.read_point_cloud(experiment_fpath + 'source.pcd')\n",
    "target = o3.io.read_point_cloud(experiment_fpath + 'target.pcd')\n",
    "result_rigid_50 = o3.io.read_point_cloud(experiment_fpath + 'rigid_maxiter_50_result.pcd')\n",
    "result_rigid_100 = o3.io.read_point_cloud(experiment_fpath + 'rigid_maxiter_100_result.pcd')\n",
    "result_rigid_200 = o3.io.read_point_cloud(experiment_fpath + 'rigid_maxiter_200_result.pcd')\n",
    "#bcpd_50 = o3.io.read_point_cloud(experiment_fpath + 'bcpd_maxiter_50_result.pcd')"
   ]
  },
  {
   "cell_type": "code",
   "execution_count": null,
   "id": "c87bfa3e-9f1c-4172-8f8f-cd817737ba6e",
   "metadata": {},
   "outputs": [],
   "source": [
    "source_array = np.asarray(source.points)\n",
    "target_array = np.asarray(target.points)\n",
    "result_rigid_50_array = np.asarray(result_rigid_50.points)\n",
    "result_rigid_100_array = np.asarray(result_rigid_100.points)\n",
    "result_rigid_200_array = np.asarray(result_rigid_200.points)\n",
    "#bcpd_50_array = np.asarray(bcpd_50.points)"
   ]
  },
  {
   "cell_type": "code",
   "execution_count": null,
   "id": "0725c091-dc3a-4089-aafd-f0f703da3218",
   "metadata": {},
   "outputs": [],
   "source": [
    "%gui qt5"
   ]
  },
  {
   "cell_type": "code",
   "execution_count": null,
   "id": "cdb07f65-0b5a-4015-a719-b176c8274e2a",
   "metadata": {},
   "outputs": [],
   "source": [
    "import napari"
   ]
  },
  {
   "cell_type": "code",
   "execution_count": null,
   "id": "957ef897-e71d-4a4b-a57f-d649693898dd",
   "metadata": {},
   "outputs": [],
   "source": [
    "vw = napari.Viewer()\n",
    "_ = vw.add_points(source_array[:,:-1],name='source', face_color='cyan', symbol='o', size = 200)\n",
    "_ = vw.add_points(target_array[:,:-1],name='target', face_color='magenta', symbol='o', size = 200)\n",
    "_ = vw.add_points(result_rigid_array[:,:-1],name='rigid', face_color='green', symbol='o', size = 200)\n",
    "#_ = vw.add_points(result_affine_array[:,:-1],name='affine', face_color='cyan', symbol='o', size = 200)\n",
    "_ = vw.add_points(result_non_rigid_array[:,:-1],name='non_rigid', face_color='yellow', symbol='o', size = 200)\n"
   ]
  },
  {
   "cell_type": "code",
   "execution_count": null,
   "id": "94126a53-d14c-420b-a3db-2d0861e14561",
   "metadata": {},
   "outputs": [],
   "source": [
    "vw = napari.Viewer()\n",
    "_ = vw.add_points(source_array[:,:-1],name='source', face_color='cyan', symbol='o', size = 200)\n",
    "_ = vw.add_points(target_array[:,:-1],name='target', face_color='magenta', symbol='o', size = 200)\n",
    "_ = vw.add_points(result_rigid_50_array[:,:-1],name='rigid 50 iter', face_color='green', symbol='o', size = 200)\n",
    "_ = vw.add_points(result_rigid_100_array[:,:-1],name='rigid 100 iter', face_color='yellow', symbol='o', size = 200)\n",
    "_ = vw.add_points(result_rigid_200_array[:,:-1],name='rigid 200 iter', face_color='cyan', symbol='o', size = 200)\n",
    "#_ = vw.add_points(bcpd_50_array[:,:-1],name='bcpd 50 iter', face_color='green', symbol='o', size = 200)\n"
   ]
  },
  {
   "cell_type": "code",
   "execution_count": null,
   "id": "858c3b5f-79c4-4933-9ed7-5a6ba2a1e381",
   "metadata": {},
   "outputs": [],
   "source": [
    "# Rerun\n",
    "# compute cpd registration\n",
    "source_2 = copy.deepcopy(source)\n",
    "tf_param, _, _ = cpd.registration_cpd(source_2, target)\n",
    "result2 = copy.deepcopy(source_2)\n",
    "result2.points = tf_param.transform(result2.points)"
   ]
  },
  {
   "cell_type": "code",
   "execution_count": null,
   "id": "82d108fa-c693-45c5-9055-d4b5f45c12e9",
   "metadata": {},
   "outputs": [],
   "source": [
    "o3.io.write_point_cloud(experiment_fpath.as_posix() + '/target2.pcd', target2)\n",
    "o3.io.write_point_cloud(experiment_fpath.as_posix() + '/result2.pcd', result2)"
   ]
  },
  {
   "cell_type": "code",
   "execution_count": null,
   "id": "3ee2cafa-2da8-4969-9b98-a99dc15ffb73",
   "metadata": {},
   "outputs": [],
   "source": [
    "result2_array = np.asarray(result2.points)"
   ]
  },
  {
   "cell_type": "code",
   "execution_count": null,
   "id": "d41f3157-076c-4247-80be-c8566c9258ed",
   "metadata": {},
   "outputs": [],
   "source": [
    "vw = napari.Viewer()\n",
    "_ = vw.add_points(source_array[:,:-1],name='source', face_color='cyan', symbol='o', size = 200)\n",
    "_ = vw.add_points(target_array[:,:-1],name='target', face_color='magenta', symbol='o', size = 200)\n",
    "_ = vw.add_points(result_array[:,:-1],name='result', face_color='green', symbol='o', size = 200)\n",
    "_ = vw.add_points(result2_array[:,:-1],name='result2', face_color='yellow', symbol='o', size = 200)"
   ]
  },
  {
   "cell_type": "code",
   "execution_count": null,
   "id": "257a7c25-a6fb-4fee-8281-e2a4a79a7c72",
   "metadata": {},
   "outputs": [],
   "source": []
  },
  {
   "cell_type": "code",
   "execution_count": null,
   "id": "747b6f10-3175-4c16-9bad-8bca908aaad4",
   "metadata": {},
   "outputs": [],
   "source": []
  },
  {
   "cell_type": "code",
   "execution_count": null,
   "id": "e9434b54-fc69-49f9-9eb6-ecaa6f9f7d44",
   "metadata": {},
   "outputs": [],
   "source": []
  },
  {
   "cell_type": "code",
   "execution_count": null,
   "id": "8cc9c4c3-b797-4bfe-bf70-66a20d34b541",
   "metadata": {},
   "outputs": [],
   "source": [
    "import pandas as pd"
   ]
  },
  {
   "cell_type": "code",
   "execution_count": null,
   "id": "b63f586c-8013-44c0-b038-6615b016d609",
   "metadata": {},
   "outputs": [],
   "source": [
    "data = pd.read_parquet('/Users/simone.codeluppi/Downloads/LBEXP20200925_EEL_Mouse_-140um_decoded_fov_741.parquet')"
   ]
  },
  {
   "cell_type": "code",
   "execution_count": null,
   "id": "c58c6111-fdf8-432a-9228-2db1d3b8b868",
   "metadata": {},
   "outputs": [],
   "source": []
  },
  {
   "cell_type": "code",
   "execution_count": null,
   "id": "d479334c-c1f6-4624-8592-6f72ea61ea5c",
   "metadata": {},
   "outputs": [],
   "source": []
  },
  {
   "cell_type": "code",
   "execution_count": null,
   "id": "10eb9acd-8ac9-4be6-ac33-00235735f4e1",
   "metadata": {},
   "outputs": [],
   "source": []
  },
  {
   "cell_type": "code",
   "execution_count": null,
   "id": "88f9cb11-44bd-47a1-8896-4a2989f686bf",
   "metadata": {},
   "outputs": [],
   "source": []
  },
  {
   "cell_type": "code",
   "execution_count": null,
   "id": "b0d09bf4-d12b-4482-bc0a-e150730bea39",
   "metadata": {},
   "outputs": [],
   "source": [
    "def draw_registration_result(source, target, transformation):\n",
    "    source_temp = copy.deepcopy(source)\n",
    "    target_temp = copy.deepcopy(target)\n",
    "    source_temp.paint_uniform_color([1, 0.706, 0])\n",
    "    target_temp.paint_uniform_color([0, 0.651, 0.929])\n",
    "    source_temp.transform(transformation)\n",
    "    o3d.visualization.draw_geometries([source_temp, target_temp],\n",
    "                                      zoom=0.4459,\n",
    "                                      front=[0.9288, -0.2951, -0.2242],\n",
    "                                      lookat=[1.6784, 2.0612, 1.4451],\n",
    "                                      up=[-0.3402, -0.9189, -0.1996])"
   ]
  },
  {
   "cell_type": "code",
   "execution_count": null,
   "id": "28476f15-32e8-42f5-81e2-df5949c40f70",
   "metadata": {},
   "outputs": [],
   "source": [
    "# Reload the parameters for running additional registration\n",
    "\n",
    "source = o3.io.read_point_cloud('/Users/simone.codeluppi/Downloads/40X_converted.ply')\n",
    "target = o3.io.read_point_cloud('/Users/simone.codeluppi/Downloads/60X_converted.ply')\n",
    "transformation = pickle.load(open('/Users/simone.codeluppi/Downloads/transform.pkl','rb'))"
   ]
  },
  {
   "cell_type": "code",
   "execution_count": null,
   "id": "2e7a4d5d-c4be-4a43-aff6-06a7d399ed3c",
   "metadata": {},
   "outputs": [],
   "source": [
    "draw_registration_result(source, target, transformation)"
   ]
  },
  {
   "cell_type": "code",
   "execution_count": null,
   "id": "cfb224f6-a836-44fa-9c25-73b1037947ba",
   "metadata": {},
   "outputs": [],
   "source": []
  }
 ],
 "metadata": {
  "kernelspec": {
   "display_name": "test_d",
   "language": "python",
   "name": "test_d"
  },
  "language_info": {
   "codemirror_mode": {
    "name": "ipython",
    "version": 3
   },
   "file_extension": ".py",
   "mimetype": "text/x-python",
   "name": "python",
   "nbconvert_exporter": "python",
   "pygments_lexer": "ipython3",
   "version": "3.8.5"
  }
 },
 "nbformat": 4,
 "nbformat_minor": 5
}
