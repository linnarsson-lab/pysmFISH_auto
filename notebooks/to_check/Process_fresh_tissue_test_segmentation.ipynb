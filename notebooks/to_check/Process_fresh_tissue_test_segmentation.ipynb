{
 "cells": [
  {
   "cell_type": "markdown",
   "id": "5c44a3c3-b183-4c6c-888c-476ec8dd2e63",
   "metadata": {},
   "source": [
    "## Import"
   ]
  },
  {
   "cell_type": "code",
   "execution_count": 1,
   "id": "ee60d855-bd99-4496-851c-ccb32a1060b9",
   "metadata": {},
   "outputs": [],
   "source": [
    "%load_ext autoreload\n",
    "%autoreload 2\n",
    "\n"
   ]
  },
  {
   "cell_type": "code",
   "execution_count": 2,
   "id": "80911710-f9c5-402f-a5d6-bf9c165d4972",
   "metadata": {},
   "outputs": [],
   "source": [
    "from pathlib import Path\n",
    "import time"
   ]
  },
  {
   "cell_type": "code",
   "execution_count": null,
   "id": "b1da9d66-2599-451a-b58a-2d5a691c5dd8",
   "metadata": {},
   "outputs": [
    {
     "name": "stderr",
     "output_type": "stream",
     "text": [
      "Matplotlib is building the font cache; this may take a moment.\n",
      "/home/simone/mini/envs/test_d_seg/lib/python3.8/site-packages/dask_jobqueue/core.py:19: FutureWarning: format_bytes is deprecated and will be removed in a future release. Please use dask.utils.format_bytes instead.\n",
      "  from distributed.utils import format_bytes, parse_bytes, tmpfile\n",
      "/home/simone/mini/envs/test_d_seg/lib/python3.8/site-packages/dask_jobqueue/core.py:19: FutureWarning: parse_bytes is deprecated and will be removed in a future release. Please use dask.utils.parse_bytes instead.\n",
      "  from distributed.utils import format_bytes, parse_bytes, tmpfile\n",
      "/home/simone/mini/envs/test_d_seg/lib/python3.8/site-packages/dask_jobqueue/htcondor.py:6: FutureWarning: parse_bytes is deprecated and will be removed in a future release. Please use dask.utils.parse_bytes instead.\n",
      "  from distributed.utils import parse_bytes\n"
     ]
    }
   ],
   "source": [
    "from pysmFISH.pipeline import Pipeline"
   ]
  },
  {
   "cell_type": "markdown",
   "id": "62b93d0c-d3c2-42f4-9ab6-34000e4f5dcb",
   "metadata": {},
   "source": [
    "## Prepare the folders for experimental tests"
   ]
  },
  {
   "cell_type": "code",
   "execution_count": null,
   "id": "546043a9-efac-4421-bc1f-0497ba051940",
   "metadata": {},
   "outputs": [],
   "source": [
    "!mkdir 'processing_folder/LBEXP20210718_EEL_Mouse_448_2'\n",
    "!cp -r 'data_storage/LBEXP20210718_EEL_Mouse_448_2/fresh_tissue' 'processing_folder/LBEXP20210718_EEL_Mouse_448_2/'\n",
    "!cp -r 'data_storage/required_folders_storage/codebooks' 'processing_folder/'\n",
    "!cp -r 'data_storage/required_folders_storage/probes_sets' 'processing_folder/'\n",
    "!cp -r 'data_storage/LBEXP20210718_EEL_Mouse_448_2/210906_21_07_09_LBEXP20210718_EEL_Mouse_448_2_img_data_dataset.parquet' 'processing_folder/LBEXP20210718_EEL_Mouse_448_2/'"
   ]
  },
  {
   "cell_type": "markdown",
   "id": "0496b132-3352-4e78-ba39-855a1775006f",
   "metadata": {},
   "source": [
    "## Initialize the pipeline"
   ]
  },
  {
   "cell_type": "code",
   "execution_count": null,
   "id": "2c24f1f8-ebe7-465e-9f06-f3c6cbf5b780",
   "metadata": {},
   "outputs": [],
   "source": [
    "# Enter the required parameters\n",
    "experiment_fpath = Path('/Users/simone.codeluppi/Documents/data_analysis_jlabs_sc/notebooks_pysmFISH/processing_folder/LBEXP20210718_EEL_Mouse_448_2')\n",
    "dataset_name = '210906_21_07_09_LBEXP20210718_EEL_Mouse_448_2_img_data_dataset.parquet'\n",
    "date_tag = time.strftime(\"%y%m%d_%H_%M_%S\")\n",
    "pipeline_run_name = date_tag + '_' + experiment_fpath.stem\n",
    "run_type = 're-run'\n",
    "parsing_type = 'no_parsing'\n",
    "processing_engine = 'local'"
   ]
  },
  {
   "cell_type": "code",
   "execution_count": null,
   "id": "4ccaff9e-32ef-4675-8803-128ca9c3a6fa",
   "metadata": {},
   "outputs": [],
   "source": [
    "%%time\n",
    "# Because you are running the pipeline locally you should define the number of cores and memory/core\n",
    "# 3-4 GB / code should be safe for running the processing\n",
    "running_pipeline = Pipeline(\n",
    "        pipeline_run_name= pipeline_run_name,\n",
    "        experiment_fpath= experiment_fpath,\n",
    "        run_type= run_type,\n",
    "        parsing_type= parsing_type,\n",
    "        processing_engine= processing_engine,\n",
    "        cores=3,\n",
    "        memory='12GB',\n",
    "        chunk_size = 6,\n",
    "        dataset_path = experiment_fpath / dataset_name)"
   ]
  },
  {
   "cell_type": "markdown",
   "id": "d7a8fe2d-fb74-4db1-94e3-231133a32755",
   "metadata": {},
   "source": [
    "## Run the required steps"
   ]
  },
  {
   "cell_type": "code",
   "execution_count": null,
   "id": "dfd4d21b-8b41-4d52-b97c-9c9b24ad27f3",
   "metadata": {},
   "outputs": [],
   "source": [
    "%%time\n",
    "running_pipeline.run_setup()\n",
    "running_pipeline.run_cluster_activation()\n",
    "running_pipeline.run_parsing()\n",
    "running_pipeline.run_required_steps()"
   ]
  },
  {
   "cell_type": "code",
   "execution_count": null,
   "id": "1fe0effc-4f0e-446b-a614-dcf7671125a6",
   "metadata": {},
   "outputs": [],
   "source": []
  },
  {
   "cell_type": "code",
   "execution_count": null,
   "id": "aa7b8ffa-64f0-4da4-ad09-61db2680f256",
   "metadata": {},
   "outputs": [],
   "source": [
    "running_pipeline.client"
   ]
  },
  {
   "cell_type": "markdown",
   "id": "f8dc3910-3636-4751-b88c-b9d6e3a50ac8",
   "metadata": {},
   "source": [
    "## Process the images of the fresh tissue"
   ]
  },
  {
   "cell_type": "code",
   "execution_count": null,
   "id": "9b8f2dbf-ec08-43bf-a952-eb02e2123022",
   "metadata": {
    "tags": []
   },
   "outputs": [],
   "source": [
    "%%time\n",
    "running_pipeline.processing_fresh_tissue_step(parsing=False)"
   ]
  },
  {
   "cell_type": "code",
   "execution_count": null,
   "id": "e295b003-a382-41cc-96c4-4539322a2870",
   "metadata": {
    "tags": []
   },
   "outputs": [],
   "source": [
    "running_pipeline.client.close()"
   ]
  },
  {
   "cell_type": "code",
   "execution_count": null,
   "id": "6d0e0b42-520b-400c-8b98-bd336203715b",
   "metadata": {},
   "outputs": [],
   "source": [
    "running_pipeline.cluster.close()"
   ]
  },
  {
   "cell_type": "markdown",
   "id": "58fffe8d-65fe-45ab-8949-168352e251b3",
   "metadata": {},
   "source": [
    "## Remove overlapping objects"
   ]
  },
  {
   "cell_type": "code",
   "execution_count": null,
   "id": "a96e3fd1-b456-432b-8fca-244f412d8b62",
   "metadata": {},
   "outputs": [],
   "source": [
    "from pysmFISH.fov_processing import segmentation_NN_fov\n",
    "from pysmFISH.io import load_general_zarr\n",
    "import zarr\n",
    "from pysmFISH.utils import convert_from_uint16_to_float64\n",
    "import pickle\n",
    "from pathlib import Path\n",
    "import pandas as pd\n",
    "from pysmFISH.stitching import organize_square_tiles\n",
    "from skimage import measure\n",
    "import numpy as np\n",
    "from pysmFISH.data_models import Dataset\n",
    "from dask.distributed import Client, LocalCluster\n",
    "from pysmFISH.processing_cluster_setup import local_cluster_setup\n",
    "from pysmFISH.segmentation import remove_overlapping_obj"
   ]
  },
  {
   "cell_type": "code",
   "execution_count": null,
   "id": "bc48b8bd-8b5a-4fb5-8c58-a132aabfbcc9",
   "metadata": {
    "tags": []
   },
   "outputs": [],
   "source": [
    "cores = 4\n",
    "memory = 6\n",
    "cluster = local_cluster_setup(cores=cores,memory=memory)\n",
    "client = Client(cluster)"
   ]
  },
  {
   "cell_type": "code",
   "execution_count": null,
   "id": "787e6236-5478-43b4-88b3-0cf5b538746f",
   "metadata": {},
   "outputs": [],
   "source": [
    "client = Client()"
   ]
  },
  {
   "cell_type": "code",
   "execution_count": null,
   "id": "558b5ab3-0877-4dfb-b877-ef5a01a6990f",
   "metadata": {},
   "outputs": [],
   "source": [
    "client"
   ]
  },
  {
   "cell_type": "code",
   "execution_count": null,
   "id": "93bd467f-addc-4d5e-9e1d-2c80747670e2",
   "metadata": {},
   "outputs": [],
   "source": [
    "- Bring in the information from the experiment.dataset to fill the blanks and the nuclei\n",
    "- Add the creation of the segmentation folder to the path\n",
    "- adjust to the segmentation_output from the experiment-path in the registered coords obj\n",
    "- maybe add in the pipeline attributes the size of the overlapping objects to remove\n",
    "- check with Lars for segmentation data"
   ]
  },
  {
   "cell_type": "code",
   "execution_count": null,
   "id": "52680fbb-99a8-4314-a887-5c96e330dd29",
   "metadata": {},
   "outputs": [],
   "source": [
    "def load_segmented_data(fov_subdataset,experiment_path):\n",
    "    experiment_path = Path(experiment_path)\n",
    "    experiment_name = fov_subdataset.experiment_name\n",
    "    segmented_file_path = experiment_path / 'fresh_tissue' / 'fresh_tissue_segmented_nuclei_data.zarr'\n",
    "    st = zarr.DirectoryStore(segmented_file_path)\n",
    "    root = zarr.group(store=st,overwrite=False)\n",
    "    grp_name = (\n",
    "            experiment_name\n",
    "            + \"_segmetented_fresh_tissue_fov_\"\n",
    "            + str(fov_subdataset.fov_num)\n",
    "        )\n",
    "        \n",
    "    dataset_name = \"segmentation_mask_fov_\" + str(fov_subdataset.fov_num)\n",
    "    \n",
    "    mask = root[grp_name][dataset_name][...]\n",
    "    return mask"
   ]
  },
  {
   "cell_type": "code",
   "execution_count": null,
   "id": "dc647de2-ddf3-4825-9e68-e981b53f6a4d",
   "metadata": {},
   "outputs": [],
   "source": [
    "def load_stitched_segmented_data(fov_subdataset,segmentation_output_path):\n",
    "    segmented_region_img = pickle.load(open(segmentation_output_path / ('registered_objs_dict_fov_' + str(fov_subdataset.fov_num) + '.pkl'), 'rb'))\n",
    "\n",
    "    obj_segmented_img = {el:coords_dict['stitched_coords'] for (el,coords_dict) in segmented_region_img.items()}\n",
    "    return obj_segmented_img\n",
    "\n",
    "def load_stitched_segmented_data_full_dict(fov_subdataset,segmentation_output_path):\n",
    "    segmented_region_dict = pickle.load(open(segmentation_output_path / ('registered_objs_dict_fov_' + str(fov_subdataset.fov_num) + '.pkl'), 'rb'))\n",
    "    return segmented_region_dict\n",
    "    "
   ]
  },
  {
   "cell_type": "code",
   "execution_count": null,
   "id": "c0361619-54d1-4c12-a9aa-2c061b191f5b",
   "metadata": {},
   "outputs": [],
   "source": [
    "def stitch_using_coords_general_segmented_objects(fov,obj_dict,tile_corners_coords_pxl,reference_corner_fov_position,metadata):\n",
    "    \"\"\"\n",
    "    Tiles are placed directly on the position indicated by the microscope\n",
    "    coords\n",
    "    \"\"\"\n",
    "\n",
    "    r_coords = tile_corners_coords_pxl[fov,0]\n",
    "    c_coords = tile_corners_coords_pxl[fov,1]\n",
    "    \n",
    "    if obj_dict:\n",
    "        \n",
    "        if reference_corner_fov_position == 'top-left':\n",
    "            for el,coords_dict in obj_dict.items():\n",
    "                coords_dict['stitched_coords'] = np.vstack([r_coords + coords_dict['original_coords'][:,0],\n",
    "                                                            c_coords + coords_dict['original_coords'][:,1]]).T\n",
    "                coords_dict['stitched_centroid'] = np.vstack([r_coords + coords_dict['original_centroid'][0],\n",
    "                                                            c_coords + coords_dict['original_centroid'][1]]).T\n",
    "\n",
    "        elif reference_corner_fov_position == 'top-right':\n",
    "            for el,coords_dict in obj_dict.items():\n",
    "                coords_dict['stitched_coords'] = np.vstack([r_coords + coords_dict['original_coords'][:,0],\n",
    "                                                            c_coords - (metadata['img_width'] -coords_dict['original_coords'][:,1])]).T\n",
    "                coords_dict['stitched_centroid'] = np.vstack([r_coords + coords_dict['original_centroid'][0],\n",
    "                                                            c_coords - (metadata['img_width'] -coords_dict['original_centroid'][1])]).T\n",
    "\n",
    "        elif reference_corner_fov_position == 'bottom_left':\n",
    "            for el,coords_dict in obj_dict.items():\n",
    "                coords_dict['stitched_coords'] = np.vstack([r_coords + (metadata['img_height'] -coords_dict['original_coords'][:,0]),\n",
    "                                                            c_coords + coords_dict['original_coords'][:,1]]).T\n",
    "                coords_dict['stitched_centroid'] = np.vstack([r_coords + (metadata['img_height'] -coords_dict['original_centroid'][0]),\n",
    "                                                            c_coords + coords_dict['original_centroid'][1]]).T\n",
    "\n",
    "    return obj_dict"
   ]
  },
  {
   "cell_type": "code",
   "execution_count": null,
   "id": "6bca6d72-6592-46c2-bc47-9f02106163d2",
   "metadata": {},
   "outputs": [],
   "source": [
    "def register_coords_obj(fov_subdataset, experiment_fpath, segmentation_output_path,\n",
    "                        tile_corners_coords_global_pxl,metadata,reference_corner_fov_position='top-right'):\n",
    "    \n",
    "    mask = load_segmented_data(fov_subdataset,experiment_fpath)\n",
    "    segmentation_output_path = Path(experiment_fpath) / 'fresh_tissue' / 'segmentation'\n",
    "    \n",
    "    segmented_regions = measure.regionprops(mask)\n",
    "    segmented_regions_dict = {}\n",
    "    for prop in segmented_regions:\n",
    "        segmented_regions_dict[str(fov_subdataset.fov_num)+'-'+str(prop.label)] = {}\n",
    "        segmented_regions_dict[str(fov_subdataset.fov_num)+'-'+str(prop.label)]['original_coords']=prop.coords\n",
    "        segmented_regions_dict[str(fov_subdataset.fov_num)+'-'+str(prop.label)]['stitched_coords']= np.nan\n",
    "        segmented_regions_dict[str(fov_subdataset.fov_num)+'-'+str(prop.label)]['original_centroid']= prop.centroid\n",
    "        segmented_regions_dict[str(fov_subdataset.fov_num)+'-'+str(prop.label)]['stitched_centroid']= prop.centroid\n",
    "        segmented_regions_dict[str(fov_subdataset.fov_num)+'-'+str(prop.label)]['area']= prop.area\n",
    "        segmented_regions_dict = stitch_using_coords_general_segmented_objects(fov_subdataset.fov_num,segmented_regions_dict,\n",
    "                                                                         tile_corners_coords_global_pxl,reference_corner_fov_position,metadata)\n",
    "    pickle.dump(segmented_regions_dict,open(segmentation_output_path / ('registered_objs_dict_fov_' + str(fov_subdataset.fov_num) + '.pkl'), 'wb'))\n",
    "#    return segmented_regions_dict"
   ]
  },
  {
   "cell_type": "code",
   "execution_count": null,
   "id": "7b32ca72-bd98-471a-a221-22afc202b2ca",
   "metadata": {},
   "outputs": [],
   "source": [
    "dataset_name = '220415_16_38_11_20210718_124116_843__ChannelCy3_Nuclei_Seq0001_img_data_dataset.parquet'\n",
    "dataset_nuclei = Dataset()\n",
    "dataset_nuclei.load_dataset(Path(experiment_fpath) / 'fresh_tissue' / dataset_name)\n",
    "dataset_nuclei.dataset['processing_type'] = 'undefined'\n",
    "dataset_nuclei.dataset['overlapping_percentage'] = 5\n",
    "dataset_nuclei.dataset['machine'] = 'ROBOFISH2'\n",
    "\n",
    "metadata_nuclei = dataset_nuclei.collect_metadata(dataset_nuclei.dataset)\n",
    "fov_subdataset = dataset_nuclei.dataset.iloc[0]\n",
    "tile_corners_coords_global_pxl = pickle.load(open(Path(experiment_fpath) / 'fresh_tissue' / 'results' / 'global_stitched_coords.pkl','rb'))\n",
    "nuclei_org_tiles = organize_square_tiles(experiment_fpath,dataset_nuclei.dataset,metadata_nuclei,round_num=1)\n",
    "nuclei_org_tiles.run_tiles_organization()\n",
    "a = nuclei_org_tiles.tile_corners_coords_pxl\n",
    "nuclei_org_tiles.tile_corners_coords_pxl = tile_corners_coords_global_pxl\n",
    "nuclei_org_tiles.determine_overlapping_regions()\n",
    "reference_corner_fov_position = nuclei_org_tiles.reference_corner_fov_position"
   ]
  },
  {
   "cell_type": "code",
   "execution_count": null,
   "id": "22c0ae75-5092-4f92-a777-db50d8c81b29",
   "metadata": {},
   "outputs": [],
   "source": [
    "mc = np.load('/Users/simone.codeluppi/Downloads/microscope_tile_corners_coords_pxl.npy')\n",
    "gb = pickle.load(open('/Users/simone.codeluppi/Downloads/global_stitched_coords.pkl','rb'))\n",
    "gs = pickle.load(open('/Users/simone.codeluppi/Downloads/stitching_global_shift.pkl','rb'))"
   ]
  },
  {
   "cell_type": "code",
   "execution_count": null,
   "id": "da565d6d-bfce-4884-bc24-4306a1dc82a7",
   "metadata": {},
   "outputs": [],
   "source": [
    "mc.shape"
   ]
  },
  {
   "cell_type": "code",
   "execution_count": null,
   "id": "7f5c0e1e-ea02-4491-949f-ec24a22d8661",
   "metadata": {},
   "outputs": [],
   "source": [
    "mc[0,:]"
   ]
  },
  {
   "cell_type": "code",
   "execution_count": null,
   "id": "279d7e73-b31a-4084-b1b4-025325f10ce2",
   "metadata": {},
   "outputs": [],
   "source": [
    "gb[0,:]"
   ]
  },
  {
   "cell_type": "code",
   "execution_count": null,
   "id": "10dce8a3-ae61-49ce-9cee-175969d5bb01",
   "metadata": {},
   "outputs": [],
   "source": [
    "gs[0:20,:]"
   ]
  },
  {
   "cell_type": "code",
   "execution_count": null,
   "id": "debede58-1f44-408f-ad70-5fcc60825dc9",
   "metadata": {},
   "outputs": [],
   "source": [
    "nuclei_org_tiles.tile_corners_coords_pxl[0,:]"
   ]
  },
  {
   "cell_type": "code",
   "execution_count": null,
   "id": "f6f9b362-8d44-44c7-ace8-bec82590fba1",
   "metadata": {},
   "outputs": [],
   "source": [
    "tile_corners_coords_global_pxl[0,:]"
   ]
  },
  {
   "cell_type": "code",
   "execution_count": null,
   "id": "20d3dcd8-bbad-47e4-bccc-0a9dfc03b9ae",
   "metadata": {},
   "outputs": [],
   "source": [
    "all_futures = []\n",
    "    for idx,fov_subdataset in dataset_nuclei.dataset.iterrows():\n",
    "        future = client.submit(register_coords_obj,fov_subdataset,\n",
    "                               experiment_fpath,\n",
    "                               segmentation_output_path,\n",
    "                              tile_corners_coords_global_pxl,\n",
    "                              metadata_nuclei,\n",
    "                               reference_corner_fov_position='top-right')\n",
    "        all_futures.append(future)\n",
    "    _ = client.gather(all_futures)\n",
    "    "
   ]
  },
  {
   "cell_type": "code",
   "execution_count": null,
   "id": "b7b06fe3-032d-4d41-9d44-37c1ab672121",
   "metadata": {},
   "outputs": [],
   "source": [
    "from pysmFISH.segmentation import register_coords_obj"
   ]
  },
  {
   "cell_type": "code",
   "execution_count": null,
   "id": "88f5b1c1-ba79-4cc4-9452-43f299f7e758",
   "metadata": {},
   "outputs": [],
   "source": [
    "\n",
    "    all_futures = []\n",
    "    for idx,fov_subdataset in dataset_nuclei.dataset.iterrows():\n",
    "        future = client.submit(register_coords_obj,fov_subdataset,\n",
    "                               experiment_fpath,\n",
    "                               segmentation_output_path,\n",
    "                              tile_corners_coords_global_pxl,\n",
    "                              metadata_nuclei,\n",
    "                               reference_corner_fov_position='top-right')\n",
    "        all_futures.append(future)\n",
    "    _ = client.gather(all_futures)\n",
    "    \n",
    "    "
   ]
  },
  {
   "cell_type": "code",
   "execution_count": null,
   "id": "f4cfdc49-830d-47bc-b84f-dce4e0805284",
   "metadata": {},
   "outputs": [],
   "source": [
    "def create_label_image(experiment_fpath,\n",
    "                       segmentation_output_path,\n",
    "                       ds_nuclei,\n",
    "                       nuclei_org_tiles,\n",
    "                       nuclei_adjusted_coords,\n",
    "                       client,\n",
    "                       min_overlapping_pixels_segmentation = 20):\n",
    "    \n",
    "    # Get objects properties and register to the data\n",
    "    nuclei_org_tiles.tile_corners_coords_pxl = tile_corners_coords_global_pxl\n",
    "    reference_corner_fov_position = nuclei_org_tiles.reference_corner_fov_position\n",
    "        \n",
    "    \n",
    "    \n",
    "    # Remove overlapping objects paralle\n",
    "    all_futures = []\n",
    "    for idx,fov_subdataset in dataset_nuclei.dataset.iterrows():\n",
    "        future = client.submit(remove_overlapping_obj,\n",
    "                               fov_subdataset,\n",
    "                               nuclei_org_tiles,\n",
    "                              segmentation_output_path,\n",
    "                              min_overlapping_pixels_segmentation)\n",
    "        all_futures.append(future)\n",
    "    all_outputs = client.gather(all_futures)\n",
    "    \n",
    "    \n",
    "    # tmp_saving\n",
    "    pickle.dump(all_outputs,open(segmentation_output_path / ('output_removal_tmp.pkl'), 'wb'))\n",
    "    \n",
    "    all_obj_original = {}\n",
    "    for idx,fov_subdataset in dataset_nuclei.dataset.iterrows():\n",
    "        segmented_region_img = load_stitched_segmented_data_full_dict(fov_subdataset,segmentation_output_path)\n",
    "        all_obj_original.update(segmented_region_img)\n",
    "\n",
    "    all_remove_objs_list = []\n",
    "    all_add_objs = {}\n",
    "    for rem, obj in all_outputs:\n",
    "        all_remove_objs_list.append(rem)\n",
    "        all_add_objs.update(obj)\n",
    "    all_remove_objs_list = [val for el in all_remove_objs_list for val in el ]\n",
    "\n",
    "    for cell_id, coords in all_add_objs.items():\n",
    "        all_obj_original[cell_id]['stitched_coords'] = coords\n",
    "\n",
    "    all_remove_objs_list_tmp=all_remove_objs_list.copy()\n",
    "    for obj in all_obj_original:\n",
    "        if obj in all_remove_objs_list_tmp:\n",
    "            all_remove_objs_list_tmp.remove(obj)\n",
    "\n",
    "    for obj in all_remove_objs_list_tmp:\n",
    "        all_obj_original.pop(obj,None)\n",
    "        \n",
    "    \n",
    "    pickle.dump(all_obj_original,open(segmentation_output_path / ('segmented_objects_dict.pkl'), 'wb'))\n",
    "    \n",
    "    # Create image\n",
    "    # Calculate image size \n",
    "\n",
    "    row_min = tile_corners_coords_global_pxl[:,0].min()\n",
    "    col_min = tile_corners_coords_global_pxl[:,1].min()\n",
    "    row_max = tile_corners_coords_global_pxl[:,0].max()\n",
    "    col_max = tile_corners_coords_global_pxl[:,1].max()\n",
    "\n",
    "    nrows = np.int(row_max - row_min + metadata_nuclei['img_height'])\n",
    "    ncols = np.int(col_max - col_min + metadata_nuclei['img_width'])\n",
    "\n",
    "    img = np.zeros([nrows,ncols])\n",
    "\n",
    "    for idx, data_dict in enumerate(all_obj_original.items()):\n",
    "        coords = data_dict[1]['stitched_coords']\n",
    "        coords = coords -[row_min,col_min]\n",
    "        coords = coords.astype(int)\n",
    "        img[coords[:,0],coords[:,1]] = idx\n",
    "\n",
    "    zarr_fpath = segmentation_output_path / 'image_segmented_labels.zarr'\n",
    "    store = zarr.DirectoryStore(zarr_fpath,'w')\n",
    "    grp = zarr.group(store=store,overwrite=True)\n",
    "    grp.create_dataset(name='segmented_labels_image', data=img)"
   ]
  },
  {
   "cell_type": "code",
   "execution_count": null,
   "id": "239d7c83-c9b2-479a-8497-0898c339efe6",
   "metadata": {},
   "outputs": [],
   "source": [
    "experiment_fpath = Path('/Users/simone.codeluppi/Documents/data_analysis_jlabs_sc/notebooks_pysmFISH/processing_folder/LBEXP20210718_EEL_Mouse_448_2')\n",
    "segmentation_output_path = experiment_fpath / 'fresh_tissue' / 'segmentation'"
   ]
  },
  {
   "cell_type": "code",
   "execution_count": null,
   "id": "32a13211-0d71-4268-94a8-0a1842303403",
   "metadata": {},
   "outputs": [],
   "source": [
    "from pysmFISH.segmentation import load_stitched_segmented_data_full_dict"
   ]
  },
  {
   "cell_type": "code",
   "execution_count": null,
   "id": "0ada3fef-690f-4548-b5dd-286afdf02f63",
   "metadata": {},
   "outputs": [],
   "source": [
    "%time\n",
    "create_label_image(experiment_fpath,\n",
    "                       segmentation_output_path,\n",
    "                       dataset_nuclei,\n",
    "                       nuclei_org_tiles,\n",
    "                       tile_corners_coords_global_pxl,\n",
    "                       client)"
   ]
  },
  {
   "cell_type": "code",
   "execution_count": null,
   "id": "f5c89e12-d3ba-40a6-a57e-68f3e09226cc",
   "metadata": {},
   "outputs": [],
   "source": [
    "def create_low_mag_beads_target(experiment_fpath):\n",
    "    all_counts_collected = []\n",
    "    counts_paths = (Path(experiment_fpath) / 'fresh_tissue' /'results').glob('*counts_beads_fresh_tissue_decoded_fov*')\n",
    "    for count_fpath in counts_paths:\n",
    "        data = pd.read_parquet(count_fpath)\n",
    "        data = data.loc[:, ['r_px_global_stitched_nuclei','c_px_global_stitched_nuclei']]\n",
    "        all_counts_collected.append(data)\n",
    "    all_counts_collected = pd.concat(all_counts_collected,axis=0)\n",
    "    target = all_counts_collected.loc[:,['r_px_global_stitched_nuclei','c_px_global_stitched_nuclei']].to_numpy()\n",
    "    return target"
   ]
  },
  {
   "cell_type": "code",
   "execution_count": null,
   "id": "397515b0-2239-4743-ab4c-0dc85fff92ec",
   "metadata": {},
   "outputs": [],
   "source": [
    "beads_df = create_low_mag_beads_target(experiment_fpath)\n"
   ]
  },
  {
   "cell_type": "code",
   "execution_count": null,
   "id": "9406523f-dd3a-4df1-8589-3298f14f4ac7",
   "metadata": {},
   "outputs": [],
   "source": [
    "np.save(segmentation_output_path /'beads-40X.npy',beads_df)"
   ]
  },
  {
   "cell_type": "code",
   "execution_count": null,
   "id": "3cd639c6-cedd-48da-93de-4f04bce3ff81",
   "metadata": {},
   "outputs": [],
   "source": [
    "def create_high_mag_beads_RNA_source(experiment_path,hamming_distance=3):\n",
    "    all_beads = []\n",
    "    all_RNA = []\n",
    "    filter_distance = hamming_distance / 16\n",
    "    counts_paths = (Path(experiment_path) / 'results').glob('*_decoded_fov_*')\n",
    "    for count_fpath in counts_paths:\n",
    "        data = pd.read_parquet(count_fpath)\n",
    "        data_beads = data.loc[(data.channel == 'Europium') &\n",
    "                        (data.mapped_beads_type == 'large') &\n",
    "                        (data.round_num == 1), ['r_px_global_stitched','c_px_global_stitched']]\n",
    "        \n",
    "        data_RNA = data.loc[(data.channel != 'Europium') &\n",
    "                            (data.hamming_distance < filter_distance), ['decoded_genes','r_px_global_stitched','c_px_global_stitched']]\n",
    "        all_beads.append(data_beads)\n",
    "        all_RNA.append(data_RNA)\n",
    "    all_beads = pd.concat(all_beads,axis=0)\n",
    "    all_RNA = pd.concat(all_RNA,axis=0)\n",
    "    source_beads = all_beads.loc[:,['r_px_global_stitched','c_px_global_stitched']].to_numpy()\n",
    "    source_RNA_df = all_RNA.loc[:,['decoded_genes','r_px_global_stitched','c_px_global_stitched']].to_numpy()\n",
    "    return source_beads, source_RNA_df"
   ]
  },
  {
   "cell_type": "code",
   "execution_count": null,
   "id": "d2e2e40a-f4b8-48ea-94a0-65723ce30673",
   "metadata": {},
   "outputs": [],
   "source": [
    "source_beads, source_RNA_df = create_high_mag_beads_RNA_source(experiment_fpath,hamming_distance=3)"
   ]
  },
  {
   "cell_type": "code",
   "execution_count": null,
   "id": "930cf8ff-8250-4bc6-8497-da402a7eb43b",
   "metadata": {},
   "outputs": [],
   "source": []
  },
  {
   "cell_type": "code",
   "execution_count": null,
   "id": "9cbab143-caf5-4a50-b3d1-ca67ce0a4174",
   "metadata": {},
   "outputs": [],
   "source": [
    "np.save(Path(experiment_fpath) / 'results' /'beads-60X-global.npy',beads_df)"
   ]
  },
  {
   "cell_type": "code",
   "execution_count": null,
   "id": "78048a49-7792-4ab8-be13-611387a51891",
   "metadata": {},
   "outputs": [],
   "source": [
    "def create_high_mag_beads_RNA_source_micro(experiment_path,hamming_distance=3):\n",
    "    all_beads = []\n",
    "    all_RNA = []\n",
    "    filter_distance = hamming_distance / 16\n",
    "    counts_paths = (Path(experiment_path) / 'results').glob('*_decoded_fov_*')\n",
    "    for count_fpath in counts_paths:\n",
    "        data = pd.read_parquet(count_fpath)\n",
    "        data_beads = data.loc[(data.channel == 'Europium') &\n",
    "                        (data.mapped_beads_type == 'large') &\n",
    "                        (data.round_num == 1), ['r_px_microscope_stitched','c_px_microscope_stitched']]\n",
    "        \n",
    "        data_RNA = data.loc[(data.channel != 'Europium') &\n",
    "                            (data.hamming_distance < filter_distance), ['decoded_genes','r_px_microscope_stitched','c_px_microscope_stitched']]\n",
    "        all_beads.append(data_beads)\n",
    "        all_RNA.append(data_RNA)\n",
    "    all_beads = pd.concat(all_beads,axis=0)\n",
    "    all_RNA = pd.concat(all_RNA,axis=0)\n",
    "    source_beads = all_beads.loc[:,['r_px_microscope_stitched','c_px_microscope_stitched']].to_numpy()\n",
    "    source_RNA_df = all_RNA.loc[:,['decoded_genes','r_px_microscope_stitched','c_px_microscope_stitched']].to_numpy()\n",
    "    return source_beads, source_RNA_df"
   ]
  },
  {
   "cell_type": "code",
   "execution_count": null,
   "id": "f06a3f97-ce5c-4b41-ba1c-ffa62951bee8",
   "metadata": {},
   "outputs": [],
   "source": [
    "source_beads, source_RNA_df = create_high_mag_beads_RNA_source_micro(experiment_fpath,hamming_distance=3)"
   ]
  },
  {
   "cell_type": "code",
   "execution_count": null,
   "id": "a5e25386-d550-4176-8ee8-cd497d4526fc",
   "metadata": {},
   "outputs": [],
   "source": [
    "source_beads.shape"
   ]
  },
  {
   "cell_type": "code",
   "execution_count": null,
   "id": "2559ebab-fabe-44cb-9dd6-ad6138da7d0f",
   "metadata": {},
   "outputs": [],
   "source": [
    "np.save(Path(experiment_fpath) / 'results' /'beads-60X-microscope.npy',beads_df)"
   ]
  },
  {
   "cell_type": "code",
   "execution_count": null,
   "id": "9d13adfd-efdc-44c3-8c8d-81c43c721793",
   "metadata": {},
   "outputs": [],
   "source": [
    "df = pd.read_parquet(Path(experiment_fpath) / 'results' / 'LBEXP20210718_EEL_Mouse_448_2_decoded_fov_554.parquet')"
   ]
  },
  {
   "cell_type": "code",
   "execution_count": null,
   "id": "bcb73b1f-6c71-417b-9ca4-70dc8dd488cc",
   "metadata": {},
   "outputs": [],
   "source": [
    "df.loc[(df.channel == 'Europium')&\n",
    "       (df.round_num == 1) &\n",
    "       (df.mapped_beads_type,:]"
   ]
  },
  {
   "cell_type": "code",
   "execution_count": null,
   "id": "13d617e0-df8d-4c41-b5bf-edca730e345b",
   "metadata": {},
   "outputs": [],
   "source": [
    "df.mapped_beads_type.unique()"
   ]
  },
  {
   "cell_type": "code",
   "execution_count": null,
   "id": "7ae10e90-cf1e-471b-b786-258c8d5d0e18",
   "metadata": {},
   "outputs": [],
   "source": [
    "df.columns"
   ]
  },
  {
   "cell_type": "code",
   "execution_count": null,
   "id": "4f6d2c0f-4afb-4184-98c3-387b70756d4d",
   "metadata": {
    "tags": []
   },
   "outputs": [],
   "source": [
    "all_counts_collected = []\n",
    "counts_paths = (Path('/Users/simone.codeluppi/Downloads/') /'results').glob('*counts_beads_fresh_tissue_decoded_fov*')\n",
    "for count_fpath in counts_paths:\n",
    "    data = pd.read_parquet(count_fpath)\n",
    "    data = data.loc[:, ['r_px_original','c_px_original']]\n",
    "    all_counts_collected.append(data)\n",
    "all_counts_collected = pd.concat(all_counts_collected,axis=0)\n",
    "target = all_counts_collected.loc[:,['r_px_original','c_px_original']].to_numpy()"
   ]
  },
  {
   "cell_type": "code",
   "execution_count": null,
   "id": "ccd458da-95f8-4468-805a-295595075aac",
   "metadata": {},
   "outputs": [],
   "source": [
    "target.shape"
   ]
  },
  {
   "cell_type": "code",
   "execution_count": null,
   "id": "8f67f420-f91c-4140-870e-ca49b73e3813",
   "metadata": {
    "tags": []
   },
   "outputs": [],
   "source": [
    "seg = pickle.load(open('/Users/simone.codeluppi/Downloads/segmented_objects_dict.pkl','rb' ))"
   ]
  },
  {
   "cell_type": "code",
   "execution_count": null,
   "id": "b67fcee6-6414-4c58-8f67-17cb5d52f5ec",
   "metadata": {},
   "outputs": [],
   "source": []
  },
  {
   "cell_type": "code",
   "execution_count": null,
   "id": "0b2b86fc-c9e4-4703-a184-9edaca27e6e7",
   "metadata": {
    "tags": []
   },
   "outputs": [],
   "source": [
    "# Serial\n",
    "for idx,fov_subdataset in dataset_nuclei.dataset.iterrows():\n",
    "    register_coords_obj(fov_subdataset,experiment_fpath,tile_corners_coords_global_pxl,metadata_nuclei,reference_corner_fov_position='top-right')"
   ]
  },
  {
   "cell_type": "code",
   "execution_count": null,
   "id": "8f75bc1d-0c29-46da-a5ca-495b45927b24",
   "metadata": {
    "tags": []
   },
   "outputs": [],
   "source": [
    "# Parallel\n",
    "all_futures = []\n",
    "for idx,fov_subdataset in dataset_nuclei.dataset.iterrows():\n",
    "    future = client.submit(register_coords_obj,fov_subdataset,\n",
    "                           experiment_fpath,\n",
    "                           segmentation_output_path,\n",
    "                          tile_corners_coords_global_pxl,\n",
    "                          metadata_nuclei,\n",
    "                           reference_corner_fov_position='top-right')\n",
    "    all_futures.append(future)\n",
    "_ = client.gather(all_futures)"
   ]
  },
  {
   "cell_type": "code",
   "execution_count": null,
   "id": "fa161329-d179-4e64-bff1-d7b8f77c6942",
   "metadata": {},
   "outputs": [],
   "source": [
    "# Remove overlapping objects serial\n",
    "segmentation_output_path = Path(experiment_fpath) / 'fresh_tissue' / 'segmentation'\n",
    "min_overlapping_pixels_segmentation = 20\n",
    "all_output = []\n",
    "for idx,fov_subdataset in dataset_nuclei.dataset.iterrows():\n",
    "    all_output.append(remove_overlapping_obj(\n",
    "                           fov_subdataset,\n",
    "                           nuclei_org_tiles,\n",
    "                          segmentation_output_path,\n",
    "                          min_overlapping_pixels_segmentation))\n"
   ]
  },
  {
   "cell_type": "code",
   "execution_count": null,
   "id": "680eca76-e4c1-4b5b-a40c-f8f7c19b1ed3",
   "metadata": {},
   "outputs": [],
   "source": [
    "# Remove overlapping objects paralle\n",
    "min_overlapping_pixels_segmentation = 20\n",
    "all_futures = []\n",
    "for idx,fov_subdataset in dataset_nuclei.dataset.iterrows():\n",
    "    future = client.submit(remove_overlapping_obj,\n",
    "                           fov_subdataset,\n",
    "                           nuclei_org_tiles,\n",
    "                          segmentation_output_path,\n",
    "                          min_overlapping_pixels_segmentation)\n",
    "    all_futures.append(future)\n",
    "all_outputs = client.gather(all_futures)\n"
   ]
  },
  {
   "cell_type": "code",
   "execution_count": null,
   "id": "c052d5ad-5748-4bc4-b554-622beea7b30e",
   "metadata": {
    "tags": []
   },
   "outputs": [],
   "source": [
    "# tmp_saving\n",
    "pickle.dump(all_output,open(segmentation_output_path / ('output_removal_tmp.pkl'), 'wb'))"
   ]
  },
  {
   "cell_type": "code",
   "execution_count": null,
   "id": "d4f98512-eec1-48f6-b878-d5282156bf52",
   "metadata": {},
   "outputs": [],
   "source": [
    "all_obj_original = {}\n",
    "for idx,fov_subdataset in dataset_nuclei.dataset.iterrows():\n",
    "    segmented_region_img = load_stitched_segmented_data_full_dict(fov_subdataset,segmentation_output_path)\n",
    "    all_obj_original.update(segmented_region_img)"
   ]
  },
  {
   "cell_type": "code",
   "execution_count": null,
   "id": "57cb367e-6c5d-4302-8842-bb9af7aa1ab7",
   "metadata": {
    "tags": []
   },
   "outputs": [],
   "source": [
    "all_obj_original = {}\n",
    "for idx,fov_subdataset in dataset_nuclei.dataset.iterrows():\n",
    "    segmented_region_img = load_stitched_segmented_data_full_dict(fov_subdataset,segmentation_output_path)\n",
    "    all_obj_original.update(segmented_region_img)\n",
    "\n",
    "all_remove_objs_list = []\n",
    "all_add_objs = {}\n",
    "for rem, obj in all_output:\n",
    "    all_remove_objs_list.append(rem)\n",
    "    all_add_objs.update(obj)\n",
    "all_remove_objs_list = [val for el in all_remove_objs_list for val in el ]\n",
    "\n",
    "for cell_id, coords in all_add_objs.items():\n",
    "    all_obj_original[cell_id]['stitched_coords'] = coords\n",
    "\n",
    "all_remove_objs_list_tmp=all_remove_objs_list.copy()\n",
    "for obj in all_obj_original:\n",
    "    if obj in all_remove_objs_list_tmp:\n",
    "        all_remove_objs_list_tmp.remove(obj)\n",
    "\n",
    "for obj in all_remove_objs_list_tmp:\n",
    "    all_obj_original.pop(obj,None)\n",
    "        "
   ]
  },
  {
   "cell_type": "code",
   "execution_count": null,
   "id": "9d1a0409-5448-4187-8bf3-7f5e77936c22",
   "metadata": {},
   "outputs": [],
   "source": [
    "for obj in all_remove_objs_list:\n",
    "    all_obj_original.pop(obj,None)"
   ]
  },
  {
   "cell_type": "code",
   "execution_count": null,
   "id": "2345ab1b-f7f5-4148-b9d2-e226d2ed933e",
   "metadata": {
    "tags": []
   },
   "outputs": [],
   "source": [
    "rem"
   ]
  },
  {
   "cell_type": "code",
   "execution_count": null,
   "id": "60d7654e-9a10-42cc-aa50-099b25757d54",
   "metadata": {},
   "outputs": [],
   "source": [
    "pickle.dump(all_obj_original,open(segmentation_output_path / ('segmented_objects_dict.pkl'), 'wb'))"
   ]
  },
  {
   "cell_type": "code",
   "execution_count": null,
   "id": "2e7022c3-ac06-4f31-b99a-4a04dfd17ea6",
   "metadata": {},
   "outputs": [],
   "source": [
    "# Create image\n",
    "# Calculate image size \n",
    "\n",
    "row_min = tile_corners_coords_global_pxl[:,0].min()\n",
    "col_min = tile_corners_coords_global_pxl[:,1].min()\n",
    "row_max = tile_corners_coords_global_pxl[:,0].max()\n",
    "col_max = tile_corners_coords_global_pxl[:,1].max()\n",
    "\n",
    "nrows = np.int(row_max - row_min + metadata_nuclei['img_height'])\n",
    "ncols = np.int(col_max - col_min + metadata_nuclei['img_width'])\n",
    "\n",
    "img = np.zeros([nrows,ncols])\n",
    "\n",
    "for idx, data_dict in enumerate(all_obj_original.items()):\n",
    "    coords = data_dict[1]['stitched_coords']\n",
    "    coords = coords -[row_min,col_min]\n",
    "    coords = coords.astype(int)\n",
    "    img[coords[:,0],coords[:,1]] = idx\n",
    "    \n",
    "zarr_fpath = segmentation_output_path / 'image_segmented_labels.zarr'\n",
    "store = zarr.DirectoryStore(zarr_fpath,'w')\n",
    "grp = zarr.group(store=store,overwrite=True)\n",
    "grp.create_dataset(name='segmented_labels_image', data=img)"
   ]
  },
  {
   "cell_type": "code",
   "execution_count": null,
   "id": "b9d8d279-7609-4fb1-bf7b-ebc1c668c89c",
   "metadata": {},
   "outputs": [],
   "source": [
    "img.max()"
   ]
  },
  {
   "cell_type": "code",
   "execution_count": null,
   "id": "6e9443ca-312a-48ca-8002-16c1b53fe564",
   "metadata": {},
   "outputs": [],
   "source": [
    "row_min = tile_corners_coords_global_pxl[:,0].min()\n",
    "col_min = tile_corners_coords_global_pxl[:,1].min()\n",
    "row_max = tile_corners_coords_global_pxl[:,0].max()\n",
    "col_max = tile_corners_coords_global_pxl[:,1].max()\n",
    "\n",
    "nrows = np.int(row_max - row_min + metadata_nuclei['img_height'])\n",
    "ncols = np.int(col_max - col_min + metadata_nuclei['img_width'])\n",
    "\n",
    "img = np.zeros([nrows,ncols])\n",
    "for idx, data_dict in enumerate(all_obj_original.items()):\n",
    "    coords = data_dict[1]['stitched_coords']\n",
    "    coords = coords -[row_min,col_min]\n",
    "    coords = coords.astype(int)\n",
    "    img[coords[:,0],coords[:,1]] = idx"
   ]
  },
  {
   "cell_type": "code",
   "execution_count": null,
   "id": "d4d49452-8d71-4e94-84e7-8d903451587b",
   "metadata": {},
   "outputs": [],
   "source": [
    "all_add_objs['0-5']"
   ]
  },
  {
   "cell_type": "code",
   "execution_count": null,
   "id": "5b0deb3c-3f04-4af5-907a-1eaee853c009",
   "metadata": {},
   "outputs": [],
   "source": [
    "zarr_fpath = segmentation_output_path / 'image_segmented_labels.zarr'\n",
    "store = zarr.DirectoryStore(zarr_fpath,'w')\n",
    "grp = zarr.group(store=store,overwrite=True)\n",
    "grp.create_dataset(name='segmented_labels_image', data=img)"
   ]
  },
  {
   "cell_type": "code",
   "execution_count": null,
   "id": "03627e64-fb8c-46b7-807b-8f38f3774e23",
   "metadata": {},
   "outputs": [],
   "source": [
    "all_add_objs"
   ]
  },
  {
   "cell_type": "code",
   "execution_count": null,
   "id": "4d0da8d2-31b4-4e13-adb0-52551b730b93",
   "metadata": {},
   "outputs": [],
   "source": [
    "from pysmFISH.segmentation_NN import Segmenation_NN"
   ]
  },
  {
   "cell_type": "code",
   "execution_count": null,
   "id": "bbcfc866-a3fe-4681-9d30-c552b04d2940",
   "metadata": {},
   "outputs": [],
   "source": [
    "segmentation = Segmenation_NN('stardist')"
   ]
  },
  {
   "cell_type": "code",
   "execution_count": null,
   "id": "bb1670d0-2c39-4504-8b4a-8a899a194bf0",
   "metadata": {},
   "outputs": [],
   "source": [
    "mask = segmentation.segment(img)"
   ]
  },
  {
   "cell_type": "code",
   "execution_count": null,
   "id": "c4ed9a79-dc1b-4258-b3a5-bd63228d54f5",
   "metadata": {},
   "outputs": [],
   "source": [
    "from stardist.models import StarDist2D \n",
    "from csbdeep.utils import normalize"
   ]
  },
  {
   "cell_type": "code",
   "execution_count": null,
   "id": "5320a0a9-4f98-4baa-9874-4aeebef86486",
   "metadata": {},
   "outputs": [],
   "source": [
    "#Instantiate model    \n",
    "model = StarDist2D.from_pretrained('2D_versatile_fluo')\n",
    "        \n",
    "#Segment\n",
    "mask, _ = model.predict_instances(normalize(img),verbose=True)"
   ]
  },
  {
   "cell_type": "code",
   "execution_count": null,
   "id": "069cf844-23fd-4981-860b-41707d6436c0",
   "metadata": {},
   "outputs": [],
   "source": []
  },
  {
   "cell_type": "code",
   "execution_count": null,
   "id": "c1118212-0231-4220-a8f3-90e51ccf093e",
   "metadata": {},
   "outputs": [],
   "source": [
    "model = StarDist2D.from_pretrained('2D_versatile_fluo')"
   ]
  },
  {
   "cell_type": "code",
   "execution_count": null,
   "id": "c9606c96-c94e-4958-bc6e-b7ea36fb6160",
   "metadata": {},
   "outputs": [],
   "source": [
    "model.predict_instances"
   ]
  },
  {
   "cell_type": "code",
   "execution_count": null,
   "id": "caebaaba-5b1d-400b-8128-0f6e001df9ca",
   "metadata": {},
   "outputs": [],
   "source": [
    "from cellpose import models"
   ]
  },
  {
   "cell_type": "code",
   "execution_count": null,
   "id": "d029831c-5249-4359-bc4a-655a822f50ce",
   "metadata": {},
   "outputs": [],
   "source": [
    "running_pipeline.tiles_org.reference_corner_fov_position"
   ]
  },
  {
   "cell_type": "code",
   "execution_count": null,
   "id": "27102d45-df62-4e1c-8a8d-626e7d18ca6f",
   "metadata": {},
   "outputs": [],
   "source": [
    "running_pipeline.metadata"
   ]
  },
  {
   "cell_type": "code",
   "execution_count": null,
   "id": "27b7f3b5-b617-41f4-94eb-263c17b817b2",
   "metadata": {},
   "outputs": [],
   "source": [
    "running_pipeline.c"
   ]
  }
 ],
 "metadata": {
  "kernelspec": {
   "display_name": "test_d_seg",
   "language": "python",
   "name": "test_d_seg"
  },
  "language_info": {
   "codemirror_mode": {
    "name": "ipython",
    "version": 3
   },
   "file_extension": ".py",
   "mimetype": "text/x-python",
   "name": "python",
   "nbconvert_exporter": "python",
   "pygments_lexer": "ipython3",
   "version": "3.8.5"
  }
 },
 "nbformat": 4,
 "nbformat_minor": 5
}
