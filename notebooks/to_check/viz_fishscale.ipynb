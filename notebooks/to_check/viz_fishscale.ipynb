{
 "cells": [
  {
   "cell_type": "code",
   "execution_count": null,
   "id": "a96f55d4-2bae-46c7-8a06-d75d504014ac",
   "metadata": {},
   "outputs": [],
   "source": [
    "# pip install pandas\n",
    "# pip install PyQt5\n",
    "# pip install geopandas\n",
    "# pip install matplotlib\n",
    "# pip install networkx\n",
    "# pip install scikit-image\n",
    "# pip install scikit-learn\n",
    "# pip install pint\n",
    "# conda install numba\n",
    "# pip install ripleyk\n",
    "# python -m pip install \"dask[distributed]\" --upgrade\n",
    "# pip install scanpy\n",
    "# bone_fight from linnarsson github\n",
    "# pip install torch\n",
    "# pip install loompy\n",
    "# pip install pyarrow\n",
    "# pip install open3d"
   ]
  },
  {
   "cell_type": "code",
   "execution_count": 1,
   "id": "ae3b55bb-1dc9-4d6b-b14a-5d614368fc0f",
   "metadata": {},
   "outputs": [],
   "source": [
    "%load_ext autoreload\n",
    "%autoreload 2"
   ]
  },
  {
   "cell_type": "code",
   "execution_count": 2,
   "id": "360e78d4-5c78-4300-b72c-bd7397e1af08",
   "metadata": {},
   "outputs": [],
   "source": [
    "import sys\n",
    "sys.path.append('/Users/simone.codeluppi/Github_code/')"
   ]
  },
  {
   "cell_type": "code",
   "execution_count": 3,
   "id": "01799541-a7cf-47d2-8f4c-afa5bf42a3e9",
   "metadata": {},
   "outputs": [
    {
     "ename": "ModuleNotFoundError",
     "evalue": "No module named 'geopandas'",
     "output_type": "error",
     "traceback": [
      "\u001b[0;31m---------------------------------------------------------------------------\u001b[0m",
      "\u001b[0;31mModuleNotFoundError\u001b[0m                       Traceback (most recent call last)",
      "\u001b[0;32m<ipython-input-3-f9abd7d251ee>\u001b[0m in \u001b[0;36m<module>\u001b[0;34m\u001b[0m\n\u001b[0;32m----> 1\u001b[0;31m \u001b[0;32mfrom\u001b[0m \u001b[0mFISHscale\u001b[0m\u001b[0;34m.\u001b[0m\u001b[0mutils\u001b[0m\u001b[0;34m.\u001b[0m\u001b[0mdataset\u001b[0m \u001b[0;32mimport\u001b[0m \u001b[0mDataset\u001b[0m\u001b[0;34m,\u001b[0m \u001b[0mMultiDataset\u001b[0m\u001b[0;34m\u001b[0m\u001b[0;34m\u001b[0m\u001b[0m\n\u001b[0m",
      "\u001b[0;32m~/Github_code/FISHscale/utils/dataset.py\u001b[0m in \u001b[0;36m<module>\u001b[0;34m\u001b[0m\n\u001b[1;32m      6\u001b[0m \u001b[0;32mimport\u001b[0m \u001b[0mpandas\u001b[0m \u001b[0;32mas\u001b[0m \u001b[0mpd\u001b[0m\u001b[0;34m\u001b[0m\u001b[0;34m\u001b[0m\u001b[0m\n\u001b[1;32m      7\u001b[0m \u001b[0;32mfrom\u001b[0m \u001b[0mFISHscale\u001b[0m\u001b[0;34m.\u001b[0m\u001b[0mvisualization\u001b[0m\u001b[0;34m.\u001b[0m\u001b[0mprimitiveVis_open3dv2\u001b[0m \u001b[0;32mimport\u001b[0m \u001b[0mWindow\u001b[0m\u001b[0;34m\u001b[0m\u001b[0;34m\u001b[0m\u001b[0m\n\u001b[0;32m----> 8\u001b[0;31m \u001b[0;32mfrom\u001b[0m \u001b[0mFISHscale\u001b[0m\u001b[0;34m.\u001b[0m\u001b[0mutils\u001b[0m\u001b[0;34m.\u001b[0m\u001b[0mhex_regionalization\u001b[0m \u001b[0;32mimport\u001b[0m \u001b[0mRegionalize\u001b[0m\u001b[0;34m\u001b[0m\u001b[0;34m\u001b[0m\u001b[0m\n\u001b[0m\u001b[1;32m      9\u001b[0m \u001b[0;32mfrom\u001b[0m \u001b[0mFISHscale\u001b[0m\u001b[0;34m.\u001b[0m\u001b[0mutils\u001b[0m\u001b[0;34m.\u001b[0m\u001b[0mfast_iteration\u001b[0m \u001b[0;32mimport\u001b[0m \u001b[0mIteration\u001b[0m\u001b[0;34m,\u001b[0m \u001b[0mMultiIteration\u001b[0m\u001b[0;34m\u001b[0m\u001b[0;34m\u001b[0m\u001b[0m\n\u001b[1;32m     10\u001b[0m \u001b[0;32mfrom\u001b[0m \u001b[0mFISHscale\u001b[0m\u001b[0;34m.\u001b[0m\u001b[0mutils\u001b[0m\u001b[0;34m.\u001b[0m\u001b[0mcolors\u001b[0m \u001b[0;32mimport\u001b[0m \u001b[0mManyColors\u001b[0m\u001b[0;34m\u001b[0m\u001b[0;34m\u001b[0m\u001b[0m\n",
      "\u001b[0;32m~/Github_code/FISHscale/utils/hex_regionalization.py\u001b[0m in \u001b[0;36m<module>\u001b[0;34m\u001b[0m\n\u001b[1;32m      1\u001b[0m \u001b[0;32mimport\u001b[0m \u001b[0mmath\u001b[0m\u001b[0;34m\u001b[0m\u001b[0;34m\u001b[0m\u001b[0m\n\u001b[1;32m      2\u001b[0m \u001b[0;32mfrom\u001b[0m \u001b[0mitertools\u001b[0m \u001b[0;32mimport\u001b[0m  \u001b[0mpermutations\u001b[0m\u001b[0;34m\u001b[0m\u001b[0;34m\u001b[0m\u001b[0m\n\u001b[0;32m----> 3\u001b[0;31m \u001b[0;32mimport\u001b[0m \u001b[0mgeopandas\u001b[0m \u001b[0;32mas\u001b[0m \u001b[0mgp\u001b[0m\u001b[0;34m\u001b[0m\u001b[0;34m\u001b[0m\u001b[0m\n\u001b[0m\u001b[1;32m      4\u001b[0m \u001b[0;32mimport\u001b[0m \u001b[0mmatplotlib\u001b[0m\u001b[0;34m.\u001b[0m\u001b[0mpyplot\u001b[0m \u001b[0;32mas\u001b[0m \u001b[0mplt\u001b[0m\u001b[0;34m\u001b[0m\u001b[0;34m\u001b[0m\u001b[0m\n\u001b[1;32m      5\u001b[0m \u001b[0;32mimport\u001b[0m \u001b[0mnetworkx\u001b[0m \u001b[0;32mas\u001b[0m \u001b[0mnx\u001b[0m\u001b[0;34m\u001b[0m\u001b[0;34m\u001b[0m\u001b[0m\n",
      "\u001b[0;31mModuleNotFoundError\u001b[0m: No module named 'geopandas'"
     ]
    }
   ],
   "source": [
    "from FISHscale.utils.dataset import Dataset, MultiDataset"
   ]
  },
  {
   "cell_type": "code",
   "execution_count": null,
   "id": "18c1c161-227f-4ed4-a5a0-330eac88bfff",
   "metadata": {},
   "outputs": [],
   "source": [
    "DS = Dataset('/Users/simone.codeluppi/Downloads/211210_10_27_26_LBEXP20211119_EEL_HE_5w_810um_data_summary_simple_plotting_cleaned_microscope_stitched.parquet',    \n",
    "x_label='r_px_microscope_stitched', y_label='c_px_microscope_stitched',gene_label='decoded_genes')"
   ]
  },
  {
   "cell_type": "code",
   "execution_count": null,
   "id": "8cd9e2c6-c483-4fbd-901d-5ecce4f1d4cf",
   "metadata": {},
   "outputs": [],
   "source": [
    "DS.visualize()"
   ]
  },
  {
   "cell_type": "code",
   "execution_count": 1,
   "id": "bced0aea-2c20-4453-b687-04201f13d0d3",
   "metadata": {},
   "outputs": [],
   "source": [
    "import pandas as pd"
   ]
  },
  {
   "cell_type": "code",
   "execution_count": null,
   "id": "99dd730a-c645-40b8-85b8-513bb1767022",
   "metadata": {},
   "outputs": [],
   "source": [
    "data = pd.read_parquet('/Users/simone.codeluppi/Downloads/Mouse-wholebrain-448genes-EELV2-647_HE_V5_extended_EELV2_codebook_16_6_5Alex647N.parquet')"
   ]
  },
  {
   "cell_type": "code",
   "execution_count": null,
   "id": "af7fd8ed-6089-4690-a7a6-b0b0dd0275b9",
   "metadata": {},
   "outputs": [],
   "source": [
    "data.loc[data.Gene.str.contains('Control'),:]"
   ]
  },
  {
   "cell_type": "code",
   "execution_count": null,
   "id": "8a8da9ba-7e4a-46b5-ac6a-32f3dd3e3c68",
   "metadata": {},
   "outputs": [],
   "source": [
    "md = MultiDataset('/Users/simone.codeluppi/Downloads/dot_removed/', \n",
    "                  x_label='c_px_global_stitched', y_label='r_px_global_stitched',\n",
    "                  gene_label = 'decoded_genes', reparse=False, pixel_size='0.18 micrometer')"
   ]
  },
  {
   "cell_type": "code",
   "execution_count": null,
   "id": "e35587f7-68f7-4dfb-8828-15e75b544cbb",
   "metadata": {},
   "outputs": [],
   "source": [
    "md.visualize()"
   ]
  },
  {
   "cell_type": "code",
   "execution_count": 10,
   "id": "a8c50926-0db2-4572-bab3-cbe164944de7",
   "metadata": {},
   "outputs": [],
   "source": [
    "import pandas as pd"
   ]
  },
  {
   "cell_type": "code",
   "execution_count": 11,
   "id": "3fc516a0-3e25-4f8c-8279-ff2c48cfa5dd",
   "metadata": {},
   "outputs": [],
   "source": [
    "data = pd.read_parquet('/Users/simone.codeluppi/Downloads/211120_03_45_54_AMEXP20210909_EEL_SNRN2_HA2_data_summary_simple_plotting_cleaned_global_stitched.parquet')"
   ]
  },
  {
   "cell_type": "code",
   "execution_count": 22,
   "id": "e2daf8e7-c9fe-4550-b8ea-505dc599610c",
   "metadata": {},
   "outputs": [
    {
     "data": {
      "text/plain": [
       "Index(['fov_num', 'r_px_microscope_stitched', 'c_px_microscope_stitched',\n",
       "       'decoded_genes'],\n",
       "      dtype='object')"
      ]
     },
     "execution_count": 22,
     "metadata": {},
     "output_type": "execute_result"
    }
   ],
   "source": [
    "data.columns"
   ]
  },
  {
   "cell_type": "code",
   "execution_count": 12,
   "id": "c1c6ee53-5ac7-4804-ac93-9553584e1e97",
   "metadata": {},
   "outputs": [
    {
     "data": {
      "text/plain": [
       "(2162505, 4)"
      ]
     },
     "execution_count": 12,
     "metadata": {},
     "output_type": "execute_result"
    }
   ],
   "source": [
    "data.shape"
   ]
  },
  {
   "cell_type": "code",
   "execution_count": 11,
   "id": "d2d9acd5-e0ff-4614-b63a-014305e73806",
   "metadata": {},
   "outputs": [
    {
     "data": {
      "text/plain": [
       "array([  1,   2,   3,   4,   5,   6,   7,   8,   9,  10,  11,  12,  13,\n",
       "        14,  15,  16,  17,  18,  19,  20,  21,  22,  23,  24,  25,  26,\n",
       "        27,  28,  29,  30,  31,  32,  33,  34,  35,  36,  37,  38,  39,\n",
       "        40,  41,  42,  43,  44,  45,  46,  47,  48,  49,  50,  51,  52,\n",
       "        53,  54,  55,  56,  57,  58,  59,  60,  61,  62,  63,  64,  65,\n",
       "        66,  67,  68,  69,  70,  71,  72,  73,  74,  75,  76,  77,  78,\n",
       "        79,  80,  82,  83,  84,  85,  86,  87,  88,  89,  90,  91,  92,\n",
       "        93,  94,  95,  96,  97,  98,  99, 100, 101, 102, 103, 104, 105,\n",
       "       106, 107, 108, 109, 110, 111, 112, 113, 114, 115, 116, 117, 118,\n",
       "       119, 120, 121, 122, 123, 124, 125, 126, 127, 128, 129, 130, 131,\n",
       "       132, 133, 134, 135, 136, 137, 138, 139, 140, 141, 142, 143, 144,\n",
       "       145, 146, 147, 148, 149, 150, 151, 152, 153, 154, 155, 156, 157,\n",
       "       158, 159, 160, 161, 162, 163, 164, 165, 166, 167, 168, 169, 170,\n",
       "       171, 172, 174, 175, 176, 177, 178, 179, 180, 181, 182, 183, 184,\n",
       "       185, 186, 187, 188, 189, 190, 191, 192, 193, 194, 195, 196, 197,\n",
       "       198, 199, 200, 201, 202, 203, 204, 205, 206, 207, 208, 209, 210,\n",
       "       211, 212, 213, 214, 215, 216, 217, 218, 219, 220, 221, 222, 223,\n",
       "       224, 225, 226, 227, 228, 229, 230, 231, 232, 233, 234, 235, 236,\n",
       "       237, 238, 239, 240, 241, 242, 243, 244, 245, 246, 247, 248, 249,\n",
       "       250, 251, 252, 253, 254, 255, 256, 257, 258, 259, 260, 261, 262,\n",
       "       263, 264, 265, 266, 267, 268, 269, 270, 271, 273, 274, 275, 276,\n",
       "       277, 278, 279, 280, 281, 282, 283, 284, 285, 286, 287, 288, 289,\n",
       "       290, 291, 292, 293, 294, 295, 296, 297, 298, 299, 300, 301, 302,\n",
       "       303, 304, 305, 306, 307, 308, 309, 310, 311, 312, 313, 314, 315,\n",
       "       316, 317, 318, 319, 320, 321, 322, 323, 324, 325, 326, 327, 328,\n",
       "       329, 330, 331, 332, 333, 334, 335, 336, 337, 338, 339, 340, 341,\n",
       "       342, 343, 344, 345, 346, 347, 348, 349, 350, 351, 352, 353, 354,\n",
       "       355, 356, 357, 358, 359, 360, 361, 362, 363, 364, 365, 366, 367,\n",
       "       368, 369, 370, 371, 372, 373, 374, 375, 376, 377, 378, 379, 380,\n",
       "       381, 382, 383, 384, 385, 386, 387, 388, 389, 390, 391, 392, 393,\n",
       "       394, 395, 396, 397, 398, 399, 400, 401, 402, 403, 404, 405, 406,\n",
       "       407, 408, 409, 410, 411, 412, 413, 414, 415, 416, 417, 418, 419,\n",
       "       420, 421, 422, 423, 424, 425, 426, 427, 428, 429, 430, 431, 432,\n",
       "       433, 434, 435, 436, 437, 438, 439, 440, 441, 442, 443, 444, 445,\n",
       "       446, 447, 448, 449, 450, 451, 452, 453, 454, 455, 456, 457, 458,\n",
       "       459, 460, 461, 462, 463, 464, 465, 466, 467, 468, 469, 470, 471,\n",
       "       472, 473, 474, 475, 476, 477, 478, 479, 480, 481, 482, 483, 484,\n",
       "       485, 486, 487, 488, 489, 490, 491, 492, 493, 494, 495, 496, 497,\n",
       "       498, 499, 500, 501, 502, 503, 504, 505, 506, 507, 508, 509, 510,\n",
       "       511, 512, 513, 514, 515, 516, 517, 518, 519, 520, 521, 522, 523,\n",
       "       524, 525, 526, 527, 528, 529, 530, 531, 532, 533, 534, 535, 536,\n",
       "       537, 538, 539, 540, 541, 542, 543, 544, 545, 546, 547, 548, 549,\n",
       "       550, 551, 552, 553, 554, 555, 556, 557, 558, 559, 560, 561, 562,\n",
       "       563, 564, 565, 566, 567, 568, 569, 570, 571, 572, 573, 574, 575,\n",
       "       576, 577, 578, 579, 580, 581, 582, 583, 584, 585, 586, 587, 588,\n",
       "       589, 590, 591, 592, 593, 594, 595, 596, 597, 598, 599, 600, 601,\n",
       "       602, 603, 604, 605, 606, 607, 608, 609, 610, 611, 612, 613, 614,\n",
       "       615, 616, 617, 618, 619, 620, 621, 622, 623, 624, 625, 626, 627,\n",
       "       628, 629, 630, 631, 632, 633, 634, 635, 636, 637, 638, 639, 640,\n",
       "       641, 642, 643, 644, 645, 646, 647, 648, 649, 650, 651, 652, 653,\n",
       "       654, 655, 656, 657, 658, 659, 660, 661, 662, 663, 664, 665, 666,\n",
       "       667, 668, 669, 670, 671, 672, 673, 674, 675, 676, 677, 678, 679,\n",
       "       680, 681, 682, 683, 684, 685, 686, 687, 688, 689, 690, 691, 692,\n",
       "       693, 694, 695, 696, 697, 698, 699, 700, 701, 702, 703, 704, 705,\n",
       "       706, 707, 708, 709, 710, 711, 712, 713, 714, 715, 716, 717, 718,\n",
       "       719, 720, 721, 722, 723, 724, 725, 726, 727, 728, 729, 730, 731,\n",
       "       732, 733, 734, 735, 736, 737, 738, 739, 740, 741, 742, 743, 744,\n",
       "       745, 746, 748, 749, 750, 751, 752, 753, 754, 755, 756, 757, 758,\n",
       "       759, 760, 761, 762, 763, 764, 765, 766, 767, 768, 769, 770, 771,\n",
       "       772, 773, 774, 775, 776, 777, 778, 779, 780, 781, 782, 783, 784,\n",
       "       785, 786, 787, 788, 789, 790, 791, 792, 793, 794, 795, 796, 797,\n",
       "       798, 799, 800, 801, 802, 803, 804, 805, 806, 807, 808, 809, 810,\n",
       "       811, 812, 813, 814, 815, 816, 817, 818, 819, 820, 821, 822, 823,\n",
       "       824, 825, 826, 827, 828, 829, 830, 831, 832, 833, 834, 835, 836,\n",
       "       837, 838, 839, 840, 841, 842, 843, 844, 845, 846, 847, 848, 849,\n",
       "       850, 851, 852, 853, 854, 855, 856, 857, 858, 859, 860, 861, 862,\n",
       "       863, 864, 865, 866, 867, 868, 869, 870, 871, 872, 873, 874, 875,\n",
       "       876, 877, 878, 879, 880, 881, 882, 883, 884, 885, 886, 887, 888,\n",
       "       889, 890, 891, 892, 893, 894, 895, 896, 897, 898, 899, 900, 901,\n",
       "       902, 903, 904, 905, 906, 907, 908, 909, 910, 911, 912, 913, 914,\n",
       "       915, 916, 917, 918, 919, 920, 921, 922, 923, 924, 925, 926, 927,\n",
       "       928, 929, 930, 931, 932, 933, 934, 935, 936, 937, 938, 939, 940,\n",
       "       941, 942, 943, 944, 945, 946, 947, 948, 949, 950, 951, 952, 953,\n",
       "       954, 955, 956, 957, 958, 959, 960, 961, 962, 963, 964, 965, 966,\n",
       "       967, 968])"
      ]
     },
     "execution_count": 11,
     "metadata": {},
     "output_type": "execute_result"
    }
   ],
   "source": [
    "data.fov_num.unique()"
   ]
  },
  {
   "cell_type": "code",
   "execution_count": null,
   "id": "34238e39-5f37-41d4-91d3-27d14c37d0af",
   "metadata": {},
   "outputs": [],
   "source": []
  }
 ],
 "metadata": {
  "kernelspec": {
   "display_name": "test_d",
   "language": "python",
   "name": "test_d"
  },
  "language_info": {
   "codemirror_mode": {
    "name": "ipython",
    "version": 3
   },
   "file_extension": ".py",
   "mimetype": "text/x-python",
   "name": "python",
   "nbconvert_exporter": "python",
   "pygments_lexer": "ipython3",
   "version": "3.8.2"
  }
 },
 "nbformat": 4,
 "nbformat_minor": 5
}
