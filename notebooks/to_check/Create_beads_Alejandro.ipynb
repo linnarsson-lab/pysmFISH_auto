{
 "cells": [
  {
   "cell_type": "code",
   "execution_count": 2,
   "id": "2d6a7816-6a70-4d15-ba99-3e6bc5a37631",
   "metadata": {},
   "outputs": [],
   "source": [
    "import pandas as pd\n",
    "import numpy as np\n",
    "from pathlib import Path"
   ]
  },
  {
   "cell_type": "code",
   "execution_count": 3,
   "id": "3d89bbd8-937b-49d2-9853-631fcf624e34",
   "metadata": {},
   "outputs": [],
   "source": [
    "experiment_fpath = Path('/rawa/sl/fish_rawdata/AMEXP20210609_EEL_V1C_HA2')"
   ]
  },
  {
   "cell_type": "code",
   "execution_count": 4,
   "id": "71a63ea4-2838-4f07-8c3f-56bee2384a94",
   "metadata": {},
   "outputs": [],
   "source": [
    "data_path_40X = experiment_fpath / 'fresh_tissue' / 'results' / '211217_16_44_22_fresh_tissue_data_summary_simple_plotting_global_stitched_nuclei.parquet'\n",
    "data_40X = pd.read_parquet(data_path_40X)\n",
    "data_40X_npy = data_40X.loc[:,['r_px_global_stitched_nuclei','c_px_global_stitched_nuclei']].to_numpy()\n",
    "\n",
    "data_path_60X = (experiment_fpath / 'results').glob('*decoded*')\n",
    "all_60X = []\n",
    "for fpath in data_path_60X:\n",
    "    data_60X = pd.read_parquet(fpath)\n",
    "    data_60X = data_60X.loc[(data_60X.channel == 'Europium') &\n",
    "                         (data_60X.mapped_beads_type == 'large')\n",
    "                         ,['r_px_global_stitched','c_px_global_stitched']].to_numpy()\n",
    "    all_60X.append(data_60X)\n",
    "    data_60X_npy = np.vstack(all_60X)\n"
   ]
  },
  {
   "cell_type": "code",
   "execution_count": 5,
   "id": "59c40b47-3a64-4a72-a686-8cd658a80ba1",
   "metadata": {},
   "outputs": [],
   "source": [
    "np.save(experiment_fpath / 'results' / '60X_beads.npy',data_60X_npy)\n",
    "np.save(experiment_fpath / 'results' / '40X_beads.npy',data_40X_npy)"
   ]
  },
  {
   "cell_type": "code",
   "execution_count": null,
   "id": "bf2081a8-b29e-455f-a86e-3f010b679987",
   "metadata": {},
   "outputs": [],
   "source": []
  }
 ],
 "metadata": {
  "kernelspec": {
   "display_name": "test_d",
   "language": "python",
   "name": "test_d"
  },
  "language_info": {
   "codemirror_mode": {
    "name": "ipython",
    "version": 3
   },
   "file_extension": ".py",
   "mimetype": "text/x-python",
   "name": "python",
   "nbconvert_exporter": "python",
   "pygments_lexer": "ipython3",
   "version": "3.8.5"
  }
 },
 "nbformat": 4,
 "nbformat_minor": 5
}
