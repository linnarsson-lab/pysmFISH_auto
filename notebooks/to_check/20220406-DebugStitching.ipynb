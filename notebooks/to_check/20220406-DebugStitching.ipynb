{
 "cells": [
  {
   "cell_type": "code",
   "execution_count": 1,
   "id": "70b54cd0-323f-4943-bd5e-42192f4713f3",
   "metadata": {},
   "outputs": [],
   "source": [
    "%load_ext autoreload\n",
    "%autoreload 2"
   ]
  },
  {
   "cell_type": "code",
   "execution_count": null,
   "id": "d5bb425a-8414-44df-abaf-75037c8e213c",
   "metadata": {},
   "outputs": [],
   "source": [
    "from pathlib import Path\n",
    "import time\n",
    "from pysmFISH.pipeline import Pipeline"
   ]
  },
  {
   "cell_type": "code",
   "execution_count": 3,
   "id": "2cc278e2-0d0b-4551-a065-ead71e7ebc1c",
   "metadata": {},
   "outputs": [],
   "source": [
    "DATA_PATH = Path('/Users/simone.codeluppi/Documents/data_analysis_jlabs_sc/AMEXP20211128_EEL_SL005_S1')"
   ]
  },
  {
   "cell_type": "code",
   "execution_count": null,
   "id": "47abb4e4-df5b-4af3-a633-590ec76bad54",
   "metadata": {},
   "outputs": [],
   "source": []
  }
 ],
 "metadata": {
  "kernelspec": {
   "display_name": "test_d",
   "language": "python",
   "name": "test_d"
  },
  "language_info": {
   "codemirror_mode": {
    "name": "ipython",
    "version": 3
   },
   "file_extension": ".py",
   "mimetype": "text/x-python",
   "name": "python",
   "nbconvert_exporter": "python",
   "pygments_lexer": "ipython3",
   "version": "3.8.2"
  }
 },
 "nbformat": 4,
 "nbformat_minor": 5
}
