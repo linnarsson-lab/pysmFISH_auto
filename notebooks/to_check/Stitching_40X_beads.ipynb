{
 "cells": [
  {
   "cell_type": "code",
   "execution_count": 1,
   "id": "6b293c31-3adb-4787-b6a8-47a870772158",
   "metadata": {},
   "outputs": [],
   "source": [
    "%load_ext autoreload\n",
    "%autoreload 2"
   ]
  },
  {
   "cell_type": "code",
   "execution_count": 2,
   "id": "ea14f7a5-3771-4b2d-891b-b1296df6a510",
   "metadata": {},
   "outputs": [],
   "source": [
    "%gui qt5"
   ]
  },
  {
   "cell_type": "code",
   "execution_count": 3,
   "id": "d19b718e-8937-4120-b342-c5e717361a30",
   "metadata": {},
   "outputs": [],
   "source": [
    "import napari"
   ]
  },
  {
   "cell_type": "code",
   "execution_count": 4,
   "id": "eb198db5-f59a-4453-88b0-efa3174bb585",
   "metadata": {},
   "outputs": [],
   "source": [
    "from pathlib import Path\n",
    "import time\n",
    "import pandas as pd"
   ]
  },
  {
   "cell_type": "code",
   "execution_count": 5,
   "id": "f268bdb6-a2f5-4e3e-92f8-da4f7fce410f",
   "metadata": {},
   "outputs": [],
   "source": [
    "from pysmFISH.data_models import Dataset\n",
    "from pysmFISH.stitching import organize_square_tiles\n",
    "from pysmFISH.utils import create_dir\n",
    "from pysmFISH.stitching import stitching_graph,stitch_using_coords_general,stitching_graph_fresh_nuclei\n",
    "from pysmFISH import io\n"
   ]
  },
  {
   "cell_type": "code",
   "execution_count": 6,
   "id": "176ce785-a9da-49bc-9627-c9d316ee7a9f",
   "metadata": {},
   "outputs": [],
   "source": [
    "from dask.distributed import LocalCluster\n",
    "from dask.distributed import Client"
   ]
  },
  {
   "cell_type": "code",
   "execution_count": 7,
   "id": "418ffee0-d87f-4d6a-bb90-a6adbde84c35",
   "metadata": {},
   "outputs": [
    {
     "name": "stderr",
     "output_type": "stream",
     "text": [
      "/Users/simone.codeluppi/opt/miniconda3/envs/test_d/lib/python3.8/site-packages/distributed/node.py:160: UserWarning: Port 8787 is already in use.\n",
      "Perhaps you already have a cluster running?\n",
      "Hosting the HTTP server on port 60730 instead\n",
      "  warnings.warn(\n"
     ]
    }
   ],
   "source": [
    "cluster = LocalCluster(n_workers=2, memory_limit='6GB', processes=True,threads_per_worker=1)\n",
    "client = Client(cluster)"
   ]
  },
  {
   "cell_type": "code",
   "execution_count": 8,
   "id": "02723307-d6e6-4e9d-8788-55469a640342",
   "metadata": {},
   "outputs": [
    {
     "data": {
      "text/html": [
       "<div>\n",
       "    <div style=\"width: 24px; height: 24px; background-color: #e1e1e1; border: 3px solid #9D9D9D; border-radius: 5px; position: absolute;\"> </div>\n",
       "    <div style=\"margin-left: 48px;\">\n",
       "        <h3 style=\"margin-bottom: 0px;\">Client</h3>\n",
       "        <p style=\"color: #9D9D9D; margin-bottom: 0px;\">Client-7c3e4c1e-38be-11ec-aea5-acde48001122</p>\n",
       "        <table style=\"width: 100%; text-align: left;\">\n",
       "\n",
       "        <tr>\n",
       "        \n",
       "            <td style=\"text-align: left;\"><strong>Connection method:</strong> Cluster object</td>\n",
       "            <td style=\"text-align: left;\"><strong>Cluster type:</strong> distributed.LocalCluster</td>\n",
       "        \n",
       "        </tr>\n",
       "\n",
       "        \n",
       "            <tr>\n",
       "                <td style=\"text-align: left;\">\n",
       "                    <strong>Dashboard: </strong> <a href=\"http://127.0.0.1:60730/status\" target=\"_blank\">http://127.0.0.1:60730/status</a>\n",
       "                </td>\n",
       "                <td style=\"text-align: left;\"></td>\n",
       "            </tr>\n",
       "        \n",
       "\n",
       "        </table>\n",
       "\n",
       "        \n",
       "            <details>\n",
       "            <summary style=\"margin-bottom: 20px;\"><h3 style=\"display: inline;\">Cluster Info</h3></summary>\n",
       "            <div class=\"jp-RenderedHTMLCommon jp-RenderedHTML jp-mod-trusted jp-OutputArea-output\">\n",
       "    <div style=\"width: 24px; height: 24px; background-color: #e1e1e1; border: 3px solid #9D9D9D; border-radius: 5px; position: absolute;\">\n",
       "    </div>\n",
       "    <div style=\"margin-left: 48px;\">\n",
       "        <h3 style=\"margin-bottom: 0px; margin-top: 0px;\">LocalCluster</h3>\n",
       "        <p style=\"color: #9D9D9D; margin-bottom: 0px;\">9e0ea81e</p>\n",
       "        <table style=\"width: 100%; text-align: left;\">\n",
       "            <tr>\n",
       "                <td style=\"text-align: left;\">\n",
       "                    <strong>Dashboard:</strong> <a href=\"http://127.0.0.1:60730/status\" target=\"_blank\">http://127.0.0.1:60730/status</a>\n",
       "                </td>\n",
       "                <td style=\"text-align: left;\">\n",
       "                    <strong>Workers:</strong> 2\n",
       "                </td>\n",
       "            </tr>\n",
       "            <tr>\n",
       "                <td style=\"text-align: left;\">\n",
       "                    <strong>Total threads:</strong> 2\n",
       "                </td>\n",
       "                <td style=\"text-align: left;\">\n",
       "                    <strong>Total memory:</strong> 11.18 GiB\n",
       "                </td>\n",
       "            </tr>\n",
       "            \n",
       "            <tr>\n",
       "    <td style=\"text-align: left;\"><strong>Status:</strong> running</td>\n",
       "    <td style=\"text-align: left;\"><strong>Using processes:</strong> True</td>\n",
       "</tr>\n",
       "\n",
       "            \n",
       "        </table>\n",
       "\n",
       "        <details>\n",
       "            <summary style=\"margin-bottom: 20px;\">\n",
       "                <h3 style=\"display: inline;\">Scheduler Info</h3>\n",
       "            </summary>\n",
       "\n",
       "            <div style=\"\">\n",
       "    <div>\n",
       "        <div style=\"width: 24px; height: 24px; background-color: #FFF7E5; border: 3px solid #FF6132; border-radius: 5px; position: absolute;\"> </div>\n",
       "        <div style=\"margin-left: 48px;\">\n",
       "            <h3 style=\"margin-bottom: 0px;\">Scheduler</h3>\n",
       "            <p style=\"color: #9D9D9D; margin-bottom: 0px;\">Scheduler-88735674-d91d-4bef-a5bb-592d6c0244c4</p>\n",
       "            <table style=\"width: 100%; text-align: left;\">\n",
       "                <tr>\n",
       "                    <td style=\"text-align: left;\">\n",
       "                        <strong>Comm:</strong> tcp://127.0.0.1:60731\n",
       "                    </td>\n",
       "                    <td style=\"text-align: left;\">\n",
       "                        <strong>Workers:</strong> 2\n",
       "                    </td>\n",
       "                </tr>\n",
       "                <tr>\n",
       "                    <td style=\"text-align: left;\">\n",
       "                        <strong>Dashboard:</strong> <a href=\"http://127.0.0.1:60730/status\" target=\"_blank\">http://127.0.0.1:60730/status</a>\n",
       "                    </td>\n",
       "                    <td style=\"text-align: left;\">\n",
       "                        <strong>Total threads:</strong> 2\n",
       "                    </td>\n",
       "                </tr>\n",
       "                <tr>\n",
       "                    <td style=\"text-align: left;\">\n",
       "                        <strong>Started:</strong> Just now\n",
       "                    </td>\n",
       "                    <td style=\"text-align: left;\">\n",
       "                        <strong>Total memory:</strong> 11.18 GiB\n",
       "                    </td>\n",
       "                </tr>\n",
       "            </table>\n",
       "        </div>\n",
       "    </div>\n",
       "\n",
       "    <details style=\"margin-left: 48px;\">\n",
       "        <summary style=\"margin-bottom: 20px;\">\n",
       "            <h3 style=\"display: inline;\">Workers</h3>\n",
       "        </summary>\n",
       "\n",
       "        \n",
       "        <div style=\"margin-bottom: 20px;\">\n",
       "            <div style=\"width: 24px; height: 24px; background-color: #DBF5FF; border: 3px solid #4CC9FF; border-radius: 5px; position: absolute;\"> </div>\n",
       "            <div style=\"margin-left: 48px;\">\n",
       "            <details>\n",
       "                <summary>\n",
       "                    <h4 style=\"margin-bottom: 0px; display: inline;\">Worker: 0</h4>\n",
       "                </summary>\n",
       "                <table style=\"width: 100%; text-align: left;\">\n",
       "                    <tr>\n",
       "                        <td style=\"text-align: left;\">\n",
       "                            <strong>Comm: </strong> tcp://127.0.0.1:60743\n",
       "                        </td>\n",
       "                        <td style=\"text-align: left;\">\n",
       "                            <strong>Total threads: </strong> 1\n",
       "                        </td>\n",
       "                    </tr>\n",
       "                    <tr>\n",
       "                        <td style=\"text-align: left;\">\n",
       "                            <strong>Dashboard: </strong> <a href=\"http://127.0.0.1:60744/status\" target=\"_blank\">http://127.0.0.1:60744/status</a>\n",
       "                        </td>\n",
       "                        <td style=\"text-align: left;\">\n",
       "                            <strong>Memory: </strong> 5.59 GiB\n",
       "                        </td>\n",
       "                    </tr>\n",
       "                    <tr>\n",
       "                        <td style=\"text-align: left;\">\n",
       "                            <strong>Nanny: </strong> tcp://127.0.0.1:60734\n",
       "                        </td>\n",
       "                        <td style=\"text-align: left;\"></td>\n",
       "                    </tr>\n",
       "                    <tr>\n",
       "                        <td colspan=\"2\" style=\"text-align: left;\">\n",
       "                            <strong>Local directory: </strong> /Users/simone.codeluppi/Dropbox (Linnarsson Group)/My Mac (KI-C02C77ZEMD6R)/Documents/data_analysis_jlabs_sc/notebooks_pysmFISH/dask-worker-space/worker-bxqeokd2\n",
       "                        </td>\n",
       "                    </tr>\n",
       "\n",
       "                    \n",
       "\n",
       "                    \n",
       "\n",
       "                </table>\n",
       "            </details>\n",
       "            </div>\n",
       "        </div>\n",
       "        \n",
       "        <div style=\"margin-bottom: 20px;\">\n",
       "            <div style=\"width: 24px; height: 24px; background-color: #DBF5FF; border: 3px solid #4CC9FF; border-radius: 5px; position: absolute;\"> </div>\n",
       "            <div style=\"margin-left: 48px;\">\n",
       "            <details>\n",
       "                <summary>\n",
       "                    <h4 style=\"margin-bottom: 0px; display: inline;\">Worker: 1</h4>\n",
       "                </summary>\n",
       "                <table style=\"width: 100%; text-align: left;\">\n",
       "                    <tr>\n",
       "                        <td style=\"text-align: left;\">\n",
       "                            <strong>Comm: </strong> tcp://127.0.0.1:60740\n",
       "                        </td>\n",
       "                        <td style=\"text-align: left;\">\n",
       "                            <strong>Total threads: </strong> 1\n",
       "                        </td>\n",
       "                    </tr>\n",
       "                    <tr>\n",
       "                        <td style=\"text-align: left;\">\n",
       "                            <strong>Dashboard: </strong> <a href=\"http://127.0.0.1:60741/status\" target=\"_blank\">http://127.0.0.1:60741/status</a>\n",
       "                        </td>\n",
       "                        <td style=\"text-align: left;\">\n",
       "                            <strong>Memory: </strong> 5.59 GiB\n",
       "                        </td>\n",
       "                    </tr>\n",
       "                    <tr>\n",
       "                        <td style=\"text-align: left;\">\n",
       "                            <strong>Nanny: </strong> tcp://127.0.0.1:60733\n",
       "                        </td>\n",
       "                        <td style=\"text-align: left;\"></td>\n",
       "                    </tr>\n",
       "                    <tr>\n",
       "                        <td colspan=\"2\" style=\"text-align: left;\">\n",
       "                            <strong>Local directory: </strong> /Users/simone.codeluppi/Dropbox (Linnarsson Group)/My Mac (KI-C02C77ZEMD6R)/Documents/data_analysis_jlabs_sc/notebooks_pysmFISH/dask-worker-space/worker-eu4teld5\n",
       "                        </td>\n",
       "                    </tr>\n",
       "\n",
       "                    \n",
       "\n",
       "                    \n",
       "\n",
       "                </table>\n",
       "            </details>\n",
       "            </div>\n",
       "        </div>\n",
       "        \n",
       "\n",
       "    </details>\n",
       "</div>\n",
       "\n",
       "        </details>\n",
       "    </div>\n",
       "</div>\n",
       "            </details>\n",
       "        \n",
       "\n",
       "    </div>\n",
       "</div>"
      ],
      "text/plain": [
       "<Client: 'tcp://127.0.0.1:60731' processes=2 threads=2, memory=11.18 GiB>"
      ]
     },
     "execution_count": 8,
     "metadata": {},
     "output_type": "execute_result"
    }
   ],
   "source": [
    "client"
   ]
  },
  {
   "cell_type": "code",
   "execution_count": 19,
   "id": "2ca6159d-1c04-499c-babd-f08324c79e9c",
   "metadata": {},
   "outputs": [],
   "source": [
    "def stitched_beads_on_nuclei_fresh_tissue(experiment_fpath,\n",
    "                                      client,\n",
    "                                      nuclei_tag='_ChannelCy3_Nuclei_',\n",
    "                                      beads_tag='_ChannelEuropium_Cy3_',\n",
    "                                      round_num = 1,\n",
    "                                      overlapping_percentage=5,\n",
    "                                      machine='ROBOFISH2'\n",
    "                                     ):\n",
    "    experiment_fpath = Path(experiment_fpath)\n",
    "    fresh_tissue_path = experiment_fpath / 'fresh_tissue'\n",
    "    beads_dataset_fpath = list(fresh_tissue_path.glob('*'+ beads_tag +'*.parquet'))[0]\n",
    "    nuclei_dataset_fpath = list(fresh_tissue_path.glob('*'+ nuclei_tag +'*.parquet'))[0]\n",
    "    \n",
    "    # Collect and adjust beads dataset with missing values\n",
    "    beads_data = Dataset()\n",
    "    beads_data.load_dataset(beads_dataset_fpath)\n",
    "    beads_data.dataset['processing_type'] = 'undefined'\n",
    "    beads_data.dataset['overlapping_percentage'] = overlapping_percentage / 100\n",
    "    beads_data.dataset['machine'] = machine\n",
    "\n",
    "    metadata_beads = beads_data.collect_metadata(beads_data.dataset)\n",
    "    beads_org_tiles = organize_square_tiles(experiment_fpath,beads_data.dataset,metadata_beads,round_num)\n",
    "    beads_org_tiles.run_tiles_organization()\n",
    "    flist = list((fresh_tissue_path / 'results').glob('*decoded_fov*.parquet'))\n",
    "\n",
    "    # duplicate registered\n",
    "    for fpath in flist:\n",
    "        data = pd.read_parquet(fpath)\n",
    "        data['r_px_registered'] = data['r_px_original']\n",
    "        data['c_px_registered'] = data['c_px_original']\n",
    "        data['hamming_distance'] = 0\n",
    "        data['decoded_genes'] = 'beads'\n",
    "        data.to_parquet(fpath)\n",
    "\n",
    "\n",
    "    all_futures = []\n",
    "    for fpath in flist:\n",
    "        future = client.submit(stitch_using_coords_general, fpath,\n",
    "                                              beads_org_tiles.tile_corners_coords_pxl,\n",
    "                                              beads_org_tiles.reference_corner_fov_position,\n",
    "                                              metadata_beads,tag='microscope_stitched')\n",
    "\n",
    "        all_futures.append(future)\n",
    "    _ = client.gather(all_futures)\n",
    "\n",
    "    io.simple_output_plotting(fresh_tissue_path,\n",
    "                              stitching_selected= 'microscope_stitched',\n",
    "                             selected_Hdistance=0,\n",
    "                             client = client,\n",
    "                             input_file_tag = 'decoded_fov',\n",
    "                             file_tag = 'stitched_microscope')\n",
    "\n",
    "\n",
    "    # Collect and adjust nuclei dataset with missing values\n",
    "    nuclei_data = Dataset()\n",
    "    nuclei_data.load_dataset(nuclei_dataset_fpath)\n",
    "    nuclei_data.dataset['processing_type'] = 'undefined'\n",
    "    nuclei_data.dataset['overlapping_percentage'] = overlapping_percentage / 100\n",
    "    nuclei_data.dataset['machine'] = machine\n",
    "\n",
    "    metadata_nuclei = nuclei_data.collect_metadata(nuclei_data.dataset)\n",
    "    nuclei_org_tiles = organize_square_tiles(experiment_fpath,nuclei_data.dataset,metadata_nuclei,round_num)\n",
    "    nuclei_org_tiles.run_tiles_organization()\n",
    "\n",
    "    _ =stitching_graph_fresh_nuclei(experiment_fpath,nuclei_org_tiles, metadata_nuclei, \n",
    "                                client, nr_dim = 2)\n",
    "\n",
    "\n",
    "    io.simple_output_plotting(fresh_tissue_path,\n",
    "                              stitching_selected= 'global_stitched_nuclei',\n",
    "                             selected_Hdistance=0,\n",
    "                             client = client,\n",
    "                             input_file_tag = 'decoded_fov',\n",
    "                             file_tag = 'global_stitched_nuclei')"
   ]
  },
  {
   "cell_type": "code",
   "execution_count": 18,
   "id": "9252eb81-cc08-4555-8ba3-a82192f35f32",
   "metadata": {},
   "outputs": [],
   "source": [
    "stitched_beads_on_nuclei('processing_folder/LBEXP20210718_EEL_Mouse_448_2/',\n",
    "                                      client,\n",
    "                                      nuclei_tag='_ChannelCy3_Nuclei_',\n",
    "                                      beads_tag='_ChannelEuropium_Cy3_',\n",
    "                                      round_num = 1,\n",
    "                                      overlapping_percentage=5,\n",
    "                                      machine='ROBOFISH2'\n",
    "                                     )"
   ]
  },
  {
   "cell_type": "code",
   "execution_count": 9,
   "id": "1994448c-b573-42d0-a443-291de708d488",
   "metadata": {},
   "outputs": [],
   "source": [
    "experiment_fpath = Path('processing_folder/LBEXP20210718_EEL_Mouse_448_2/')\n",
    "fresh_tissue_path = experiment_fpath / 'fresh_tissue'\n",
    "beads_dataset_name = '211014_09_56_52_20210718_124116_843__ChannelEuropium_Cy3_Seq0002_img_data_dataset.parquet'\n",
    "nuclei_dataset_name = '211014_09_56_53_20210718_124116_843__ChannelCy3_Nuclei_Seq0001_img_data_dataset.parquet'\n",
    "round_num = 1\n",
    "overlapping_percentage = 5"
   ]
  },
  {
   "cell_type": "code",
   "execution_count": 12,
   "id": "a79713f6-a0e7-4a54-b995-cf5a8a04a761",
   "metadata": {},
   "outputs": [],
   "source": [
    "# Collect and adjust beads dataset with missing values\n",
    "beads_data = Dataset()\n",
    "beads_data.load_dataset(fresh_tissue_path / beads_dataset_name)\n",
    "beads_data.dataset['processing_type'] = 'undefined'\n",
    "beads_data.dataset['overlapping_percentage'] = 5 / 100\n",
    "beads_data.dataset['machine'] = 'ROBOFISH2'\n",
    "\n",
    "metadata_beads = beads_data.collect_metadata(beads_data.dataset)\n",
    "beads_org_tiles = organize_square_tiles(experiment_fpath,beads_data.dataset,metadata_beads,round_num)\n",
    "beads_org_tiles.run_tiles_organization()\n",
    "flist = list((fresh_tissue_path / 'results').glob('*decoded_fov*.parquet'))\n",
    "\n",
    "# duplicate registered\n",
    "for fpath in flist:\n",
    "    data = pd.read_parquet(fpath)\n",
    "    data['r_px_registered'] = data['r_px_original']\n",
    "    data['c_px_registered'] = data['c_px_original']\n",
    "    data['hamming_distance'] = 0\n",
    "    data['decoded_genes'] = 'beads'\n",
    "    data.to_parquet(fpath)\n",
    "\n",
    "    \n",
    "all_futures = []\n",
    "for fpath in flist:\n",
    "    future = client.submit(stitch_using_coords_general, fpath,\n",
    "                                          beads_org_tiles.tile_corners_coords_pxl,\n",
    "                                          beads_org_tiles.reference_corner_fov_position,\n",
    "                                          metadata_beads,tag='microscope_stitched')\n",
    "\n",
    "    all_futures.append(future)\n",
    "_ = client.gather(all_futures)\n",
    "\n",
    "io.simple_output_plotting(fresh_tissue_path,\n",
    "                          stitching_selected= 'microscope_stitched',\n",
    "                         selected_Hdistance=0,\n",
    "                         client = client,\n",
    "                         input_file_tag = 'decoded_fov',\n",
    "                         file_tag = 'stitched_microscope')\n",
    "\n",
    "\n",
    "# Collect and adjust nuclei dataset with missing values\n",
    "nuclei_data = Dataset()\n",
    "nuclei_data.load_dataset(fresh_tissue_path / nuclei_dataset_name)\n",
    "nuclei_data.dataset['processing_type'] = 'undefined'\n",
    "nuclei_data.dataset['overlapping_percentage'] = 5 / 100\n",
    "nuclei_data.dataset['machine'] = 'ROBOFISH2'\n",
    "\n",
    "metadata_nuclei = nuclei_data.collect_metadata(nuclei_data.dataset)\n",
    "nuclei_org_tiles = organize_square_tiles(experiment_fpath,nuclei_data.dataset,metadata_nuclei,round_num)\n",
    "nuclei_org_tiles.run_tiles_organization()\n",
    "\n",
    "_ =stitching_graph_fresh_nuclei(experiment_fpath,nuclei_org_tiles, metadata_nuclei, \n",
    "                            client, nr_dim = 2)\n",
    "\n",
    "\n",
    "io.simple_output_plotting(fresh_tissue_path,\n",
    "                          stitching_selected= 'global_stitched_nuclei',\n",
    "                         selected_Hdistance=0,\n",
    "                         client = client,\n",
    "                         input_file_tag = 'decoded_fov',\n",
    "                         file_tag = 'global_stitched_nuclei')"
   ]
  },
  {
   "cell_type": "code",
   "execution_count": null,
   "id": "66a43f49-70b6-4484-8aaa-a54295ffe90a",
   "metadata": {
    "tags": []
   },
   "outputs": [],
   "source": [
    "nuclei_org_tiles.overlapping_order"
   ]
  },
  {
   "cell_type": "code",
   "execution_count": null,
   "id": "d02cff08-5cd3-41b5-a4ca-9caec6cb8ece",
   "metadata": {},
   "outputs": [],
   "source": [
    "io.simple_output_plotting(experiment_fpath,\n",
    "                          stitching_selected= 'global_stitched_nuclei',\n",
    "                         selected_Hdistance=0,\n",
    "                         client = client,\n",
    "                         input_file_tag = 'decoded_fov',\n",
    "                         file_tag = 'global_stitched_nuclei')"
   ]
  },
  {
   "cell_type": "code",
   "execution_count": null,
   "id": "0fdf4dad-0f16-4ff1-9b5d-8be83e2e385c",
   "metadata": {
    "tags": []
   },
   "outputs": [],
   "source": [
    "stitching_channel = 'Europium'\n",
    "reference_round = 1\n",
    "stitching_graph(experiment_fpath, stitching_channel,beads_org_tiles, metadata, \n",
    "                    reference_round, client, nr_dim = 2)"
   ]
  },
  {
   "cell_type": "code",
   "execution_count": null,
   "id": "b6588a51-1945-4723-b512-1a80fc5f583f",
   "metadata": {},
   "outputs": [],
   "source": [
    "_ =stitching_graph_fresh_nuclei(experiment_fpath,beads_org_tiles, metadata, \n",
    "                            client, nr_dim = 2)"
   ]
  },
  {
   "cell_type": "code",
   "execution_count": null,
   "id": "dd71ecfc-daf0-4fad-aff5-905a1ad41747",
   "metadata": {},
   "outputs": [],
   "source": [
    "data = pd.read_parquet(fpath)"
   ]
  },
  {
   "cell_type": "code",
   "execution_count": null,
   "id": "d14f0da5-41cb-45a6-9d23-2ee47e4bdd00",
   "metadata": {},
   "outputs": [],
   "source": [
    "from pysmFISH.pipeline import Pipeline"
   ]
  },
  {
   "cell_type": "code",
   "execution_count": null,
   "id": "1809fc45-aabb-4c96-8949-1ed54a410944",
   "metadata": {},
   "outputs": [],
   "source": [
    "# Enter the required parameters\n",
    "experiment_fpath = Path('processing_folder/LBEXP20210718_EEL_Mouse_448_2')\n",
    "dataset_name = '210906_21_07_09_LBEXP20210718_EEL_Mouse_448_2_img_data_dataset.parquet'\n",
    "date_tag = time.strftime(\"%y%m%d_%H_%M_%S\")\n",
    "pipeline_run_name = date_tag + '_' + experiment_fpath.stem\n",
    "run_type = 're-run'\n",
    "parsing_type = 'no_parsing'\n",
    "processing_engine = 'local'"
   ]
  },
  {
   "cell_type": "code",
   "execution_count": null,
   "id": "727068bb-8472-4531-bce5-57fd8a4ab5cc",
   "metadata": {},
   "outputs": [],
   "source": [
    "%%time\n",
    "# Because you are running the pipeline locally you should define the number of cores and memory/core\n",
    "# 3-4 GB / code should be safe for running the processing\n",
    "running_pipeline = Pipeline(\n",
    "        pipeline_run_name= pipeline_run_name,\n",
    "        experiment_fpath= experiment_fpath,\n",
    "        run_type= run_type,\n",
    "        parsing_type= parsing_type,\n",
    "        processing_engine= processing_engine,\n",
    "        cores=3,\n",
    "        memory='12GB',\n",
    "        chunk_size = 6,\n",
    "        dataset_path = experiment_fpath / dataset_name)"
   ]
  },
  {
   "cell_type": "code",
   "execution_count": null,
   "id": "834cd656-8a49-44c3-9a8b-74b23c7b901e",
   "metadata": {},
   "outputs": [],
   "source": [
    "%%time\n",
    "running_pipeline.run_parsing_only()"
   ]
  },
  {
   "cell_type": "code",
   "execution_count": null,
   "id": "fa463103-5e92-432a-a164-8975c1216cd3",
   "metadata": {},
   "outputs": [],
   "source": [
    "%%time\n",
    "running_pipeline.run_required_steps()"
   ]
  },
  {
   "cell_type": "code",
   "execution_count": null,
   "id": "b715765b-b20e-4692-87a2-a001fab001ac",
   "metadata": {},
   "outputs": [],
   "source": [
    "running_pipeline.client"
   ]
  },
  {
   "cell_type": "code",
   "execution_count": null,
   "id": "216b5ee8-6144-41c3-81c8-ed8db3db2639",
   "metadata": {
    "tags": []
   },
   "outputs": [],
   "source": [
    "running_pipeline.stitch_and_remove_dots_eel_graph_step()"
   ]
  },
  {
   "cell_type": "code",
   "execution_count": null,
   "id": "5949201a-2eb0-4a0a-991c-14801782222b",
   "metadata": {},
   "outputs": [],
   "source": [
    "running_pipeline.client.close()"
   ]
  },
  {
   "cell_type": "code",
   "execution_count": null,
   "id": "14b90c1c-42db-4ece-9e15-c116d697d3cd",
   "metadata": {},
   "outputs": [],
   "source": [
    "running_pipeline.cluster.close()"
   ]
  },
  {
   "cell_type": "code",
   "execution_count": null,
   "id": "1e118f37-d79c-4618-b0be-3d97add7b2d4",
   "metadata": {},
   "outputs": [],
   "source": []
  },
  {
   "cell_type": "markdown",
   "id": "e59cfa19-82d2-44b7-b4aa-12804d1ad4f3",
   "metadata": {},
   "source": [
    "# Visualize stitched counts"
   ]
  },
  {
   "cell_type": "code",
   "execution_count": null,
   "id": "2c14ba13-97fc-4f81-9434-463b824fe455",
   "metadata": {},
   "outputs": [],
   "source": [
    "from dask import dataframe as dd"
   ]
  },
  {
   "cell_type": "code",
   "execution_count": null,
   "id": "c6dbdda8-3c62-45cc-b054-5394e6fccdb6",
   "metadata": {},
   "outputs": [],
   "source": [
    "experiment_fpath = Path('processing_folder/LBEXP20210718_EEL_Mouse_448_2/fresh_tissue/')\n",
    "stitched_40X_beads_pd = pd.read_parquet(experiment_fpath / 'results' / '211014_11_59_25_fresh_tissue_data_summary_simple_plotting_stitched_microscope.parquet')\n",
    "stitched_40X_beads_pd = stitched_40X_beads_pd.dropna()"
   ]
  },
  {
   "cell_type": "code",
   "execution_count": null,
   "id": "b50c9b5b-c412-41f7-99fb-ccb7aa78d04c",
   "metadata": {},
   "outputs": [],
   "source": [
    "stitched_40X_coords = stitched_40X_beads_pd.loc[:,['r_px_microscope_stitched','c_px_microscope_stitched']].to_numpy()"
   ]
  },
  {
   "cell_type": "code",
   "execution_count": null,
   "id": "6a93d310-6285-4adc-89fb-ae9e7c5827ec",
   "metadata": {},
   "outputs": [],
   "source": [
    "vw = napari.Viewer()\n",
    "_ = vw.add_points(stitched_40X_coords,face_color='magenta', symbol='o', size= 20)"
   ]
  },
  {
   "cell_type": "code",
   "execution_count": null,
   "id": "96bfc83d-c33b-45b2-a126-389ca40a74f4",
   "metadata": {},
   "outputs": [],
   "source": [
    "exp_fpath = Path('processing_folder/LBEXP20210718_EEL_Mouse_448_2/')\n",
    "data_dd =dd.read_parquet(exp_fpath /'results' / '*_decoded_fov_*')"
   ]
  },
  {
   "cell_type": "code",
   "execution_count": null,
   "id": "459f7c54-8518-45b3-8aaa-1f96243ab622",
   "metadata": {
    "tags": []
   },
   "outputs": [],
   "source": [
    "beads_60X_df = data_dd.loc[(data_dd.channel=='Europium') &\n",
    "                      (data_dd.mapped_beads_type =='large'), ['r_px_microscope_stitched','c_px_microscope_stitched'] ].compute()"
   ]
  },
  {
   "cell_type": "code",
   "execution_count": null,
   "id": "57989ccd-03d3-41dc-8d2f-64580fefbfdd",
   "metadata": {},
   "outputs": [],
   "source": [
    "beads_60X_df.to_parquet(exp_fpath / 'results' / 'large_beads_registered.parquet')"
   ]
  },
  {
   "cell_type": "code",
   "execution_count": null,
   "id": "b0a5b6e7-5a09-4ba9-b028-7c49e2e9b977",
   "metadata": {},
   "outputs": [],
   "source": [
    "beads_60X_coords = beads_60X_df.loc[:,['r_px_microscope_stitched','c_px_microscope_stitched']].to_numpy()"
   ]
  },
  {
   "cell_type": "code",
   "execution_count": null,
   "id": "a9bab928-bd3b-4d81-9e15-5882541ff575",
   "metadata": {},
   "outputs": [],
   "source": [
    "vw = napari.Viewer()\n",
    "_ = vw.add_points(stitched_40X_coords,name='40X',face_color='magenta', symbol='o', size= 120)\n",
    "_ = vw.add_points(beads_60X_coords,name='60X',face_color='green', symbol='+', size= 120)"
   ]
  },
  {
   "cell_type": "code",
   "execution_count": null,
   "id": "5403c7b3-f18c-40c3-8846-4644510ffe4b",
   "metadata": {},
   "outputs": [],
   "source": []
  },
  {
   "cell_type": "code",
   "execution_count": null,
   "id": "ad3bfb7b-af97-43e9-9533-db405053e930",
   "metadata": {},
   "outputs": [],
   "source": [
    "import open3d as o3d"
   ]
  },
  {
   "cell_type": "code",
   "execution_count": null,
   "id": "1f5be32c-3b7c-4f16-a42b-32dbf736177d",
   "metadata": {},
   "outputs": [],
   "source": [
    "# Pass xyz to Open3D.o3d.geometry.PointCloud and visualize\n",
    "xyz = np.c_[stitched_40X_coords,np.ones(stitched_40X_coords.shape[0]) ]\n",
    "pcd = o3d.geometry.PointCloud()\n",
    "pcd.points = o3d.utility.Vector3dVector(xyz)\n",
    "o3d.io.write_point_cloud((exp_fpath.as_posix() + '/40X_converted.ply'), pcd)"
   ]
  },
  {
   "cell_type": "code",
   "execution_count": null,
   "id": "2d1f6754-0d42-4994-a680-8493fc51c895",
   "metadata": {},
   "outputs": [],
   "source": [
    "# Pass xyz to Open3D.o3d.geometry.PointCloud and visualize\n",
    "xyz = np.c_[beads_60X_coords,np.ones(beads_60X_coords.shape[0]) ]\n",
    "pcd = o3d.geometry.PointCloud()\n",
    "pcd.points = o3d.utility.Vector3dVector(xyz)\n",
    "o3d.io.write_point_cloud((exp_fpath.as_posix() + '/60X_converted.ply'), pcd)"
   ]
  },
  {
   "cell_type": "code",
   "execution_count": null,
   "id": "3121aa8e-4d03-4a76-ab58-c4f4362ff892",
   "metadata": {
    "tags": []
   },
   "outputs": [],
   "source": [
    "o3d.visualization.draw_geometries(pcd.points)"
   ]
  },
  {
   "cell_type": "code",
   "execution_count": null,
   "id": "18b408d5-5695-4eb2-b2ac-8c717ca5732a",
   "metadata": {},
   "outputs": [],
   "source": [
    "import numpy as np"
   ]
  },
  {
   "cell_type": "code",
   "execution_count": null,
   "id": "93e0cb2a-6040-4440-9650-387136f37f22",
   "metadata": {},
   "outputs": [],
   "source": [
    "np.save(exp_fpath / '60X_coords.npy',beads_60X_coords)"
   ]
  },
  {
   "cell_type": "code",
   "execution_count": null,
   "id": "a2cbfe63-eb32-4df2-9f2c-8c789a9f5e67",
   "metadata": {},
   "outputs": [],
   "source": [
    "np.save(exp_fpath / '40X_coords.npy',stitched_40X_coords)"
   ]
  },
  {
   "cell_type": "markdown",
   "id": "2ad06e1e-df99-4f7f-8e29-058d6688b1e4",
   "metadata": {},
   "source": [
    "# Visualize counts"
   ]
  },
  {
   "cell_type": "code",
   "execution_count": null,
   "id": "2d29e3b0-4deb-4dc0-a97b-912873586d80",
   "metadata": {},
   "outputs": [],
   "source": [
    "import numpy as np"
   ]
  },
  {
   "cell_type": "code",
   "execution_count": null,
   "id": "c9673036-9d36-48b0-a514-4e6618b6924f",
   "metadata": {},
   "outputs": [],
   "source": [
    "import pandas as pd"
   ]
  },
  {
   "cell_type": "code",
   "execution_count": null,
   "id": "3202fe54-c184-43a5-929f-646ee06531cb",
   "metadata": {},
   "outputs": [],
   "source": [
    "fov = 10"
   ]
  },
  {
   "cell_type": "code",
   "execution_count": null,
   "id": "d936d33e-2b69-49cd-9298-a2f349f2cb7d",
   "metadata": {},
   "outputs": [],
   "source": [
    "experiment_fpath = Path('processing_folder/LBEXP20210718_EEL_Mouse_448_2/fresh_tissue/')"
   ]
  },
  {
   "cell_type": "code",
   "execution_count": null,
   "id": "4c17c233-9752-467e-ac8b-e61093807251",
   "metadata": {
    "tags": []
   },
   "outputs": [],
   "source": [
    "# Check fovs with no counts\n",
    "fov_no_counts = []\n",
    "for fov in np.arange(0,305):\n",
    "    counts = pd.read_parquet(experiment_fpath / 'results' / ('20210718_124116_843__ChannelEuropium_Cy3_Seq0002_counts_beads_fresh_tissue_decoded_fov_' + str(fov) + '.parquet'))\n",
    "    if counts.shape[0] <2:\n",
    "        print(fov)\n",
    "        fov_no_counts.append(fov)\n",
    "    print(counts.shape)                                                    \n",
    "                                            "
   ]
  },
  {
   "cell_type": "code",
   "execution_count": null,
   "id": "e490dc7e-945a-43ae-955b-c7b2285b8f43",
   "metadata": {},
   "outputs": [],
   "source": [
    "vw = napari.Viewer()"
   ]
  },
  {
   "cell_type": "code",
   "execution_count": null,
   "id": "ede3b619-1b94-45b4-b364-3d437b769476",
   "metadata": {},
   "outputs": [],
   "source": [
    "\n",
    "import numpy as np\n",
    "import scipy.ndimage as nd\n",
    "from skimage import filters, morphology, measure\n",
    "from skimage import img_as_float64\n",
    "from pathlib import Path\n",
    "\n",
    "\n",
    "# pysmFISH imports\n",
    "from pysmFISH.io import load_raw_images\n",
    "from pysmFISH.utils import convert_from_uint16_to_float64\n",
    "from pysmFISH.logger_utils import selected_logger\n",
    "\n",
    "from pysmFISH.dots_calling import osmFISH_peak_based_detection_fast"
   ]
  },
  {
   "cell_type": "code",
   "execution_count": null,
   "id": "b739d39a-c5f9-44a2-a207-2489d59f1672",
   "metadata": {},
   "outputs": [],
   "source": [
    "\n",
    "coords = data.loc[:, ['r_px_microscope_stitched','c_px_microscope_stitched']].to_numpy()\n",
    "_ = vw.add_points(coords)"
   ]
  },
  {
   "cell_type": "code",
   "execution_count": null,
   "id": "dbce857b-daa6-4106-8461-651620ad9929",
   "metadata": {},
   "outputs": [],
   "source": [
    "_ = vw.add_points(beads_org_tiles.tile_corners_coords_pxl,size=100)"
   ]
  },
  {
   "cell_type": "code",
   "execution_count": null,
   "id": "5005958d-cee0-4330-a02d-41043a86dad3",
   "metadata": {},
   "outputs": [],
   "source": [
    "fov_subdataset = beads_data.dataset.loc[beads_data.dataset.fov_num == fov,: ].iloc[0]"
   ]
  },
  {
   "cell_type": "code",
   "execution_count": null,
   "id": "76fe8f8b-e254-40e1-8fd6-4b436e9e83d7",
   "metadata": {},
   "outputs": [],
   "source": [
    "fpath = experiment_fpath / '20210718_124116_843__ChannelEuropium_Cy3_Seq0002_img_data.zarr'"
   ]
  },
  {
   "cell_type": "code",
   "execution_count": null,
   "id": "3c439216-dcee-407f-9118-87e35522c7af",
   "metadata": {},
   "outputs": [],
   "source": [
    "import zarr\n",
    "\n",
    "storage = zarr.DirectoryStore(fpath)\n",
    "root = zarr.group(store=storage,overwrite=False)\n"
   ]
  },
  {
   "cell_type": "code",
   "execution_count": null,
   "id": "6aa1a35a-35c9-4082-9f1f-1d2e75fca2b1",
   "metadata": {},
   "outputs": [],
   "source": [
    "io.load_raw_images()"
   ]
  },
  {
   "cell_type": "code",
   "execution_count": null,
   "id": "90d045b6-490f-4513-a44f-56bd19d1bdae",
   "metadata": {},
   "outputs": [],
   "source": [
    "img = root['20210718_124116_843__ChannelEuropium_Cy3_Seq0002_fov_77']['raw_data_fov_77'][...]"
   ]
  },
  {
   "cell_type": "code",
   "execution_count": null,
   "id": "c7032ad3-9249-4f78-8b06-f40c8c6b2c73",
   "metadata": {},
   "outputs": [],
   "source": [
    "vw = napari.Viewer()\n",
    "_ = vw.add_image(img)"
   ]
  },
  {
   "cell_type": "code",
   "execution_count": null,
   "id": "920f8718-a963-4313-b418-b24332a7713b",
   "metadata": {},
   "outputs": [],
   "source": [
    "FlatFieldKernel=[100,100]\n",
    "img = convert_from_uint16_to_float64(img)\n",
    "img = img.max(axis=0)\n",
    "img -= filters.gaussian(img,FlatFieldKernel,preserve_range=False)\n",
    "img[img<0] = 0\n",
    "\n"
   ]
  },
  {
   "cell_type": "code",
   "execution_count": null,
   "id": "a24f1234-12f3-4bca-b0de-d88bf06a06a8",
   "metadata": {},
   "outputs": [],
   "source": [
    "group = beads_grpd_fovs.get_group(77).iloc[0]"
   ]
  },
  {
   "cell_type": "code",
   "execution_count": null,
   "id": "8c3c7cbe-83fa-44cc-a13f-246050b9a143",
   "metadata": {},
   "outputs": [],
   "source": [
    "vw = napari.Viewer()\n",
    "_ = vw.add_image(img)"
   ]
  },
  {
   "cell_type": "code",
   "execution_count": null,
   "id": "ed0c4df9-5aef-441b-9410-9b22ed203719",
   "metadata": {},
   "outputs": [],
   "source": [
    "parameters = {}\n",
    "parameters['CountingFishMinObjDistance'] = 20\n",
    "parameters['CountingFishMaxObjSize'] = 200\n",
    "parameters['CountingFishMinObjSize'] = 20\n",
    "parameters['CountingFishNumPeaksPerLabel'] = 1\n"
   ]
  },
  {
   "cell_type": "code",
   "execution_count": null,
   "id": "a6abc3f6-e73b-4f6f-bd9a-fcf3fde620e5",
   "metadata": {},
   "outputs": [],
   "source": [
    "counts = osmFISH_peak_based_detection_fast(img,group,parameters)"
   ]
  },
  {
   "cell_type": "code",
   "execution_count": null,
   "id": "6b5ab202-dbc1-4078-b0c6-175db6e6997c",
   "metadata": {},
   "outputs": [],
   "source": [
    "coords = counts.loc[:, ['r_px_original','c_px_original']].to_numpy()"
   ]
  },
  {
   "cell_type": "code",
   "execution_count": null,
   "id": "c81acd0b-b9f0-4d13-a682-1e0c0ea4e38d",
   "metadata": {},
   "outputs": [],
   "source": [
    "vw = napari.Viewer()\n",
    "_ = vw.add_image(img)\n",
    "_= vw.add_points(coords,size=5,opacity=0.7,symbol='+',face_color='magenta')"
   ]
  },
  {
   "cell_type": "code",
   "execution_count": null,
   "id": "1a8bf271-336f-4639-b921-aea01c34969f",
   "metadata": {},
   "outputs": [],
   "source": [
    "dataset = pd.read_parquet(experiment_fpath / '211013_15_59_21_20210718_124116_843__ChannelEuropium_Cy3_Seq0002_img_data_dataset.parquet')"
   ]
  },
  {
   "cell_type": "code",
   "execution_count": null,
   "id": "a6fbae9a-e7fa-4fbe-bcfc-56a3933c0b8a",
   "metadata": {},
   "outputs": [],
   "source": [
    "beads_grpd_fovs = dataset.groupby('fov_num')"
   ]
  },
  {
   "cell_type": "code",
   "execution_count": null,
   "id": "ea3e519d-7f31-4caa-b4bf-70db0c44af1e",
   "metadata": {},
   "outputs": [],
   "source": [
    "group = beads_grpd_fovs.get_group(1).iloc[0]"
   ]
  },
  {
   "cell_type": "code",
   "execution_count": null,
   "id": "49cb645c-7446-4d99-8099-81bf5870483f",
   "metadata": {},
   "outputs": [],
   "source": [
    "round_num = group.round_num"
   ]
  },
  {
   "cell_type": "code",
   "execution_count": null,
   "id": "2dea3d3c-856e-44d8-b6ff-818784f4beb7",
   "metadata": {},
   "outputs": [],
   "source": [
    "round_num"
   ]
  },
  {
   "cell_type": "code",
   "execution_count": null,
   "id": "53d56157-bfbe-4762-8cdf-63b5c4438310",
   "metadata": {},
   "outputs": [],
   "source": [
    "root.tree()"
   ]
  },
  {
   "cell_type": "code",
   "execution_count": null,
   "id": "6d55c7b3-3748-4fa5-85cd-1ae10be913dd",
   "metadata": {},
   "outputs": [],
   "source": [
    "fpath"
   ]
  },
  {
   "cell_type": "code",
   "execution_count": null,
   "id": "d67133f4-2659-4429-8c20-a3317f362049",
   "metadata": {},
   "outputs": [],
   "source": []
  }
 ],
 "metadata": {
  "kernelspec": {
   "display_name": "test_d",
   "language": "python",
   "name": "test_d"
  },
  "language_info": {
   "codemirror_mode": {
    "name": "ipython",
    "version": 3
   },
   "file_extension": ".py",
   "mimetype": "text/x-python",
   "name": "python",
   "nbconvert_exporter": "python",
   "pygments_lexer": "ipython3",
   "version": "3.8.2"
  }
 },
 "nbformat": 4,
 "nbformat_minor": 5
}
