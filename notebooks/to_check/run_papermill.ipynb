{
 "cells": [
  {
   "cell_type": "markdown",
   "id": "ba843989",
   "metadata": {
    "tags": [
     "papermill-error-cell-tag"
    ]
   },
   "source": [
    "<span style=\"color:red; font-family:Helvetica Neue, Helvetica, Arial, sans-serif; font-size:2em;\">An Exception was encountered at '<a href=\"#papermill-error-cell\">In [7]</a>'.</span>"
   ]
  },
  {
   "cell_type": "code",
   "execution_count": 1,
   "id": "bf50b397",
   "metadata": {
    "collapsed": true,
    "execution": {
     "iopub.execute_input": "2021-08-26T11:55:55.518112Z",
     "iopub.status.busy": "2021-08-26T11:55:55.517139Z",
     "iopub.status.idle": "2021-08-26T11:55:56.988911Z",
     "shell.execute_reply": "2021-08-26T11:55:56.989797Z"
    },
    "jupyter": {
     "outputs_hidden": true,
     "source_hidden": false
    },
    "nteract": {
     "transient": {
      "deleting": false
     }
    },
    "papermill": {
     "duration": 1.516617,
     "end_time": "2021-08-26T11:55:56.990441",
     "exception": false,
     "start_time": "2021-08-26T11:55:55.473824",
     "status": "completed"
    },
    "tags": []
   },
   "outputs": [],
   "source": [
    "from pathlib import Path\n",
    "import time\n",
    "import pysmFISH\n",
    "from dask.distributed import Client\n",
    "from pysmFISH import processing_cluster_setup"
   ]
  },
  {
   "cell_type": "code",
   "execution_count": 2,
   "id": "52470dc6",
   "metadata": {
    "execution": {
     "iopub.execute_input": "2021-08-26T11:55:57.042672Z",
     "iopub.status.busy": "2021-08-26T11:55:57.041821Z",
     "iopub.status.idle": "2021-08-26T11:56:02.071939Z",
     "shell.execute_reply": "2021-08-26T11:56:02.072727Z"
    },
    "papermill": {
     "duration": 5.050538,
     "end_time": "2021-08-26T11:56:02.072967",
     "exception": false,
     "start_time": "2021-08-26T11:55:57.022429",
     "status": "completed"
    },
    "tags": []
   },
   "outputs": [],
   "source": [
    "from pysmFISH import dots_calling\n",
    "from pysmFISH import io\n",
    "\n"
   ]
  },
  {
   "cell_type": "code",
   "execution_count": 3,
   "id": "df05e357",
   "metadata": {
    "execution": {
     "iopub.execute_input": "2021-08-26T11:56:02.110220Z",
     "iopub.status.busy": "2021-08-26T11:56:02.109396Z",
     "iopub.status.idle": "2021-08-26T11:56:02.112495Z",
     "shell.execute_reply": "2021-08-26T11:56:02.111818Z"
    },
    "papermill": {
     "duration": 0.022117,
     "end_time": "2021-08-26T11:56:02.112662",
     "exception": false,
     "start_time": "2021-08-26T11:56:02.090545",
     "status": "completed"
    },
    "tags": []
   },
   "outputs": [],
   "source": [
    "def test_error():\n",
    "    getattr(pysmFISH.io,'cagnura')"
   ]
  },
  {
   "cell_type": "code",
   "execution_count": 4,
   "id": "191f7b32",
   "metadata": {
    "collapsed": true,
    "execution": {
     "iopub.execute_input": "2021-08-26T11:56:02.144402Z",
     "iopub.status.busy": "2021-08-26T11:56:02.143650Z",
     "iopub.status.idle": "2021-08-26T11:56:02.153558Z",
     "shell.execute_reply": "2021-08-26T11:56:02.154171Z"
    },
    "jupyter": {
     "outputs_hidden": true,
     "source_hidden": false
    },
    "nteract": {
     "transient": {
      "deleting": false
     }
    },
    "papermill": {
     "duration": 0.02748,
     "end_time": "2021-08-26T11:56:02.154355",
     "exception": false,
     "start_time": "2021-08-26T11:56:02.126875",
     "status": "completed"
    },
    "tags": [
     "parameters"
    ]
   },
   "outputs": [],
   "source": [
    "# This are the input parameter\n",
    "cores = 10"
   ]
  },
  {
   "cell_type": "code",
   "execution_count": 5,
   "id": "7db0f769",
   "metadata": {
    "execution": {
     "iopub.execute_input": "2021-08-26T11:56:02.185217Z",
     "iopub.status.busy": "2021-08-26T11:56:02.184516Z",
     "iopub.status.idle": "2021-08-26T11:56:02.202132Z",
     "shell.execute_reply": "2021-08-26T11:56:02.202669Z"
    },
    "papermill": {
     "duration": 0.034621,
     "end_time": "2021-08-26T11:56:02.202835",
     "exception": false,
     "start_time": "2021-08-26T11:56:02.168214",
     "status": "completed"
    },
    "tags": [
     "injected-parameters"
    ]
   },
   "outputs": [],
   "source": [
    "# Parameters\n",
    "cores = 5\n"
   ]
  },
  {
   "cell_type": "code",
   "execution_count": 6,
   "id": "46472e9c",
   "metadata": {
    "collapsed": true,
    "execution": {
     "iopub.execute_input": "2021-08-26T11:56:02.233358Z",
     "iopub.status.busy": "2021-08-26T11:56:02.232706Z",
     "iopub.status.idle": "2021-08-26T11:56:02.235295Z",
     "shell.execute_reply": "2021-08-26T11:56:02.234747Z"
    },
    "jupyter": {
     "outputs_hidden": true,
     "source_hidden": false
    },
    "nteract": {
     "transient": {
      "deleting": false
     }
    },
    "papermill": {
     "duration": 0.019523,
     "end_time": "2021-08-26T11:56:02.235423",
     "exception": false,
     "start_time": "2021-08-26T11:56:02.215900",
     "status": "completed"
    },
    "tags": []
   },
   "outputs": [],
   "source": [
    "processing_env_config = {}\n",
    "processing_env_config['processing_engine'] = 'htcondor'\n",
    "processing_env_config['cores'] = cores\n",
    "processing_env_config['memory'] ='20GB'\n",
    "processing_env_config['disk'] = '0.1GB'\n",
    "processing_env_config['local_directory'] = '/tmp'\n",
    "processing_env_config['logs_directory'] = '/tmp'"
   ]
  },
  {
   "cell_type": "markdown",
   "id": "67ec6ea2",
   "metadata": {
    "tags": [
     "papermill-error-cell-tag"
    ]
   },
   "source": [
    "<span id=\"papermill-error-cell\" style=\"color:red; font-family:Helvetica Neue, Helvetica, Arial, sans-serif; font-size:2em;\">Execution using papermill encountered an exception here and stopped:</span>"
   ]
  },
  {
   "cell_type": "code",
   "execution_count": 7,
   "id": "34454806",
   "metadata": {
    "execution": {
     "iopub.execute_input": "2021-08-26T11:56:02.296652Z",
     "iopub.status.busy": "2021-08-26T11:56:02.295946Z",
     "iopub.status.idle": "2021-08-26T11:56:10.916381Z",
     "shell.execute_reply": "2021-08-26T11:56:10.915437Z"
    },
    "papermill": {
     "duration": 8.647842,
     "end_time": "2021-08-26T11:56:10.916883",
     "exception": true,
     "start_time": "2021-08-26T11:56:02.269041",
     "status": "failed"
    },
    "tags": []
   },
   "outputs": [
    {
     "ename": "AttributeError",
     "evalue": "module 'pysmFISH.io' has no attribute 'cagnura'",
     "output_type": "error",
     "traceback": [
      "\u001b[0;31m---------------------------------------------------------------------------\u001b[0m",
      "\u001b[0;31mAttributeError\u001b[0m                            Traceback (most recent call last)",
      "\u001b[0;32m<ipython-input-7-39a88f1a20fb>\u001b[0m in \u001b[0;36m<module>\u001b[0;34m\u001b[0m\n\u001b[0;32m----> 1\u001b[0;31m \u001b[0mtest_error\u001b[0m\u001b[0;34m(\u001b[0m\u001b[0;34m)\u001b[0m\u001b[0;34m\u001b[0m\u001b[0;34m\u001b[0m\u001b[0m\n\u001b[0m",
      "\u001b[0;32m<ipython-input-3-835384bea416>\u001b[0m in \u001b[0;36mtest_error\u001b[0;34m()\u001b[0m\n\u001b[1;32m      1\u001b[0m \u001b[0;32mdef\u001b[0m \u001b[0mtest_error\u001b[0m\u001b[0;34m(\u001b[0m\u001b[0;34m)\u001b[0m\u001b[0;34m:\u001b[0m\u001b[0;34m\u001b[0m\u001b[0;34m\u001b[0m\u001b[0m\n\u001b[0;32m----> 2\u001b[0;31m     \u001b[0mgetattr\u001b[0m\u001b[0;34m(\u001b[0m\u001b[0mpysmFISH\u001b[0m\u001b[0;34m.\u001b[0m\u001b[0mio\u001b[0m\u001b[0;34m,\u001b[0m\u001b[0;34m'cagnura'\u001b[0m\u001b[0;34m)\u001b[0m\u001b[0;34m\u001b[0m\u001b[0;34m\u001b[0m\u001b[0m\n\u001b[0m",
      "\u001b[0;31mAttributeError\u001b[0m: module 'pysmFISH.io' has no attribute 'cagnura'"
     ]
    }
   ],
   "source": [
    "test_error()"
   ]
  },
  {
   "cell_type": "code",
   "execution_count": null,
   "id": "a988921b",
   "metadata": {
    "collapsed": true,
    "jupyter": {
     "outputs_hidden": true,
     "source_hidden": false
    },
    "nteract": {
     "transient": {
      "deleting": false
     }
    },
    "papermill": {
     "duration": null,
     "end_time": null,
     "exception": null,
     "start_time": null,
     "status": "pending"
    },
    "tags": []
   },
   "outputs": [],
   "source": [
    "cluster = processing_cluster_setup.start_processing_env(processing_env_config)\n",
    "client = Client(cluster,asynchronous=True)\n",
    "cluster.scale(jobs=5)\n",
    "# L = client.submit(test_error)\n",
    "# client.gather(L)"
   ]
  },
  {
   "cell_type": "code",
   "execution_count": null,
   "id": "0eeb8c26",
   "metadata": {
    "papermill": {
     "duration": null,
     "end_time": null,
     "exception": null,
     "start_time": null,
     "status": "pending"
    },
    "tags": []
   },
   "outputs": [],
   "source": [
    "print(cores)"
   ]
  },
  {
   "cell_type": "code",
   "execution_count": null,
   "id": "3241c322",
   "metadata": {
    "collapsed": true,
    "jupyter": {
     "outputs_hidden": true,
     "source_hidden": false
    },
    "nteract": {
     "transient": {
      "deleting": false
     }
    },
    "papermill": {
     "duration": null,
     "end_time": null,
     "exception": null,
     "start_time": null,
     "status": "pending"
    },
    "tags": []
   },
   "outputs": [],
   "source": [
    "print(f'Dask dashboard info {client.scheduler_info()}')"
   ]
  },
  {
   "cell_type": "code",
   "execution_count": null,
   "id": "2bd72cac",
   "metadata": {
    "collapsed": true,
    "jupyter": {
     "outputs_hidden": true,
     "source_hidden": false
    },
    "nteract": {
     "transient": {
      "deleting": false
     }
    },
    "papermill": {
     "duration": null,
     "end_time": null,
     "exception": null,
     "start_time": null,
     "status": "pending"
    },
    "tags": []
   },
   "outputs": [],
   "source": [
    "client.close()\n",
    "cluster.close()"
   ]
  }
 ],
 "metadata": {
  "kernel_info": {
   "name": "test_d"
  },
  "kernelspec": {
   "display_name": "test_d",
   "language": "python",
   "name": "test_d"
  },
  "language_info": {
   "codemirror_mode": {
    "name": "ipython",
    "version": 3
   },
   "file_extension": ".py",
   "mimetype": "text/x-python",
   "name": "python",
   "nbconvert_exporter": "python",
   "pygments_lexer": "ipython3",
   "version": "3.8.5"
  },
  "nteract": {
   "version": "0.28.0"
  },
  "papermill": {
   "default_parameters": {},
   "duration": 20.139914,
   "end_time": "2021-08-26T11:56:11.555763",
   "environment_variables": {},
   "exception": true,
   "input_path": "notebooks/Test_cluster_setup_papermill.ipynb",
   "output_path": "notebooks/run_papermill.ipynb",
   "parameters": {
    "cores": 5
   },
   "start_time": "2021-08-26T11:55:51.415849",
   "version": "2.3.3"
  }
 },
 "nbformat": 4,
 "nbformat_minor": 5
}