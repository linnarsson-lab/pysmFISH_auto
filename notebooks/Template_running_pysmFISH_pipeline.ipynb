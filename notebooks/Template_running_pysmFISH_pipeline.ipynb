{
  "cells": [
    {
      "cell_type": "code",
      "source": [
        "from pathlib import Path\n",
        "import time\n",
        "from pysmFISH.pipeline import Pipeline"
      ],
      "outputs": [],
      "execution_count": null,
      "metadata": {
        "collapsed": true,
        "jupyter": {
          "source_hidden": false,
          "outputs_hidden": false
        },
        "nteract": {
          "transient": {
            "deleting": false
          }
        }
      }
    },
    {
      "cell_type": "code",
      "source": [
        "# REQUIRED ARGUMENTS\n",
        "# -------------------\n",
        "\n",
        "# Path to the experiment folder\n",
        "experiment_fpath = '' \n",
        "\n",
        "# Define if it is a 'new' or 're-run' (default: new)\n",
        "run_type = 'new'\n",
        "\n",
        "# Define the parsing type. Can be: \n",
        "# original/no_parsing/reparsing_from_processing_folder/reparsing_from_storage\n",
        "# (default: original)\n",
        "parsing_type = 'original'\n",
        "\n",
        "# OPTIONAL KWARGS\n",
        "# ----------------\n",
        "\n",
        "# Path to the cold storage hard drive (default: /fish/rawdata)\n",
        "raw_data_folder_storage_path = '/fish/rawdata'\n",
        "\n",
        "# Tag to identify the zarr file with parsed images (default: img_data)\n",
        "parsed_image_tag = 'img_data'\n",
        "\n",
        "# Tag to identify the zarr file with preprocessed images (default: preprocessed_img_data)\n",
        "preprocessed_image_tag = 'preprocessed_img_data'\n",
        "\n",
        "# Path to the location where the dataset are stored (default: /fish/fish_datasets)\n",
        "dataset_folder_storage_path = '/fish/fish_datasets'\n",
        "\n",
        "# Path to the location where the dataset are stored (default: /fish/fish_results)\n",
        "results_folder_storage_path = '/fish/fish_results'\n",
        "\n",
        "# Determine if the processed images will be saved (default: True)\n",
        "save_intermediate_steps = True\n",
        "\n",
        "# Path to an existing dataset that will be used in the processing\n",
        "dataset_path = ''\n",
        "\n",
        "# Number of FOV to process in parallel\n",
        "chunk_size = 50\n",
        "\n",
        "# Searching distance that define two dots as identical (default: 10)\n",
        "same_dot_radius_duplicate_dots = 10\n",
        "\n",
        "# Define the stitched counts on which the overlapping dotes will be removed \n",
        "# (default: microscope_stitched) \n",
        "stitching_selected = 'microscope_stitched'\n",
        "\n",
        "# Value to select the barcodes that are passing the \n",
        "# screening (< hamming_distance). (default: 3)\n",
        "hamming_distance = 3\n",
        "\n",
        "# Define the name of the system that will run the processing. Can be local/htcondor\n",
        "# (default htcondor). If engine == local the parameters that define the cluster\n",
        "# will be ignored\n",
        "processing_engine = 'htcondor'\n",
        "\n",
        "# Number of cores to use in htcondor (default 20)\n",
        "cores = 20\n",
        "\n",
        "# Total memory for all the cores in htcondor (default 200GB)\n",
        "memory = '200GB'\n",
        "\n",
        "# Size of the spillover disk for dask in htcondor (default 0.1GB)\n",
        "disk = '0.1GB'\n",
        "\n",
        "# Directory where to spill over on the node in htcondor (default /tmp)\n",
        "local_directory = '/tmp'\n",
        "\n",
        "# Directory where to store dask and htcondor logs\n",
        "logs_directory = ''\n",
        "\n",
        "# Save the intensity of the bits and the flipping direction\n",
        "save_bits_int = False"
      ],
      "outputs": [],
      "execution_count": null,
      "metadata": {
        "collapsed": true,
        "jupyter": {
          "source_hidden": false,
          "outputs_hidden": false
        },
        "nteract": {
          "transient": {
            "deleting": false
          }
        },
        "tags": [
          "parameters"
        ]
      }
    },
    {
      "cell_type": "code",
      "source": [
        "experiment_fpath = Path(experiment_fpath)\n",
        "date_tag = time.strftime(\"%y%m%d_%H_%M_%S\")\n",
        "pipeline_run_name = date_tag + '_' + experiment_fpath.stem"
      ],
      "outputs": [],
      "execution_count": null,
      "metadata": {
        "collapsed": true,
        "jupyter": {
          "source_hidden": false,
          "outputs_hidden": false
        },
        "nteract": {
          "transient": {
            "deleting": false
          }
        }
      }
    }
  ],
  "metadata": {
    "kernel_info": {
      "name": "test_d"
    },
    "language_info": {
      "name": "python",
      "version": "3.8.2",
      "mimetype": "text/x-python",
      "codemirror_mode": {
        "name": "ipython",
        "version": 3
      },
      "pygments_lexer": "ipython3",
      "nbconvert_exporter": "python",
      "file_extension": ".py"
    },
    "kernelspec": {
      "argv": [
        "/Users/simone.codeluppi/opt/miniconda3/envs/test_d/bin/python",
        "-m",
        "ipykernel_launcher",
        "-f",
        "{connection_file}"
      ],
      "display_name": "test_d",
      "language": "python",
      "name": "test_d"
    },
    "nteract": {
      "version": "0.28.0"
    }
  },
  "nbformat": 4,
  "nbformat_minor": 0
}