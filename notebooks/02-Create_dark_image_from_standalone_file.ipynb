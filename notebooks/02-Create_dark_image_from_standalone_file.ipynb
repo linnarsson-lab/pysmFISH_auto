{
 "cells": [
  {
   "cell_type": "markdown",
   "id": "c539217b-20c0-4f7a-b916-8daeff8eec24",
   "metadata": {},
   "source": [
    "# Create dark image from standalone file"
   ]
  },
  {
   "cell_type": "markdown",
   "id": "0a0021bd-5171-4ed7-a748-8e49d0162bd9",
   "metadata": {},
   "source": [
    "Usually the dark image use to remove camera noise is image is acquired as .nd2 file labeled Blank*.nd2 and is stored in the extra_files subfolder in the experiment folder. The file contain a stack of images acquired with no illumination in order to evaluate the camera noise. If the files is present in the extra_files folder than the median is calculated and saved as `experiment_name + machine_name +'_dark_img.npy'` in the extra_processing_files subfolder. If the file is not acquired in the experiment a general `machine +'_dark_img.npy'` present in the config_db folder is copied in the extra_processing_files subfolder. This general use file is acquired as standalone .nd2 file and processed using the function showed in this notebook"
   ]
  },
  {
   "cell_type": "markdown",
   "id": "a1f531bc-1112-4bea-a5c3-8a654574353d",
   "metadata": {},
   "source": [
    "## Imports"
   ]
  },
  {
   "cell_type": "code",
   "execution_count": 1,
   "id": "553e2d7b-69f7-4540-9495-ca72886c11a9",
   "metadata": {},
   "outputs": [],
   "source": [
    "%load_ext autoreload\n",
    "%autoreload 2"
   ]
  },
  {
   "cell_type": "code",
   "execution_count": 1,
   "id": "d1df709a-d359-4def-8ebc-7c025cfd6acc",
   "metadata": {},
   "outputs": [],
   "source": [
    "from pysmFISH.microscopy_file_parsers import create_dark_img_from_standalone "
   ]
  },
  {
   "cell_type": "markdown",
   "id": "b62078ac-a9c4-4d8b-a230-f650dacfe87b",
   "metadata": {},
   "source": [
    "## Create the processing environment"
   ]
  },
  {
   "cell_type": "code",
   "execution_count": 6,
   "id": "8519ec02-1178-4ad7-80d4-585de6f011be",
   "metadata": {},
   "outputs": [],
   "source": [
    "raw_img_fpath = 'standalone_raw_dark_image_nd2/Blank_image_ROBOFISH2.nd2'\n",
    "machine = 'ROBOFISH2'"
   ]
  },
  {
   "cell_type": "code",
   "execution_count": 8,
   "id": "65926d73-96da-4f0b-90f6-e5ed5c1e966b",
   "metadata": {},
   "outputs": [],
   "source": [
    "create_dark_img_from_standalone(processing_folder_path, machine)"
   ]
  },
  {
   "cell_type": "code",
   "execution_count": 10,
   "id": "1e5a171e-d761-432d-8895-aeb53d62780a",
   "metadata": {},
   "outputs": [],
   "source": [
    "# The image will be stored in the /config_db folder in the processing_folder\n",
    "!mv 'standalone_raw_dark_image_nd2/ROBOFISH2_dark_img.npy' 'processing_folder/config_db/'"
   ]
  },
  {
   "cell_type": "code",
   "execution_count": null,
   "id": "0c55470e-93a7-4c83-8bba-3e1a68fdf9ab",
   "metadata": {},
   "outputs": [],
   "source": []
  }
 ],
 "metadata": {
  "kernelspec": {
   "display_name": "test_d",
   "language": "python",
   "name": "test_d"
  },
  "language_info": {
   "codemirror_mode": {
    "name": "ipython",
    "version": 3
   },
   "file_extension": ".py",
   "mimetype": "text/x-python",
   "name": "python",
   "nbconvert_exporter": "python",
   "pygments_lexer": "ipython3",
   "version": "3.8.2"
  }
 },
 "nbformat": 4,
 "nbformat_minor": 5
}
