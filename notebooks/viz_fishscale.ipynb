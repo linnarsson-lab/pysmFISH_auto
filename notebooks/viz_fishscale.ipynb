{
 "cells": [
  {
   "cell_type": "code",
   "execution_count": null,
   "id": "a96f55d4-2bae-46c7-8a06-d75d504014ac",
   "metadata": {},
   "outputs": [],
   "source": [
    "# pip install pandas\n",
    "# pip install PyQt5\n",
    "# pip install geopandas\n",
    "# pip install matplotlib\n",
    "# pip install networkx\n",
    "# pip install scikit-image\n",
    "# pip install scikit-learn\n",
    "# pip install pint\n",
    "# conda install numba\n",
    "# pip install ripleyk\n",
    "# python -m pip install \"dask[distributed]\" --upgrade\n",
    "# pip install scanpy\n",
    "# bone_fight from linnarsson github\n",
    "# pip install torch\n",
    "# pip install loompy\n",
    "# pip install pyarrow\n",
    "# pip install open3d"
   ]
  },
  {
   "cell_type": "code",
   "execution_count": null,
   "id": "ae3b55bb-1dc9-4d6b-b14a-5d614368fc0f",
   "metadata": {},
   "outputs": [],
   "source": [
    "%load_ext autoreload\n",
    "%autoreload 2"
   ]
  },
  {
   "cell_type": "code",
   "execution_count": 16,
   "id": "360e78d4-5c78-4300-b72c-bd7397e1af08",
   "metadata": {},
   "outputs": [],
   "source": [
    "import sys\n",
    "sys.path.append('/Users/simone.codeluppi/Github_code/')"
   ]
  },
  {
   "cell_type": "code",
   "execution_count": 27,
   "id": "01799541-a7cf-47d2-8f4c-afa5bf42a3e9",
   "metadata": {},
   "outputs": [],
   "source": [
    "from FISHscale.utils.dataset import Dataset, MultiDataset"
   ]
  },
  {
   "cell_type": "code",
   "execution_count": 31,
   "id": "18c1c161-227f-4ed4-a5a0-330eac88bfff",
   "metadata": {},
   "outputs": [],
   "source": [
    "DS = Dataset('/Users/simone.codeluppi/Downloads/211031_08_42_32_LBEXP20200925_EEL_Mouse_-140um_data_summary_simple_plotting_cleaned_global_stitched.parquet',\n",
    "             x_label='r_px_global_stitched', y_label='c_px_global_stitched',gene_label='decoded_genes')"
   ]
  },
  {
   "cell_type": "code",
   "execution_count": null,
   "id": "8cd9e2c6-c483-4fbd-901d-5ecce4f1d4cf",
   "metadata": {},
   "outputs": [
    {
     "name": "stdout",
     "output_type": "stream",
     "text": [
      "Single Dataset\n",
      "/Users/simone.codeluppi/Downloads/211031_08_42_32_LBEXP20200925_EEL_Mouse_-140um_data_summary_simple_plotting_cleaned_global_stitched.parquet\n",
      "Data loaded\n"
     ]
    },
    {
     "name": "stderr",
     "output_type": "stream",
     "text": [
      "Premature drain of QMacAutoReleasePool(0x7ffee6e2f778) This can happen if you've allocated the pool on the heap, or as a member of a heap-allocated object. This is not a supported use of QMacAutoReleasePool, and might result in crashes when objects in the pool are deallocated and then used later on under the assumption they will be valid until QMacAutoReleasePool(0x7ffee6e2f778) has been drained.\n"
     ]
    }
   ],
   "source": [
    "DS.visualize()"
   ]
  },
  {
   "cell_type": "code",
   "execution_count": 1,
   "id": "bced0aea-2c20-4453-b687-04201f13d0d3",
   "metadata": {},
   "outputs": [],
   "source": [
    "import pandas as pd"
   ]
  },
  {
   "cell_type": "code",
   "execution_count": null,
   "id": "99dd730a-c645-40b8-85b8-513bb1767022",
   "metadata": {},
   "outputs": [],
   "source": [
    "data = pd.read_parquet('/Users/simone.codeluppi/Downloads/Mouse-wholebrain-448genes-EELV2-647_HE_V5_extended_EELV2_codebook_16_6_5Alex647N.parquet')"
   ]
  },
  {
   "cell_type": "code",
   "execution_count": null,
   "id": "af7fd8ed-6089-4690-a7a6-b0b0dd0275b9",
   "metadata": {},
   "outputs": [],
   "source": [
    "data.loc[data.Gene.str.contains('Control'),:]"
   ]
  },
  {
   "cell_type": "code",
   "execution_count": null,
   "id": "8a8da9ba-7e4a-46b5-ac6a-32f3dd3e3c68",
   "metadata": {},
   "outputs": [],
   "source": [
    "md = MultiDataset('/Users/simone.codeluppi/Downloads/dot_removed/', \n",
    "                  x_label='c_px_global_stitched', y_label='r_px_global_stitched',\n",
    "                  gene_label = 'decoded_genes', reparse=False, pixel_size='0.18 micrometer')"
   ]
  },
  {
   "cell_type": "code",
   "execution_count": null,
   "id": "e35587f7-68f7-4dfb-8828-15e75b544cbb",
   "metadata": {},
   "outputs": [],
   "source": [
    "md.visualize()"
   ]
  },
  {
   "cell_type": "code",
   "execution_count": 20,
   "id": "a8c50926-0db2-4572-bab3-cbe164944de7",
   "metadata": {},
   "outputs": [],
   "source": [
    "import pandas as pd"
   ]
  },
  {
   "cell_type": "code",
   "execution_count": 26,
   "id": "3fc516a0-3e25-4f8c-8279-ff2c48cfa5dd",
   "metadata": {},
   "outputs": [
    {
     "ename": "ArrowInvalid",
     "evalue": "Could not open Parquet input source '<Buffer>': Parquet magic bytes not found in footer. Either the file is corrupted or this is not a parquet file.",
     "output_type": "error",
     "traceback": [
      "\u001b[0;31m---------------------------------------------------------------------------\u001b[0m",
      "\u001b[0;31mArrowInvalid\u001b[0m                              Traceback (most recent call last)",
      "\u001b[0;32m/var/folders/3j/qdw444h57j5b6vr3jmttjvs80000gp/T/ipykernel_3611/3070753266.py\u001b[0m in \u001b[0;36m<module>\u001b[0;34m\u001b[0m\n\u001b[0;32m----> 1\u001b[0;31m \u001b[0mdata\u001b[0m \u001b[0;34m=\u001b[0m \u001b[0mpd\u001b[0m\u001b[0;34m.\u001b[0m\u001b[0mread_parquet\u001b[0m\u001b[0;34m(\u001b[0m\u001b[0;34m'/Users/simone.codeluppi/Downloads/LBEXP20200925_EEL_Mouse_-140um_decoded_fov_576.parquet'\u001b[0m\u001b[0;34m)\u001b[0m\u001b[0;34m\u001b[0m\u001b[0;34m\u001b[0m\u001b[0m\n\u001b[0m",
      "\u001b[0;32m~/opt/miniconda3/envs/fishscale/lib/python3.8/site-packages/pandas/io/parquet.py\u001b[0m in \u001b[0;36mread_parquet\u001b[0;34m(path, engine, columns, storage_options, use_nullable_dtypes, **kwargs)\u001b[0m\n\u001b[1;32m    493\u001b[0m     \u001b[0mimpl\u001b[0m \u001b[0;34m=\u001b[0m \u001b[0mget_engine\u001b[0m\u001b[0;34m(\u001b[0m\u001b[0mengine\u001b[0m\u001b[0;34m)\u001b[0m\u001b[0;34m\u001b[0m\u001b[0;34m\u001b[0m\u001b[0m\n\u001b[1;32m    494\u001b[0m \u001b[0;34m\u001b[0m\u001b[0m\n\u001b[0;32m--> 495\u001b[0;31m     return impl.read(\n\u001b[0m\u001b[1;32m    496\u001b[0m         \u001b[0mpath\u001b[0m\u001b[0;34m,\u001b[0m\u001b[0;34m\u001b[0m\u001b[0;34m\u001b[0m\u001b[0m\n\u001b[1;32m    497\u001b[0m         \u001b[0mcolumns\u001b[0m\u001b[0;34m=\u001b[0m\u001b[0mcolumns\u001b[0m\u001b[0;34m,\u001b[0m\u001b[0;34m\u001b[0m\u001b[0;34m\u001b[0m\u001b[0m\n",
      "\u001b[0;32m~/opt/miniconda3/envs/fishscale/lib/python3.8/site-packages/pandas/io/parquet.py\u001b[0m in \u001b[0;36mread\u001b[0;34m(self, path, columns, use_nullable_dtypes, storage_options, **kwargs)\u001b[0m\n\u001b[1;32m    237\u001b[0m         )\n\u001b[1;32m    238\u001b[0m         \u001b[0;32mtry\u001b[0m\u001b[0;34m:\u001b[0m\u001b[0;34m\u001b[0m\u001b[0;34m\u001b[0m\u001b[0m\n\u001b[0;32m--> 239\u001b[0;31m             result = self.api.parquet.read_table(\n\u001b[0m\u001b[1;32m    240\u001b[0m                 \u001b[0mpath_or_handle\u001b[0m\u001b[0;34m,\u001b[0m \u001b[0mcolumns\u001b[0m\u001b[0;34m=\u001b[0m\u001b[0mcolumns\u001b[0m\u001b[0;34m,\u001b[0m \u001b[0;34m**\u001b[0m\u001b[0mkwargs\u001b[0m\u001b[0;34m\u001b[0m\u001b[0;34m\u001b[0m\u001b[0m\n\u001b[1;32m    241\u001b[0m             ).to_pandas(**to_pandas_kwargs)\n",
      "\u001b[0;32m~/opt/miniconda3/envs/fishscale/lib/python3.8/site-packages/pyarrow/parquet.py\u001b[0m in \u001b[0;36mread_table\u001b[0;34m(source, columns, use_threads, metadata, use_pandas_metadata, memory_map, read_dictionary, filesystem, filters, buffer_size, partitioning, use_legacy_dataset, ignore_prefixes, pre_buffer, coerce_int96_timestamp_unit)\u001b[0m\n\u001b[1;32m   1857\u001b[0m             )\n\u001b[1;32m   1858\u001b[0m         \u001b[0;32mtry\u001b[0m\u001b[0;34m:\u001b[0m\u001b[0;34m\u001b[0m\u001b[0;34m\u001b[0m\u001b[0m\n\u001b[0;32m-> 1859\u001b[0;31m             dataset = _ParquetDatasetV2(\n\u001b[0m\u001b[1;32m   1860\u001b[0m                 \u001b[0msource\u001b[0m\u001b[0;34m,\u001b[0m\u001b[0;34m\u001b[0m\u001b[0;34m\u001b[0m\u001b[0m\n\u001b[1;32m   1861\u001b[0m                 \u001b[0mfilesystem\u001b[0m\u001b[0;34m=\u001b[0m\u001b[0mfilesystem\u001b[0m\u001b[0;34m,\u001b[0m\u001b[0;34m\u001b[0m\u001b[0;34m\u001b[0m\u001b[0m\n",
      "\u001b[0;32m~/opt/miniconda3/envs/fishscale/lib/python3.8/site-packages/pyarrow/parquet.py\u001b[0m in \u001b[0;36m__init__\u001b[0;34m(self, path_or_paths, filesystem, filters, partitioning, read_dictionary, buffer_size, memory_map, ignore_prefixes, pre_buffer, coerce_int96_timestamp_unit, **kwargs)\u001b[0m\n\u001b[1;32m   1677\u001b[0m \u001b[0;34m\u001b[0m\u001b[0m\n\u001b[1;32m   1678\u001b[0m             self._dataset = ds.FileSystemDataset(\n\u001b[0;32m-> 1679\u001b[0;31m                 \u001b[0;34m[\u001b[0m\u001b[0mfragment\u001b[0m\u001b[0;34m]\u001b[0m\u001b[0;34m,\u001b[0m \u001b[0mschema\u001b[0m\u001b[0;34m=\u001b[0m\u001b[0mfragment\u001b[0m\u001b[0;34m.\u001b[0m\u001b[0mphysical_schema\u001b[0m\u001b[0;34m,\u001b[0m\u001b[0;34m\u001b[0m\u001b[0;34m\u001b[0m\u001b[0m\n\u001b[0m\u001b[1;32m   1680\u001b[0m                 \u001b[0mformat\u001b[0m\u001b[0;34m=\u001b[0m\u001b[0mparquet_format\u001b[0m\u001b[0;34m,\u001b[0m\u001b[0;34m\u001b[0m\u001b[0;34m\u001b[0m\u001b[0m\n\u001b[1;32m   1681\u001b[0m                 \u001b[0mfilesystem\u001b[0m\u001b[0;34m=\u001b[0m\u001b[0mfragment\u001b[0m\u001b[0;34m.\u001b[0m\u001b[0mfilesystem\u001b[0m\u001b[0;34m\u001b[0m\u001b[0;34m\u001b[0m\u001b[0m\n",
      "\u001b[0;32m~/opt/miniconda3/envs/fishscale/lib/python3.8/site-packages/pyarrow/_dataset.pyx\u001b[0m in \u001b[0;36mpyarrow._dataset.Fragment.physical_schema.__get__\u001b[0;34m()\u001b[0m\n",
      "\u001b[0;32m~/opt/miniconda3/envs/fishscale/lib/python3.8/site-packages/pyarrow/error.pxi\u001b[0m in \u001b[0;36mpyarrow.lib.pyarrow_internal_check_status\u001b[0;34m()\u001b[0m\n",
      "\u001b[0;32m~/opt/miniconda3/envs/fishscale/lib/python3.8/site-packages/pyarrow/error.pxi\u001b[0m in \u001b[0;36mpyarrow.lib.check_status\u001b[0;34m()\u001b[0m\n",
      "\u001b[0;31mArrowInvalid\u001b[0m: Could not open Parquet input source '<Buffer>': Parquet magic bytes not found in footer. Either the file is corrupted or this is not a parquet file."
     ]
    }
   ],
   "source": [
    "data = pd.read_parquet('/Users/simone.codeluppi/Downloads/LBEXP20200925_EEL_Mouse_-140um_decoded_fov_576.parquet')"
   ]
  },
  {
   "cell_type": "code",
   "execution_count": 22,
   "id": "e2daf8e7-c9fe-4550-b8ea-505dc599610c",
   "metadata": {},
   "outputs": [
    {
     "data": {
      "text/plain": [
       "Index(['fov_num', 'r_px_microscope_stitched', 'c_px_microscope_stitched',\n",
       "       'decoded_genes'],\n",
       "      dtype='object')"
      ]
     },
     "execution_count": 22,
     "metadata": {},
     "output_type": "execute_result"
    }
   ],
   "source": [
    "data.columns"
   ]
  },
  {
   "cell_type": "code",
   "execution_count": 25,
   "id": "c1c6ee53-5ac7-4804-ac93-9553584e1e97",
   "metadata": {},
   "outputs": [
    {
     "data": {
      "text/plain": [
       "(3467686, 4)"
      ]
     },
     "execution_count": 25,
     "metadata": {},
     "output_type": "execute_result"
    }
   ],
   "source": [
    "data.shape"
   ]
  },
  {
   "cell_type": "code",
   "execution_count": 10,
   "id": "d2d9acd5-e0ff-4614-b63a-014305e73806",
   "metadata": {},
   "outputs": [],
   "source": [
    "a = 1\n",
    "b = 2.0\n",
    "assert (isinstance(a,int)| isinstance(b,float)), print('cane')"
   ]
  },
  {
   "cell_type": "code",
   "execution_count": null,
   "id": "34238e39-5f37-41d4-91d3-27d14c37d0af",
   "metadata": {},
   "outputs": [],
   "source": []
  }
 ],
 "metadata": {
  "kernelspec": {
   "display_name": "fishscale",
   "language": "python",
   "name": "fishscale"
  },
  "language_info": {
   "codemirror_mode": {
    "name": "ipython",
    "version": 3
   },
   "file_extension": ".py",
   "mimetype": "text/x-python",
   "name": "python",
   "nbconvert_exporter": "python",
   "pygments_lexer": "ipython3",
   "version": "3.8.5"
  }
 },
 "nbformat": 4,
 "nbformat_minor": 5
}
