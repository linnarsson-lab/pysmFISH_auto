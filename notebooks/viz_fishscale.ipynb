{
 "cells": [
  {
   "cell_type": "code",
   "execution_count": null,
   "id": "a96f55d4-2bae-46c7-8a06-d75d504014ac",
   "metadata": {},
   "outputs": [],
   "source": [
    "# pip install pandas\n",
    "# pip install PyQt5\n",
    "# pip install geopandas\n",
    "# pip install matplotlib\n",
    "# pip install networkx\n",
    "# pip install scikit-image\n",
    "# pip install scikit-learn\n",
    "# pip install pint\n",
    "# conda install numba\n",
    "# pip install ripleyk\n",
    "# python -m pip install \"dask[distributed]\" --upgrade\n",
    "# pip install scanpy\n",
    "# bone_fight from linnarsson github\n",
    "# pip install torch\n",
    "# pip install loompy\n",
    "# pip install pyarrow\n",
    "# pip install open3d"
   ]
  },
  {
   "cell_type": "code",
   "execution_count": null,
   "id": "ae3b55bb-1dc9-4d6b-b14a-5d614368fc0f",
   "metadata": {},
   "outputs": [],
   "source": [
    "%load_ext autoreload\n",
    "%autoreload 2"
   ]
  },
  {
   "cell_type": "code",
   "execution_count": 2,
   "id": "360e78d4-5c78-4300-b72c-bd7397e1af08",
   "metadata": {},
   "outputs": [],
   "source": [
    "import sys\n",
    "sys.path.append('/Users/simone.codeluppi/Github_code/')"
   ]
  },
  {
   "cell_type": "code",
   "execution_count": 3,
   "id": "01799541-a7cf-47d2-8f4c-afa5bf42a3e9",
   "metadata": {},
   "outputs": [
    {
     "name": "stdout",
     "output_type": "stream",
     "text": [
      "Could not import Cellpose. Ignore if cell segmentation is not needed. Error: No module named 'cellpose'\n"
     ]
    }
   ],
   "source": [
    "from FISHscale.utils.dataset import Dataset, MultiDataset"
   ]
  },
  {
   "cell_type": "code",
   "execution_count": 4,
   "id": "18c1c161-227f-4ed4-a5a0-330eac88bfff",
   "metadata": {},
   "outputs": [],
   "source": [
    "DS = Dataset('/Users/simone.codeluppi/Downloads/dots_removed/210828_04_37_10_LBEXP20210718_EEL_Mouse_448_2_data_summary_simple_plotting_decoded.parquet',\n",
    "             x_label='c_px_microscope_stitched', y_label='r_px_microscope_stitched',gene_label='decoded_genes')"
   ]
  },
  {
   "cell_type": "code",
   "execution_count": null,
   "id": "8cd9e2c6-c483-4fbd-901d-5ecce4f1d4cf",
   "metadata": {},
   "outputs": [
    {
     "name": "stdout",
     "output_type": "stream",
     "text": [
      "Single Dataset\n",
      "/Users/simone.codeluppi/Downloads/dots_removed/210828_04_37_10_LBEXP20210718_EEL_Mouse_448_2_data_summary_simple_plotting_decoded.parquet\n",
      "Data loaded\n"
     ]
    },
    {
     "name": "stderr",
     "output_type": "stream",
     "text": [
      "Premature drain of QMacAutoReleasePool(0x7ffeece21b08) This can happen if you've allocated the pool on the heap, or as a member of a heap-allocated object. This is not a supported use of QMacAutoReleasePool, and might result in crashes when objects in the pool are deallocated and then used later on under the assumption they will be valid until QMacAutoReleasePool(0x7ffeece21b08) has been drained.\n"
     ]
    }
   ],
   "source": [
    "DS.visualize()"
   ]
  },
  {
   "cell_type": "code",
   "execution_count": null,
   "id": "bced0aea-2c20-4453-b687-04201f13d0d3",
   "metadata": {},
   "outputs": [],
   "source": [
    "import pandas as pd"
   ]
  },
  {
   "cell_type": "code",
   "execution_count": null,
   "id": "99dd730a-c645-40b8-85b8-513bb1767022",
   "metadata": {},
   "outputs": [],
   "source": [
    "data = pd.read_parquet('/Users/simone.codeluppi/Downloads/211015_09_34_15_AMEXP20210924_EEL_SL12_3_60x_data_summary_simple_plotting_microscope_stitched.parquet')"
   ]
  },
  {
   "cell_type": "code",
   "execution_count": null,
   "id": "af7fd8ed-6089-4690-a7a6-b0b0dd0275b9",
   "metadata": {},
   "outputs": [],
   "source": [
    "data.shape"
   ]
  },
  {
   "cell_type": "code",
   "execution_count": null,
   "id": "8a8da9ba-7e4a-46b5-ac6a-32f3dd3e3c68",
   "metadata": {},
   "outputs": [],
   "source": [
    "md = MultiDataset('/Users/simone.codeluppi/Downloads/dot_removed/', \n",
    "                  x_label='c_px_global_stitched', y_label='r_px_global_stitched',\n",
    "                  gene_label = 'decoded_genes', reparse=False, pixel_size='0.18 micrometer')"
   ]
  },
  {
   "cell_type": "code",
   "execution_count": null,
   "id": "e35587f7-68f7-4dfb-8828-15e75b544cbb",
   "metadata": {},
   "outputs": [],
   "source": [
    "md.visualize()"
   ]
  },
  {
   "cell_type": "code",
   "execution_count": null,
   "id": "a8c50926-0db2-4572-bab3-cbe164944de7",
   "metadata": {},
   "outputs": [],
   "source": [
    "import pandas as pd"
   ]
  },
  {
   "cell_type": "code",
   "execution_count": null,
   "id": "3fc516a0-3e25-4f8c-8279-ff2c48cfa5dd",
   "metadata": {},
   "outputs": [],
   "source": [
    "data = pd.read_parquet('/Users/simone.codeluppi/Downloads/dot_removed/211015_09_34_15_AMEXP20210924_EEL_SL12_3_60x_data_summary_simple_plotting_microscope_stitched.parquet')"
   ]
  },
  {
   "cell_type": "code",
   "execution_count": null,
   "id": "e2daf8e7-c9fe-4550-b8ea-505dc599610c",
   "metadata": {},
   "outputs": [],
   "source": [
    "data.shape"
   ]
  },
  {
   "cell_type": "code",
   "execution_count": null,
   "id": "c1c6ee53-5ac7-4804-ac93-9553584e1e97",
   "metadata": {},
   "outputs": [],
   "source": []
  }
 ],
 "metadata": {
  "kernelspec": {
   "display_name": "fishscale",
   "language": "python",
   "name": "fishscale"
  },
  "language_info": {
   "codemirror_mode": {
    "name": "ipython",
    "version": 3
   },
   "file_extension": ".py",
   "mimetype": "text/x-python",
   "name": "python",
   "nbconvert_exporter": "python",
   "pygments_lexer": "ipython3",
   "version": "3.8.5"
  }
 },
 "nbformat": 4,
 "nbformat_minor": 5
}
