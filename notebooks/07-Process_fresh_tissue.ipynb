{
 "cells": [
  {
   "cell_type": "markdown",
   "id": "5c44a3c3-b183-4c6c-888c-476ec8dd2e63",
   "metadata": {},
   "source": [
    "## Import"
   ]
  },
  {
   "cell_type": "code",
   "execution_count": null,
   "id": "ee60d855-bd99-4496-851c-ccb32a1060b9",
   "metadata": {},
   "outputs": [],
   "source": [
    "%load_ext autoreload\n",
    "%autoreload 2"
   ]
  },
  {
   "cell_type": "code",
   "execution_count": null,
   "id": "80911710-f9c5-402f-a5d6-bf9c165d4972",
   "metadata": {},
   "outputs": [],
   "source": [
    "from pathlib import Path\n",
    "import time"
   ]
  },
  {
   "cell_type": "code",
   "execution_count": null,
   "id": "b1da9d66-2599-451a-b58a-2d5a691c5dd8",
   "metadata": {},
   "outputs": [],
   "source": [
    "from pysmFISH.pipeline import Pipeline"
   ]
  },
  {
   "cell_type": "markdown",
   "id": "62b93d0c-d3c2-42f4-9ab6-34000e4f5dcb",
   "metadata": {},
   "source": [
    "## Prepare the folders for experimental tests"
   ]
  },
  {
   "cell_type": "code",
   "execution_count": null,
   "id": "546043a9-efac-4421-bc1f-0497ba051940",
   "metadata": {},
   "outputs": [],
   "source": [
    "!mkdir 'processing_folder/LBEXP20210718_EEL_Mouse_448_2'\n",
    "!cp -r 'data_storage/LBEXP20210718_EEL_Mouse_448_2/fresh_tissue' 'processing_folder/LBEXP20210718_EEL_Mouse_448_2/'\n",
    "!cp -r 'data_storage/required_folders_storage/codebooks' 'processing_folder/'\n",
    "!cp -r 'data_storage/required_folders_storage/probes_sets' 'processing_folder/'\n",
    "!cp -r 'data_storage/LBEXP20210718_EEL_Mouse_448_2/210906_21_07_09_LBEXP20210718_EEL_Mouse_448_2_img_data_dataset.parquet' 'processing_folder/LBEXP20210718_EEL_Mouse_448_2/'"
   ]
  },
  {
   "cell_type": "markdown",
   "id": "0496b132-3352-4e78-ba39-855a1775006f",
   "metadata": {},
   "source": [
    "## Initialize the pipeline"
   ]
  },
  {
   "cell_type": "code",
   "execution_count": null,
   "id": "2c24f1f8-ebe7-465e-9f06-f3c6cbf5b780",
   "metadata": {},
   "outputs": [],
   "source": [
    "# Enter the required parameters\n",
    "experiment_fpath = Path('processing_folder/LBEXP20210718_EEL_Mouse_448_2')\n",
    "dataset_name = '210906_21_07_09_LBEXP20210718_EEL_Mouse_448_2_img_data_dataset.parquet'\n",
    "date_tag = time.strftime(\"%y%m%d_%H_%M_%S\")\n",
    "pipeline_run_name = date_tag + '_' + experiment_fpath.stem\n",
    "run_type = 're-run'\n",
    "parsing_type = 'no_parsing'\n",
    "processing_engine = 'local'"
   ]
  },
  {
   "cell_type": "code",
   "execution_count": null,
   "id": "4ccaff9e-32ef-4675-8803-128ca9c3a6fa",
   "metadata": {},
   "outputs": [],
   "source": [
    "%%time\n",
    "# Because you are running the pipeline locally you should define the number of cores and memory/core\n",
    "# 3-4 GB / code should be safe for running the processing\n",
    "running_pipeline = Pipeline(\n",
    "        pipeline_run_name= pipeline_run_name,\n",
    "        experiment_fpath= experiment_fpath,\n",
    "        run_type= run_type,\n",
    "        parsing_type= parsing_type,\n",
    "        processing_engine= processing_engine,\n",
    "        cores=3,\n",
    "        memory='12GB',\n",
    "        chunk_size = 6,\n",
    "        dataset_path = experiment_fpath / dataset_name)"
   ]
  },
  {
   "cell_type": "markdown",
   "id": "d7a8fe2d-fb74-4db1-94e3-231133a32755",
   "metadata": {},
   "source": [
    "## Run the required steps"
   ]
  },
  {
   "cell_type": "code",
   "execution_count": null,
   "id": "dfd4d21b-8b41-4d52-b97c-9c9b24ad27f3",
   "metadata": {},
   "outputs": [],
   "source": [
    "%%time\n",
    "running_pipeline.run_setup()\n",
    "running_pipeline.run_cluster_activation()\n",
    "running_pipeline.run_parsing()\n",
    "running_pipeline.run_required_steps()"
   ]
  },
  {
   "cell_type": "code",
   "execution_count": null,
   "id": "aa7b8ffa-64f0-4da4-ad09-61db2680f256",
   "metadata": {},
   "outputs": [],
   "source": [
    "running_pipeline.client"
   ]
  },
  {
   "cell_type": "markdown",
   "id": "f8dc3910-3636-4751-b88c-b9d6e3a50ac8",
   "metadata": {},
   "source": [
    "## Process the images of the fresh tissue"
   ]
  },
  {
   "cell_type": "code",
   "execution_count": null,
   "id": "9b8f2dbf-ec08-43bf-a952-eb02e2123022",
   "metadata": {
    "tags": []
   },
   "outputs": [],
   "source": [
    "%%time\n",
    "running_pipeline.processing_fresh_tissue_step()"
   ]
  },
  {
   "cell_type": "code",
   "execution_count": null,
   "id": "e295b003-a382-41cc-96c4-4539322a2870",
   "metadata": {
    "tags": []
   },
   "outputs": [],
   "source": [
    "running_pipeline.client.close()"
   ]
  },
  {
   "cell_type": "code",
   "execution_count": null,
   "id": "6d0e0b42-520b-400c-8b98-bd336203715b",
   "metadata": {},
   "outputs": [],
   "source": [
    "running_pipeline.cluster.close()"
   ]
  }
 ],
 "metadata": {
  "kernelspec": {
   "display_name": "Python 3",
   "language": "python",
   "name": "python3"
  },
  "language_info": {
   "codemirror_mode": {
    "name": "ipython",
    "version": 3
   },
   "file_extension": ".py",
   "mimetype": "text/x-python",
   "name": "python",
   "nbconvert_exporter": "python",
   "pygments_lexer": "ipython3",
   "version": "3.8.13"
  }
 },
 "nbformat": 4,
 "nbformat_minor": 5
}
