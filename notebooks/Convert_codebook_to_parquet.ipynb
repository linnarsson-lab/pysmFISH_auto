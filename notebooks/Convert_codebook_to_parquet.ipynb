{
 "cells": [
  {
   "cell_type": "markdown",
   "id": "3fb6abba-d9cf-4a8d-9afe-0df6eb71f231",
   "metadata": {},
   "source": [
    "# How to convert excel codebook to parquet version used in pysmFISH"
   ]
  },
  {
   "cell_type": "markdown",
   "id": "84458e32-096e-4fc3-a792-221709cf85cb",
   "metadata": {},
   "source": [
    "## Excel codebook structure\n",
    "The "
   ]
  },
  {
   "cell_type": "code",
   "execution_count": null,
   "id": "423204f3-6afd-483c-bff0-c1f7c3c31d0e",
   "metadata": {},
   "outputs": [],
   "source": []
  },
  {
   "cell_type": "code",
   "execution_count": 2,
   "id": "458f9eab-3b9d-4747-9003-033947d77fb8",
   "metadata": {},
   "outputs": [],
   "source": [
    "from pysmFISH.barcodes_analysis import simplify_barcodes_reference"
   ]
  },
  {
   "cell_type": "code",
   "execution_count": 3,
   "id": "a086f0df-0c32-47bf-ace3-62702a5cffe8",
   "metadata": {},
   "outputs": [],
   "source": [
    "code = simplify_barcodes_reference('codebookHG2_20210508.xlsx')"
   ]
  },
  {
   "cell_type": "code",
   "execution_count": 4,
   "id": "0279ad49-2688-4284-81d0-10a581e45c61",
   "metadata": {},
   "outputs": [],
   "source": [
    "code.convert_barcode()"
   ]
  },
  {
   "cell_type": "code",
   "execution_count": 5,
   "id": "b481799a-92e7-4eb4-b736-684f738ab0e1",
   "metadata": {},
   "outputs": [
    {
     "data": {
      "text/html": [
       "<div>\n",
       "<style scoped>\n",
       "    .dataframe tbody tr th:only-of-type {\n",
       "        vertical-align: middle;\n",
       "    }\n",
       "\n",
       "    .dataframe tbody tr th {\n",
       "        vertical-align: top;\n",
       "    }\n",
       "\n",
       "    .dataframe thead th {\n",
       "        text-align: right;\n",
       "    }\n",
       "</style>\n",
       "<table border=\"1\" class=\"dataframe\">\n",
       "  <thead>\n",
       "    <tr style=\"text-align: right;\">\n",
       "      <th></th>\n",
       "      <th>Code</th>\n",
       "      <th>Gene</th>\n",
       "    </tr>\n",
       "  </thead>\n",
       "  <tbody>\n",
       "    <tr>\n",
       "      <th>0</th>\n",
       "      <td>b'\\x01\\x00\\x00\\x00\\x00\\x00\\x00\\x00\\x00\\x00\\x00...</td>\n",
       "      <td>NOTCH1</td>\n",
       "    </tr>\n",
       "    <tr>\n",
       "      <th>1</th>\n",
       "      <td>b'\\x00\\x01\\x00\\x00\\x00\\x00\\x00\\x00\\x01\\x00\\x00...</td>\n",
       "      <td>CXCL12</td>\n",
       "    </tr>\n",
       "    <tr>\n",
       "      <th>2</th>\n",
       "      <td>b'\\x00\\x01\\x00\\x00\\x00\\x00\\x00\\x00\\x00\\x01\\x00...</td>\n",
       "      <td>NR1H3</td>\n",
       "    </tr>\n",
       "    <tr>\n",
       "      <th>3</th>\n",
       "      <td>b'\\x00\\x01\\x00\\x00\\x00\\x00\\x00\\x00\\x00\\x00\\x01...</td>\n",
       "      <td>IL22RA1</td>\n",
       "    </tr>\n",
       "    <tr>\n",
       "      <th>4</th>\n",
       "      <td>b'\\x00\\x00\\x01\\x00\\x00\\x00\\x01\\x00\\x00\\x00\\x00...</td>\n",
       "      <td>NANOG</td>\n",
       "    </tr>\n",
       "    <tr>\n",
       "      <th>...</th>\n",
       "      <td>...</td>\n",
       "      <td>...</td>\n",
       "    </tr>\n",
       "    <tr>\n",
       "      <th>443</th>\n",
       "      <td>b'\\x00\\x00\\x01\\x01\\x00\\x00\\x01\\x01\\x00\\x01\\x01...</td>\n",
       "      <td>ODC1</td>\n",
       "    </tr>\n",
       "    <tr>\n",
       "      <th>444</th>\n",
       "      <td>b'\\x00\\x00\\x01\\x00\\x01\\x01\\x01\\x00\\x01\\x01\\x00...</td>\n",
       "      <td>CCR4</td>\n",
       "    </tr>\n",
       "    <tr>\n",
       "      <th>445</th>\n",
       "      <td>b'\\x00\\x00\\x01\\x00\\x01\\x00\\x01\\x01\\x01\\x00\\x01...</td>\n",
       "      <td>TCF7</td>\n",
       "    </tr>\n",
       "    <tr>\n",
       "      <th>446</th>\n",
       "      <td>b'\\x00\\x00\\x00\\x01\\x01\\x01\\x01\\x00\\x00\\x01\\x01...</td>\n",
       "      <td>CFB</td>\n",
       "    </tr>\n",
       "    <tr>\n",
       "      <th>447</th>\n",
       "      <td>b'\\x00\\x00\\x00\\x01\\x01\\x01\\x00\\x01\\x01\\x00\\x01...</td>\n",
       "      <td>NaN</td>\n",
       "    </tr>\n",
       "  </tbody>\n",
       "</table>\n",
       "<p>448 rows × 2 columns</p>\n",
       "</div>"
      ],
      "text/plain": [
       "                                                  Code     Gene\n",
       "0    b'\\x01\\x00\\x00\\x00\\x00\\x00\\x00\\x00\\x00\\x00\\x00...   NOTCH1\n",
       "1    b'\\x00\\x01\\x00\\x00\\x00\\x00\\x00\\x00\\x01\\x00\\x00...   CXCL12\n",
       "2    b'\\x00\\x01\\x00\\x00\\x00\\x00\\x00\\x00\\x00\\x01\\x00...    NR1H3\n",
       "3    b'\\x00\\x01\\x00\\x00\\x00\\x00\\x00\\x00\\x00\\x00\\x01...  IL22RA1\n",
       "4    b'\\x00\\x00\\x01\\x00\\x00\\x00\\x01\\x00\\x00\\x00\\x00...    NANOG\n",
       "..                                                 ...      ...\n",
       "443  b'\\x00\\x00\\x01\\x01\\x00\\x00\\x01\\x01\\x00\\x01\\x01...     ODC1\n",
       "444  b'\\x00\\x00\\x01\\x00\\x01\\x01\\x01\\x00\\x01\\x01\\x00...     CCR4\n",
       "445  b'\\x00\\x00\\x01\\x00\\x01\\x00\\x01\\x01\\x01\\x00\\x01...     TCF7\n",
       "446  b'\\x00\\x00\\x00\\x01\\x01\\x01\\x01\\x00\\x00\\x01\\x01...      CFB\n",
       "447  b'\\x00\\x00\\x00\\x01\\x01\\x01\\x00\\x01\\x01\\x00\\x01...      NaN\n",
       "\n",
       "[448 rows x 2 columns]"
      ]
     },
     "execution_count": 5,
     "metadata": {},
     "output_type": "execute_result"
    }
   ],
   "source": [
    "code.codebook_df"
   ]
  },
  {
   "cell_type": "code",
   "execution_count": null,
   "id": "daeedb44-ff42-4935-b029-9d44758f5ce2",
   "metadata": {},
   "outputs": [],
   "source": []
  }
 ],
 "metadata": {
  "kernelspec": {
   "display_name": "test_d",
   "language": "python",
   "name": "test_d"
  },
  "language_info": {
   "codemirror_mode": {
    "name": "ipython",
    "version": 3
   },
   "file_extension": ".py",
   "mimetype": "text/x-python",
   "name": "python",
   "nbconvert_exporter": "python",
   "pygments_lexer": "ipython3",
   "version": "3.8.2"
  }
 },
 "nbformat": 4,
 "nbformat_minor": 5
}
