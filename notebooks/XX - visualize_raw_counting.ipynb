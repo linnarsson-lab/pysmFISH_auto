{
 "cells": [
  {
   "cell_type": "code",
   "execution_count": 1,
   "id": "6ce3a5b3-3f71-46d3-a7ff-864304e0acdd",
   "metadata": {},
   "outputs": [],
   "source": [
    "%config Completer.use_jedi = False\n",
    "%load_ext autoreload\n",
    "%autoreload 2"
   ]
  },
  {
   "cell_type": "code",
   "execution_count": 2,
   "id": "07419241-4c72-47e3-8d1d-ff8ec2d290fd",
   "metadata": {},
   "outputs": [],
   "source": [
    "%gui qt5"
   ]
  },
  {
   "cell_type": "markdown",
   "id": "3fb6abba-d9cf-4a8d-9afe-0df6eb71f231",
   "metadata": {},
   "source": [
    "# Utility notebook used to visualize the raw counting \n",
    "\n",
    "Requirements\n",
    "-------------\n",
    "\n",
    "- EXP-NAME_preprocessed_img_data.zarr\n",
    "- raw_counts files in the results folder\n",
    "- dataset\n"
   ]
  },
  {
   "cell_type": "code",
   "execution_count": 3,
   "id": "458f9eab-3b9d-4747-9003-033947d77fb8",
   "metadata": {},
   "outputs": [],
   "source": [
    "from pysmFISH.visualization import visualize_raw_counts"
   ]
  },
  {
   "cell_type": "code",
   "execution_count": 4,
   "id": "e2e523c5-0c3f-4ca4-90b8-e18d4c990d7c",
   "metadata": {},
   "outputs": [],
   "source": [
    "experiment_fpath = '/Users/simone.codeluppi/Documents/data_analysis_jlabs_sc/esperiments_to_check/data/JJEXP20210622_SL001B_Section2/'\n",
    "dataset_name = '210721_17_55_33_JJEXP20210622_SL001B_Section2_img_data_dataset.parquet'"
   ]
  },
  {
   "cell_type": "code",
   "execution_count": 19,
   "id": "80e63553-7135-4e3a-97c2-2f8519624185",
   "metadata": {},
   "outputs": [],
   "source": [
    "# Define what to visualize\n",
    "fov_num = 151\n",
    "channel = 'Cy3'"
   ]
  },
  {
   "cell_type": "code",
   "execution_count": 20,
   "id": "1cc9029b-f364-40b7-87bd-a93a52a9b591",
   "metadata": {
    "tags": []
   },
   "outputs": [],
   "source": [
    "visualize_raw_counts(experiment_fpath,dataset_name,\n",
    "                        fov_num, channel)"
   ]
  },
  {
   "cell_type": "code",
   "execution_count": 11,
   "id": "473baf11-7411-43e9-9ac8-9a3d619c726b",
   "metadata": {},
   "outputs": [
    {
     "ename": "NameError",
     "evalue": "name 'Path' is not defined",
     "output_type": "error",
     "traceback": [
      "\u001b[0;31m---------------------------------------------------------------------------\u001b[0m",
      "\u001b[0;31mNameError\u001b[0m                                 Traceback (most recent call last)",
      "\u001b[0;32m<ipython-input-11-0e272f8c7c63>\u001b[0m in \u001b[0;36m<module>\u001b[0;34m\u001b[0m\n\u001b[0;32m----> 1\u001b[0;31m \u001b[0mexperiment_fpath\u001b[0m \u001b[0;34m=\u001b[0m \u001b[0mPath\u001b[0m\u001b[0;34m(\u001b[0m\u001b[0mexperiment_fpath\u001b[0m\u001b[0;34m)\u001b[0m\u001b[0;34m\u001b[0m\u001b[0;34m\u001b[0m\u001b[0m\n\u001b[0m\u001b[1;32m      2\u001b[0m \u001b[0mpreprocessed_img_fpath\u001b[0m \u001b[0;34m=\u001b[0m \u001b[0mexperiment_fpath\u001b[0m \u001b[0;34m/\u001b[0m \u001b[0;34m(\u001b[0m\u001b[0mexperiment_fpath\u001b[0m\u001b[0;34m.\u001b[0m\u001b[0mstem\u001b[0m \u001b[0;34m+\u001b[0m \u001b[0;34m'_preprocessed_img_data.zarr'\u001b[0m\u001b[0;34m)\u001b[0m\u001b[0;34m\u001b[0m\u001b[0;34m\u001b[0m\u001b[0m\n\u001b[1;32m      3\u001b[0m \u001b[0mdataset_fpath\u001b[0m \u001b[0;34m=\u001b[0m \u001b[0mexperiment_fpath\u001b[0m \u001b[0;34m/\u001b[0m \u001b[0mdataset_name\u001b[0m\u001b[0;34m\u001b[0m\u001b[0;34m\u001b[0m\u001b[0m\n\u001b[1;32m      4\u001b[0m \u001b[0;34m\u001b[0m\u001b[0m\n\u001b[1;32m      5\u001b[0m \u001b[0;31m# Load the dataset\u001b[0m\u001b[0;34m\u001b[0m\u001b[0;34m\u001b[0m\u001b[0;34m\u001b[0m\u001b[0m\n",
      "\u001b[0;31mNameError\u001b[0m: name 'Path' is not defined"
     ]
    }
   ],
   "source": [
    "experiment_fpath = Path(experiment_fpath)\n",
    "preprocessed_img_fpath = experiment_fpath / (experiment_fpath.stem + '_preprocessed_img_data.zarr')\n",
    "dataset_fpath = experiment_fpath / dataset_name\n",
    "\n",
    "# Load the dataset\n",
    "data = data_models.Dataset()"
   ]
  },
  {
   "cell_type": "code",
   "execution_count": null,
   "id": "2e43cadb-665a-4447-90fa-71ddb9b7e5b3",
   "metadata": {},
   "outputs": [],
   "source": []
  }
 ],
 "metadata": {
  "kernelspec": {
   "display_name": "test_d",
   "language": "python",
   "name": "test_d"
  },
  "language_info": {
   "codemirror_mode": {
    "name": "ipython",
    "version": 3
   },
   "file_extension": ".py",
   "mimetype": "text/x-python",
   "name": "python",
   "nbconvert_exporter": "python",
   "pygments_lexer": "ipython3",
   "version": "3.8.2"
  }
 },
 "nbformat": 4,
 "nbformat_minor": 5
}
