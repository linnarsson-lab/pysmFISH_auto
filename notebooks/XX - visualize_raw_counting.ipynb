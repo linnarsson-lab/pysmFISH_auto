{
 "cells": [
  {
   "cell_type": "code",
   "execution_count": 1,
   "id": "6ce3a5b3-3f71-46d3-a7ff-864304e0acdd",
   "metadata": {},
   "outputs": [],
   "source": [
    "%config Completer.use_jedi = False\n",
    "%load_ext autoreload\n",
    "%autoreload 2"
   ]
  },
  {
   "cell_type": "code",
   "execution_count": 2,
   "id": "07419241-4c72-47e3-8d1d-ff8ec2d290fd",
   "metadata": {},
   "outputs": [],
   "source": [
    "%gui qt5"
   ]
  },
  {
   "cell_type": "markdown",
   "id": "3fb6abba-d9cf-4a8d-9afe-0df6eb71f231",
   "metadata": {},
   "source": [
    "# Utility notebook used to visualize the raw counting \n",
    "\n",
    "Requirements\n",
    "-------------\n",
    "\n",
    "- EXP-NAME_preprocessed_img_data.zarr\n",
    "- raw_counts files in the results folder\n",
    "- dataset\n"
   ]
  },
  {
   "cell_type": "code",
   "execution_count": 12,
   "id": "458f9eab-3b9d-4747-9003-033947d77fb8",
   "metadata": {},
   "outputs": [],
   "source": [
    "from pysmFISH.visualization import visualize_raw_counts"
   ]
  },
  {
   "cell_type": "code",
   "execution_count": 44,
   "id": "e2e523c5-0c3f-4ca4-90b8-e18d4c990d7c",
   "metadata": {},
   "outputs": [],
   "source": [
    "experiment_fpath = 'data/processed_experiment/AMEXP20210707_EEL_V1C_HA2/'\n",
    "dataset_name = '210715_20_09_56_AMEXP20210707_EEL_V1C_HA2_mod_img_data_dataset.parquet'"
   ]
  },
  {
   "cell_type": "code",
   "execution_count": 29,
   "id": "80e63553-7135-4e3a-97c2-2f8519624185",
   "metadata": {},
   "outputs": [],
   "source": [
    "# Define what to visualize\n",
    "fov_num = 210\n",
    "channel = 'Cy5'"
   ]
  },
  {
   "cell_type": "code",
   "execution_count": 46,
   "id": "1cc9029b-f364-40b7-87bd-a93a52a9b591",
   "metadata": {},
   "outputs": [],
   "source": [
    "visualize_raw_counts(experiment_fpath,dataset_name,\n",
    "                        fov_num, channel)"
   ]
  }
 ],
 "metadata": {
  "kernelspec": {
   "display_name": "test_d",
   "language": "python",
   "name": "test_d"
  },
  "language_info": {
   "codemirror_mode": {
    "name": "ipython",
    "version": 3
   },
   "file_extension": ".py",
   "mimetype": "text/x-python",
   "name": "python",
   "nbconvert_exporter": "python",
   "pygments_lexer": "ipython3",
   "version": "3.8.2"
  }
 },
 "nbformat": 4,
 "nbformat_minor": 5
}
